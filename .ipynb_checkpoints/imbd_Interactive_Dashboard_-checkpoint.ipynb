{
 "cells": [
  {
   "cell_type": "code",
   "execution_count": 1,
   "metadata": {
    "colab": {
     "base_uri": "https://localhost:8080/"
    },
    "id": "o7lwTx6QBWvt",
    "outputId": "a713507f-5f3b-4c1e-a61c-ab05f3b5d1c3"
   },
   "outputs": [],
   "source": [
    "#pip install hvplot"
   ]
  },
  {
   "cell_type": "code",
   "execution_count": 2,
   "metadata": {
    "colab": {
     "base_uri": "https://localhost:8080/",
     "height": 17
    },
    "id": "HY9nEL-DnOdL",
    "outputId": "7808cce8-dc3e-4d19-f84a-68c1ffa3fedc"
   },
   "outputs": [
    {
     "name": "stdout",
     "output_type": "stream",
     "text": [
      "2023-01-25 12:36:33,886 WARNING: panel.io.resources - Mimetype declaration for .js files was set to 'text/plain'. This will interefere with serving JS modules. Ensure your system does not override the mimetype declaration and/or contact your system administrator. \n"
     ]
    },
    {
     "data": {
      "application/javascript": [
       "(function(root) {\n",
       "  function now() {\n",
       "    return new Date();\n",
       "  }\n",
       "\n",
       "  var force = true;\n",
       "\n",
       "  if (typeof root._bokeh_onload_callbacks === \"undefined\" || force === true) {\n",
       "    root._bokeh_onload_callbacks = [];\n",
       "    root._bokeh_is_loading = undefined;\n",
       "  }\n",
       "\n",
       "  if (typeof (root._bokeh_timeout) === \"undefined\" || force === true) {\n",
       "    root._bokeh_timeout = Date.now() + 5000;\n",
       "    root._bokeh_failed_load = false;\n",
       "  }\n",
       "\n",
       "  function run_callbacks() {\n",
       "    try {\n",
       "      root._bokeh_onload_callbacks.forEach(function(callback) {\n",
       "        if (callback != null)\n",
       "          callback();\n",
       "      });\n",
       "    } finally {\n",
       "      delete root._bokeh_onload_callbacks\n",
       "    }\n",
       "    console.debug(\"Bokeh: all callbacks have finished\");\n",
       "  }\n",
       "\n",
       "  function load_libs(css_urls, js_urls, js_modules, callback) {\n",
       "    if (css_urls == null) css_urls = [];\n",
       "    if (js_urls == null) js_urls = [];\n",
       "    if (js_modules == null) js_modules = [];\n",
       "\n",
       "    root._bokeh_onload_callbacks.push(callback);\n",
       "    if (root._bokeh_is_loading > 0) {\n",
       "      console.debug(\"Bokeh: BokehJS is being loaded, scheduling callback at\", now());\n",
       "      return null;\n",
       "    }\n",
       "    if (js_urls.length === 0 && js_modules.length === 0) {\n",
       "      run_callbacks();\n",
       "      return null;\n",
       "    }\n",
       "    console.debug(\"Bokeh: BokehJS not loaded, scheduling load and callback at\", now());\n",
       "\n",
       "    function on_load() {\n",
       "      root._bokeh_is_loading--;\n",
       "      if (root._bokeh_is_loading === 0) {\n",
       "        console.debug(\"Bokeh: all BokehJS libraries/stylesheets loaded\");\n",
       "        run_callbacks()\n",
       "      }\n",
       "    }\n",
       "\n",
       "    function on_error() {\n",
       "      console.error(\"failed to load \" + url);\n",
       "    }\n",
       "\n",
       "    for (var i = 0; i < css_urls.length; i++) {\n",
       "      var url = css_urls[i];\n",
       "      const element = document.createElement(\"link\");\n",
       "      element.onload = on_load;\n",
       "      element.onerror = on_error;\n",
       "      element.rel = \"stylesheet\";\n",
       "      element.type = \"text/css\";\n",
       "      element.href = url;\n",
       "      console.debug(\"Bokeh: injecting link tag for BokehJS stylesheet: \", url);\n",
       "      document.body.appendChild(element);\n",
       "    }\n",
       "\n",
       "    var skip = [];\n",
       "    if (window.requirejs) {\n",
       "      window.requirejs.config({'packages': {}, 'paths': {'tabulator': 'https://cdn.jsdelivr.net/npm/tabulator-tables@5.3.2/dist/js/tabulator', 'moment': 'https://cdn.jsdelivr.net/npm/luxon/build/global/luxon.min', 'gridstack': 'https://cdn.jsdelivr.net/npm/gridstack@4.2.5/dist/gridstack-h5', 'notyf': 'https://cdn.jsdelivr.net/npm/notyf@3/notyf.min'}, 'shim': {'gridstack': {'exports': 'GridStack'}}});\n",
       "      require([\"tabulator\"], function(Tabulator) {\n",
       "\twindow.Tabulator = Tabulator\n",
       "\ton_load()\n",
       "      })\n",
       "      require([\"moment\"], function(moment) {\n",
       "\twindow.moment = moment\n",
       "\ton_load()\n",
       "      })\n",
       "      require([\"gridstack\"], function(GridStack) {\n",
       "\twindow.GridStack = GridStack\n",
       "\ton_load()\n",
       "      })\n",
       "      require([\"notyf\"], function() {\n",
       "\ton_load()\n",
       "      })\n",
       "      root._bokeh_is_loading = css_urls.length + 4;\n",
       "    } else {\n",
       "      root._bokeh_is_loading = css_urls.length + js_urls.length + js_modules.length;\n",
       "    }    if (((window['Tabulator'] !== undefined) && (!(window['Tabulator'] instanceof HTMLElement))) || window.requirejs) {\n",
       "      var urls = ['https://cdn.holoviz.org/panel/0.14.2/dist/bundled/datatabulator/tabulator-tables@5.3.2/dist/js/tabulator.js'];\n",
       "      for (var i = 0; i < urls.length; i++) {\n",
       "        skip.push(urls[i])\n",
       "      }\n",
       "    }    if (((window['moment'] !== undefined) && (!(window['moment'] instanceof HTMLElement))) || window.requirejs) {\n",
       "      var urls = ['https://cdn.holoviz.org/panel/0.14.2/dist/bundled/datatabulator/luxon/build/global/luxon.min.js'];\n",
       "      for (var i = 0; i < urls.length; i++) {\n",
       "        skip.push(urls[i])\n",
       "      }\n",
       "    }    if (((window['GridStack'] !== undefined) && (!(window['GridStack'] instanceof HTMLElement))) || window.requirejs) {\n",
       "      var urls = ['https://cdn.holoviz.org/panel/0.14.2/dist/bundled/gridstack/gridstack@4.2.5/dist/gridstack-h5.js'];\n",
       "      for (var i = 0; i < urls.length; i++) {\n",
       "        skip.push(urls[i])\n",
       "      }\n",
       "    }    if (((window['Notyf'] !== undefined) && (!(window['Notyf'] instanceof HTMLElement))) || window.requirejs) {\n",
       "      var urls = ['https://cdn.holoviz.org/panel/0.14.2/dist/bundled/notificationarea/notyf@3/notyf.min.js'];\n",
       "      for (var i = 0; i < urls.length; i++) {\n",
       "        skip.push(urls[i])\n",
       "      }\n",
       "    }    for (var i = 0; i < js_urls.length; i++) {\n",
       "      var url = js_urls[i];\n",
       "      if (skip.indexOf(url) >= 0) {\n",
       "\tif (!window.requirejs) {\n",
       "\t  on_load();\n",
       "\t}\n",
       "\tcontinue;\n",
       "      }\n",
       "      var element = document.createElement('script');\n",
       "      element.onload = on_load;\n",
       "      element.onerror = on_error;\n",
       "      element.async = false;\n",
       "      element.src = url;\n",
       "      console.debug(\"Bokeh: injecting script tag for BokehJS library: \", url);\n",
       "      document.head.appendChild(element);\n",
       "    }\n",
       "    for (var i = 0; i < js_modules.length; i++) {\n",
       "      var url = js_modules[i];\n",
       "      if (skip.indexOf(url) >= 0) {\n",
       "\tif (!window.requirejs) {\n",
       "\t  on_load();\n",
       "\t}\n",
       "\tcontinue;\n",
       "      }\n",
       "      var element = document.createElement('script');\n",
       "      element.onload = on_load;\n",
       "      element.onerror = on_error;\n",
       "      element.async = false;\n",
       "      element.src = url;\n",
       "      element.type = \"module\";\n",
       "      console.debug(\"Bokeh: injecting script tag for BokehJS library: \", url);\n",
       "      document.head.appendChild(element);\n",
       "    }\n",
       "    if (!js_urls.length && !js_modules.length) {\n",
       "      on_load()\n",
       "    }\n",
       "  };\n",
       "\n",
       "  function inject_raw_css(css) {\n",
       "    const element = document.createElement(\"style\");\n",
       "    element.appendChild(document.createTextNode(css));\n",
       "    document.body.appendChild(element);\n",
       "  }\n",
       "\n",
       "  var js_urls = [\"https://cdn.holoviz.org/panel/0.14.2/dist/bundled/datatabulator/tabulator-tables@5.3.2/dist/js/tabulator.js\", \"https://cdn.holoviz.org/panel/0.14.2/dist/bundled/datatabulator/luxon/build/global/luxon.min.js\", \"https://cdn.bokeh.org/bokeh/release/bokeh-2.4.3.min.js\", \"https://cdn.bokeh.org/bokeh/release/bokeh-gl-2.4.3.min.js\", \"https://cdn.bokeh.org/bokeh/release/bokeh-widgets-2.4.3.min.js\", \"https://cdn.bokeh.org/bokeh/release/bokeh-tables-2.4.3.min.js\", \"https://cdn.bokeh.org/bokeh/release/bokeh-mathjax-2.4.3.min.js\", \"https://unpkg.com/@holoviz/panel@0.14.2/dist/panel.min.js\"];\n",
       "  var js_modules = [];\n",
       "  var css_urls = [\"https://cdn.holoviz.org/panel/0.14.2/dist/bundled/datatabulator/tabulator-tables@5.3.2/dist/css/tabulator_simple.min.css\", \"https://cdn.holoviz.org/panel/0.14.2/dist/css/alerts.css\", \"https://cdn.holoviz.org/panel/0.14.2/dist/css/card.css\", \"https://cdn.holoviz.org/panel/0.14.2/dist/css/dataframe.css\", \"https://cdn.holoviz.org/panel/0.14.2/dist/css/debugger.css\", \"https://cdn.holoviz.org/panel/0.14.2/dist/css/json.css\", \"https://cdn.holoviz.org/panel/0.14.2/dist/css/loading.css\", \"https://cdn.holoviz.org/panel/0.14.2/dist/css/markdown.css\", \"https://cdn.holoviz.org/panel/0.14.2/dist/css/widgets.css\"];\n",
       "  var inline_js = [    function(Bokeh) {\n",
       "      inject_raw_css(\"\\n    .bk.pn-loading.arc:before {\\n      background-image: url(\\\"data:image/svg+xml;base64,PHN2ZyB4bWxucz0iaHR0cDovL3d3dy53My5vcmcvMjAwMC9zdmciIHN0eWxlPSJtYXJnaW46IGF1dG87IGJhY2tncm91bmQ6IG5vbmU7IGRpc3BsYXk6IGJsb2NrOyBzaGFwZS1yZW5kZXJpbmc6IGF1dG87IiB2aWV3Qm94PSIwIDAgMTAwIDEwMCIgcHJlc2VydmVBc3BlY3RSYXRpbz0ieE1pZFlNaWQiPiAgPGNpcmNsZSBjeD0iNTAiIGN5PSI1MCIgZmlsbD0ibm9uZSIgc3Ryb2tlPSIjYzNjM2MzIiBzdHJva2Utd2lkdGg9IjEwIiByPSIzNSIgc3Ryb2tlLWRhc2hhcnJheT0iMTY0LjkzMzYxNDMxMzQ2NDE1IDU2Ljk3Nzg3MTQzNzgyMTM4Ij4gICAgPGFuaW1hdGVUcmFuc2Zvcm0gYXR0cmlidXRlTmFtZT0idHJhbnNmb3JtIiB0eXBlPSJyb3RhdGUiIHJlcGVhdENvdW50PSJpbmRlZmluaXRlIiBkdXI9IjFzIiB2YWx1ZXM9IjAgNTAgNTA7MzYwIDUwIDUwIiBrZXlUaW1lcz0iMDsxIj48L2FuaW1hdGVUcmFuc2Zvcm0+ICA8L2NpcmNsZT48L3N2Zz4=\\\");\\n      background-size: auto calc(min(50%, 400px));\\n    }\\n    \");\n",
       "    },    function(Bokeh) {\n",
       "      Bokeh.set_log_level(\"info\");\n",
       "    },\n",
       "function(Bokeh) {} // ensure no trailing comma for IE\n",
       "  ];\n",
       "\n",
       "  function run_inline_js() {\n",
       "    if ((root.Bokeh !== undefined) || (force === true)) {\n",
       "      for (var i = 0; i < inline_js.length; i++) {\n",
       "        inline_js[i].call(root, root.Bokeh);\n",
       "      }} else if (Date.now() < root._bokeh_timeout) {\n",
       "      setTimeout(run_inline_js, 100);\n",
       "    } else if (!root._bokeh_failed_load) {\n",
       "      console.log(\"Bokeh: BokehJS failed to load within specified timeout.\");\n",
       "      root._bokeh_failed_load = true;\n",
       "    }\n",
       "  }\n",
       "\n",
       "  if (root._bokeh_is_loading === 0) {\n",
       "    console.debug(\"Bokeh: BokehJS loaded, going straight to plotting\");\n",
       "    run_inline_js();\n",
       "  } else {\n",
       "    load_libs(css_urls, js_urls, js_modules, function() {\n",
       "      console.debug(\"Bokeh: BokehJS plotting callback run at\", now());\n",
       "      run_inline_js();\n",
       "    });\n",
       "  }\n",
       "}(window));"
      ],
      "application/vnd.holoviews_load.v0+json": "(function(root) {\n  function now() {\n    return new Date();\n  }\n\n  var force = true;\n\n  if (typeof root._bokeh_onload_callbacks === \"undefined\" || force === true) {\n    root._bokeh_onload_callbacks = [];\n    root._bokeh_is_loading = undefined;\n  }\n\n  if (typeof (root._bokeh_timeout) === \"undefined\" || force === true) {\n    root._bokeh_timeout = Date.now() + 5000;\n    root._bokeh_failed_load = false;\n  }\n\n  function run_callbacks() {\n    try {\n      root._bokeh_onload_callbacks.forEach(function(callback) {\n        if (callback != null)\n          callback();\n      });\n    } finally {\n      delete root._bokeh_onload_callbacks\n    }\n    console.debug(\"Bokeh: all callbacks have finished\");\n  }\n\n  function load_libs(css_urls, js_urls, js_modules, callback) {\n    if (css_urls == null) css_urls = [];\n    if (js_urls == null) js_urls = [];\n    if (js_modules == null) js_modules = [];\n\n    root._bokeh_onload_callbacks.push(callback);\n    if (root._bokeh_is_loading > 0) {\n      console.debug(\"Bokeh: BokehJS is being loaded, scheduling callback at\", now());\n      return null;\n    }\n    if (js_urls.length === 0 && js_modules.length === 0) {\n      run_callbacks();\n      return null;\n    }\n    console.debug(\"Bokeh: BokehJS not loaded, scheduling load and callback at\", now());\n\n    function on_load() {\n      root._bokeh_is_loading--;\n      if (root._bokeh_is_loading === 0) {\n        console.debug(\"Bokeh: all BokehJS libraries/stylesheets loaded\");\n        run_callbacks()\n      }\n    }\n\n    function on_error() {\n      console.error(\"failed to load \" + url);\n    }\n\n    for (var i = 0; i < css_urls.length; i++) {\n      var url = css_urls[i];\n      const element = document.createElement(\"link\");\n      element.onload = on_load;\n      element.onerror = on_error;\n      element.rel = \"stylesheet\";\n      element.type = \"text/css\";\n      element.href = url;\n      console.debug(\"Bokeh: injecting link tag for BokehJS stylesheet: \", url);\n      document.body.appendChild(element);\n    }\n\n    var skip = [];\n    if (window.requirejs) {\n      window.requirejs.config({'packages': {}, 'paths': {'tabulator': 'https://cdn.jsdelivr.net/npm/tabulator-tables@5.3.2/dist/js/tabulator', 'moment': 'https://cdn.jsdelivr.net/npm/luxon/build/global/luxon.min', 'gridstack': 'https://cdn.jsdelivr.net/npm/gridstack@4.2.5/dist/gridstack-h5', 'notyf': 'https://cdn.jsdelivr.net/npm/notyf@3/notyf.min'}, 'shim': {'gridstack': {'exports': 'GridStack'}}});\n      require([\"tabulator\"], function(Tabulator) {\n\twindow.Tabulator = Tabulator\n\ton_load()\n      })\n      require([\"moment\"], function(moment) {\n\twindow.moment = moment\n\ton_load()\n      })\n      require([\"gridstack\"], function(GridStack) {\n\twindow.GridStack = GridStack\n\ton_load()\n      })\n      require([\"notyf\"], function() {\n\ton_load()\n      })\n      root._bokeh_is_loading = css_urls.length + 4;\n    } else {\n      root._bokeh_is_loading = css_urls.length + js_urls.length + js_modules.length;\n    }    if (((window['Tabulator'] !== undefined) && (!(window['Tabulator'] instanceof HTMLElement))) || window.requirejs) {\n      var urls = ['https://cdn.holoviz.org/panel/0.14.2/dist/bundled/datatabulator/tabulator-tables@5.3.2/dist/js/tabulator.js'];\n      for (var i = 0; i < urls.length; i++) {\n        skip.push(urls[i])\n      }\n    }    if (((window['moment'] !== undefined) && (!(window['moment'] instanceof HTMLElement))) || window.requirejs) {\n      var urls = ['https://cdn.holoviz.org/panel/0.14.2/dist/bundled/datatabulator/luxon/build/global/luxon.min.js'];\n      for (var i = 0; i < urls.length; i++) {\n        skip.push(urls[i])\n      }\n    }    if (((window['GridStack'] !== undefined) && (!(window['GridStack'] instanceof HTMLElement))) || window.requirejs) {\n      var urls = ['https://cdn.holoviz.org/panel/0.14.2/dist/bundled/gridstack/gridstack@4.2.5/dist/gridstack-h5.js'];\n      for (var i = 0; i < urls.length; i++) {\n        skip.push(urls[i])\n      }\n    }    if (((window['Notyf'] !== undefined) && (!(window['Notyf'] instanceof HTMLElement))) || window.requirejs) {\n      var urls = ['https://cdn.holoviz.org/panel/0.14.2/dist/bundled/notificationarea/notyf@3/notyf.min.js'];\n      for (var i = 0; i < urls.length; i++) {\n        skip.push(urls[i])\n      }\n    }    for (var i = 0; i < js_urls.length; i++) {\n      var url = js_urls[i];\n      if (skip.indexOf(url) >= 0) {\n\tif (!window.requirejs) {\n\t  on_load();\n\t}\n\tcontinue;\n      }\n      var element = document.createElement('script');\n      element.onload = on_load;\n      element.onerror = on_error;\n      element.async = false;\n      element.src = url;\n      console.debug(\"Bokeh: injecting script tag for BokehJS library: \", url);\n      document.head.appendChild(element);\n    }\n    for (var i = 0; i < js_modules.length; i++) {\n      var url = js_modules[i];\n      if (skip.indexOf(url) >= 0) {\n\tif (!window.requirejs) {\n\t  on_load();\n\t}\n\tcontinue;\n      }\n      var element = document.createElement('script');\n      element.onload = on_load;\n      element.onerror = on_error;\n      element.async = false;\n      element.src = url;\n      element.type = \"module\";\n      console.debug(\"Bokeh: injecting script tag for BokehJS library: \", url);\n      document.head.appendChild(element);\n    }\n    if (!js_urls.length && !js_modules.length) {\n      on_load()\n    }\n  };\n\n  function inject_raw_css(css) {\n    const element = document.createElement(\"style\");\n    element.appendChild(document.createTextNode(css));\n    document.body.appendChild(element);\n  }\n\n  var js_urls = [\"https://cdn.holoviz.org/panel/0.14.2/dist/bundled/datatabulator/tabulator-tables@5.3.2/dist/js/tabulator.js\", \"https://cdn.holoviz.org/panel/0.14.2/dist/bundled/datatabulator/luxon/build/global/luxon.min.js\", \"https://cdn.bokeh.org/bokeh/release/bokeh-2.4.3.min.js\", \"https://cdn.bokeh.org/bokeh/release/bokeh-gl-2.4.3.min.js\", \"https://cdn.bokeh.org/bokeh/release/bokeh-widgets-2.4.3.min.js\", \"https://cdn.bokeh.org/bokeh/release/bokeh-tables-2.4.3.min.js\", \"https://cdn.bokeh.org/bokeh/release/bokeh-mathjax-2.4.3.min.js\", \"https://unpkg.com/@holoviz/panel@0.14.2/dist/panel.min.js\"];\n  var js_modules = [];\n  var css_urls = [\"https://cdn.holoviz.org/panel/0.14.2/dist/bundled/datatabulator/tabulator-tables@5.3.2/dist/css/tabulator_simple.min.css\", \"https://cdn.holoviz.org/panel/0.14.2/dist/css/alerts.css\", \"https://cdn.holoviz.org/panel/0.14.2/dist/css/card.css\", \"https://cdn.holoviz.org/panel/0.14.2/dist/css/dataframe.css\", \"https://cdn.holoviz.org/panel/0.14.2/dist/css/debugger.css\", \"https://cdn.holoviz.org/panel/0.14.2/dist/css/json.css\", \"https://cdn.holoviz.org/panel/0.14.2/dist/css/loading.css\", \"https://cdn.holoviz.org/panel/0.14.2/dist/css/markdown.css\", \"https://cdn.holoviz.org/panel/0.14.2/dist/css/widgets.css\"];\n  var inline_js = [    function(Bokeh) {\n      inject_raw_css(\"\\n    .bk.pn-loading.arc:before {\\n      background-image: url(\\\"data:image/svg+xml;base64,PHN2ZyB4bWxucz0iaHR0cDovL3d3dy53My5vcmcvMjAwMC9zdmciIHN0eWxlPSJtYXJnaW46IGF1dG87IGJhY2tncm91bmQ6IG5vbmU7IGRpc3BsYXk6IGJsb2NrOyBzaGFwZS1yZW5kZXJpbmc6IGF1dG87IiB2aWV3Qm94PSIwIDAgMTAwIDEwMCIgcHJlc2VydmVBc3BlY3RSYXRpbz0ieE1pZFlNaWQiPiAgPGNpcmNsZSBjeD0iNTAiIGN5PSI1MCIgZmlsbD0ibm9uZSIgc3Ryb2tlPSIjYzNjM2MzIiBzdHJva2Utd2lkdGg9IjEwIiByPSIzNSIgc3Ryb2tlLWRhc2hhcnJheT0iMTY0LjkzMzYxNDMxMzQ2NDE1IDU2Ljk3Nzg3MTQzNzgyMTM4Ij4gICAgPGFuaW1hdGVUcmFuc2Zvcm0gYXR0cmlidXRlTmFtZT0idHJhbnNmb3JtIiB0eXBlPSJyb3RhdGUiIHJlcGVhdENvdW50PSJpbmRlZmluaXRlIiBkdXI9IjFzIiB2YWx1ZXM9IjAgNTAgNTA7MzYwIDUwIDUwIiBrZXlUaW1lcz0iMDsxIj48L2FuaW1hdGVUcmFuc2Zvcm0+ICA8L2NpcmNsZT48L3N2Zz4=\\\");\\n      background-size: auto calc(min(50%, 400px));\\n    }\\n    \");\n    },    function(Bokeh) {\n      Bokeh.set_log_level(\"info\");\n    },\nfunction(Bokeh) {} // ensure no trailing comma for IE\n  ];\n\n  function run_inline_js() {\n    if ((root.Bokeh !== undefined) || (force === true)) {\n      for (var i = 0; i < inline_js.length; i++) {\n        inline_js[i].call(root, root.Bokeh);\n      }} else if (Date.now() < root._bokeh_timeout) {\n      setTimeout(run_inline_js, 100);\n    } else if (!root._bokeh_failed_load) {\n      console.log(\"Bokeh: BokehJS failed to load within specified timeout.\");\n      root._bokeh_failed_load = true;\n    }\n  }\n\n  if (root._bokeh_is_loading === 0) {\n    console.debug(\"Bokeh: BokehJS loaded, going straight to plotting\");\n    run_inline_js();\n  } else {\n    load_libs(css_urls, js_urls, js_modules, function() {\n      console.debug(\"Bokeh: BokehJS plotting callback run at\", now());\n      run_inline_js();\n    });\n  }\n}(window));"
     },
     "metadata": {},
     "output_type": "display_data"
    },
    {
     "data": {
      "application/javascript": [
       "\n",
       "if ((window.PyViz === undefined) || (window.PyViz instanceof HTMLElement)) {\n",
       "  window.PyViz = {comms: {}, comm_status:{}, kernels:{}, receivers: {}, plot_index: []}\n",
       "}\n",
       "\n",
       "\n",
       "    function JupyterCommManager() {\n",
       "    }\n",
       "\n",
       "    JupyterCommManager.prototype.register_target = function(plot_id, comm_id, msg_handler) {\n",
       "      if (window.comm_manager || ((window.Jupyter !== undefined) && (Jupyter.notebook.kernel != null))) {\n",
       "        var comm_manager = window.comm_manager || Jupyter.notebook.kernel.comm_manager;\n",
       "        comm_manager.register_target(comm_id, function(comm) {\n",
       "          comm.on_msg(msg_handler);\n",
       "        });\n",
       "      } else if ((plot_id in window.PyViz.kernels) && (window.PyViz.kernels[plot_id])) {\n",
       "        window.PyViz.kernels[plot_id].registerCommTarget(comm_id, function(comm) {\n",
       "          comm.onMsg = msg_handler;\n",
       "        });\n",
       "      } else if (typeof google != 'undefined' && google.colab.kernel != null) {\n",
       "        google.colab.kernel.comms.registerTarget(comm_id, (comm) => {\n",
       "          var messages = comm.messages[Symbol.asyncIterator]();\n",
       "          function processIteratorResult(result) {\n",
       "            var message = result.value;\n",
       "            console.log(message)\n",
       "            var content = {data: message.data, comm_id};\n",
       "            var buffers = []\n",
       "            for (var buffer of message.buffers || []) {\n",
       "              buffers.push(new DataView(buffer))\n",
       "            }\n",
       "            var metadata = message.metadata || {};\n",
       "            var msg = {content, buffers, metadata}\n",
       "            msg_handler(msg);\n",
       "            return messages.next().then(processIteratorResult);\n",
       "          }\n",
       "          return messages.next().then(processIteratorResult);\n",
       "        })\n",
       "      }\n",
       "    }\n",
       "\n",
       "    JupyterCommManager.prototype.get_client_comm = function(plot_id, comm_id, msg_handler) {\n",
       "      if (comm_id in window.PyViz.comms) {\n",
       "        return window.PyViz.comms[comm_id];\n",
       "      } else if (window.comm_manager || ((window.Jupyter !== undefined) && (Jupyter.notebook.kernel != null))) {\n",
       "        var comm_manager = window.comm_manager || Jupyter.notebook.kernel.comm_manager;\n",
       "        var comm = comm_manager.new_comm(comm_id, {}, {}, {}, comm_id);\n",
       "        if (msg_handler) {\n",
       "          comm.on_msg(msg_handler);\n",
       "        }\n",
       "      } else if ((plot_id in window.PyViz.kernels) && (window.PyViz.kernels[plot_id])) {\n",
       "        var comm = window.PyViz.kernels[plot_id].connectToComm(comm_id);\n",
       "        comm.open();\n",
       "        if (msg_handler) {\n",
       "          comm.onMsg = msg_handler;\n",
       "        }\n",
       "      } else if (typeof google != 'undefined' && google.colab.kernel != null) {\n",
       "        var comm_promise = google.colab.kernel.comms.open(comm_id)\n",
       "        comm_promise.then((comm) => {\n",
       "          window.PyViz.comms[comm_id] = comm;\n",
       "          if (msg_handler) {\n",
       "            var messages = comm.messages[Symbol.asyncIterator]();\n",
       "            function processIteratorResult(result) {\n",
       "              var message = result.value;\n",
       "              var content = {data: message.data};\n",
       "              var metadata = message.metadata || {comm_id};\n",
       "              var msg = {content, metadata}\n",
       "              msg_handler(msg);\n",
       "              return messages.next().then(processIteratorResult);\n",
       "            }\n",
       "            return messages.next().then(processIteratorResult);\n",
       "          }\n",
       "        }) \n",
       "        var sendClosure = (data, metadata, buffers, disposeOnDone) => {\n",
       "          return comm_promise.then((comm) => {\n",
       "            comm.send(data, metadata, buffers, disposeOnDone);\n",
       "          });\n",
       "        };\n",
       "        var comm = {\n",
       "          send: sendClosure\n",
       "        };\n",
       "      }\n",
       "      window.PyViz.comms[comm_id] = comm;\n",
       "      return comm;\n",
       "    }\n",
       "    window.PyViz.comm_manager = new JupyterCommManager();\n",
       "    \n",
       "\n",
       "\n",
       "var JS_MIME_TYPE = 'application/javascript';\n",
       "var HTML_MIME_TYPE = 'text/html';\n",
       "var EXEC_MIME_TYPE = 'application/vnd.holoviews_exec.v0+json';\n",
       "var CLASS_NAME = 'output';\n",
       "\n",
       "/**\n",
       " * Render data to the DOM node\n",
       " */\n",
       "function render(props, node) {\n",
       "  var div = document.createElement(\"div\");\n",
       "  var script = document.createElement(\"script\");\n",
       "  node.appendChild(div);\n",
       "  node.appendChild(script);\n",
       "}\n",
       "\n",
       "/**\n",
       " * Handle when a new output is added\n",
       " */\n",
       "function handle_add_output(event, handle) {\n",
       "  var output_area = handle.output_area;\n",
       "  var output = handle.output;\n",
       "  if ((output.data == undefined) || (!output.data.hasOwnProperty(EXEC_MIME_TYPE))) {\n",
       "    return\n",
       "  }\n",
       "  var id = output.metadata[EXEC_MIME_TYPE][\"id\"];\n",
       "  var toinsert = output_area.element.find(\".\" + CLASS_NAME.split(' ')[0]);\n",
       "  if (id !== undefined) {\n",
       "    var nchildren = toinsert.length;\n",
       "    var html_node = toinsert[nchildren-1].children[0];\n",
       "    html_node.innerHTML = output.data[HTML_MIME_TYPE];\n",
       "    var scripts = [];\n",
       "    var nodelist = html_node.querySelectorAll(\"script\");\n",
       "    for (var i in nodelist) {\n",
       "      if (nodelist.hasOwnProperty(i)) {\n",
       "        scripts.push(nodelist[i])\n",
       "      }\n",
       "    }\n",
       "\n",
       "    scripts.forEach( function (oldScript) {\n",
       "      var newScript = document.createElement(\"script\");\n",
       "      var attrs = [];\n",
       "      var nodemap = oldScript.attributes;\n",
       "      for (var j in nodemap) {\n",
       "        if (nodemap.hasOwnProperty(j)) {\n",
       "          attrs.push(nodemap[j])\n",
       "        }\n",
       "      }\n",
       "      attrs.forEach(function(attr) { newScript.setAttribute(attr.name, attr.value) });\n",
       "      newScript.appendChild(document.createTextNode(oldScript.innerHTML));\n",
       "      oldScript.parentNode.replaceChild(newScript, oldScript);\n",
       "    });\n",
       "    if (JS_MIME_TYPE in output.data) {\n",
       "      toinsert[nchildren-1].children[1].textContent = output.data[JS_MIME_TYPE];\n",
       "    }\n",
       "    output_area._hv_plot_id = id;\n",
       "    if ((window.Bokeh !== undefined) && (id in Bokeh.index)) {\n",
       "      window.PyViz.plot_index[id] = Bokeh.index[id];\n",
       "    } else {\n",
       "      window.PyViz.plot_index[id] = null;\n",
       "    }\n",
       "  } else if (output.metadata[EXEC_MIME_TYPE][\"server_id\"] !== undefined) {\n",
       "    var bk_div = document.createElement(\"div\");\n",
       "    bk_div.innerHTML = output.data[HTML_MIME_TYPE];\n",
       "    var script_attrs = bk_div.children[0].attributes;\n",
       "    for (var i = 0; i < script_attrs.length; i++) {\n",
       "      toinsert[toinsert.length - 1].childNodes[1].setAttribute(script_attrs[i].name, script_attrs[i].value);\n",
       "    }\n",
       "    // store reference to server id on output_area\n",
       "    output_area._bokeh_server_id = output.metadata[EXEC_MIME_TYPE][\"server_id\"];\n",
       "  }\n",
       "}\n",
       "\n",
       "/**\n",
       " * Handle when an output is cleared or removed\n",
       " */\n",
       "function handle_clear_output(event, handle) {\n",
       "  var id = handle.cell.output_area._hv_plot_id;\n",
       "  var server_id = handle.cell.output_area._bokeh_server_id;\n",
       "  if (((id === undefined) || !(id in PyViz.plot_index)) && (server_id !== undefined)) { return; }\n",
       "  var comm = window.PyViz.comm_manager.get_client_comm(\"hv-extension-comm\", \"hv-extension-comm\", function () {});\n",
       "  if (server_id !== null) {\n",
       "    comm.send({event_type: 'server_delete', 'id': server_id});\n",
       "    return;\n",
       "  } else if (comm !== null) {\n",
       "    comm.send({event_type: 'delete', 'id': id});\n",
       "  }\n",
       "  delete PyViz.plot_index[id];\n",
       "  if ((window.Bokeh !== undefined) & (id in window.Bokeh.index)) {\n",
       "    var doc = window.Bokeh.index[id].model.document\n",
       "    doc.clear();\n",
       "    const i = window.Bokeh.documents.indexOf(doc);\n",
       "    if (i > -1) {\n",
       "      window.Bokeh.documents.splice(i, 1);\n",
       "    }\n",
       "  }\n",
       "}\n",
       "\n",
       "/**\n",
       " * Handle kernel restart event\n",
       " */\n",
       "function handle_kernel_cleanup(event, handle) {\n",
       "  delete PyViz.comms[\"hv-extension-comm\"];\n",
       "  window.PyViz.plot_index = {}\n",
       "}\n",
       "\n",
       "/**\n",
       " * Handle update_display_data messages\n",
       " */\n",
       "function handle_update_output(event, handle) {\n",
       "  handle_clear_output(event, {cell: {output_area: handle.output_area}})\n",
       "  handle_add_output(event, handle)\n",
       "}\n",
       "\n",
       "function register_renderer(events, OutputArea) {\n",
       "  function append_mime(data, metadata, element) {\n",
       "    // create a DOM node to render to\n",
       "    var toinsert = this.create_output_subarea(\n",
       "    metadata,\n",
       "    CLASS_NAME,\n",
       "    EXEC_MIME_TYPE\n",
       "    );\n",
       "    this.keyboard_manager.register_events(toinsert);\n",
       "    // Render to node\n",
       "    var props = {data: data, metadata: metadata[EXEC_MIME_TYPE]};\n",
       "    render(props, toinsert[0]);\n",
       "    element.append(toinsert);\n",
       "    return toinsert\n",
       "  }\n",
       "\n",
       "  events.on('output_added.OutputArea', handle_add_output);\n",
       "  events.on('output_updated.OutputArea', handle_update_output);\n",
       "  events.on('clear_output.CodeCell', handle_clear_output);\n",
       "  events.on('delete.Cell', handle_clear_output);\n",
       "  events.on('kernel_ready.Kernel', handle_kernel_cleanup);\n",
       "\n",
       "  OutputArea.prototype.register_mime_type(EXEC_MIME_TYPE, append_mime, {\n",
       "    safe: true,\n",
       "    index: 0\n",
       "  });\n",
       "}\n",
       "\n",
       "if (window.Jupyter !== undefined) {\n",
       "  try {\n",
       "    var events = require('base/js/events');\n",
       "    var OutputArea = require('notebook/js/outputarea').OutputArea;\n",
       "    if (OutputArea.prototype.mime_types().indexOf(EXEC_MIME_TYPE) == -1) {\n",
       "      register_renderer(events, OutputArea);\n",
       "    }\n",
       "  } catch(err) {\n",
       "  }\n",
       "}\n"
      ],
      "application/vnd.holoviews_load.v0+json": "\nif ((window.PyViz === undefined) || (window.PyViz instanceof HTMLElement)) {\n  window.PyViz = {comms: {}, comm_status:{}, kernels:{}, receivers: {}, plot_index: []}\n}\n\n\n    function JupyterCommManager() {\n    }\n\n    JupyterCommManager.prototype.register_target = function(plot_id, comm_id, msg_handler) {\n      if (window.comm_manager || ((window.Jupyter !== undefined) && (Jupyter.notebook.kernel != null))) {\n        var comm_manager = window.comm_manager || Jupyter.notebook.kernel.comm_manager;\n        comm_manager.register_target(comm_id, function(comm) {\n          comm.on_msg(msg_handler);\n        });\n      } else if ((plot_id in window.PyViz.kernels) && (window.PyViz.kernels[plot_id])) {\n        window.PyViz.kernels[plot_id].registerCommTarget(comm_id, function(comm) {\n          comm.onMsg = msg_handler;\n        });\n      } else if (typeof google != 'undefined' && google.colab.kernel != null) {\n        google.colab.kernel.comms.registerTarget(comm_id, (comm) => {\n          var messages = comm.messages[Symbol.asyncIterator]();\n          function processIteratorResult(result) {\n            var message = result.value;\n            console.log(message)\n            var content = {data: message.data, comm_id};\n            var buffers = []\n            for (var buffer of message.buffers || []) {\n              buffers.push(new DataView(buffer))\n            }\n            var metadata = message.metadata || {};\n            var msg = {content, buffers, metadata}\n            msg_handler(msg);\n            return messages.next().then(processIteratorResult);\n          }\n          return messages.next().then(processIteratorResult);\n        })\n      }\n    }\n\n    JupyterCommManager.prototype.get_client_comm = function(plot_id, comm_id, msg_handler) {\n      if (comm_id in window.PyViz.comms) {\n        return window.PyViz.comms[comm_id];\n      } else if (window.comm_manager || ((window.Jupyter !== undefined) && (Jupyter.notebook.kernel != null))) {\n        var comm_manager = window.comm_manager || Jupyter.notebook.kernel.comm_manager;\n        var comm = comm_manager.new_comm(comm_id, {}, {}, {}, comm_id);\n        if (msg_handler) {\n          comm.on_msg(msg_handler);\n        }\n      } else if ((plot_id in window.PyViz.kernels) && (window.PyViz.kernels[plot_id])) {\n        var comm = window.PyViz.kernels[plot_id].connectToComm(comm_id);\n        comm.open();\n        if (msg_handler) {\n          comm.onMsg = msg_handler;\n        }\n      } else if (typeof google != 'undefined' && google.colab.kernel != null) {\n        var comm_promise = google.colab.kernel.comms.open(comm_id)\n        comm_promise.then((comm) => {\n          window.PyViz.comms[comm_id] = comm;\n          if (msg_handler) {\n            var messages = comm.messages[Symbol.asyncIterator]();\n            function processIteratorResult(result) {\n              var message = result.value;\n              var content = {data: message.data};\n              var metadata = message.metadata || {comm_id};\n              var msg = {content, metadata}\n              msg_handler(msg);\n              return messages.next().then(processIteratorResult);\n            }\n            return messages.next().then(processIteratorResult);\n          }\n        }) \n        var sendClosure = (data, metadata, buffers, disposeOnDone) => {\n          return comm_promise.then((comm) => {\n            comm.send(data, metadata, buffers, disposeOnDone);\n          });\n        };\n        var comm = {\n          send: sendClosure\n        };\n      }\n      window.PyViz.comms[comm_id] = comm;\n      return comm;\n    }\n    window.PyViz.comm_manager = new JupyterCommManager();\n    \n\n\nvar JS_MIME_TYPE = 'application/javascript';\nvar HTML_MIME_TYPE = 'text/html';\nvar EXEC_MIME_TYPE = 'application/vnd.holoviews_exec.v0+json';\nvar CLASS_NAME = 'output';\n\n/**\n * Render data to the DOM node\n */\nfunction render(props, node) {\n  var div = document.createElement(\"div\");\n  var script = document.createElement(\"script\");\n  node.appendChild(div);\n  node.appendChild(script);\n}\n\n/**\n * Handle when a new output is added\n */\nfunction handle_add_output(event, handle) {\n  var output_area = handle.output_area;\n  var output = handle.output;\n  if ((output.data == undefined) || (!output.data.hasOwnProperty(EXEC_MIME_TYPE))) {\n    return\n  }\n  var id = output.metadata[EXEC_MIME_TYPE][\"id\"];\n  var toinsert = output_area.element.find(\".\" + CLASS_NAME.split(' ')[0]);\n  if (id !== undefined) {\n    var nchildren = toinsert.length;\n    var html_node = toinsert[nchildren-1].children[0];\n    html_node.innerHTML = output.data[HTML_MIME_TYPE];\n    var scripts = [];\n    var nodelist = html_node.querySelectorAll(\"script\");\n    for (var i in nodelist) {\n      if (nodelist.hasOwnProperty(i)) {\n        scripts.push(nodelist[i])\n      }\n    }\n\n    scripts.forEach( function (oldScript) {\n      var newScript = document.createElement(\"script\");\n      var attrs = [];\n      var nodemap = oldScript.attributes;\n      for (var j in nodemap) {\n        if (nodemap.hasOwnProperty(j)) {\n          attrs.push(nodemap[j])\n        }\n      }\n      attrs.forEach(function(attr) { newScript.setAttribute(attr.name, attr.value) });\n      newScript.appendChild(document.createTextNode(oldScript.innerHTML));\n      oldScript.parentNode.replaceChild(newScript, oldScript);\n    });\n    if (JS_MIME_TYPE in output.data) {\n      toinsert[nchildren-1].children[1].textContent = output.data[JS_MIME_TYPE];\n    }\n    output_area._hv_plot_id = id;\n    if ((window.Bokeh !== undefined) && (id in Bokeh.index)) {\n      window.PyViz.plot_index[id] = Bokeh.index[id];\n    } else {\n      window.PyViz.plot_index[id] = null;\n    }\n  } else if (output.metadata[EXEC_MIME_TYPE][\"server_id\"] !== undefined) {\n    var bk_div = document.createElement(\"div\");\n    bk_div.innerHTML = output.data[HTML_MIME_TYPE];\n    var script_attrs = bk_div.children[0].attributes;\n    for (var i = 0; i < script_attrs.length; i++) {\n      toinsert[toinsert.length - 1].childNodes[1].setAttribute(script_attrs[i].name, script_attrs[i].value);\n    }\n    // store reference to server id on output_area\n    output_area._bokeh_server_id = output.metadata[EXEC_MIME_TYPE][\"server_id\"];\n  }\n}\n\n/**\n * Handle when an output is cleared or removed\n */\nfunction handle_clear_output(event, handle) {\n  var id = handle.cell.output_area._hv_plot_id;\n  var server_id = handle.cell.output_area._bokeh_server_id;\n  if (((id === undefined) || !(id in PyViz.plot_index)) && (server_id !== undefined)) { return; }\n  var comm = window.PyViz.comm_manager.get_client_comm(\"hv-extension-comm\", \"hv-extension-comm\", function () {});\n  if (server_id !== null) {\n    comm.send({event_type: 'server_delete', 'id': server_id});\n    return;\n  } else if (comm !== null) {\n    comm.send({event_type: 'delete', 'id': id});\n  }\n  delete PyViz.plot_index[id];\n  if ((window.Bokeh !== undefined) & (id in window.Bokeh.index)) {\n    var doc = window.Bokeh.index[id].model.document\n    doc.clear();\n    const i = window.Bokeh.documents.indexOf(doc);\n    if (i > -1) {\n      window.Bokeh.documents.splice(i, 1);\n    }\n  }\n}\n\n/**\n * Handle kernel restart event\n */\nfunction handle_kernel_cleanup(event, handle) {\n  delete PyViz.comms[\"hv-extension-comm\"];\n  window.PyViz.plot_index = {}\n}\n\n/**\n * Handle update_display_data messages\n */\nfunction handle_update_output(event, handle) {\n  handle_clear_output(event, {cell: {output_area: handle.output_area}})\n  handle_add_output(event, handle)\n}\n\nfunction register_renderer(events, OutputArea) {\n  function append_mime(data, metadata, element) {\n    // create a DOM node to render to\n    var toinsert = this.create_output_subarea(\n    metadata,\n    CLASS_NAME,\n    EXEC_MIME_TYPE\n    );\n    this.keyboard_manager.register_events(toinsert);\n    // Render to node\n    var props = {data: data, metadata: metadata[EXEC_MIME_TYPE]};\n    render(props, toinsert[0]);\n    element.append(toinsert);\n    return toinsert\n  }\n\n  events.on('output_added.OutputArea', handle_add_output);\n  events.on('output_updated.OutputArea', handle_update_output);\n  events.on('clear_output.CodeCell', handle_clear_output);\n  events.on('delete.Cell', handle_clear_output);\n  events.on('kernel_ready.Kernel', handle_kernel_cleanup);\n\n  OutputArea.prototype.register_mime_type(EXEC_MIME_TYPE, append_mime, {\n    safe: true,\n    index: 0\n  });\n}\n\nif (window.Jupyter !== undefined) {\n  try {\n    var events = require('base/js/events');\n    var OutputArea = require('notebook/js/outputarea').OutputArea;\n    if (OutputArea.prototype.mime_types().indexOf(EXEC_MIME_TYPE) == -1) {\n      register_renderer(events, OutputArea);\n    }\n  } catch(err) {\n  }\n}\n"
     },
     "metadata": {},
     "output_type": "display_data"
    },
    {
     "data": {
      "text/html": [
       "<style>.bk-root, .bk-root .bk:before, .bk-root .bk:after {\n",
       "  font-family: var(--jp-ui-font-size1);\n",
       "  font-size: var(--jp-ui-font-size1);\n",
       "  color: var(--jp-ui-font-color1);\n",
       "}\n",
       "</style>"
      ]
     },
     "metadata": {},
     "output_type": "display_data"
    }
   ],
   "source": [
    "import pandas as pd\n",
    "import numpy as np\n",
    "import panel as pn\n",
    "import re\n",
    "from sklearn.preprocessing import MultiLabelBinarizer\n",
    "\n",
    "from bokeh.palettes import  Category20\n",
    "pn.extension('tabulator')\n",
    "import hvplot.pandas\n",
    "import holoviews as hv\n",
    "\n",
    "hv.extension('bokeh')\n",
    "import hvplot.pandas"
   ]
  },
  {
   "cell_type": "code",
   "execution_count": 3,
   "metadata": {},
   "outputs": [
    {
     "data": {
      "text/plain": [
       "'notebook'"
      ]
     },
     "execution_count": 3,
     "metadata": {},
     "output_type": "execute_result"
    }
   ],
   "source": [
    "def environment():\n",
    "    try:\n",
    "        get_ipython()\n",
    "        return \"notebook\"\n",
    "    except:\n",
    "        return \"server\"\n",
    "environment()"
   ]
  },
  {
   "cell_type": "code",
   "execution_count": 4,
   "metadata": {
    "id": "XGh_KAq3_tnT"
   },
   "outputs": [],
   "source": [
    "df = pd.read_csv('movies.csv',index_col=\"index\")"
   ]
  },
  {
   "cell_type": "code",
   "execution_count": 5,
   "metadata": {
    "colab": {
     "base_uri": "https://localhost:8080/",
     "height": 237
    },
    "id": "LlRzmp9uCG0X",
    "outputId": "06a96d1d-3d01-4f68-f6fd-970a6e3c4476"
   },
   "outputs": [
    {
     "data": {
      "text/html": [
       "<div>\n",
       "<style scoped>\n",
       "    .dataframe tbody tr th:only-of-type {\n",
       "        vertical-align: middle;\n",
       "    }\n",
       "\n",
       "    .dataframe tbody tr th {\n",
       "        vertical-align: top;\n",
       "    }\n",
       "\n",
       "    .dataframe thead th {\n",
       "        text-align: right;\n",
       "    }\n",
       "</style>\n",
       "<table border=\"1\" class=\"dataframe\">\n",
       "  <thead>\n",
       "    <tr style=\"text-align: right;\">\n",
       "      <th></th>\n",
       "      <th>movie_name</th>\n",
       "      <th>year_of_release</th>\n",
       "      <th>category</th>\n",
       "      <th>run_time</th>\n",
       "      <th>genre</th>\n",
       "      <th>imdb_rating</th>\n",
       "      <th>votes</th>\n",
       "      <th>gross_total</th>\n",
       "    </tr>\n",
       "    <tr>\n",
       "      <th>index</th>\n",
       "      <th></th>\n",
       "      <th></th>\n",
       "      <th></th>\n",
       "      <th></th>\n",
       "      <th></th>\n",
       "      <th></th>\n",
       "      <th></th>\n",
       "      <th></th>\n",
       "    </tr>\n",
       "  </thead>\n",
       "  <tbody>\n",
       "    <tr>\n",
       "      <th>1.0</th>\n",
       "      <td>The Godfather</td>\n",
       "      <td>(1972)</td>\n",
       "      <td>R</td>\n",
       "      <td>175 min</td>\n",
       "      <td>Crime, Drama</td>\n",
       "      <td>9.2</td>\n",
       "      <td>1,860,471</td>\n",
       "      <td>$134.97M</td>\n",
       "    </tr>\n",
       "    <tr>\n",
       "      <th>2.0</th>\n",
       "      <td>The Silence of the Lambs</td>\n",
       "      <td>(1991)</td>\n",
       "      <td>R</td>\n",
       "      <td>118 min</td>\n",
       "      <td>Crime, Drama, Thriller</td>\n",
       "      <td>8.6</td>\n",
       "      <td>1,435,344</td>\n",
       "      <td>$130.74M</td>\n",
       "    </tr>\n",
       "    <tr>\n",
       "      <th>3.0</th>\n",
       "      <td>Star Wars: Episode V - The Empire Strikes Back</td>\n",
       "      <td>(1980)</td>\n",
       "      <td>PG</td>\n",
       "      <td>124 min</td>\n",
       "      <td>Action, Adventure, Fantasy</td>\n",
       "      <td>8.7</td>\n",
       "      <td>1,294,805</td>\n",
       "      <td>$290.48M</td>\n",
       "    </tr>\n",
       "    <tr>\n",
       "      <th>4.0</th>\n",
       "      <td>The Shawshank Redemption</td>\n",
       "      <td>(1994)</td>\n",
       "      <td>R</td>\n",
       "      <td>142 min</td>\n",
       "      <td>Drama</td>\n",
       "      <td>9.3</td>\n",
       "      <td>2,683,302</td>\n",
       "      <td>$28.34M</td>\n",
       "    </tr>\n",
       "    <tr>\n",
       "      <th>5.0</th>\n",
       "      <td>The Shining</td>\n",
       "      <td>(1980)</td>\n",
       "      <td>R</td>\n",
       "      <td>146 min</td>\n",
       "      <td>Drama, Horror</td>\n",
       "      <td>8.4</td>\n",
       "      <td>1,025,560</td>\n",
       "      <td>$44.02M</td>\n",
       "    </tr>\n",
       "  </tbody>\n",
       "</table>\n",
       "</div>"
      ],
      "text/plain": [
       "                                           movie_name year_of_release  \\\n",
       "index                                                                   \n",
       "1.0                                     The Godfather          (1972)   \n",
       "2.0                          The Silence of the Lambs          (1991)   \n",
       "3.0    Star Wars: Episode V - The Empire Strikes Back          (1980)   \n",
       "4.0                          The Shawshank Redemption          (1994)   \n",
       "5.0                                       The Shining          (1980)   \n",
       "\n",
       "      category run_time                       genre  imdb_rating      votes  \\\n",
       "index                                                                         \n",
       "1.0          R  175 min                Crime, Drama          9.2  1,860,471   \n",
       "2.0          R  118 min      Crime, Drama, Thriller          8.6  1,435,344   \n",
       "3.0         PG  124 min  Action, Adventure, Fantasy          8.7  1,294,805   \n",
       "4.0          R  142 min                       Drama          9.3  2,683,302   \n",
       "5.0          R  146 min               Drama, Horror          8.4  1,025,560   \n",
       "\n",
       "      gross_total  \n",
       "index              \n",
       "1.0      $134.97M  \n",
       "2.0      $130.74M  \n",
       "3.0      $290.48M  \n",
       "4.0       $28.34M  \n",
       "5.0       $44.02M  "
      ]
     },
     "execution_count": 5,
     "metadata": {},
     "output_type": "execute_result"
    }
   ],
   "source": [
    "df.head()"
   ]
  },
  {
   "cell_type": "code",
   "execution_count": 6,
   "metadata": {
    "colab": {
     "base_uri": "https://localhost:8080/"
    },
    "id": "rXUmaPNiEonF",
    "outputId": "37853494-f25e-4bb6-a2c2-932663b5f3d2"
   },
   "outputs": [],
   "source": [
    "#df.info()"
   ]
  },
  {
   "cell_type": "code",
   "execution_count": 7,
   "metadata": {
    "colab": {
     "base_uri": "https://localhost:8080/"
    },
    "id": "-l_38eMWCIkM",
    "outputId": "0cef472f-fd35-47ba-8a99-5ca4aab97939"
   },
   "outputs": [
    {
     "data": {
      "text/plain": [
       "Index(['movie_name', 'year_of_release', 'category', 'run_time', 'genre',\n",
       "       'imdb_rating', 'votes', 'gross_total'],\n",
       "      dtype='object')"
      ]
     },
     "execution_count": 7,
     "metadata": {},
     "output_type": "execute_result"
    }
   ],
   "source": [
    "df.columns"
   ]
  },
  {
   "cell_type": "code",
   "execution_count": 8,
   "metadata": {
    "id": "h6aUfcPAFens"
   },
   "outputs": [],
   "source": [
    "df[\"year_of_release\"] = df.year_of_release.apply(lambda x: int(''.join(re.findall(r'[0-9]',str(x)))))\n",
    "df[\"run_time\"]=df[\"run_time\"].apply(lambda x: int(''.join(re.findall(r'[0-9]',str(x)))))\n",
    "df[\"votes\"]=df[\"votes\"].apply(lambda x: int(''.join(re.findall(r'[0-9]',str(x)))))\n",
    "df[\"category\"]=df[\"category\"].apply(lambda x: str(x))"
   ]
  },
  {
   "cell_type": "code",
   "execution_count": 9,
   "metadata": {
    "id": "SmbsR8T0OEUg"
   },
   "outputs": [],
   "source": [
    "g=df[\"gross_total\"].apply(lambda x: (''.join(re.findall(r'[0-9.]',str(x)))))\n",
    "df[\"gross_total\"]=  pd.to_numeric(g)\n"
   ]
  },
  {
   "cell_type": "code",
   "execution_count": 10,
   "metadata": {
    "colab": {
     "base_uri": "https://localhost:8080/",
     "height": 455
    },
    "id": "8QDwlgJIkFka",
    "outputId": "0f9d0adc-afa8-46b8-8a55-0f775824d6a9"
   },
   "outputs": [
    {
     "data": {
      "text/html": [
       "<div>\n",
       "<style scoped>\n",
       "    .dataframe tbody tr th:only-of-type {\n",
       "        vertical-align: middle;\n",
       "    }\n",
       "\n",
       "    .dataframe tbody tr th {\n",
       "        vertical-align: top;\n",
       "    }\n",
       "\n",
       "    .dataframe thead th {\n",
       "        text-align: right;\n",
       "    }\n",
       "</style>\n",
       "<table border=\"1\" class=\"dataframe\">\n",
       "  <thead>\n",
       "    <tr style=\"text-align: right;\">\n",
       "      <th></th>\n",
       "      <th>movie_name</th>\n",
       "      <th>year_of_release</th>\n",
       "      <th>category</th>\n",
       "      <th>run_time</th>\n",
       "      <th>genre</th>\n",
       "      <th>imdb_rating</th>\n",
       "      <th>votes</th>\n",
       "      <th>gross_total</th>\n",
       "    </tr>\n",
       "    <tr>\n",
       "      <th>index</th>\n",
       "      <th></th>\n",
       "      <th></th>\n",
       "      <th></th>\n",
       "      <th></th>\n",
       "      <th></th>\n",
       "      <th></th>\n",
       "      <th></th>\n",
       "      <th></th>\n",
       "    </tr>\n",
       "  </thead>\n",
       "  <tbody>\n",
       "    <tr>\n",
       "      <th>1.0</th>\n",
       "      <td>The Godfather</td>\n",
       "      <td>1972</td>\n",
       "      <td>R</td>\n",
       "      <td>175</td>\n",
       "      <td>Crime, Drama</td>\n",
       "      <td>9.2</td>\n",
       "      <td>1860471</td>\n",
       "      <td>134.97</td>\n",
       "    </tr>\n",
       "    <tr>\n",
       "      <th>2.0</th>\n",
       "      <td>The Silence of the Lambs</td>\n",
       "      <td>1991</td>\n",
       "      <td>R</td>\n",
       "      <td>118</td>\n",
       "      <td>Crime, Drama, Thriller</td>\n",
       "      <td>8.6</td>\n",
       "      <td>1435344</td>\n",
       "      <td>130.74</td>\n",
       "    </tr>\n",
       "    <tr>\n",
       "      <th>3.0</th>\n",
       "      <td>Star Wars: Episode V - The Empire Strikes Back</td>\n",
       "      <td>1980</td>\n",
       "      <td>PG</td>\n",
       "      <td>124</td>\n",
       "      <td>Action, Adventure, Fantasy</td>\n",
       "      <td>8.7</td>\n",
       "      <td>1294805</td>\n",
       "      <td>290.48</td>\n",
       "    </tr>\n",
       "    <tr>\n",
       "      <th>4.0</th>\n",
       "      <td>The Shawshank Redemption</td>\n",
       "      <td>1994</td>\n",
       "      <td>R</td>\n",
       "      <td>142</td>\n",
       "      <td>Drama</td>\n",
       "      <td>9.3</td>\n",
       "      <td>2683302</td>\n",
       "      <td>28.34</td>\n",
       "    </tr>\n",
       "    <tr>\n",
       "      <th>5.0</th>\n",
       "      <td>The Shining</td>\n",
       "      <td>1980</td>\n",
       "      <td>R</td>\n",
       "      <td>146</td>\n",
       "      <td>Drama, Horror</td>\n",
       "      <td>8.4</td>\n",
       "      <td>1025560</td>\n",
       "      <td>44.02</td>\n",
       "    </tr>\n",
       "    <tr>\n",
       "      <th>...</th>\n",
       "      <td>...</td>\n",
       "      <td>...</td>\n",
       "      <td>...</td>\n",
       "      <td>...</td>\n",
       "      <td>...</td>\n",
       "      <td>...</td>\n",
       "      <td>...</td>\n",
       "      <td>...</td>\n",
       "    </tr>\n",
       "    <tr>\n",
       "      <th>95.0</th>\n",
       "      <td>The Usual Suspects</td>\n",
       "      <td>1995</td>\n",
       "      <td>R</td>\n",
       "      <td>106</td>\n",
       "      <td>Crime, Drama, Mystery</td>\n",
       "      <td>8.5</td>\n",
       "      <td>1087832</td>\n",
       "      <td>23.34</td>\n",
       "    </tr>\n",
       "    <tr>\n",
       "      <th>96.0</th>\n",
       "      <td>Cool Hand Luke</td>\n",
       "      <td>1967</td>\n",
       "      <td>GP</td>\n",
       "      <td>127</td>\n",
       "      <td>Crime, Drama</td>\n",
       "      <td>8.1</td>\n",
       "      <td>178888</td>\n",
       "      <td>16.22</td>\n",
       "    </tr>\n",
       "    <tr>\n",
       "      <th>97.0</th>\n",
       "      <td>Eternal Sunshine of the Spotless Mind</td>\n",
       "      <td>2004</td>\n",
       "      <td>R</td>\n",
       "      <td>108</td>\n",
       "      <td>Drama, Romance, Sci-Fi</td>\n",
       "      <td>8.3</td>\n",
       "      <td>1011004</td>\n",
       "      <td>34.40</td>\n",
       "    </tr>\n",
       "    <tr>\n",
       "      <th>98.0</th>\n",
       "      <td>City Lights</td>\n",
       "      <td>1931</td>\n",
       "      <td>G</td>\n",
       "      <td>87</td>\n",
       "      <td>Comedy, Drama, Romance</td>\n",
       "      <td>8.5</td>\n",
       "      <td>186059</td>\n",
       "      <td>0.02</td>\n",
       "    </tr>\n",
       "    <tr>\n",
       "      <th>99.0</th>\n",
       "      <td>The Matrix</td>\n",
       "      <td>1999</td>\n",
       "      <td>R</td>\n",
       "      <td>136</td>\n",
       "      <td>Action, Sci-Fi</td>\n",
       "      <td>8.7</td>\n",
       "      <td>1916083</td>\n",
       "      <td>171.48</td>\n",
       "    </tr>\n",
       "  </tbody>\n",
       "</table>\n",
       "<p>99 rows × 8 columns</p>\n",
       "</div>"
      ],
      "text/plain": [
       "                                           movie_name  year_of_release  \\\n",
       "index                                                                    \n",
       "1.0                                     The Godfather             1972   \n",
       "2.0                          The Silence of the Lambs             1991   \n",
       "3.0    Star Wars: Episode V - The Empire Strikes Back             1980   \n",
       "4.0                          The Shawshank Redemption             1994   \n",
       "5.0                                       The Shining             1980   \n",
       "...                                               ...              ...   \n",
       "95.0                               The Usual Suspects             1995   \n",
       "96.0                                   Cool Hand Luke             1967   \n",
       "97.0            Eternal Sunshine of the Spotless Mind             2004   \n",
       "98.0                                      City Lights             1931   \n",
       "99.0                                       The Matrix             1999   \n",
       "\n",
       "      category  run_time                       genre  imdb_rating    votes  \\\n",
       "index                                                                        \n",
       "1.0          R       175                Crime, Drama          9.2  1860471   \n",
       "2.0          R       118      Crime, Drama, Thriller          8.6  1435344   \n",
       "3.0         PG       124  Action, Adventure, Fantasy          8.7  1294805   \n",
       "4.0          R       142                       Drama          9.3  2683302   \n",
       "5.0          R       146               Drama, Horror          8.4  1025560   \n",
       "...        ...       ...                         ...          ...      ...   \n",
       "95.0         R       106       Crime, Drama, Mystery          8.5  1087832   \n",
       "96.0        GP       127                Crime, Drama          8.1   178888   \n",
       "97.0         R       108      Drama, Romance, Sci-Fi          8.3  1011004   \n",
       "98.0         G        87      Comedy, Drama, Romance          8.5   186059   \n",
       "99.0         R       136              Action, Sci-Fi          8.7  1916083   \n",
       "\n",
       "       gross_total  \n",
       "index               \n",
       "1.0         134.97  \n",
       "2.0         130.74  \n",
       "3.0         290.48  \n",
       "4.0          28.34  \n",
       "5.0          44.02  \n",
       "...            ...  \n",
       "95.0         23.34  \n",
       "96.0         16.22  \n",
       "97.0         34.40  \n",
       "98.0          0.02  \n",
       "99.0        171.48  \n",
       "\n",
       "[99 rows x 8 columns]"
      ]
     },
     "execution_count": 10,
     "metadata": {},
     "output_type": "execute_result"
    }
   ],
   "source": [
    "df"
   ]
  },
  {
   "cell_type": "code",
   "execution_count": 12,
   "metadata": {
    "id": "ixJ5VAVfw_Fb"
   },
   "outputs": [],
   "source": [
    "df[\"genre\"]= [x.replace(\" \",\"\").split(',') for x in df[\"genre\"]]\n"
   ]
  },
  {
   "cell_type": "code",
   "execution_count": 13,
   "metadata": {
    "id": "Gq4MLPzcwtxY"
   },
   "outputs": [],
   "source": [
    "\n",
    "\n",
    "mlb = MultiLabelBinarizer(sparse_output=True)\n",
    "\n",
    "df = df.join(\n",
    "            pd.DataFrame.sparse.from_spmatrix(\n",
    "                mlb.fit_transform(df.pop('genre')),\n",
    "                index=df.index,\n",
    "                columns=mlb.classes_))"
   ]
  },
  {
   "cell_type": "code",
   "execution_count": 71,
   "metadata": {},
   "outputs": [
    {
     "name": "stdout",
     "output_type": "stream",
     "text": [
      "index\n",
      "1.0     0\n",
      "2.0     0\n",
      "3.0     0\n",
      "4.0     0\n",
      "5.0     0\n",
      "       ..\n",
      "95.0    0\n",
      "96.0    0\n",
      "97.0    0\n",
      "98.0    0\n",
      "99.0    0\n",
      "Name: Animation, Length: 99, dtype: Sparse[int32, 0]\n",
      "index\n",
      "1.0     0\n",
      "2.0     0\n",
      "3.0     0\n",
      "4.0     0\n",
      "5.0     0\n",
      "       ..\n",
      "95.0    0\n",
      "96.0    0\n",
      "97.0    0\n",
      "98.0    0\n",
      "99.0    0\n",
      "Name: Film-Noir, Length: 99, dtype: Sparse[int32, 0]\n",
      "index\n",
      "1.0     0\n",
      "2.0     0\n",
      "3.0     0\n",
      "4.0     0\n",
      "5.0     0\n",
      "       ..\n",
      "95.0    0\n",
      "96.0    0\n",
      "97.0    0\n",
      "98.0    0\n",
      "99.0    0\n",
      "Name: Musical, Length: 99, dtype: Sparse[int32, 0]\n"
     ]
    }
   ],
   "source": [
    "for i in mlb.classes_:\n",
    "   \n",
    "    \n",
    "    df[str(i)] = df[str(i)].values.to_dense().astype(np.int64)\n",
    "#print(df.dtypes)"
   ]
  },
  {
   "cell_type": "code",
   "execution_count": 72,
   "metadata": {},
   "outputs": [
    {
     "name": "stdout",
     "output_type": "stream",
     "text": [
      "<class 'pandas.core.frame.DataFrame'>\n",
      "Float64Index: 99 entries, 1.0 to 99.0\n",
      "Data columns (total 26 columns):\n",
      " #   Column           Non-Null Count  Dtype  \n",
      "---  ------           --------------  -----  \n",
      " 0   movie_name       99 non-null     object \n",
      " 1   year_of_release  99 non-null     int64  \n",
      " 2   category         99 non-null     object \n",
      " 3   run_time         99 non-null     int64  \n",
      " 4   imdb_rating      99 non-null     float64\n",
      " 5   votes            99 non-null     int64  \n",
      " 6   gross_total      99 non-null     float64\n",
      " 7   Action           99 non-null     int64  \n",
      " 8   Adventure        99 non-null     int64  \n",
      " 9   Animation        99 non-null     int64  \n",
      " 10  Biography        99 non-null     int64  \n",
      " 11  Comedy           99 non-null     int64  \n",
      " 12  Crime            99 non-null     int64  \n",
      " 13  Drama            99 non-null     int64  \n",
      " 14  Fantasy          99 non-null     int64  \n",
      " 15  Film-Noir        99 non-null     int64  \n",
      " 16  History          99 non-null     int64  \n",
      " 17  Horror           99 non-null     int64  \n",
      " 18  Music            99 non-null     int64  \n",
      " 19  Musical          99 non-null     int64  \n",
      " 20  Mystery          99 non-null     int64  \n",
      " 21  Romance          99 non-null     int64  \n",
      " 22  Sci-Fi           99 non-null     int64  \n",
      " 23  Thriller         99 non-null     int64  \n",
      " 24  War              99 non-null     int64  \n",
      " 25  Western          99 non-null     int64  \n",
      "dtypes: float64(2), int64(22), object(2)\n",
      "memory usage: 23.4+ KB\n"
     ]
    }
   ],
   "source": [
    "#df.info()"
   ]
  },
  {
   "cell_type": "code",
   "execution_count": 16,
   "metadata": {
    "colab": {
     "base_uri": "https://localhost:8080/"
    },
    "id": "HfAXF4n3t93u",
    "outputId": "7aec3e80-1ad5-4b1e-e867-c3a884b40bfb"
   },
   "outputs": [
    {
     "name": "stdout",
     "output_type": "stream",
     "text": [
      "<class 'pandas.core.frame.DataFrame'>\n",
      "Float64Index: 99 entries, 1.0 to 99.0\n",
      "Data columns (total 26 columns):\n",
      " #   Column           Non-Null Count  Dtype           \n",
      "---  ------           --------------  -----           \n",
      " 0   movie_name       99 non-null     object          \n",
      " 1   year_of_release  99 non-null     int64           \n",
      " 2   category         99 non-null     object          \n",
      " 3   run_time         99 non-null     int64           \n",
      " 4   imdb_rating      99 non-null     float64         \n",
      " 5   votes            99 non-null     int64           \n",
      " 6   gross_total      98 non-null     float64         \n",
      " 7   Action           99 non-null     Sparse[int32, 0]\n",
      " 8   Adventure        99 non-null     Sparse[int32, 0]\n",
      " 9   Animation        99 non-null     Sparse[int32, 0]\n",
      " 10  Biography        99 non-null     Sparse[int32, 0]\n",
      " 11  Comedy           99 non-null     Sparse[int32, 0]\n",
      " 12  Crime            99 non-null     Sparse[int32, 0]\n",
      " 13  Drama            99 non-null     Sparse[int32, 0]\n",
      " 14  Fantasy          99 non-null     Sparse[int32, 0]\n",
      " 15  Film-Noir        99 non-null     Sparse[int32, 0]\n",
      " 16  History          99 non-null     Sparse[int32, 0]\n",
      " 17  Horror           99 non-null     Sparse[int32, 0]\n",
      " 18  Music            99 non-null     Sparse[int32, 0]\n",
      " 19  Musical          99 non-null     Sparse[int32, 0]\n",
      " 20  Mystery          99 non-null     Sparse[int32, 0]\n",
      " 21  Romance          99 non-null     Sparse[int32, 0]\n",
      " 22  Sci-Fi           99 non-null     Sparse[int32, 0]\n",
      " 23  Thriller         99 non-null     Sparse[int32, 0]\n",
      " 24  War              99 non-null     Sparse[int32, 0]\n",
      " 25  Western          99 non-null     Sparse[int32, 0]\n",
      "dtypes: Sparse[int32, 0](19), float64(2), int64(3), object(2)\n",
      "memory usage: 10.6+ KB\n"
     ]
    }
   ],
   "source": [
    "df.info()"
   ]
  },
  {
   "cell_type": "code",
   "execution_count": 17,
   "metadata": {
    "id": "p5DpqtjOZHwI"
   },
   "outputs": [],
   "source": [
    "df[\"gross_total\"] = df[\"gross_total\"] .fillna(df[\"gross_total\"] .mean()) "
   ]
  },
  {
   "cell_type": "code",
   "execution_count": 18,
   "metadata": {
    "colab": {
     "base_uri": "https://localhost:8080/",
     "height": 355
    },
    "id": "y5ZxJm7eqHK9",
    "outputId": "16e4127d-9f2c-44e7-a3ba-65fdf486c123"
   },
   "outputs": [
    {
     "data": {
      "text/html": [
       "<div>\n",
       "<style scoped>\n",
       "    .dataframe tbody tr th:only-of-type {\n",
       "        vertical-align: middle;\n",
       "    }\n",
       "\n",
       "    .dataframe tbody tr th {\n",
       "        vertical-align: top;\n",
       "    }\n",
       "\n",
       "    .dataframe thead th {\n",
       "        text-align: right;\n",
       "    }\n",
       "</style>\n",
       "<table border=\"1\" class=\"dataframe\">\n",
       "  <thead>\n",
       "    <tr style=\"text-align: right;\">\n",
       "      <th></th>\n",
       "      <th>movie_name</th>\n",
       "      <th>year_of_release</th>\n",
       "      <th>category</th>\n",
       "      <th>run_time</th>\n",
       "      <th>imdb_rating</th>\n",
       "      <th>votes</th>\n",
       "      <th>gross_total</th>\n",
       "      <th>Action</th>\n",
       "      <th>Adventure</th>\n",
       "      <th>Animation</th>\n",
       "      <th>...</th>\n",
       "      <th>History</th>\n",
       "      <th>Horror</th>\n",
       "      <th>Music</th>\n",
       "      <th>Musical</th>\n",
       "      <th>Mystery</th>\n",
       "      <th>Romance</th>\n",
       "      <th>Sci-Fi</th>\n",
       "      <th>Thriller</th>\n",
       "      <th>War</th>\n",
       "      <th>Western</th>\n",
       "    </tr>\n",
       "    <tr>\n",
       "      <th>index</th>\n",
       "      <th></th>\n",
       "      <th></th>\n",
       "      <th></th>\n",
       "      <th></th>\n",
       "      <th></th>\n",
       "      <th></th>\n",
       "      <th></th>\n",
       "      <th></th>\n",
       "      <th></th>\n",
       "      <th></th>\n",
       "      <th></th>\n",
       "      <th></th>\n",
       "      <th></th>\n",
       "      <th></th>\n",
       "      <th></th>\n",
       "      <th></th>\n",
       "      <th></th>\n",
       "      <th></th>\n",
       "      <th></th>\n",
       "      <th></th>\n",
       "      <th></th>\n",
       "    </tr>\n",
       "  </thead>\n",
       "  <tbody>\n",
       "    <tr>\n",
       "      <th>18.0</th>\n",
       "      <td>Some Like It Hot</td>\n",
       "      <td>1959</td>\n",
       "      <td>Passed</td>\n",
       "      <td>121</td>\n",
       "      <td>8.2</td>\n",
       "      <td>269346</td>\n",
       "      <td>25.000000</td>\n",
       "      <td>0</td>\n",
       "      <td>0</td>\n",
       "      <td>0</td>\n",
       "      <td>...</td>\n",
       "      <td>0</td>\n",
       "      <td>0</td>\n",
       "      <td>1</td>\n",
       "      <td>0</td>\n",
       "      <td>0</td>\n",
       "      <td>1</td>\n",
       "      <td>0</td>\n",
       "      <td>0</td>\n",
       "      <td>0</td>\n",
       "      <td>0</td>\n",
       "    </tr>\n",
       "    <tr>\n",
       "      <th>27.0</th>\n",
       "      <td>Gone with the Wind</td>\n",
       "      <td>1939</td>\n",
       "      <td>Passed</td>\n",
       "      <td>238</td>\n",
       "      <td>8.2</td>\n",
       "      <td>317621</td>\n",
       "      <td>198.680000</td>\n",
       "      <td>0</td>\n",
       "      <td>0</td>\n",
       "      <td>0</td>\n",
       "      <td>...</td>\n",
       "      <td>0</td>\n",
       "      <td>0</td>\n",
       "      <td>0</td>\n",
       "      <td>0</td>\n",
       "      <td>0</td>\n",
       "      <td>1</td>\n",
       "      <td>0</td>\n",
       "      <td>0</td>\n",
       "      <td>1</td>\n",
       "      <td>0</td>\n",
       "    </tr>\n",
       "    <tr>\n",
       "      <th>66.0</th>\n",
       "      <td>To Have and Have Not</td>\n",
       "      <td>1944</td>\n",
       "      <td>Passed</td>\n",
       "      <td>100</td>\n",
       "      <td>7.8</td>\n",
       "      <td>35528</td>\n",
       "      <td>117.426531</td>\n",
       "      <td>0</td>\n",
       "      <td>1</td>\n",
       "      <td>0</td>\n",
       "      <td>...</td>\n",
       "      <td>0</td>\n",
       "      <td>0</td>\n",
       "      <td>0</td>\n",
       "      <td>0</td>\n",
       "      <td>0</td>\n",
       "      <td>0</td>\n",
       "      <td>0</td>\n",
       "      <td>0</td>\n",
       "      <td>0</td>\n",
       "      <td>0</td>\n",
       "    </tr>\n",
       "  </tbody>\n",
       "</table>\n",
       "<p>3 rows × 26 columns</p>\n",
       "</div>"
      ],
      "text/plain": [
       "                 movie_name  year_of_release category  run_time  imdb_rating  \\\n",
       "index                                                                          \n",
       "18.0       Some Like It Hot             1959   Passed       121          8.2   \n",
       "27.0     Gone with the Wind             1939   Passed       238          8.2   \n",
       "66.0   To Have and Have Not             1944   Passed       100          7.8   \n",
       "\n",
       "        votes  gross_total  Action  Adventure  Animation  ...  History  \\\n",
       "index                                                     ...            \n",
       "18.0   269346    25.000000       0          0          0  ...        0   \n",
       "27.0   317621   198.680000       0          0          0  ...        0   \n",
       "66.0    35528   117.426531       0          1          0  ...        0   \n",
       "\n",
       "       Horror  Music  Musical  Mystery  Romance  Sci-Fi  Thriller  War  \\\n",
       "index                                                                    \n",
       "18.0        0      1        0        0        1       0         0    0   \n",
       "27.0        0      0        0        0        1       0         0    1   \n",
       "66.0        0      0        0        0        0       0         0    0   \n",
       "\n",
       "       Western  \n",
       "index           \n",
       "18.0         0  \n",
       "27.0         0  \n",
       "66.0         0  \n",
       "\n",
       "[3 rows x 26 columns]"
      ]
     },
     "execution_count": 18,
     "metadata": {},
     "output_type": "execute_result"
    }
   ],
   "source": [
    "df[df[\"category\"]== \"Passed\"]"
   ]
  },
  {
   "cell_type": "code",
   "execution_count": 19,
   "metadata": {
    "id": "Fwdyfj7ooiV-"
   },
   "outputs": [],
   "source": [
    "# Make DataFrame Pipeline Interactive\n",
    "idf = df.interactive()"
   ]
  },
  {
   "cell_type": "code",
   "execution_count": 20,
   "metadata": {
    "colab": {
     "base_uri": "https://localhost:8080/",
     "height": 66
    },
    "id": "p-scRJeSErRk",
    "outputId": "279a3762-7b64-48ea-cd31-352f211d0745"
   },
   "outputs": [
    {
     "data": {},
     "metadata": {},
     "output_type": "display_data"
    },
    {
     "data": {
      "application/vnd.holoviews_exec.v0+json": "",
      "text/html": [
       "<div id='1002'>\n",
       "  <div class=\"bk-root\" id=\"0e4a43b3-af52-49c3-966e-52aedde0cead\" data-root-id=\"1002\"></div>\n",
       "</div>\n",
       "<script type=\"application/javascript\">(function(root) {\n",
       "  function embed_document(root) {\n",
       "    var docs_json = {\"ab0c1742-613d-47e8-bcc9-342bda55a60e\":{\"defs\":[{\"extends\":null,\"module\":null,\"name\":\"ReactiveHTML1\",\"overrides\":[],\"properties\":[]},{\"extends\":null,\"module\":null,\"name\":\"FlexBox1\",\"overrides\":[],\"properties\":[{\"default\":\"flex-start\",\"kind\":null,\"name\":\"align_content\"},{\"default\":\"flex-start\",\"kind\":null,\"name\":\"align_items\"},{\"default\":\"row\",\"kind\":null,\"name\":\"flex_direction\"},{\"default\":\"wrap\",\"kind\":null,\"name\":\"flex_wrap\"},{\"default\":\"flex-start\",\"kind\":null,\"name\":\"justify_content\"}]},{\"extends\":null,\"module\":null,\"name\":\"GridStack1\",\"overrides\":[],\"properties\":[{\"default\":\"warn\",\"kind\":null,\"name\":\"mode\"},{\"default\":null,\"kind\":null,\"name\":\"ncols\"},{\"default\":null,\"kind\":null,\"name\":\"nrows\"},{\"default\":true,\"kind\":null,\"name\":\"allow_resize\"},{\"default\":true,\"kind\":null,\"name\":\"allow_drag\"},{\"default\":[],\"kind\":null,\"name\":\"state\"}]},{\"extends\":null,\"module\":null,\"name\":\"click1\",\"overrides\":[],\"properties\":[{\"default\":\"\",\"kind\":null,\"name\":\"terminal_output\"},{\"default\":\"\",\"kind\":null,\"name\":\"debug_name\"},{\"default\":0,\"kind\":null,\"name\":\"clears\"}]},{\"extends\":null,\"module\":null,\"name\":\"NotificationAreaBase1\",\"overrides\":[],\"properties\":[{\"default\":\"bottom-right\",\"kind\":null,\"name\":\"position\"},{\"default\":0,\"kind\":null,\"name\":\"_clear\"}]},{\"extends\":null,\"module\":null,\"name\":\"NotificationArea1\",\"overrides\":[],\"properties\":[{\"default\":[],\"kind\":null,\"name\":\"notifications\"},{\"default\":\"bottom-right\",\"kind\":null,\"name\":\"position\"},{\"default\":0,\"kind\":null,\"name\":\"_clear\"},{\"default\":[{\"background\":\"#ffc107\",\"icon\":{\"className\":\"fas fa-exclamation-triangle\",\"color\":\"white\",\"tagName\":\"i\"},\"type\":\"warning\"},{\"background\":\"#007bff\",\"icon\":{\"className\":\"fas fa-info-circle\",\"color\":\"white\",\"tagName\":\"i\"},\"type\":\"info\"}],\"kind\":null,\"name\":\"types\"}]},{\"extends\":null,\"module\":null,\"name\":\"Notification\",\"overrides\":[],\"properties\":[{\"default\":null,\"kind\":null,\"name\":\"background\"},{\"default\":3000,\"kind\":null,\"name\":\"duration\"},{\"default\":null,\"kind\":null,\"name\":\"icon\"},{\"default\":\"\",\"kind\":null,\"name\":\"message\"},{\"default\":null,\"kind\":null,\"name\":\"notification_type\"},{\"default\":false,\"kind\":null,\"name\":\"_destroyed\"}]},{\"extends\":null,\"module\":null,\"name\":\"TemplateActions1\",\"overrides\":[],\"properties\":[{\"default\":0,\"kind\":null,\"name\":\"open_modal\"},{\"default\":0,\"kind\":null,\"name\":\"close_modal\"}]},{\"extends\":null,\"module\":null,\"name\":\"MaterialTemplateActions1\",\"overrides\":[],\"properties\":[{\"default\":0,\"kind\":null,\"name\":\"open_modal\"},{\"default\":0,\"kind\":null,\"name\":\"close_modal\"}]}],\"roots\":{\"references\":[{\"attributes\":{\"reload\":false},\"id\":\"1004\",\"type\":\"panel.models.location.Location\"},{\"attributes\":{\"end\":2015,\"margin\":[5,10,5,10],\"min_width\":250,\"start\":1972,\"title\":\"Year release of film \",\"value\":[2000,2016],\"width\":250},\"id\":\"1002\",\"type\":\"RangeSlider\"},{\"attributes\":{\"client_comm_id\":\"8dd75909cbb247a2bf0b0c144528c907\",\"comm_id\":\"82e2641977f24771975487eab1e38c23\",\"plot_id\":\"1002\"},\"id\":\"1003\",\"type\":\"panel.models.comm_manager.CommManager\"}],\"root_ids\":[\"1002\",\"1003\",\"1004\"]},\"title\":\"Bokeh Application\",\"version\":\"2.4.3\"}};\n",
       "    var render_items = [{\"docid\":\"ab0c1742-613d-47e8-bcc9-342bda55a60e\",\"root_ids\":[\"1002\"],\"roots\":{\"1002\":\"0e4a43b3-af52-49c3-966e-52aedde0cead\"}}];\n",
       "    root.Bokeh.embed.embed_items_notebook(docs_json, render_items);\n",
       "    for (const render_item of render_items) {\n",
       "      for (const root_id of render_item.root_ids) {\n",
       "\tconst id_el = document.getElementById(root_id)\n",
       "\tif (id_el.children.length && (id_el.children[0].className === 'bk-root')) {\n",
       "\t  const root_el = id_el.children[0]\n",
       "\t  root_el.id = root_el.id + '-rendered'\n",
       "\t}\n",
       "      }\n",
       "    }\n",
       "  }\n",
       "  if (root.Bokeh !== undefined && root.Bokeh.Panel !== undefined && ( root['Tabulator'] !== undefined)) {\n",
       "    embed_document(root);\n",
       "  } else {\n",
       "    var attempts = 0;\n",
       "    var timer = setInterval(function(root) {\n",
       "      if (root.Bokeh !== undefined && root.Bokeh.Panel !== undefined && (root['Tabulator'] !== undefined)) {\n",
       "        clearInterval(timer);\n",
       "        embed_document(root);\n",
       "      } else if (document.readyState == \"complete\") {\n",
       "        attempts++;\n",
       "        if (attempts > 200) {\n",
       "          clearInterval(timer);\n",
       "          console.log(\"Bokeh: ERROR: Unable to run BokehJS code because BokehJS library is missing\");\n",
       "        }\n",
       "      }\n",
       "    }, 25, root)\n",
       "  }\n",
       "})(window);</script>"
      ],
      "text/plain": [
       "IntRangeSlider(end=2015, name='Year release of film ', start=1972, value=(2000, 2016), value_end=2016, value_start=2000, width=250)"
      ]
     },
     "execution_count": 20,
     "metadata": {
      "application/vnd.holoviews_exec.v0+json": {
       "id": "1002"
      }
     },
     "output_type": "execute_result"
    }
   ],
   "source": [
    "# Define Panel widgets\n",
    "year_slider = pn.widgets.IntRangeSlider(name='Year release of film ',width=250, start=1972, end=2015,  value=(2000, 2016), value_throttled=(2000, 2015))\n",
    "year_slider\n"
   ]
  },
  {
   "cell_type": "code",
   "execution_count": 21,
   "metadata": {
    "colab": {
     "base_uri": "https://localhost:8080/",
     "height": 58
    },
    "id": "HV84poHRZQnd",
    "outputId": "739d9ef2-a73d-4ac5-a6ac-8c84ff4218ad"
   },
   "outputs": [
    {
     "data": {},
     "metadata": {},
     "output_type": "display_data"
    },
    {
     "data": {
      "application/vnd.holoviews_exec.v0+json": "",
      "text/html": [
       "<div id='1005'>\n",
       "  <div class=\"bk-root\" id=\"036cbd01-0b84-4683-9cd4-9e7be2ccb158\" data-root-id=\"1005\"></div>\n",
       "</div>\n",
       "<script type=\"application/javascript\">(function(root) {\n",
       "  function embed_document(root) {\n",
       "    var docs_json = {\"a92ebf3f-4e62-4622-8eb6-fe5f1b1cd47e\":{\"defs\":[{\"extends\":null,\"module\":null,\"name\":\"ReactiveHTML1\",\"overrides\":[],\"properties\":[]},{\"extends\":null,\"module\":null,\"name\":\"FlexBox1\",\"overrides\":[],\"properties\":[{\"default\":\"flex-start\",\"kind\":null,\"name\":\"align_content\"},{\"default\":\"flex-start\",\"kind\":null,\"name\":\"align_items\"},{\"default\":\"row\",\"kind\":null,\"name\":\"flex_direction\"},{\"default\":\"wrap\",\"kind\":null,\"name\":\"flex_wrap\"},{\"default\":\"flex-start\",\"kind\":null,\"name\":\"justify_content\"}]},{\"extends\":null,\"module\":null,\"name\":\"GridStack1\",\"overrides\":[],\"properties\":[{\"default\":\"warn\",\"kind\":null,\"name\":\"mode\"},{\"default\":null,\"kind\":null,\"name\":\"ncols\"},{\"default\":null,\"kind\":null,\"name\":\"nrows\"},{\"default\":true,\"kind\":null,\"name\":\"allow_resize\"},{\"default\":true,\"kind\":null,\"name\":\"allow_drag\"},{\"default\":[],\"kind\":null,\"name\":\"state\"}]},{\"extends\":null,\"module\":null,\"name\":\"click1\",\"overrides\":[],\"properties\":[{\"default\":\"\",\"kind\":null,\"name\":\"terminal_output\"},{\"default\":\"\",\"kind\":null,\"name\":\"debug_name\"},{\"default\":0,\"kind\":null,\"name\":\"clears\"}]},{\"extends\":null,\"module\":null,\"name\":\"NotificationAreaBase1\",\"overrides\":[],\"properties\":[{\"default\":\"bottom-right\",\"kind\":null,\"name\":\"position\"},{\"default\":0,\"kind\":null,\"name\":\"_clear\"}]},{\"extends\":null,\"module\":null,\"name\":\"NotificationArea1\",\"overrides\":[],\"properties\":[{\"default\":[],\"kind\":null,\"name\":\"notifications\"},{\"default\":\"bottom-right\",\"kind\":null,\"name\":\"position\"},{\"default\":0,\"kind\":null,\"name\":\"_clear\"},{\"default\":[{\"background\":\"#ffc107\",\"icon\":{\"className\":\"fas fa-exclamation-triangle\",\"color\":\"white\",\"tagName\":\"i\"},\"type\":\"warning\"},{\"background\":\"#007bff\",\"icon\":{\"className\":\"fas fa-info-circle\",\"color\":\"white\",\"tagName\":\"i\"},\"type\":\"info\"}],\"kind\":null,\"name\":\"types\"}]},{\"extends\":null,\"module\":null,\"name\":\"Notification\",\"overrides\":[],\"properties\":[{\"default\":null,\"kind\":null,\"name\":\"background\"},{\"default\":3000,\"kind\":null,\"name\":\"duration\"},{\"default\":null,\"kind\":null,\"name\":\"icon\"},{\"default\":\"\",\"kind\":null,\"name\":\"message\"},{\"default\":null,\"kind\":null,\"name\":\"notification_type\"},{\"default\":false,\"kind\":null,\"name\":\"_destroyed\"}]},{\"extends\":null,\"module\":null,\"name\":\"TemplateActions1\",\"overrides\":[],\"properties\":[{\"default\":0,\"kind\":null,\"name\":\"open_modal\"},{\"default\":0,\"kind\":null,\"name\":\"close_modal\"}]},{\"extends\":null,\"module\":null,\"name\":\"MaterialTemplateActions1\",\"overrides\":[],\"properties\":[{\"default\":0,\"kind\":null,\"name\":\"open_modal\"},{\"default\":0,\"kind\":null,\"name\":\"close_modal\"}]}],\"roots\":{\"references\":[{\"attributes\":{\"client_comm_id\":\"51fb5471110740cfa444f20c899c422d\",\"comm_id\":\"0f073888165a4f088322ef60740c2526\",\"plot_id\":\"1005\"},\"id\":\"1006\",\"type\":\"panel.models.comm_manager.CommManager\"},{\"attributes\":{\"active\":[0],\"button_type\":\"success\",\"labels\":[\"R\",\"PG\",\"G\",\"Approved\",\"PG-13\",\"Passed\"],\"margin\":[5,10,5,10]},\"id\":\"1005\",\"type\":\"CheckboxButtonGroup\"}],\"root_ids\":[\"1005\",\"1006\"]},\"title\":\"Bokeh Application\",\"version\":\"2.4.3\"}};\n",
       "    var render_items = [{\"docid\":\"a92ebf3f-4e62-4622-8eb6-fe5f1b1cd47e\",\"root_ids\":[\"1005\"],\"roots\":{\"1005\":\"036cbd01-0b84-4683-9cd4-9e7be2ccb158\"}}];\n",
       "    root.Bokeh.embed.embed_items_notebook(docs_json, render_items);\n",
       "    for (const render_item of render_items) {\n",
       "      for (const root_id of render_item.root_ids) {\n",
       "\tconst id_el = document.getElementById(root_id)\n",
       "\tif (id_el.children.length && (id_el.children[0].className === 'bk-root')) {\n",
       "\t  const root_el = id_el.children[0]\n",
       "\t  root_el.id = root_el.id + '-rendered'\n",
       "\t}\n",
       "      }\n",
       "    }\n",
       "  }\n",
       "  if (root.Bokeh !== undefined && root.Bokeh.Panel !== undefined && ( root['Tabulator'] !== undefined)) {\n",
       "    embed_document(root);\n",
       "  } else {\n",
       "    var attempts = 0;\n",
       "    var timer = setInterval(function(root) {\n",
       "      if (root.Bokeh !== undefined && root.Bokeh.Panel !== undefined && (root['Tabulator'] !== undefined)) {\n",
       "        clearInterval(timer);\n",
       "        embed_document(root);\n",
       "      } else if (document.readyState == \"complete\") {\n",
       "        attempts++;\n",
       "        if (attempts > 200) {\n",
       "          clearInterval(timer);\n",
       "          console.log(\"Bokeh: ERROR: Unable to run BokehJS code because BokehJS library is missing\");\n",
       "        }\n",
       "      }\n",
       "    }, 25, root)\n",
       "  }\n",
       "})(window);</script>"
      ],
      "text/plain": [
       "CheckButtonGroup(button_type='success', name='category of film', options=['R', 'PG', 'G', ...], value=['R'])"
      ]
     },
     "execution_count": 21,
     "metadata": {
      "application/vnd.holoviews_exec.v0+json": {
       "id": "1005"
      }
     },
     "output_type": "execute_result"
    }
   ],
   "source": [
    "# Radio buttons for CO2 measures\n",
    "category_of_film = pn.widgets.CheckButtonGroup(\n",
    "    name='category of film', \n",
    "    value= [\"R\"],\n",
    "    options=[\"R\",\"PG\",\"G\" ,\"Approved\" ,\"PG-13\",\"Passed\",],\n",
    "       button_type='success'\n",
    "\n",
    ")\n",
    "category_of_film"
   ]
  },
  {
   "cell_type": "code",
   "execution_count": 22,
   "metadata": {
    "colab": {
     "base_uri": "https://localhost:8080/",
     "height": 77
    },
    "id": "6CCeGWZNmniu",
    "outputId": "2b32be64-3642-40f2-83bd-77416a37826d"
   },
   "outputs": [
    {
     "data": {},
     "metadata": {},
     "output_type": "display_data"
    },
    {
     "data": {
      "application/vnd.holoviews_exec.v0+json": "",
      "text/html": [
       "<div id='1007'>\n",
       "  <div class=\"bk-root\" id=\"946abd53-3b96-40e1-9ede-c73ef37b575e\" data-root-id=\"1007\"></div>\n",
       "</div>\n",
       "<script type=\"application/javascript\">(function(root) {\n",
       "  function embed_document(root) {\n",
       "    var docs_json = {\"3447a5a5-2d3f-47ad-b970-c31471d12780\":{\"defs\":[{\"extends\":null,\"module\":null,\"name\":\"ReactiveHTML1\",\"overrides\":[],\"properties\":[]},{\"extends\":null,\"module\":null,\"name\":\"FlexBox1\",\"overrides\":[],\"properties\":[{\"default\":\"flex-start\",\"kind\":null,\"name\":\"align_content\"},{\"default\":\"flex-start\",\"kind\":null,\"name\":\"align_items\"},{\"default\":\"row\",\"kind\":null,\"name\":\"flex_direction\"},{\"default\":\"wrap\",\"kind\":null,\"name\":\"flex_wrap\"},{\"default\":\"flex-start\",\"kind\":null,\"name\":\"justify_content\"}]},{\"extends\":null,\"module\":null,\"name\":\"GridStack1\",\"overrides\":[],\"properties\":[{\"default\":\"warn\",\"kind\":null,\"name\":\"mode\"},{\"default\":null,\"kind\":null,\"name\":\"ncols\"},{\"default\":null,\"kind\":null,\"name\":\"nrows\"},{\"default\":true,\"kind\":null,\"name\":\"allow_resize\"},{\"default\":true,\"kind\":null,\"name\":\"allow_drag\"},{\"default\":[],\"kind\":null,\"name\":\"state\"}]},{\"extends\":null,\"module\":null,\"name\":\"click1\",\"overrides\":[],\"properties\":[{\"default\":\"\",\"kind\":null,\"name\":\"terminal_output\"},{\"default\":\"\",\"kind\":null,\"name\":\"debug_name\"},{\"default\":0,\"kind\":null,\"name\":\"clears\"}]},{\"extends\":null,\"module\":null,\"name\":\"NotificationAreaBase1\",\"overrides\":[],\"properties\":[{\"default\":\"bottom-right\",\"kind\":null,\"name\":\"position\"},{\"default\":0,\"kind\":null,\"name\":\"_clear\"}]},{\"extends\":null,\"module\":null,\"name\":\"NotificationArea1\",\"overrides\":[],\"properties\":[{\"default\":[],\"kind\":null,\"name\":\"notifications\"},{\"default\":\"bottom-right\",\"kind\":null,\"name\":\"position\"},{\"default\":0,\"kind\":null,\"name\":\"_clear\"},{\"default\":[{\"background\":\"#ffc107\",\"icon\":{\"className\":\"fas fa-exclamation-triangle\",\"color\":\"white\",\"tagName\":\"i\"},\"type\":\"warning\"},{\"background\":\"#007bff\",\"icon\":{\"className\":\"fas fa-info-circle\",\"color\":\"white\",\"tagName\":\"i\"},\"type\":\"info\"}],\"kind\":null,\"name\":\"types\"}]},{\"extends\":null,\"module\":null,\"name\":\"Notification\",\"overrides\":[],\"properties\":[{\"default\":null,\"kind\":null,\"name\":\"background\"},{\"default\":3000,\"kind\":null,\"name\":\"duration\"},{\"default\":null,\"kind\":null,\"name\":\"icon\"},{\"default\":\"\",\"kind\":null,\"name\":\"message\"},{\"default\":null,\"kind\":null,\"name\":\"notification_type\"},{\"default\":false,\"kind\":null,\"name\":\"_destroyed\"}]},{\"extends\":null,\"module\":null,\"name\":\"TemplateActions1\",\"overrides\":[],\"properties\":[{\"default\":0,\"kind\":null,\"name\":\"open_modal\"},{\"default\":0,\"kind\":null,\"name\":\"close_modal\"}]},{\"extends\":null,\"module\":null,\"name\":\"MaterialTemplateActions1\",\"overrides\":[],\"properties\":[{\"default\":0,\"kind\":null,\"name\":\"open_modal\"},{\"default\":0,\"kind\":null,\"name\":\"close_modal\"}]}],\"roots\":{\"references\":[{\"attributes\":{\"margin\":[5,10,5,10],\"options\":[\"Action\",\"Adventure\",\"Animation\",\"Biography\",\"Comedy\",\"Crime\",\"Drama\",\"Fantasy\",\"Film-Noir\",\"History\",\"Horror\",\"Music\",\"Mystery\",\"Romance\",\"Sci-Fi\",\"Thriller\",\"War\",\"Western\"],\"title\":\"Genre of film\",\"value\":\"Action\"},\"id\":\"1007\",\"type\":\"panel.models.widgets.CustomSelect\"},{\"attributes\":{\"client_comm_id\":\"babfe0dc2d184a918c038fb91c33d6b8\",\"comm_id\":\"e2271450858b44dd897a96af076bccae\",\"plot_id\":\"1007\"},\"id\":\"1008\",\"type\":\"panel.models.comm_manager.CommManager\"}],\"root_ids\":[\"1007\",\"1008\"]},\"title\":\"Bokeh Application\",\"version\":\"2.4.3\"}};\n",
       "    var render_items = [{\"docid\":\"3447a5a5-2d3f-47ad-b970-c31471d12780\",\"root_ids\":[\"1007\"],\"roots\":{\"1007\":\"946abd53-3b96-40e1-9ede-c73ef37b575e\"}}];\n",
       "    root.Bokeh.embed.embed_items_notebook(docs_json, render_items);\n",
       "    for (const render_item of render_items) {\n",
       "      for (const root_id of render_item.root_ids) {\n",
       "\tconst id_el = document.getElementById(root_id)\n",
       "\tif (id_el.children.length && (id_el.children[0].className === 'bk-root')) {\n",
       "\t  const root_el = id_el.children[0]\n",
       "\t  root_el.id = root_el.id + '-rendered'\n",
       "\t}\n",
       "      }\n",
       "    }\n",
       "  }\n",
       "  if (root.Bokeh !== undefined && root.Bokeh.Panel !== undefined && ( root['Tabulator'] !== undefined)) {\n",
       "    embed_document(root);\n",
       "  } else {\n",
       "    var attempts = 0;\n",
       "    var timer = setInterval(function(root) {\n",
       "      if (root.Bokeh !== undefined && root.Bokeh.Panel !== undefined && (root['Tabulator'] !== undefined)) {\n",
       "        clearInterval(timer);\n",
       "        embed_document(root);\n",
       "      } else if (document.readyState == \"complete\") {\n",
       "        attempts++;\n",
       "        if (attempts > 200) {\n",
       "          clearInterval(timer);\n",
       "          console.log(\"Bokeh: ERROR: Unable to run BokehJS code because BokehJS library is missing\");\n",
       "        }\n",
       "      }\n",
       "    }, 25, root)\n",
       "  }\n",
       "})(window);</script>"
      ],
      "text/plain": [
       "Select(name='Genre of film', options=['Action', 'Adventure', ...], value='Action')"
      ]
     },
     "execution_count": 22,
     "metadata": {
      "application/vnd.holoviews_exec.v0+json": {
       "id": "1007"
      }
     },
     "output_type": "execute_result"
    }
   ],
   "source": [
    "\n",
    "gendre_film = pn.widgets.Select(\n",
    "    name='Genre of film', \n",
    "    value= \"Action\",\n",
    "    options=['Action', 'Adventure', 'Animation', 'Biography', 'Comedy', 'Crime',\n",
    "       'Drama', 'Fantasy', 'Film-Noir', 'History', 'Horror', 'Music',\n",
    "        'Mystery', 'Romance', 'Sci-Fi', 'Thriller', 'War',\n",
    "       'Western',]\n",
    ")\n",
    "gendre_film "
   ]
  },
  {
   "cell_type": "code",
   "execution_count": 23,
   "metadata": {
    "colab": {
     "base_uri": "https://localhost:8080/",
     "height": 66
    },
    "id": "hqmV5JhX7wZY",
    "outputId": "7b01fa7d-66cd-4efb-d29a-54557fae389e"
   },
   "outputs": [
    {
     "data": {},
     "metadata": {},
     "output_type": "display_data"
    },
    {
     "data": {
      "application/vnd.holoviews_exec.v0+json": "",
      "text/html": [
       "<div id='1009'>\n",
       "  <div class=\"bk-root\" id=\"cb09a9df-ba45-427d-a3af-6f64fd209fcf\" data-root-id=\"1009\"></div>\n",
       "</div>\n",
       "<script type=\"application/javascript\">(function(root) {\n",
       "  function embed_document(root) {\n",
       "    var docs_json = {\"d5dca124-0f29-4838-8283-79cc85f46850\":{\"defs\":[{\"extends\":null,\"module\":null,\"name\":\"ReactiveHTML1\",\"overrides\":[],\"properties\":[]},{\"extends\":null,\"module\":null,\"name\":\"FlexBox1\",\"overrides\":[],\"properties\":[{\"default\":\"flex-start\",\"kind\":null,\"name\":\"align_content\"},{\"default\":\"flex-start\",\"kind\":null,\"name\":\"align_items\"},{\"default\":\"row\",\"kind\":null,\"name\":\"flex_direction\"},{\"default\":\"wrap\",\"kind\":null,\"name\":\"flex_wrap\"},{\"default\":\"flex-start\",\"kind\":null,\"name\":\"justify_content\"}]},{\"extends\":null,\"module\":null,\"name\":\"GridStack1\",\"overrides\":[],\"properties\":[{\"default\":\"warn\",\"kind\":null,\"name\":\"mode\"},{\"default\":null,\"kind\":null,\"name\":\"ncols\"},{\"default\":null,\"kind\":null,\"name\":\"nrows\"},{\"default\":true,\"kind\":null,\"name\":\"allow_resize\"},{\"default\":true,\"kind\":null,\"name\":\"allow_drag\"},{\"default\":[],\"kind\":null,\"name\":\"state\"}]},{\"extends\":null,\"module\":null,\"name\":\"click1\",\"overrides\":[],\"properties\":[{\"default\":\"\",\"kind\":null,\"name\":\"terminal_output\"},{\"default\":\"\",\"kind\":null,\"name\":\"debug_name\"},{\"default\":0,\"kind\":null,\"name\":\"clears\"}]},{\"extends\":null,\"module\":null,\"name\":\"NotificationAreaBase1\",\"overrides\":[],\"properties\":[{\"default\":\"bottom-right\",\"kind\":null,\"name\":\"position\"},{\"default\":0,\"kind\":null,\"name\":\"_clear\"}]},{\"extends\":null,\"module\":null,\"name\":\"NotificationArea1\",\"overrides\":[],\"properties\":[{\"default\":[],\"kind\":null,\"name\":\"notifications\"},{\"default\":\"bottom-right\",\"kind\":null,\"name\":\"position\"},{\"default\":0,\"kind\":null,\"name\":\"_clear\"},{\"default\":[{\"background\":\"#ffc107\",\"icon\":{\"className\":\"fas fa-exclamation-triangle\",\"color\":\"white\",\"tagName\":\"i\"},\"type\":\"warning\"},{\"background\":\"#007bff\",\"icon\":{\"className\":\"fas fa-info-circle\",\"color\":\"white\",\"tagName\":\"i\"},\"type\":\"info\"}],\"kind\":null,\"name\":\"types\"}]},{\"extends\":null,\"module\":null,\"name\":\"Notification\",\"overrides\":[],\"properties\":[{\"default\":null,\"kind\":null,\"name\":\"background\"},{\"default\":3000,\"kind\":null,\"name\":\"duration\"},{\"default\":null,\"kind\":null,\"name\":\"icon\"},{\"default\":\"\",\"kind\":null,\"name\":\"message\"},{\"default\":null,\"kind\":null,\"name\":\"notification_type\"},{\"default\":false,\"kind\":null,\"name\":\"_destroyed\"}]},{\"extends\":null,\"module\":null,\"name\":\"TemplateActions1\",\"overrides\":[],\"properties\":[{\"default\":0,\"kind\":null,\"name\":\"open_modal\"},{\"default\":0,\"kind\":null,\"name\":\"close_modal\"}]},{\"extends\":null,\"module\":null,\"name\":\"MaterialTemplateActions1\",\"overrides\":[],\"properties\":[{\"default\":0,\"kind\":null,\"name\":\"open_modal\"},{\"default\":0,\"kind\":null,\"name\":\"close_modal\"}]}],\"roots\":{\"references\":[{\"attributes\":{\"end\":200,\"margin\":[5,10,5,10],\"start\":45,\"step\":5,\"title\":\"duration of film(min)\",\"value\":[50,120]},\"id\":\"1009\",\"type\":\"RangeSlider\"},{\"attributes\":{\"client_comm_id\":\"d7086fd2bde4468f89f652fe5200d461\",\"comm_id\":\"4bfafc288f9c4b229018df78cbc8aaa0\",\"plot_id\":\"1009\"},\"id\":\"1010\",\"type\":\"panel.models.comm_manager.CommManager\"}],\"root_ids\":[\"1009\",\"1010\"]},\"title\":\"Bokeh Application\",\"version\":\"2.4.3\"}};\n",
       "    var render_items = [{\"docid\":\"d5dca124-0f29-4838-8283-79cc85f46850\",\"root_ids\":[\"1009\"],\"roots\":{\"1009\":\"cb09a9df-ba45-427d-a3af-6f64fd209fcf\"}}];\n",
       "    root.Bokeh.embed.embed_items_notebook(docs_json, render_items);\n",
       "    for (const render_item of render_items) {\n",
       "      for (const root_id of render_item.root_ids) {\n",
       "\tconst id_el = document.getElementById(root_id)\n",
       "\tif (id_el.children.length && (id_el.children[0].className === 'bk-root')) {\n",
       "\t  const root_el = id_el.children[0]\n",
       "\t  root_el.id = root_el.id + '-rendered'\n",
       "\t}\n",
       "      }\n",
       "    }\n",
       "  }\n",
       "  if (root.Bokeh !== undefined && root.Bokeh.Panel !== undefined && ( root['Tabulator'] !== undefined)) {\n",
       "    embed_document(root);\n",
       "  } else {\n",
       "    var attempts = 0;\n",
       "    var timer = setInterval(function(root) {\n",
       "      if (root.Bokeh !== undefined && root.Bokeh.Panel !== undefined && (root['Tabulator'] !== undefined)) {\n",
       "        clearInterval(timer);\n",
       "        embed_document(root);\n",
       "      } else if (document.readyState == \"complete\") {\n",
       "        attempts++;\n",
       "        if (attempts > 200) {\n",
       "          clearInterval(timer);\n",
       "          console.log(\"Bokeh: ERROR: Unable to run BokehJS code because BokehJS library is missing\");\n",
       "        }\n",
       "      }\n",
       "    }, 25, root)\n",
       "  }\n",
       "})(window);</script>"
      ],
      "text/plain": [
       "IntRangeSlider(end=200, name='duration of film(min)', start=45, step=5, value=(50, 120), value_end=120, value_start=50)"
      ]
     },
     "execution_count": 23,
     "metadata": {
      "application/vnd.holoviews_exec.v0+json": {
       "id": "1009"
      }
     },
     "output_type": "execute_result"
    }
   ],
   "source": [
    "run_time_slider = pn.widgets.IntRangeSlider(\n",
    "    name='duration of film(min)', start=45, end=200, value=(50, 120),\n",
    "    step=5)\n",
    "\n",
    "run_time_slider"
   ]
  },
  {
   "cell_type": "code",
   "execution_count": 24,
   "metadata": {
    "colab": {
     "base_uri": "https://localhost:8080/",
     "height": 66
    },
    "id": "dcT6Bj8pUpxE",
    "outputId": "d7bd19bb-7cb8-40fc-90b2-3c731abf8c9b"
   },
   "outputs": [
    {
     "data": {},
     "metadata": {},
     "output_type": "display_data"
    },
    {
     "data": {
      "application/vnd.holoviews_exec.v0+json": "",
      "text/html": [
       "<div id='1011'>\n",
       "  <div class=\"bk-root\" id=\"17cb36d6-ffea-4205-8f21-d93aebe71ca0\" data-root-id=\"1011\"></div>\n",
       "</div>\n",
       "<script type=\"application/javascript\">(function(root) {\n",
       "  function embed_document(root) {\n",
       "    var docs_json = {\"aa0b4dea-0bc0-475f-8720-f06143295ada\":{\"defs\":[{\"extends\":null,\"module\":null,\"name\":\"ReactiveHTML1\",\"overrides\":[],\"properties\":[]},{\"extends\":null,\"module\":null,\"name\":\"FlexBox1\",\"overrides\":[],\"properties\":[{\"default\":\"flex-start\",\"kind\":null,\"name\":\"align_content\"},{\"default\":\"flex-start\",\"kind\":null,\"name\":\"align_items\"},{\"default\":\"row\",\"kind\":null,\"name\":\"flex_direction\"},{\"default\":\"wrap\",\"kind\":null,\"name\":\"flex_wrap\"},{\"default\":\"flex-start\",\"kind\":null,\"name\":\"justify_content\"}]},{\"extends\":null,\"module\":null,\"name\":\"GridStack1\",\"overrides\":[],\"properties\":[{\"default\":\"warn\",\"kind\":null,\"name\":\"mode\"},{\"default\":null,\"kind\":null,\"name\":\"ncols\"},{\"default\":null,\"kind\":null,\"name\":\"nrows\"},{\"default\":true,\"kind\":null,\"name\":\"allow_resize\"},{\"default\":true,\"kind\":null,\"name\":\"allow_drag\"},{\"default\":[],\"kind\":null,\"name\":\"state\"}]},{\"extends\":null,\"module\":null,\"name\":\"click1\",\"overrides\":[],\"properties\":[{\"default\":\"\",\"kind\":null,\"name\":\"terminal_output\"},{\"default\":\"\",\"kind\":null,\"name\":\"debug_name\"},{\"default\":0,\"kind\":null,\"name\":\"clears\"}]},{\"extends\":null,\"module\":null,\"name\":\"NotificationAreaBase1\",\"overrides\":[],\"properties\":[{\"default\":\"bottom-right\",\"kind\":null,\"name\":\"position\"},{\"default\":0,\"kind\":null,\"name\":\"_clear\"}]},{\"extends\":null,\"module\":null,\"name\":\"NotificationArea1\",\"overrides\":[],\"properties\":[{\"default\":[],\"kind\":null,\"name\":\"notifications\"},{\"default\":\"bottom-right\",\"kind\":null,\"name\":\"position\"},{\"default\":0,\"kind\":null,\"name\":\"_clear\"},{\"default\":[{\"background\":\"#ffc107\",\"icon\":{\"className\":\"fas fa-exclamation-triangle\",\"color\":\"white\",\"tagName\":\"i\"},\"type\":\"warning\"},{\"background\":\"#007bff\",\"icon\":{\"className\":\"fas fa-info-circle\",\"color\":\"white\",\"tagName\":\"i\"},\"type\":\"info\"}],\"kind\":null,\"name\":\"types\"}]},{\"extends\":null,\"module\":null,\"name\":\"Notification\",\"overrides\":[],\"properties\":[{\"default\":null,\"kind\":null,\"name\":\"background\"},{\"default\":3000,\"kind\":null,\"name\":\"duration\"},{\"default\":null,\"kind\":null,\"name\":\"icon\"},{\"default\":\"\",\"kind\":null,\"name\":\"message\"},{\"default\":null,\"kind\":null,\"name\":\"notification_type\"},{\"default\":false,\"kind\":null,\"name\":\"_destroyed\"}]},{\"extends\":null,\"module\":null,\"name\":\"TemplateActions1\",\"overrides\":[],\"properties\":[{\"default\":0,\"kind\":null,\"name\":\"open_modal\"},{\"default\":0,\"kind\":null,\"name\":\"close_modal\"}]},{\"extends\":null,\"module\":null,\"name\":\"MaterialTemplateActions1\",\"overrides\":[],\"properties\":[{\"default\":0,\"kind\":null,\"name\":\"open_modal\"},{\"default\":0,\"kind\":null,\"name\":\"close_modal\"}]}],\"roots\":{\"references\":[{\"attributes\":{\"client_comm_id\":\"ba4f8c4e4f5241c7824b968d5bc5acd1\",\"comm_id\":\"a5a63cc5bd104481b4cfa1d22468ab02\",\"plot_id\":\"1011\"},\"id\":\"1012\",\"type\":\"panel.models.comm_manager.CommManager\"},{\"attributes\":{\"end\":2683302,\"margin\":[5,10,5,10],\"start\":10748,\"step\":100,\"title\":\"votes for film\",\"value\":[10000,200000]},\"id\":\"1011\",\"type\":\"RangeSlider\"}],\"root_ids\":[\"1011\",\"1012\"]},\"title\":\"Bokeh Application\",\"version\":\"2.4.3\"}};\n",
       "    var render_items = [{\"docid\":\"aa0b4dea-0bc0-475f-8720-f06143295ada\",\"root_ids\":[\"1011\"],\"roots\":{\"1011\":\"17cb36d6-ffea-4205-8f21-d93aebe71ca0\"}}];\n",
       "    root.Bokeh.embed.embed_items_notebook(docs_json, render_items);\n",
       "    for (const render_item of render_items) {\n",
       "      for (const root_id of render_item.root_ids) {\n",
       "\tconst id_el = document.getElementById(root_id)\n",
       "\tif (id_el.children.length && (id_el.children[0].className === 'bk-root')) {\n",
       "\t  const root_el = id_el.children[0]\n",
       "\t  root_el.id = root_el.id + '-rendered'\n",
       "\t}\n",
       "      }\n",
       "    }\n",
       "  }\n",
       "  if (root.Bokeh !== undefined && root.Bokeh.Panel !== undefined && ( root['Tabulator'] !== undefined)) {\n",
       "    embed_document(root);\n",
       "  } else {\n",
       "    var attempts = 0;\n",
       "    var timer = setInterval(function(root) {\n",
       "      if (root.Bokeh !== undefined && root.Bokeh.Panel !== undefined && (root['Tabulator'] !== undefined)) {\n",
       "        clearInterval(timer);\n",
       "        embed_document(root);\n",
       "      } else if (document.readyState == \"complete\") {\n",
       "        attempts++;\n",
       "        if (attempts > 200) {\n",
       "          clearInterval(timer);\n",
       "          console.log(\"Bokeh: ERROR: Unable to run BokehJS code because BokehJS library is missing\");\n",
       "        }\n",
       "      }\n",
       "    }, 25, root)\n",
       "  }\n",
       "})(window);</script>"
      ],
      "text/plain": [
       "IntRangeSlider(end=2683302, name='votes for film', start=10748, step=100, value=(10000, 200000), value_end=200000, value_start=10000)"
      ]
     },
     "execution_count": 24,
     "metadata": {
      "application/vnd.holoviews_exec.v0+json": {
       "id": "1011"
      }
     },
     "output_type": "execute_result"
    }
   ],
   "source": [
    "vote_slider = pn.widgets.IntRangeSlider(\n",
    "    name='votes for film', start=10748, end=max(df.votes) ,value=(10000, 200000),\n",
    "    step=100)\n",
    "vote_slider"
   ]
  },
  {
   "cell_type": "code",
   "execution_count": 25,
   "metadata": {},
   "outputs": [
    {
     "data": {
      "text/plain": [
       "10748"
      ]
     },
     "execution_count": 25,
     "metadata": {},
     "output_type": "execute_result"
    }
   ],
   "source": [
    "min(df.votes)"
   ]
  },
  {
   "cell_type": "code",
   "execution_count": 26,
   "metadata": {
    "colab": {
     "base_uri": "https://localhost:8080/",
     "height": 71
    },
    "id": "l7s9G57oUypf",
    "outputId": "77ee4c05-4136-4016-e88e-6f80622a0333"
   },
   "outputs": [
    {
     "data": {},
     "metadata": {},
     "output_type": "display_data"
    },
    {
     "data": {
      "application/vnd.holoviews_exec.v0+json": "",
      "text/html": [
       "<div id='1013'>\n",
       "  <div class=\"bk-root\" id=\"10956ec0-572b-486d-a5e7-fb9dfbb9c64d\" data-root-id=\"1013\"></div>\n",
       "</div>\n",
       "<script type=\"application/javascript\">(function(root) {\n",
       "  function embed_document(root) {\n",
       "    var docs_json = {\"957142af-2afb-4101-bc8d-f5fa9c6d9ee1\":{\"defs\":[{\"extends\":null,\"module\":null,\"name\":\"ReactiveHTML1\",\"overrides\":[],\"properties\":[]},{\"extends\":null,\"module\":null,\"name\":\"FlexBox1\",\"overrides\":[],\"properties\":[{\"default\":\"flex-start\",\"kind\":null,\"name\":\"align_content\"},{\"default\":\"flex-start\",\"kind\":null,\"name\":\"align_items\"},{\"default\":\"row\",\"kind\":null,\"name\":\"flex_direction\"},{\"default\":\"wrap\",\"kind\":null,\"name\":\"flex_wrap\"},{\"default\":\"flex-start\",\"kind\":null,\"name\":\"justify_content\"}]},{\"extends\":null,\"module\":null,\"name\":\"GridStack1\",\"overrides\":[],\"properties\":[{\"default\":\"warn\",\"kind\":null,\"name\":\"mode\"},{\"default\":null,\"kind\":null,\"name\":\"ncols\"},{\"default\":null,\"kind\":null,\"name\":\"nrows\"},{\"default\":true,\"kind\":null,\"name\":\"allow_resize\"},{\"default\":true,\"kind\":null,\"name\":\"allow_drag\"},{\"default\":[],\"kind\":null,\"name\":\"state\"}]},{\"extends\":null,\"module\":null,\"name\":\"click1\",\"overrides\":[],\"properties\":[{\"default\":\"\",\"kind\":null,\"name\":\"terminal_output\"},{\"default\":\"\",\"kind\":null,\"name\":\"debug_name\"},{\"default\":0,\"kind\":null,\"name\":\"clears\"}]},{\"extends\":null,\"module\":null,\"name\":\"NotificationAreaBase1\",\"overrides\":[],\"properties\":[{\"default\":\"bottom-right\",\"kind\":null,\"name\":\"position\"},{\"default\":0,\"kind\":null,\"name\":\"_clear\"}]},{\"extends\":null,\"module\":null,\"name\":\"NotificationArea1\",\"overrides\":[],\"properties\":[{\"default\":[],\"kind\":null,\"name\":\"notifications\"},{\"default\":\"bottom-right\",\"kind\":null,\"name\":\"position\"},{\"default\":0,\"kind\":null,\"name\":\"_clear\"},{\"default\":[{\"background\":\"#ffc107\",\"icon\":{\"className\":\"fas fa-exclamation-triangle\",\"color\":\"white\",\"tagName\":\"i\"},\"type\":\"warning\"},{\"background\":\"#007bff\",\"icon\":{\"className\":\"fas fa-info-circle\",\"color\":\"white\",\"tagName\":\"i\"},\"type\":\"info\"}],\"kind\":null,\"name\":\"types\"}]},{\"extends\":null,\"module\":null,\"name\":\"Notification\",\"overrides\":[],\"properties\":[{\"default\":null,\"kind\":null,\"name\":\"background\"},{\"default\":3000,\"kind\":null,\"name\":\"duration\"},{\"default\":null,\"kind\":null,\"name\":\"icon\"},{\"default\":\"\",\"kind\":null,\"name\":\"message\"},{\"default\":null,\"kind\":null,\"name\":\"notification_type\"},{\"default\":false,\"kind\":null,\"name\":\"_destroyed\"}]},{\"extends\":null,\"module\":null,\"name\":\"TemplateActions1\",\"overrides\":[],\"properties\":[{\"default\":0,\"kind\":null,\"name\":\"open_modal\"},{\"default\":0,\"kind\":null,\"name\":\"close_modal\"}]},{\"extends\":null,\"module\":null,\"name\":\"MaterialTemplateActions1\",\"overrides\":[],\"properties\":[{\"default\":0,\"kind\":null,\"name\":\"open_modal\"},{\"default\":0,\"kind\":null,\"name\":\"close_modal\"}]}],\"roots\":{\"references\":[{\"attributes\":{\"children\":[{\"id\":\"1014\"},{\"id\":\"1019\"}],\"margin\":[5,10,5,10],\"min_width\":300,\"name\":\"Column00866\",\"width\":300},\"id\":\"1013\",\"type\":\"Column\"},{\"attributes\":{\"client_comm_id\":\"58b5e4a49d4d49ba8f456549719c6c05\",\"comm_id\":\"34eec80395c244f8a6f48aed85bc81f9\",\"plot_id\":\"1013\"},\"id\":\"1022\",\"type\":\"panel.models.comm_manager.CommManager\"},{\"attributes\":{\"css_classes\":[\"slider-edit\"],\"format\":\"0.0[0000]\",\"js_property_callbacks\":{\"change:value\":[{\"id\":\"1021\"}]},\"margin\":[0,0,0,10],\"min_width\":75,\"placeholder\":\"0\",\"step\":100,\"value\":500,\"value_throttled\":0,\"width\":75},\"id\":\"1018\",\"type\":\"Spinner\"},{\"attributes\":{\"align\":\"end\",\"margin\":[0,2,0,2],\"name\":\"\",\"text\":\"...\"},\"id\":\"1017\",\"type\":\"Div\"},{\"attributes\":{\"children\":[{\"id\":\"1015\"},{\"id\":\"1016\"},{\"id\":\"1017\"},{\"id\":\"1018\"}],\"margin\":[0,0,0,0],\"name\":\"Row00872\",\"sizing_mode\":\"stretch_width\"},\"id\":\"1014\",\"type\":\"Row\"},{\"attributes\":{\"args\":{\"end\":{\"id\":\"1018\"},\"slider\":{\"id\":\"1019\"},\"source\":{\"id\":\"1016\"}},\"code\":\"try { \\n        // start value always smaller than the end value\\n        if (cb_obj.value >= end.value) {\\n          cb_obj.value = end.value\\n          return\\n        }\\n        if (cb_obj.value < slider.start) {\\n          slider.start = cb_obj.value\\n        } else if (cb_obj.value > slider.end) {\\n          slider.end = cb_obj.value\\n        }\\n         } catch(err) { console.log(err) }\",\"tags\":[[2047225566376,[null,\"value\"],[null,null]]]},\"id\":\"1020\",\"type\":\"CustomJS\"},{\"attributes\":{\"args\":{\"slider\":{\"id\":\"1019\"},\"source\":{\"id\":\"1018\"},\"start\":{\"id\":\"1016\"}},\"code\":\"try { \\n        // end value always larger than the start value\\n        if (cb_obj.value <= start.value) {\\n          cb_obj.value = start.value\\n          return\\n        }\\n        if (cb_obj.value < slider.start) {\\n          slider.start = cb_obj.value\\n        } else if (cb_obj.value > slider.end) {\\n          slider.end = cb_obj.value\\n        }\\n         } catch(err) { console.log(err) }\",\"tags\":[[2047225787280,[null,\"value\"],[null,null]]]},\"id\":\"1021\",\"type\":\"CustomJS\"},{\"attributes\":{\"end\":936.66,\"format\":\"0.0[0000]\",\"margin\":[0,0,5,0],\"show_value\":false,\"start\":0.02,\"step\":100,\"value\":[5,500]},\"id\":\"1019\",\"type\":\"RangeSlider\"},{\"attributes\":{\"align\":\"end\",\"margin\":[0,10,0,0],\"name\":\"\",\"text\":\"total amount of film:\"},\"id\":\"1015\",\"type\":\"Div\"},{\"attributes\":{\"css_classes\":[\"slider-edit\"],\"format\":\"0.0[0000]\",\"js_property_callbacks\":{\"change:value\":[{\"id\":\"1020\"}]},\"margin\":[0,0,0,0],\"min_width\":75,\"placeholder\":\"0\",\"step\":100,\"value\":5,\"value_throttled\":0,\"width\":75},\"id\":\"1016\",\"type\":\"Spinner\"}],\"root_ids\":[\"1013\",\"1022\"]},\"title\":\"Bokeh Application\",\"version\":\"2.4.3\"}};\n",
       "    var render_items = [{\"docid\":\"957142af-2afb-4101-bc8d-f5fa9c6d9ee1\",\"root_ids\":[\"1013\"],\"roots\":{\"1013\":\"10956ec0-572b-486d-a5e7-fb9dfbb9c64d\"}}];\n",
       "    root.Bokeh.embed.embed_items_notebook(docs_json, render_items);\n",
       "    for (const render_item of render_items) {\n",
       "      for (const root_id of render_item.root_ids) {\n",
       "\tconst id_el = document.getElementById(root_id)\n",
       "\tif (id_el.children.length && (id_el.children[0].className === 'bk-root')) {\n",
       "\t  const root_el = id_el.children[0]\n",
       "\t  root_el.id = root_el.id + '-rendered'\n",
       "\t}\n",
       "      }\n",
       "    }\n",
       "  }\n",
       "  if (root.Bokeh !== undefined && root.Bokeh.Panel !== undefined && ( root['Tabulator'] !== undefined)) {\n",
       "    embed_document(root);\n",
       "  } else {\n",
       "    var attempts = 0;\n",
       "    var timer = setInterval(function(root) {\n",
       "      if (root.Bokeh !== undefined && root.Bokeh.Panel !== undefined && (root['Tabulator'] !== undefined)) {\n",
       "        clearInterval(timer);\n",
       "        embed_document(root);\n",
       "      } else if (document.readyState == \"complete\") {\n",
       "        attempts++;\n",
       "        if (attempts > 200) {\n",
       "          clearInterval(timer);\n",
       "          console.log(\"Bokeh: ERROR: Unable to run BokehJS code because BokehJS library is missing\");\n",
       "        }\n",
       "      }\n",
       "    }, 25, root)\n",
       "  }\n",
       "})(window);</script>"
      ],
      "text/plain": [
       "EditableRangeSlider(end=936.66, name='total amount of film', start=0.02, step=100, value=(5, 500), width=300)"
      ]
     },
     "execution_count": 26,
     "metadata": {
      "application/vnd.holoviews_exec.v0+json": {
       "id": "1013"
      }
     },
     "output_type": "execute_result"
    }
   ],
   "source": [
    "gros_total_slider = pn.widgets.EditableRangeSlider(\n",
    "    name='total amount of film', start=0.02, end=max(df.gross_total) ,value=(5, 500),\n",
    "    step=100)\n",
    "gros_total_slider"
   ]
  },
  {
   "cell_type": "code",
   "execution_count": 27,
   "metadata": {
    "colab": {
     "base_uri": "https://localhost:8080/",
     "height": 66
    },
    "id": "R1w0pbpAc_Sf",
    "outputId": "c2626331-3859-41d9-8f10-478db25464d6"
   },
   "outputs": [
    {
     "data": {},
     "metadata": {},
     "output_type": "display_data"
    },
    {
     "data": {
      "application/vnd.holoviews_exec.v0+json": "",
      "text/html": [
       "<div id='1023'>\n",
       "  <div class=\"bk-root\" id=\"764bb2ef-5051-454e-8593-22123ea0bae8\" data-root-id=\"1023\"></div>\n",
       "</div>\n",
       "<script type=\"application/javascript\">(function(root) {\n",
       "  function embed_document(root) {\n",
       "    var docs_json = {\"519dc751-5f1b-49e7-bc9f-410e85258716\":{\"defs\":[{\"extends\":null,\"module\":null,\"name\":\"ReactiveHTML1\",\"overrides\":[],\"properties\":[]},{\"extends\":null,\"module\":null,\"name\":\"FlexBox1\",\"overrides\":[],\"properties\":[{\"default\":\"flex-start\",\"kind\":null,\"name\":\"align_content\"},{\"default\":\"flex-start\",\"kind\":null,\"name\":\"align_items\"},{\"default\":\"row\",\"kind\":null,\"name\":\"flex_direction\"},{\"default\":\"wrap\",\"kind\":null,\"name\":\"flex_wrap\"},{\"default\":\"flex-start\",\"kind\":null,\"name\":\"justify_content\"}]},{\"extends\":null,\"module\":null,\"name\":\"GridStack1\",\"overrides\":[],\"properties\":[{\"default\":\"warn\",\"kind\":null,\"name\":\"mode\"},{\"default\":null,\"kind\":null,\"name\":\"ncols\"},{\"default\":null,\"kind\":null,\"name\":\"nrows\"},{\"default\":true,\"kind\":null,\"name\":\"allow_resize\"},{\"default\":true,\"kind\":null,\"name\":\"allow_drag\"},{\"default\":[],\"kind\":null,\"name\":\"state\"}]},{\"extends\":null,\"module\":null,\"name\":\"click1\",\"overrides\":[],\"properties\":[{\"default\":\"\",\"kind\":null,\"name\":\"terminal_output\"},{\"default\":\"\",\"kind\":null,\"name\":\"debug_name\"},{\"default\":0,\"kind\":null,\"name\":\"clears\"}]},{\"extends\":null,\"module\":null,\"name\":\"NotificationAreaBase1\",\"overrides\":[],\"properties\":[{\"default\":\"bottom-right\",\"kind\":null,\"name\":\"position\"},{\"default\":0,\"kind\":null,\"name\":\"_clear\"}]},{\"extends\":null,\"module\":null,\"name\":\"NotificationArea1\",\"overrides\":[],\"properties\":[{\"default\":[],\"kind\":null,\"name\":\"notifications\"},{\"default\":\"bottom-right\",\"kind\":null,\"name\":\"position\"},{\"default\":0,\"kind\":null,\"name\":\"_clear\"},{\"default\":[{\"background\":\"#ffc107\",\"icon\":{\"className\":\"fas fa-exclamation-triangle\",\"color\":\"white\",\"tagName\":\"i\"},\"type\":\"warning\"},{\"background\":\"#007bff\",\"icon\":{\"className\":\"fas fa-info-circle\",\"color\":\"white\",\"tagName\":\"i\"},\"type\":\"info\"}],\"kind\":null,\"name\":\"types\"}]},{\"extends\":null,\"module\":null,\"name\":\"Notification\",\"overrides\":[],\"properties\":[{\"default\":null,\"kind\":null,\"name\":\"background\"},{\"default\":3000,\"kind\":null,\"name\":\"duration\"},{\"default\":null,\"kind\":null,\"name\":\"icon\"},{\"default\":\"\",\"kind\":null,\"name\":\"message\"},{\"default\":null,\"kind\":null,\"name\":\"notification_type\"},{\"default\":false,\"kind\":null,\"name\":\"_destroyed\"}]},{\"extends\":null,\"module\":null,\"name\":\"TemplateActions1\",\"overrides\":[],\"properties\":[{\"default\":0,\"kind\":null,\"name\":\"open_modal\"},{\"default\":0,\"kind\":null,\"name\":\"close_modal\"}]},{\"extends\":null,\"module\":null,\"name\":\"MaterialTemplateActions1\",\"overrides\":[],\"properties\":[{\"default\":0,\"kind\":null,\"name\":\"open_modal\"},{\"default\":0,\"kind\":null,\"name\":\"close_modal\"}]}],\"roots\":{\"references\":[{\"attributes\":{\"client_comm_id\":\"ccc29710327a43aa9dd57346d0bb85f5\",\"comm_id\":\"e516f68d4fac47a6a101bcc88e303dd0\",\"plot_id\":\"1023\"},\"id\":\"1024\",\"type\":\"panel.models.comm_manager.CommManager\"},{\"attributes\":{\"end\":10,\"margin\":[5,10,5,10],\"start\":3,\"title\":\"rate of film\",\"value\":5},\"id\":\"1023\",\"type\":\"Slider\"}],\"root_ids\":[\"1023\",\"1024\"]},\"title\":\"Bokeh Application\",\"version\":\"2.4.3\"}};\n",
       "    var render_items = [{\"docid\":\"519dc751-5f1b-49e7-bc9f-410e85258716\",\"root_ids\":[\"1023\"],\"roots\":{\"1023\":\"764bb2ef-5051-454e-8593-22123ea0bae8\"}}];\n",
       "    root.Bokeh.embed.embed_items_notebook(docs_json, render_items);\n",
       "    for (const render_item of render_items) {\n",
       "      for (const root_id of render_item.root_ids) {\n",
       "\tconst id_el = document.getElementById(root_id)\n",
       "\tif (id_el.children.length && (id_el.children[0].className === 'bk-root')) {\n",
       "\t  const root_el = id_el.children[0]\n",
       "\t  root_el.id = root_el.id + '-rendered'\n",
       "\t}\n",
       "      }\n",
       "    }\n",
       "  }\n",
       "  if (root.Bokeh !== undefined && root.Bokeh.Panel !== undefined && ( root['Tabulator'] !== undefined)) {\n",
       "    embed_document(root);\n",
       "  } else {\n",
       "    var attempts = 0;\n",
       "    var timer = setInterval(function(root) {\n",
       "      if (root.Bokeh !== undefined && root.Bokeh.Panel !== undefined && (root['Tabulator'] !== undefined)) {\n",
       "        clearInterval(timer);\n",
       "        embed_document(root);\n",
       "      } else if (document.readyState == \"complete\") {\n",
       "        attempts++;\n",
       "        if (attempts > 200) {\n",
       "          clearInterval(timer);\n",
       "          console.log(\"Bokeh: ERROR: Unable to run BokehJS code because BokehJS library is missing\");\n",
       "        }\n",
       "      }\n",
       "    }, 25, root)\n",
       "  }\n",
       "})(window);</script>"
      ],
      "text/plain": [
       "IntSlider(end=10, name='rate of film', start=3, value=5)"
      ]
     },
     "execution_count": 27,
     "metadata": {
      "application/vnd.holoviews_exec.v0+json": {
       "id": "1023"
      }
     },
     "output_type": "execute_result"
    }
   ],
   "source": [
    "# Define Panel widgets\n",
    "rating_slider = pn.widgets.IntSlider(name='rate of film', start=3, end=10, step=1, value=5)\n",
    "rating_slider"
   ]
  },
  {
   "cell_type": "code",
   "execution_count": 121,
   "metadata": {
    "id": "64Cw6B3JnoX0"
   },
   "outputs": [],
   "source": [
    "# Bar chart\n",
    "@pn.depends(year_slider.param.value_throttled)\n",
    "def plot_bar(year):\n",
    "    years_df = df[(df.year_of_release > year[0]) & (df.year_of_release <= year[1])]\n",
    "    \n",
    "    bar_table= years_df[[\"gross_total\",\"year_of_release\",\"movie_name\"]]\n",
    "    return bar_table.sort_values(\"gross_total\").hvplot.barh(\"year_of_release\",\"gross_total\",title=\"Year of release VS Total amount \", color=\"#EE799F\" ,legend= \"bottom_right\", width=400 ,height=400)\n",
    "   \n"
   ]
  },
  {
   "cell_type": "code",
   "execution_count": 114,
   "metadata": {
    "id": "15HcKnR9gkaJ"
   },
   "outputs": [],
   "source": [
    " # Bar chart\n",
    "cate= [\"R\",\"PG\",\"G\" ,\"Approved\" ,\"PG-13\",\"Passed\",]\n",
    "@pn.depends(category_of_film.param.value)\n",
    "def plot_bar_1(cat):\n",
    "    \n",
    "    cat_df=df.loc[df['category'].isin(category_of_film.value)]\n",
    "    #print(category_of_film.value)\n",
    "    bar_table= cat_df[[\"category\",\"imdb_rating\",\"movie_name\",\"run_time\"]]\n",
    "    return bar_table.sort_values(\"imdb_rating\").hvplot(\"category\",\"imdb_rating\",by=\"run_time\", kind= \"scatter\" ,alpha=0.8,\n",
    "                                                               \n",
    "                                                                title= \"Category VS Rating By Duration\",\n",
    "                                                                hover_cols=[\"category\",\"imdb_rating\",\"movie_name\"],\n",
    "                                                                width=500 ,legend= \"top\", height=400 )\n",
    "   \n"
   ]
  },
  {
   "cell_type": "code",
   "execution_count": 30,
   "metadata": {
    "colab": {
     "base_uri": "https://localhost:8080/",
     "height": 436
    },
    "id": "WYw4R8ST9CvG",
    "outputId": "78fd78a8-47cf-4ce0-ef23-004d2fd2e941"
   },
   "outputs": [],
   "source": [
    "#hvexplorer = hvplot.explorer(df)\n",
    "#hvexplorer"
   ]
  },
  {
   "cell_type": "code",
   "execution_count": 123,
   "metadata": {
    "id": "W5FZnyI2xzg4"
   },
   "outputs": [],
   "source": [
    "# Bar chart\n",
    "\n",
    "@pn.depends(year_slider.param.value_throttled)\n",
    "def plot_bar_2(year):\n",
    "  \n",
    "    years_df = df[(df.year_of_release > year[0]) & (df.year_of_release <= year[1])]\n",
    "   \n",
    "    bar_table=  years_df[[\"year_of_release\",\"votes\",'imdb_rating',\"movie_name\"]]\n",
    "    return bar_table.sort_values(\"votes\").hvplot.table(columns=[\"year_of_release\",\"votes\",'imdb_rating',\"movie_name\"] ,\n",
    "                                                                hover_cols=[\"vote\",\"movie_name\"],title= \"Table of Year of  release ,name, vote and rate\",\n",
    "                                                                width=500 ,legend= \"bottom_right\", height=400)\n",
    "   \n"
   ]
  },
  {
   "cell_type": "code",
   "execution_count": 73,
   "metadata": {
    "id": "WNMXHJGmqPp0"
   },
   "outputs": [],
   "source": [
    "# Bar chart\n",
    "\n",
    "@pn.depends(category_of_film.param.value,gendre_film.param.value)\n",
    "def plot_bar_3(cat,gen):\n",
    "  \n",
    "    \n",
    "    catt=df.loc[df['category'].isin(category_of_film.value)]\n",
    "   # cat_df=df.loc[df[str(gendre_film.value)]]\n",
    "    bar_tab=  catt[['Action', 'Adventure', 'Animation', 'Biography', 'Comedy', 'Crime',\n",
    "       'Drama', 'Fantasy', 'Film-Noir', 'History', 'Horror', 'Music',\n",
    "       'Musical', 'Mystery', 'Romance', 'Sci-Fi', 'Thriller', 'War',\n",
    "       'Western']]\n",
    "    \n",
    "   \n",
    "    \n",
    "    a=str(gendre_film.value)\n",
    "    #print(catt[a])\n",
    "    return  catt.hvplot(a,\"imdb_rating\",by=\"category\",kind=\"bar\", hover_cols=[\"imdb_rating\",\"movie_name\"],title= \"gender VS category VS rating\",\n",
    "                                                                width=500 ,legend= \"bottom_right\", height=400)\n",
    "   \n"
   ]
  },
  {
   "cell_type": "code",
   "execution_count": 33,
   "metadata": {
    "id": "RbQ37ZiB5MnX"
   },
   "outputs": [],
   "source": [
    "# Bar chart\n",
    "\n",
    "@pn.depends(run_time_slider.param.value_throttled)\n",
    "def plot_bar_4(run):\n",
    "  \n",
    "\n",
    "    run_df = df[(df.run_time > run[0]) & (df.run_time <= run[1])]\n",
    "  \n",
    "   # cat_df=df.loc[df[str(gendre_film.value)]]\n",
    "    bar_table=  run_df[[\"movie_name\",\"imdb_rating\",\"run_time\"]].sort_values(\"imdb_rating\",ascending=False).head(10)\n",
    "   \n",
    "  \n",
    "   \n",
    "    return bar_table.hvplot(x=\"movie_name\" ,y=[\"run_time\",\"imdb_rating\"], size =5, \n",
    "                                                                hover_cols=[\"imdb_rating\"], subplots=True,rot=30,color=\t\"#009ACD\" ,\n",
    "                                                                width=300 ,legend= \"bottom_right\", height=400,shared_axes=False)"
   ]
  },
  {
   "cell_type": "code",
   "execution_count": 113,
   "metadata": {
    "id": "yUJ8tOgVRZmP"
   },
   "outputs": [],
   "source": [
    "# Bar chart\n",
    "\n",
    "@pn.depends(run_time_slider.param.value_throttled,gros_total_slider.param.value_throttled,vote_slider.param.value_throttled)\n",
    "def plot_bar_5(run,tot,vote):\n",
    "  \n",
    "\n",
    "    run_df = df[(df.run_time > run[0]) & (df.run_time <= run[1])]\n",
    "  \n",
    "   # cat_df=df.loc[df[str(gendre_film.value)]]\n",
    "    bar_table=  run_df[[\"movie_name\",\"imdb_rating\",\"run_time\"]].sort_values(\"imdb_rating\",ascending=False).head(10)\n",
    "   \n",
    "  \n",
    "   \n",
    "    return df.hvplot(y=[\"gross_total\",\"votes\",\"run_time\"], size =5, kind= \"density\" \n",
    "                                                              , subplots=True,rot=20,color =\"#E9967A\",\n",
    "                                                                width=200 ,legend= \"bottom_right\", height=400,shared_axes=False)"
   ]
  },
  {
   "cell_type": "code",
   "execution_count": 124,
   "metadata": {
    "colab": {
     "base_uri": "https://localhost:8080/",
     "height": 1000
    },
    "id": "83BoUwdEuYhn",
    "outputId": "130571a6-6683-4900-ff8e-c33fedc9d872"
   },
   "outputs": [
    {
     "data": {},
     "metadata": {},
     "output_type": "display_data"
    },
    {
     "data": {},
     "metadata": {},
     "output_type": "display_data"
    },
    {
     "data": {
      "application/vnd.holoviews_exec.v0+json": "",
      "text/html": [
       "<div id='86507'>\n",
       "  <div class=\"bk-root\" id=\"1e0ba851-b385-422c-8372-671482960703\" data-root-id=\"86507\"></div>\n",
       "</div>\n",
       "<script type=\"application/javascript\">(function(root) {\n",
       "  function embed_document(root) {\n",
       "    var docs_json = {\"807e18fe-ed79-4101-90c4-8bc7c2f3db6e\":{\"defs\":[{\"extends\":null,\"module\":null,\"name\":\"ReactiveHTML1\",\"overrides\":[],\"properties\":[]},{\"extends\":null,\"module\":null,\"name\":\"FlexBox1\",\"overrides\":[],\"properties\":[{\"default\":\"flex-start\",\"kind\":null,\"name\":\"align_content\"},{\"default\":\"flex-start\",\"kind\":null,\"name\":\"align_items\"},{\"default\":\"row\",\"kind\":null,\"name\":\"flex_direction\"},{\"default\":\"wrap\",\"kind\":null,\"name\":\"flex_wrap\"},{\"default\":\"flex-start\",\"kind\":null,\"name\":\"justify_content\"}]},{\"extends\":null,\"module\":null,\"name\":\"GridStack1\",\"overrides\":[],\"properties\":[{\"default\":\"warn\",\"kind\":null,\"name\":\"mode\"},{\"default\":null,\"kind\":null,\"name\":\"ncols\"},{\"default\":null,\"kind\":null,\"name\":\"nrows\"},{\"default\":true,\"kind\":null,\"name\":\"allow_resize\"},{\"default\":true,\"kind\":null,\"name\":\"allow_drag\"},{\"default\":[],\"kind\":null,\"name\":\"state\"}]},{\"extends\":null,\"module\":null,\"name\":\"click1\",\"overrides\":[],\"properties\":[{\"default\":\"\",\"kind\":null,\"name\":\"terminal_output\"},{\"default\":\"\",\"kind\":null,\"name\":\"debug_name\"},{\"default\":0,\"kind\":null,\"name\":\"clears\"}]},{\"extends\":null,\"module\":null,\"name\":\"NotificationAreaBase1\",\"overrides\":[],\"properties\":[{\"default\":\"bottom-right\",\"kind\":null,\"name\":\"position\"},{\"default\":0,\"kind\":null,\"name\":\"_clear\"}]},{\"extends\":null,\"module\":null,\"name\":\"NotificationArea1\",\"overrides\":[],\"properties\":[{\"default\":[],\"kind\":null,\"name\":\"notifications\"},{\"default\":\"bottom-right\",\"kind\":null,\"name\":\"position\"},{\"default\":0,\"kind\":null,\"name\":\"_clear\"},{\"default\":[{\"background\":\"#ffc107\",\"icon\":{\"className\":\"fas fa-exclamation-triangle\",\"color\":\"white\",\"tagName\":\"i\"},\"type\":\"warning\"},{\"background\":\"#007bff\",\"icon\":{\"className\":\"fas fa-info-circle\",\"color\":\"white\",\"tagName\":\"i\"},\"type\":\"info\"}],\"kind\":null,\"name\":\"types\"}]},{\"extends\":null,\"module\":null,\"name\":\"Notification\",\"overrides\":[],\"properties\":[{\"default\":null,\"kind\":null,\"name\":\"background\"},{\"default\":3000,\"kind\":null,\"name\":\"duration\"},{\"default\":null,\"kind\":null,\"name\":\"icon\"},{\"default\":\"\",\"kind\":null,\"name\":\"message\"},{\"default\":null,\"kind\":null,\"name\":\"notification_type\"},{\"default\":false,\"kind\":null,\"name\":\"_destroyed\"}]},{\"extends\":null,\"module\":null,\"name\":\"TemplateActions1\",\"overrides\":[],\"properties\":[{\"default\":0,\"kind\":null,\"name\":\"open_modal\"},{\"default\":0,\"kind\":null,\"name\":\"close_modal\"}]},{\"extends\":null,\"module\":null,\"name\":\"MaterialTemplateActions1\",\"overrides\":[],\"properties\":[{\"default\":0,\"kind\":null,\"name\":\"open_modal\"},{\"default\":0,\"kind\":null,\"name\":\"close_modal\"}]}],\"roots\":{\"references\":[{\"attributes\":{\"fill_alpha\":{\"value\":0.2},\"fill_color\":{\"value\":\"#8c564b\"},\"hatch_alpha\":{\"value\":0.2},\"hatch_color\":{\"value\":\"#8c564b\"},\"line_alpha\":{\"value\":0.2},\"line_color\":{\"value\":\"#8c564b\"},\"size\":{\"value\":5.477225575051661},\"x\":{\"field\":\"category\"},\"y\":{\"field\":\"imdb_rating\"}},\"id\":\"86981\",\"type\":\"Scatter\"},{\"attributes\":{\"data\":{\"Drama\":[\"1\",\"1\",\"1\",\"1\",\"1\",\"1\",\"0\",\"1\",\"0\",\"1\",\"1\",\"1\",\"0\",\"0\",\"1\",\"1\",\"1\",\"1\",\"0\",\"1\",\"1\",\"1\",\"1\",\"1\",\"1\",\"0\",\"0\",\"1\",\"1\",\"1\",\"1\",\"1\",\"1\",\"1\",\"1\",\"1\",\"1\",\"1\",\"0\",\"1\",\"1\",\"0\",\"0\",\"1\",\"1\",\"0\",\"1\",\"1\",\"1\",\"0\",\"1\",\"1\",\"1\",\"1\",\"1\",\"1\",\"1\",\"0\",\"0\",\"1\",\"0\",\"0\",\"0\",\"1\",\"0\",\"0\",\"1\",\"1\",\"0\",\"1\",\"0\",\"0\",\"0\"],\"category\":[\"R\",\"R\",\"R\",\"R\",\"R\",\"R\",\"R\",\"R\",\"R\",\"R\",\"R\",\"R\",\"R\",\"R\",\"R\",\"R\",\"R\",\"R\",\"R\",\"R\",\"R\",\"R\",\"R\",\"R\",\"R\",\"R\",\"R\",\"R\",\"R\",\"R\",\"R\",\"R\",\"R\",\"R\",\"R\",\"R\",\"R\",\"R\",\"R\",\"R\",\"R\",\"R\",\"R\",\"R\",\"R\",\"R\",\"R\",\"R\",\"R\",\"R\",\"R\",\"R\",\"R\",\"R\",\"R\",\"R\",\"R\",\"R\",\"PG\",\"PG\",\"PG\",\"PG\",\"PG\",\"PG\",\"PG\",\"PG\",\"PG\",\"PG\",\"PG\",\"Approved\",\"Approved\",\"Approved\",\"Approved\"],\"imdb_rating\":{\"__ndarray__\":\"ZmZmZmZmIkAzMzMzMzMhQJqZmZmZmSJAzczMzMzMIEBmZmZmZmYhQAAAAAAAACJAzczMzMzMIEAAAAAAAAAiQAAAAAAAACFAMzMzMzMzIEAzMzMzMzMhQAAAAAAAACFAMzMzMzMzIUBmZmZmZmYgQGZmZmZmZiBAzczMzMzMIUAAAAAAAAAhQGZmZmZmZiFAzczMzMzMIEDNzMzMzMwgQM3MzMzMzCBAMzMzMzMzIUAAAAAAAAAgQAAAAAAAACBAZmZmZmZmIEDNzMzMzMwcQJqZmZmZmSBAzczMzMzMHkCamZmZmZkgQJqZmZmZmSBAmpmZmZmZIUBmZmZmZmYgQM3MzMzMzCBAmpmZmZmZH0DNzMzMzMwgQGZmZmZmZiBAZmZmZmZmIEAzMzMzMzMhQDMzMzMzMyBAAAAAAAAAIEAzMzMzMzMgQGZmZmZmZiBAAAAAAAAAIEAAAAAAAAAhQAAAAAAAACBAMzMzMzMzIEAzMzMzMzMgQJqZmZmZmSBAAAAAAAAAIUCamZmZmZkfQAAAAAAAAB5AmpmZmZmZH0AzMzMzMzMfQGZmZmZmZiBAmpmZmZmZIEAAAAAAAAAhQJqZmZmZmSBAZmZmZmZmIUBmZmZmZmYhQAAAAAAAACFAzczMzMzMIEAzMzMzMzMhQJqZmZmZmSBAZmZmZmZmIEAAAAAAAAAhQAAAAAAAACFAmpmZmZmZIECamZmZmZkfQJqZmZmZmSBAAAAAAAAAIkCamZmZmZkgQJqZmZmZmSFAMzMzMzMzIEA=\",\"dtype\":\"float64\",\"order\":\"little\",\"shape\":[73]},\"movie_name\":[\"The Godfather\",\"The Silence of the Lambs\",\"The Shawshank Redemption\",\"The Shining\",\"One Flew Over the Cuckoo's Nest\",\"The Godfather: Part II\",\"Aliens\",\"Schindler's List\",\"Alien\",\"Blade Runner\",\"Se7en\",\"Apocalypse Now\",\"Terminator 2: Judgment Day\",\"Die Hard\",\"Taxi Driver\",\"Pulp Fiction\",\"L\\u00e9on: The Professional\",\"Goodfellas\",\"Memento\",\"American Beauty\",\"Braveheart\",\"Saving Private Ryan\",\"Rain Man\",\"The King's Speech\",\"Kill Bill: Vol. 1\",\"Avanti!\",\"Am\\u00e9lie\",\"Lost in Translation\",\"Full Metal Jacket\",\"Requiem for a Dream\",\"Fight Club\",\"No Country for Old Men\",\"Django Unchained\",\"Children of Men\",\"The Lives of Others\",\"V for Vendetta\",\"Chinatown\",\"City of God\",\"Fargo\",\"Slumdog Millionaire\",\"Trainspotting\",\"The Thing\",\"12 Monkeys\",\"The Pianist\",\"Magnolia\",\"Mad Max: Fury Road\",\"12 Years a Slave\",\"Inglourious Basterds\",\"The Departed\",\"District 9\",\"The Piano\",\"Mystic River\",\"The Insider\",\"L.A. Confidential\",\"Heat\",\"The Usual Suspects\",\"Eternal Sunshine of the Spotless Mind\",\"The Matrix\",\"Star Wars: Episode V - The Empire Strikes Back\",\"Casablanca\",\"Indiana Jones and the Raiders of the Lost Ark\",\"Star Wars: Episode IV - A New Hope\",\"Star Wars: Episode VI - Return of the Jedi\",\"The Bridge on the River Kwai\",\"Rear Window\",\"Back to the Future\",\"Citizen Kane\",\"Life of Pi\",\"Vertigo\",\"12 Angry Men\",\"North by Northwest\",\"The Good, the Bad and the Ugly\",\"The Third Man\"],\"xoffsets\":[[\"1\",\"R\"],[\"1\",\"R\"],[\"1\",\"R\"],[\"1\",\"R\"],[\"1\",\"R\"],[\"1\",\"R\"],[\"0\",\"R\"],[\"1\",\"R\"],[\"0\",\"R\"],[\"1\",\"R\"],[\"1\",\"R\"],[\"1\",\"R\"],[\"0\",\"R\"],[\"0\",\"R\"],[\"1\",\"R\"],[\"1\",\"R\"],[\"1\",\"R\"],[\"1\",\"R\"],[\"0\",\"R\"],[\"1\",\"R\"],[\"1\",\"R\"],[\"1\",\"R\"],[\"1\",\"R\"],[\"1\",\"R\"],[\"1\",\"R\"],[\"0\",\"R\"],[\"0\",\"R\"],[\"1\",\"R\"],[\"1\",\"R\"],[\"1\",\"R\"],[\"1\",\"R\"],[\"1\",\"R\"],[\"1\",\"R\"],[\"1\",\"R\"],[\"1\",\"R\"],[\"1\",\"R\"],[\"1\",\"R\"],[\"1\",\"R\"],[\"0\",\"R\"],[\"1\",\"R\"],[\"1\",\"R\"],[\"0\",\"R\"],[\"0\",\"R\"],[\"1\",\"R\"],[\"1\",\"R\"],[\"0\",\"R\"],[\"1\",\"R\"],[\"1\",\"R\"],[\"1\",\"R\"],[\"0\",\"R\"],[\"1\",\"R\"],[\"1\",\"R\"],[\"1\",\"R\"],[\"1\",\"R\"],[\"1\",\"R\"],[\"1\",\"R\"],[\"1\",\"R\"],[\"0\",\"R\"],[\"0\",\"PG\"],[\"1\",\"PG\"],[\"0\",\"PG\"],[\"0\",\"PG\"],[\"0\",\"PG\"],[\"1\",\"PG\"],[\"0\",\"PG\"],[\"0\",\"PG\"],[\"1\",\"PG\"],[\"1\",\"PG\"],[\"0\",\"PG\"],[\"1\",\"Approved\"],[\"0\",\"Approved\"],[\"0\",\"Approved\"],[\"0\",\"Approved\"]]},\"selected\":{\"id\":\"90712\"},\"selection_policy\":{\"id\":\"90737\"}},\"id\":\"90711\",\"type\":\"ColumnDataSource\"},{\"attributes\":{},\"id\":\"87521\",\"type\":\"UnionRenderers\"},{\"attributes\":{\"callback\":null,\"renderers\":[{\"id\":\"86571\"}],\"tags\":[\"hv_created\"],\"tooltips\":[[\"year_of_release\",\"@{year_of_release}\"],[\"gross_total\",\"@{gross_total}\"]]},\"id\":\"86535\",\"type\":\"HoverTool\"},{\"attributes\":{},\"id\":\"90697\",\"type\":\"SaveTool\"},{\"attributes\":{\"coordinates\":null,\"group\":null,\"text\":\"Variable: run_time\",\"text_color\":\"black\",\"text_font_size\":\"12pt\"},\"id\":\"90798\",\"type\":\"Title\"},{\"attributes\":{\"coordinates\":null,\"data_source\":{\"id\":\"86976\"},\"glyph\":{\"id\":\"86979\"},\"group\":null,\"hover_glyph\":null,\"muted_glyph\":{\"id\":\"86981\"},\"nonselection_glyph\":{\"id\":\"86980\"},\"selection_glyph\":{\"id\":\"87015\"},\"view\":{\"id\":\"86983\"}},\"id\":\"86982\",\"type\":\"GlyphRenderer\"},{\"attributes\":{\"fill_alpha\":{\"value\":0.8},\"fill_color\":{\"value\":\"#30a2da\"},\"hatch_alpha\":{\"value\":0.1},\"hatch_color\":{\"value\":\"#30a2da\"},\"line_alpha\":{\"value\":0.8},\"line_color\":{\"value\":\"#30a2da\"},\"size\":{\"value\":5.477225575051661},\"x\":{\"field\":\"category\"},\"y\":{\"field\":\"imdb_rating\"}},\"id\":\"89906\",\"type\":\"Scatter\"},{\"attributes\":{\"label\":{\"value\":\"124\"},\"renderers\":[{\"id\":\"87472\"}]},\"id\":\"87524\",\"type\":\"LegendItem\"},{\"attributes\":{\"angle\":{\"value\":0.0},\"fill_alpha\":{\"value\":0.8},\"fill_color\":{\"value\":\"#fc4f30\"},\"hatch_alpha\":{\"value\":0.8},\"hatch_color\":{\"value\":\"#fc4f30\"},\"hatch_scale\":{\"value\":12.0},\"hatch_weight\":{\"value\":1.0},\"line_alpha\":{\"value\":0.8},\"line_cap\":{\"value\":\"butt\"},\"line_color\":{\"value\":\"#fc4f30\"},\"line_dash\":{\"value\":[]},\"line_dash_offset\":{\"value\":0},\"line_join\":{\"value\":\"bevel\"},\"line_width\":{\"value\":1},\"marker\":{\"value\":\"circle\"},\"size\":{\"value\":5.477225575051661},\"x\":{\"field\":\"category\"},\"y\":{\"field\":\"imdb_rating\"}},\"id\":\"87147\",\"type\":\"Scatter\"},{\"attributes\":{},\"id\":\"90698\",\"type\":\"PanTool\"},{\"attributes\":{},\"id\":\"90804\",\"type\":\"LinearScale\"},{\"attributes\":{\"source\":{\"id\":\"86976\"}},\"id\":\"86983\",\"type\":\"CDSView\"},{\"attributes\":{\"angle\":{\"value\":0.0},\"fill_alpha\":{\"value\":0.8},\"fill_color\":{\"value\":\"#bcbd22\"},\"hatch_alpha\":{\"value\":0.8},\"hatch_color\":{\"value\":\"#bcbd22\"},\"hatch_scale\":{\"value\":12.0},\"hatch_weight\":{\"value\":1.0},\"line_alpha\":{\"value\":0.8},\"line_cap\":{\"value\":\"butt\"},\"line_color\":{\"value\":\"#bcbd22\"},\"line_dash\":{\"value\":[]},\"line_dash_offset\":{\"value\":0},\"line_join\":{\"value\":\"bevel\"},\"line_width\":{\"value\":1},\"marker\":{\"value\":\"circle\"},\"size\":{\"value\":5.477225575051661},\"x\":{\"field\":\"category\"},\"y\":{\"field\":\"imdb_rating\"}},\"id\":\"87717\",\"type\":\"Scatter\"},{\"attributes\":{},\"id\":\"90013\",\"type\":\"UnionRenderers\"},{\"attributes\":{\"children\":[{\"id\":\"90623\"}],\"margin\":[0,0,0,0],\"name\":\"Row71596\"},\"id\":\"90495\",\"type\":\"Row\"},{\"attributes\":{\"coordinates\":null,\"data_source\":{\"id\":\"89902\"},\"glyph\":{\"id\":\"89905\"},\"group\":null,\"hover_glyph\":null,\"muted_glyph\":{\"id\":\"89907\"},\"nonselection_glyph\":{\"id\":\"89906\"},\"selection_glyph\":{\"id\":\"90017\"},\"view\":{\"id\":\"89909\"}},\"id\":\"89908\",\"type\":\"GlyphRenderer\"},{\"attributes\":{},\"id\":\"90699\",\"type\":\"WheelZoomTool\"},{\"attributes\":{\"angle\":{\"value\":0.0},\"fill_alpha\":{\"value\":0.8},\"fill_color\":{\"value\":\"#1f77b4\"},\"hatch_alpha\":{\"value\":0.8},\"hatch_color\":{\"value\":\"#1f77b4\"},\"hatch_scale\":{\"value\":12.0},\"hatch_weight\":{\"value\":1.0},\"line_alpha\":{\"value\":0.8},\"line_cap\":{\"value\":\"butt\"},\"line_color\":{\"value\":\"#1f77b4\"},\"line_dash\":{\"value\":[]},\"line_dash_offset\":{\"value\":0},\"line_join\":{\"value\":\"bevel\"},\"line_width\":{\"value\":1},\"marker\":{\"value\":\"circle\"},\"size\":{\"value\":5.477225575051661},\"x\":{\"field\":\"category\"},\"y\":{\"field\":\"imdb_rating\"}},\"id\":\"87525\",\"type\":\"Scatter\"},{\"attributes\":{\"fill_alpha\":{\"value\":0.8},\"fill_color\":{\"value\":\"#30a2da\"},\"hatch_alpha\":{\"value\":0.8},\"hatch_color\":{\"value\":\"#30a2da\"},\"line_alpha\":{\"value\":0.8},\"line_color\":{\"value\":\"#30a2da\"},\"size\":{\"value\":5.477225575051661},\"x\":{\"field\":\"category\"},\"y\":{\"field\":\"imdb_rating\"}},\"id\":\"89905\",\"type\":\"Scatter\"},{\"attributes\":{},\"id\":\"87011\",\"type\":\"UnionRenderers\"},{\"attributes\":{\"axis_label\":\"value\",\"coordinates\":null,\"formatter\":{\"id\":\"90837\"},\"group\":null,\"major_label_orientation\":0.3490658503988659,\"major_label_policy\":{\"id\":\"90838\"},\"ticker\":{\"id\":\"90807\"}},\"id\":\"90806\",\"type\":\"LinearAxis\"},{\"attributes\":{\"data\":{\"category\":[\"PG\"],\"imdb_rating\":{\"__ndarray__\":\"ZmZmZmZmIUA=\",\"dtype\":\"float64\",\"order\":\"little\",\"shape\":[1]},\"movie_name\":[\"Star Wars: Episode V - The Empire Strikes Back\"],\"run_time\":[124]},\"selected\":{\"id\":\"87467\"},\"selection_policy\":{\"id\":\"87521\"}},\"id\":\"87466\",\"type\":\"ColumnDataSource\"},{\"attributes\":{\"fill_alpha\":{\"value\":0.2},\"fill_color\":{\"value\":\"#30a2da\"},\"hatch_alpha\":{\"value\":0.2},\"hatch_color\":{\"value\":\"#30a2da\"},\"line_alpha\":{\"value\":0.2},\"line_color\":{\"value\":\"#30a2da\"},\"size\":{\"value\":5.477225575051661},\"x\":{\"field\":\"category\"},\"y\":{\"field\":\"imdb_rating\"}},\"id\":\"89907\",\"type\":\"Scatter\"},{\"attributes\":{\"overlay\":{\"id\":\"90702\"}},\"id\":\"90700\",\"type\":\"BoxZoomTool\"},{\"attributes\":{\"align\":\"end\",\"margin\":[0,10,0,0],\"name\":\"\",\"text\":\"total amount of film:\"},\"id\":\"86520\",\"type\":\"Div\"},{\"attributes\":{\"fill_alpha\":{\"value\":0.8},\"fill_color\":{\"value\":\"#e5ae38\"},\"hatch_alpha\":{\"value\":0.1},\"hatch_color\":{\"value\":\"#e5ae38\"},\"line_alpha\":{\"value\":0.8},\"line_color\":{\"value\":\"#e5ae38\"},\"size\":{\"value\":5.477225575051661},\"x\":{\"field\":\"category\"},\"y\":{\"field\":\"imdb_rating\"}},\"id\":\"87152\",\"type\":\"Scatter\"},{\"attributes\":{\"label\":{\"value\":\"113\"},\"renderers\":[{\"id\":\"86982\"}]},\"id\":\"87014\",\"type\":\"LegendItem\"},{\"attributes\":{},\"id\":\"90807\",\"type\":\"BasicTicker\"},{\"attributes\":{\"fill_alpha\":{\"value\":0.8},\"fill_color\":{\"value\":\"#e377c2\"},\"hatch_alpha\":{\"value\":0.1},\"hatch_color\":{\"value\":\"#e377c2\"},\"line_alpha\":{\"value\":0.8},\"line_color\":{\"value\":\"#e377c2\"},\"size\":{\"value\":5.477225575051661},\"x\":{\"field\":\"category\"},\"y\":{\"field\":\"imdb_rating\"}},\"id\":\"87530\",\"type\":\"Scatter\"},{\"attributes\":{\"source\":{\"id\":\"89902\"}},\"id\":\"89909\",\"type\":\"CDSView\"},{\"attributes\":{},\"id\":\"90701\",\"type\":\"ResetTool\"},{\"attributes\":{\"coordinates\":null,\"data_source\":{\"id\":\"87526\"},\"glyph\":{\"id\":\"87529\"},\"group\":null,\"hover_glyph\":null,\"muted_glyph\":{\"id\":\"87531\"},\"nonselection_glyph\":{\"id\":\"87530\"},\"selection_glyph\":{\"id\":\"87587\"},\"view\":{\"id\":\"87533\"}},\"id\":\"87532\",\"type\":\"GlyphRenderer\"},{\"attributes\":{},\"id\":\"87191\",\"type\":\"UnionRenderers\"},{\"attributes\":{\"axis\":{\"id\":\"90806\"},\"coordinates\":null,\"grid_line_color\":null,\"group\":null,\"ticker\":null},\"id\":\"90809\",\"type\":\"Grid\"},{\"attributes\":{\"children\":[{\"id\":\"90934\"}],\"margin\":[0,0,0,0],\"name\":\"Row71906\"},\"id\":\"90741\",\"type\":\"Row\"},{\"attributes\":{\"coordinates\":null,\"data_source\":{\"id\":\"87148\"},\"glyph\":{\"id\":\"87151\"},\"group\":null,\"hover_glyph\":null,\"muted_glyph\":{\"id\":\"87153\"},\"nonselection_glyph\":{\"id\":\"87152\"},\"selection_glyph\":{\"id\":\"87195\"},\"view\":{\"id\":\"87155\"}},\"id\":\"87154\",\"type\":\"GlyphRenderer\"},{\"attributes\":{\"axis_label\":\"Density\",\"coordinates\":null,\"formatter\":{\"id\":\"90840\"},\"group\":null,\"major_label_policy\":{\"id\":\"90841\"},\"ticker\":{\"id\":\"90811\"}},\"id\":\"90810\",\"type\":\"LinearAxis\"},{\"attributes\":{\"active_drag\":{\"id\":\"90698\"},\"active_scroll\":{\"id\":\"90699\"},\"tools\":[{\"id\":\"90680\"},{\"id\":\"90697\"},{\"id\":\"90698\"},{\"id\":\"90699\"},{\"id\":\"90700\"},{\"id\":\"90701\"}]},\"id\":\"90703\",\"type\":\"Toolbar\"},{\"attributes\":{\"angle\":{\"value\":0.0},\"fill_alpha\":{\"value\":0.8},\"fill_color\":{\"value\":\"#8c564b\"},\"hatch_alpha\":{\"value\":0.8},\"hatch_color\":{\"value\":\"#8c564b\"},\"hatch_scale\":{\"value\":12.0},\"hatch_weight\":{\"value\":1.0},\"line_alpha\":{\"value\":0.8},\"line_cap\":{\"value\":\"butt\"},\"line_color\":{\"value\":\"#8c564b\"},\"line_dash\":{\"value\":[]},\"line_dash_offset\":{\"value\":0},\"line_join\":{\"value\":\"bevel\"},\"line_width\":{\"value\":1},\"marker\":{\"value\":\"circle\"},\"size\":{\"value\":5.477225575051661},\"x\":{\"field\":\"category\"},\"y\":{\"field\":\"imdb_rating\"}},\"id\":\"87015\",\"type\":\"Scatter\"},{\"attributes\":{\"fill_alpha\":{\"value\":0.8},\"fill_color\":{\"value\":\"#e5ae38\"},\"hatch_alpha\":{\"value\":0.8},\"hatch_color\":{\"value\":\"#e5ae38\"},\"line_alpha\":{\"value\":0.8},\"line_color\":{\"value\":\"#e5ae38\"},\"size\":{\"value\":5.477225575051661},\"x\":{\"field\":\"category\"},\"y\":{\"field\":\"imdb_rating\"}},\"id\":\"87151\",\"type\":\"Scatter\"},{\"attributes\":{\"label\":{\"value\":\"178\"},\"renderers\":[{\"id\":\"89908\"}]},\"id\":\"90016\",\"type\":\"LegendItem\"},{\"attributes\":{\"fill_alpha\":{\"value\":0.2},\"fill_color\":{\"value\":\"#e5ae38\"},\"hatch_alpha\":{\"value\":0.2},\"hatch_color\":{\"value\":\"#e5ae38\"},\"line_alpha\":{\"value\":0.2},\"line_color\":{\"value\":\"#e5ae38\"},\"size\":{\"value\":5.477225575051661},\"x\":{\"field\":\"category\"},\"y\":{\"field\":\"imdb_rating\"}},\"id\":\"87153\",\"type\":\"Scatter\"},{\"attributes\":{},\"id\":\"87583\",\"type\":\"UnionRenderers\"},{\"attributes\":{},\"id\":\"90811\",\"type\":\"BasicTicker\"},{\"attributes\":{\"bottom_units\":\"screen\",\"coordinates\":null,\"fill_alpha\":0.5,\"fill_color\":\"lightgrey\",\"group\":null,\"left_units\":\"screen\",\"level\":\"overlay\",\"line_alpha\":1.0,\"line_color\":\"black\",\"line_dash\":[4,4],\"line_width\":2,\"right_units\":\"screen\",\"syncable\":false,\"top_units\":\"screen\"},\"id\":\"90702\",\"type\":\"BoxAnnotation\"},{\"attributes\":{\"source\":{\"id\":\"87148\"}},\"id\":\"87155\",\"type\":\"CDSView\"},{\"attributes\":{\"fill_alpha\":{\"value\":0.8},\"fill_color\":{\"value\":\"#e377c2\"},\"hatch_alpha\":{\"value\":0.8},\"hatch_color\":{\"value\":\"#e377c2\"},\"line_alpha\":{\"value\":0.8},\"line_color\":{\"value\":\"#e377c2\"},\"size\":{\"value\":5.477225575051661},\"x\":{\"field\":\"category\"},\"y\":{\"field\":\"imdb_rating\"}},\"id\":\"87529\",\"type\":\"Scatter\"},{\"attributes\":{\"axis\":{\"id\":\"90810\"},\"coordinates\":null,\"dimension\":1,\"grid_line_color\":null,\"group\":null,\"ticker\":null},\"id\":\"90813\",\"type\":\"Grid\"},{\"attributes\":{\"angle\":{\"value\":0.0},\"fill_alpha\":{\"value\":0.8},\"fill_color\":{\"value\":\"#bcbd22\"},\"hatch_alpha\":{\"value\":0.8},\"hatch_color\":{\"value\":\"#bcbd22\"},\"hatch_scale\":{\"value\":12.0},\"hatch_weight\":{\"value\":1.0},\"line_alpha\":{\"value\":0.8},\"line_cap\":{\"value\":\"butt\"},\"line_color\":{\"value\":\"#bcbd22\"},\"line_dash\":{\"value\":[]},\"line_dash_offset\":{\"value\":0},\"line_join\":{\"value\":\"bevel\"},\"line_width\":{\"value\":1},\"marker\":{\"value\":\"circle\"},\"size\":{\"value\":5.477225575051661},\"x\":{\"field\":\"category\"},\"y\":{\"field\":\"imdb_rating\"}},\"id\":\"87057\",\"type\":\"Scatter\"},{\"attributes\":{\"fill_alpha\":{\"value\":0.2},\"fill_color\":{\"value\":\"#e377c2\"},\"hatch_alpha\":{\"value\":0.2},\"hatch_color\":{\"value\":\"#e377c2\"},\"line_alpha\":{\"value\":0.2},\"line_color\":{\"value\":\"#e377c2\"},\"size\":{\"value\":5.477225575051661},\"x\":{\"field\":\"category\"},\"y\":{\"field\":\"imdb_rating\"}},\"id\":\"87531\",\"type\":\"Scatter\"},{\"attributes\":{\"angle\":{\"value\":0.0},\"fill_alpha\":{\"value\":0.8},\"fill_color\":{\"value\":\"#30a2da\"},\"hatch_alpha\":{\"value\":0.8},\"hatch_color\":{\"value\":\"#30a2da\"},\"hatch_scale\":{\"value\":12.0},\"hatch_weight\":{\"value\":1.0},\"line_alpha\":{\"value\":0.8},\"line_cap\":{\"value\":\"butt\"},\"line_color\":{\"value\":\"#30a2da\"},\"line_dash\":{\"value\":[]},\"line_dash_offset\":{\"value\":0},\"line_join\":{\"value\":\"bevel\"},\"line_width\":{\"value\":1},\"marker\":{\"value\":\"circle\"},\"size\":{\"value\":5.477225575051661},\"x\":{\"field\":\"category\"},\"y\":{\"field\":\"imdb_rating\"}},\"id\":\"90017\",\"type\":\"Scatter\"},{\"attributes\":{},\"id\":\"90712\",\"type\":\"Selection\"},{\"attributes\":{\"source\":{\"id\":\"87526\"}},\"id\":\"87533\",\"type\":\"CDSView\"},{\"attributes\":{\"label\":{\"value\":\"117\"},\"renderers\":[{\"id\":\"87154\"}]},\"id\":\"87194\",\"type\":\"LegendItem\"},{\"attributes\":{},\"id\":\"90828\",\"type\":\"Selection\"},{\"attributes\":{\"data\":{\"category\":[\"R\",\"R\"],\"imdb_rating\":{\"__ndarray__\":\"AAAAAAAAIEAzMzMzMzMgQA==\",\"dtype\":\"float64\",\"order\":\"little\",\"shape\":[2]},\"movie_name\":[\"Slumdog Millionaire\",\"Mad Max: Fury Road\"],\"run_time\":[120,120]},\"selected\":{\"id\":\"87299\"},\"selection_policy\":{\"id\":\"87347\"}},\"id\":\"87298\",\"type\":\"ColumnDataSource\"},{\"attributes\":{},\"id\":\"90721\",\"type\":\"CategoricalTickFormatter\"},{\"attributes\":{},\"id\":\"86546\",\"type\":\"BasicTicker\"},{\"attributes\":{},\"id\":\"90837\",\"type\":\"BasicTickFormatter\"},{\"attributes\":{\"fill_alpha\":{\"value\":0.8},\"fill_color\":{\"value\":\"#bcbd22\"},\"hatch_alpha\":{\"value\":0.1},\"hatch_color\":{\"value\":\"#bcbd22\"},\"line_alpha\":{\"value\":0.8},\"line_color\":{\"value\":\"#bcbd22\"},\"size\":{\"value\":5.477225575051661},\"x\":{\"field\":\"category\"},\"y\":{\"field\":\"imdb_rating\"}},\"id\":\"87020\",\"type\":\"Scatter\"},{\"attributes\":{\"label\":{\"value\":\"127\"},\"renderers\":[{\"id\":\"87532\"}]},\"id\":\"87586\",\"type\":\"LegendItem\"},{\"attributes\":{},\"id\":\"90814\",\"type\":\"SaveTool\"},{\"attributes\":{\"angle\":{\"value\":0.0},\"fill_alpha\":{\"value\":0.8},\"fill_color\":{\"value\":\"#e5ae38\"},\"hatch_alpha\":{\"value\":0.8},\"hatch_color\":{\"value\":\"#e5ae38\"},\"hatch_scale\":{\"value\":12.0},\"hatch_weight\":{\"value\":1.0},\"line_alpha\":{\"value\":0.8},\"line_cap\":{\"value\":\"butt\"},\"line_color\":{\"value\":\"#e5ae38\"},\"line_dash\":{\"value\":[]},\"line_dash_offset\":{\"value\":0},\"line_join\":{\"value\":\"bevel\"},\"line_width\":{\"value\":1},\"marker\":{\"value\":\"circle\"},\"size\":{\"value\":5.477225575051661},\"x\":{\"field\":\"category\"},\"y\":{\"field\":\"imdb_rating\"}},\"id\":\"87195\",\"type\":\"Scatter\"},{\"attributes\":{\"css_classes\":[\"markdown\"],\"margin\":[5,5,5,5],\"name\":\"Markdown70397\",\"text\":\"&lt;h1&gt;IMDb Top 100 Movies dashboard&lt;/h1&gt;\"},\"id\":\"86509\",\"type\":\"panel.models.markup.HTML\"},{\"attributes\":{},\"id\":\"87053\",\"type\":\"UnionRenderers\"},{\"attributes\":{},\"id\":\"90815\",\"type\":\"PanTool\"},{\"attributes\":{\"css_classes\":[\"slider-edit\"],\"format\":\"0.0[0000]\",\"js_property_callbacks\":{\"change:value\":[{\"id\":\"91150\"}]},\"margin\":[0,0,0,10],\"min_width\":75,\"placeholder\":\"0\",\"step\":100,\"value\":500,\"value_throttled\":0,\"width\":75},\"id\":\"86523\",\"type\":\"Spinner\"},{\"attributes\":{\"coordinates\":null,\"data_source\":{\"id\":\"87016\"},\"glyph\":{\"id\":\"87019\"},\"group\":null,\"hover_glyph\":null,\"muted_glyph\":{\"id\":\"87021\"},\"nonselection_glyph\":{\"id\":\"87020\"},\"selection_glyph\":{\"id\":\"87057\"},\"view\":{\"id\":\"87023\"}},\"id\":\"87022\",\"type\":\"GlyphRenderer\"},{\"attributes\":{\"fill_alpha\":{\"value\":0.1},\"fill_color\":{\"field\":\"category\",\"transform\":{\"id\":\"90710\"}},\"hatch_alpha\":{\"value\":0.1},\"hatch_color\":{\"field\":\"category\",\"transform\":{\"id\":\"90710\"}},\"line_alpha\":{\"value\":0.1},\"top\":{\"field\":\"imdb_rating\"},\"width\":{\"value\":0.8},\"x\":{\"field\":\"xoffsets\"}},\"id\":\"90715\",\"type\":\"VBar\"},{\"attributes\":{\"fill_alpha\":{\"value\":0.8},\"fill_color\":{\"value\":\"#bcbd22\"},\"hatch_alpha\":{\"value\":0.8},\"hatch_color\":{\"value\":\"#bcbd22\"},\"line_alpha\":{\"value\":0.8},\"line_color\":{\"value\":\"#bcbd22\"},\"size\":{\"value\":5.477225575051661},\"x\":{\"field\":\"category\"},\"y\":{\"field\":\"imdb_rating\"}},\"id\":\"87019\",\"type\":\"Scatter\"},{\"attributes\":{\"angle\":{\"value\":0.0},\"fill_alpha\":{\"value\":0.8},\"fill_color\":{\"value\":\"#e377c2\"},\"hatch_alpha\":{\"value\":0.8},\"hatch_color\":{\"value\":\"#e377c2\"},\"hatch_scale\":{\"value\":12.0},\"hatch_weight\":{\"value\":1.0},\"line_alpha\":{\"value\":0.8},\"line_cap\":{\"value\":\"butt\"},\"line_color\":{\"value\":\"#e377c2\"},\"line_dash\":{\"value\":[]},\"line_dash_offset\":{\"value\":0},\"line_join\":{\"value\":\"bevel\"},\"line_width\":{\"value\":1},\"marker\":{\"value\":\"circle\"},\"size\":{\"value\":5.477225575051661},\"x\":{\"field\":\"category\"},\"y\":{\"field\":\"imdb_rating\"}},\"id\":\"87587\",\"type\":\"Scatter\"},{\"attributes\":{\"fill_alpha\":{\"value\":0.8},\"fill_color\":{\"value\":\"#fc4f30\"},\"hatch_alpha\":{\"value\":0.1},\"hatch_color\":{\"value\":\"#fc4f30\"},\"line_alpha\":{\"value\":0.8},\"line_color\":{\"value\":\"#fc4f30\"},\"size\":{\"value\":5.477225575051661},\"x\":{\"field\":\"category\"},\"y\":{\"field\":\"imdb_rating\"}},\"id\":\"90022\",\"type\":\"Scatter\"},{\"attributes\":{\"fill_alpha\":{\"value\":0.2},\"fill_color\":{\"value\":\"#bcbd22\"},\"hatch_alpha\":{\"value\":0.2},\"hatch_color\":{\"value\":\"#bcbd22\"},\"line_alpha\":{\"value\":0.2},\"line_color\":{\"value\":\"#bcbd22\"},\"size\":{\"value\":5.477225575051661},\"x\":{\"field\":\"category\"},\"y\":{\"field\":\"imdb_rating\"}},\"id\":\"87021\",\"type\":\"Scatter\"},{\"attributes\":{\"label\":{\"value\":\"119\"},\"renderers\":[{\"id\":\"87252\"}]},\"id\":\"87296\",\"type\":\"LegendItem\"},{\"attributes\":{\"source\":{\"id\":\"90711\"}},\"id\":\"90718\",\"type\":\"CDSView\"},{\"attributes\":{},\"id\":\"90816\",\"type\":\"WheelZoomTool\"},{\"attributes\":{},\"id\":\"87149\",\"type\":\"Selection\"},{\"attributes\":{},\"id\":\"90131\",\"type\":\"UnionRenderers\"},{\"attributes\":{\"overlay\":{\"id\":\"90819\"}},\"id\":\"90817\",\"type\":\"BoxZoomTool\"},{\"attributes\":{\"coordinates\":null,\"data_source\":{\"id\":\"90018\"},\"glyph\":{\"id\":\"90021\"},\"group\":null,\"hover_glyph\":null,\"muted_glyph\":{\"id\":\"90023\"},\"nonselection_glyph\":{\"id\":\"90022\"},\"selection_glyph\":{\"id\":\"90135\"},\"view\":{\"id\":\"90025\"}},\"id\":\"90024\",\"type\":\"GlyphRenderer\"},{\"attributes\":{\"source\":{\"id\":\"87016\"}},\"id\":\"87023\",\"type\":\"CDSView\"},{\"attributes\":{\"data\":{\"category\":[\"R\",\"R\"],\"imdb_rating\":{\"__ndarray__\":\"AAAAAAAAIEBmZmZmZmYhQA==\",\"dtype\":\"float64\",\"order\":\"little\",\"shape\":[2]},\"movie_name\":[\"Rain Man\",\"One Flew Over the Cuckoo's Nest\"],\"run_time\":[133,133]},\"selected\":{\"id\":\"87929\"},\"selection_policy\":{\"id\":\"87997\"}},\"id\":\"87928\",\"type\":\"ColumnDataSource\"},{\"attributes\":{\"fill_alpha\":{\"value\":0.8},\"fill_color\":{\"value\":\"#fc4f30\"},\"hatch_alpha\":{\"value\":0.8},\"hatch_color\":{\"value\":\"#fc4f30\"},\"line_alpha\":{\"value\":0.8},\"line_color\":{\"value\":\"#fc4f30\"},\"size\":{\"value\":5.477225575051661},\"x\":{\"field\":\"category\"},\"y\":{\"field\":\"imdb_rating\"}},\"id\":\"90021\",\"type\":\"Scatter\"},{\"attributes\":{},\"id\":\"90818\",\"type\":\"ResetTool\"},{\"attributes\":{\"fill_alpha\":{\"value\":0.2},\"fill_color\":{\"value\":\"#fc4f30\"},\"hatch_alpha\":{\"value\":0.2},\"hatch_color\":{\"value\":\"#fc4f30\"},\"line_alpha\":{\"value\":0.2},\"line_color\":{\"value\":\"#fc4f30\"},\"size\":{\"value\":5.477225575051661},\"x\":{\"field\":\"category\"},\"y\":{\"field\":\"imdb_rating\"}},\"id\":\"90023\",\"type\":\"Scatter\"},{\"attributes\":{},\"id\":\"87197\",\"type\":\"Selection\"},{\"attributes\":{\"children\":[{\"id\":\"86536\"}],\"margin\":[0,0,0,0],\"name\":\"Row70412\"},\"id\":\"86532\",\"type\":\"Row\"},{\"attributes\":{\"fill_alpha\":{\"value\":0.8},\"fill_color\":{\"value\":\"#6d904f\"},\"hatch_alpha\":{\"value\":0.1},\"hatch_color\":{\"value\":\"#6d904f\"},\"line_alpha\":{\"value\":0.8},\"line_color\":{\"value\":\"#6d904f\"},\"size\":{\"value\":5.477225575051661},\"x\":{\"field\":\"category\"},\"y\":{\"field\":\"imdb_rating\"}},\"id\":\"87200\",\"type\":\"Scatter\"},{\"attributes\":{\"fill_alpha\":0.5,\"fill_color\":\"#E9967A\",\"hatch_color\":\"#E9967A\",\"x\":{\"field\":\"x\"},\"y\":{\"field\":\"y\"}},\"id\":\"90835\",\"type\":\"Patch\"},{\"attributes\":{\"source\":{\"id\":\"90018\"}},\"id\":\"90025\",\"type\":\"CDSView\"},{\"attributes\":{\"active_drag\":{\"id\":\"90815\"},\"active_scroll\":{\"id\":\"90816\"},\"tools\":[{\"id\":\"90796\"},{\"id\":\"90814\"},{\"id\":\"90815\"},{\"id\":\"90816\"},{\"id\":\"90817\"},{\"id\":\"90818\"}]},\"id\":\"90820\",\"type\":\"Toolbar\"},{\"attributes\":{\"data\":{\"category\":[\"R\",\"R\"],\"imdb_rating\":{\"__ndarray__\":\"ZmZmZmZmIEBmZmZmZmYgQA==\",\"dtype\":\"float64\",\"order\":\"little\",\"shape\":[2]},\"movie_name\":[\"Die Hard\",\"V for Vendetta\"],\"run_time\":[132,132]},\"selected\":{\"id\":\"87857\"},\"selection_policy\":{\"id\":\"87923\"}},\"id\":\"87856\",\"type\":\"ColumnDataSource\"},{\"attributes\":{},\"id\":\"87241\",\"type\":\"UnionRenderers\"},{\"attributes\":{\"coordinates\":null,\"data_source\":{\"id\":\"87196\"},\"glyph\":{\"id\":\"87199\"},\"group\":null,\"hover_glyph\":null,\"muted_glyph\":{\"id\":\"87201\"},\"nonselection_glyph\":{\"id\":\"87200\"},\"selection_glyph\":{\"id\":\"87245\"},\"view\":{\"id\":\"87203\"}},\"id\":\"87202\",\"type\":\"GlyphRenderer\"},{\"attributes\":{\"fill_alpha\":{\"value\":0.8},\"fill_color\":{\"value\":\"#8c564b\"},\"hatch_alpha\":{\"value\":0.1},\"hatch_color\":{\"value\":\"#8c564b\"},\"line_alpha\":{\"value\":0.8},\"line_color\":{\"value\":\"#8c564b\"},\"size\":{\"value\":5.477225575051661},\"x\":{\"field\":\"category\"},\"y\":{\"field\":\"imdb_rating\"}},\"id\":\"87592\",\"type\":\"Scatter\"},{\"attributes\":{\"bottom_units\":\"screen\",\"coordinates\":null,\"fill_alpha\":0.5,\"fill_color\":\"lightgrey\",\"group\":null,\"left_units\":\"screen\",\"level\":\"overlay\",\"line_alpha\":1.0,\"line_color\":\"black\",\"line_dash\":[4,4],\"line_width\":2,\"right_units\":\"screen\",\"syncable\":false,\"top_units\":\"screen\"},\"id\":\"90819\",\"type\":\"BoxAnnotation\"},{\"attributes\":{\"fill_alpha\":{\"value\":0.8},\"fill_color\":{\"value\":\"#6d904f\"},\"hatch_alpha\":{\"value\":0.8},\"hatch_color\":{\"value\":\"#6d904f\"},\"line_alpha\":{\"value\":0.8},\"line_color\":{\"value\":\"#6d904f\"},\"size\":{\"value\":5.477225575051661},\"x\":{\"field\":\"category\"},\"y\":{\"field\":\"imdb_rating\"}},\"id\":\"87199\",\"type\":\"Scatter\"},{\"attributes\":{\"label\":{\"value\":\"188\"},\"renderers\":[{\"id\":\"90024\"}]},\"id\":\"90134\",\"type\":\"LegendItem\"},{\"attributes\":{\"children\":[{\"id\":\"90741\"}],\"margin\":[0,1,0,1],\"name\":\"Column72086\",\"sizing_mode\":\"stretch_width\",\"width\":500},\"id\":\"90740\",\"type\":\"Column\"},{\"attributes\":{\"fill_alpha\":{\"value\":0.2},\"fill_color\":{\"value\":\"#6d904f\"},\"hatch_alpha\":{\"value\":0.2},\"hatch_color\":{\"value\":\"#6d904f\"},\"line_alpha\":{\"value\":0.2},\"line_color\":{\"value\":\"#6d904f\"},\"size\":{\"value\":5.477225575051661},\"x\":{\"field\":\"category\"},\"y\":{\"field\":\"imdb_rating\"}},\"id\":\"87201\",\"type\":\"Scatter\"},{\"attributes\":{\"data\":{\"category\":[\"R\",\"R\",\"R\"],\"imdb_rating\":{\"__ndarray__\":\"zczMzMzMIEDNzMzMzMwgQDMzMzMzMyFA\",\"dtype\":\"float64\",\"order\":\"little\",\"shape\":[3]},\"movie_name\":[\"The Lives of Others\",\"Aliens\",\"Terminator 2: Judgment Day\"],\"run_time\":[137,137,137]},\"selected\":{\"id\":\"88157\"},\"selection_policy\":{\"id\":\"88231\"}},\"id\":\"88156\",\"type\":\"ColumnDataSource\"},{\"attributes\":{},\"id\":\"87647\",\"type\":\"UnionRenderers\"},{\"attributes\":{\"children\":[{\"id\":\"86519\"},{\"id\":\"86524\"}],\"margin\":[5,10,5,10],\"min_width\":300,\"name\":\"Column00866\",\"width\":300},\"id\":\"86518\",\"type\":\"Column\"},{\"attributes\":{\"coordinates\":null,\"data_source\":{\"id\":\"87588\"},\"glyph\":{\"id\":\"87591\"},\"group\":null,\"hover_glyph\":null,\"muted_glyph\":{\"id\":\"87593\"},\"nonselection_glyph\":{\"id\":\"87592\"},\"selection_glyph\":{\"id\":\"87651\"},\"view\":{\"id\":\"87595\"}},\"id\":\"87594\",\"type\":\"GlyphRenderer\"},{\"attributes\":{\"source\":{\"id\":\"90827\"}},\"id\":\"90834\",\"type\":\"CDSView\"},{\"attributes\":{\"fill_alpha\":{\"value\":0.8},\"fill_color\":{\"value\":\"#30a2da\"},\"hatch_alpha\":{\"value\":0.1},\"hatch_color\":{\"value\":\"#30a2da\"},\"line_alpha\":{\"value\":0.8},\"line_color\":{\"value\":\"#30a2da\"},\"size\":{\"value\":5.477225575051661},\"x\":{\"field\":\"category\"},\"y\":{\"field\":\"imdb_rating\"}},\"id\":\"87062\",\"type\":\"Scatter\"},{\"attributes\":{\"source\":{\"id\":\"87196\"}},\"id\":\"87203\",\"type\":\"CDSView\"},{\"attributes\":{\"fill_alpha\":{\"value\":0.8},\"fill_color\":{\"value\":\"#8c564b\"},\"hatch_alpha\":{\"value\":0.8},\"hatch_color\":{\"value\":\"#8c564b\"},\"line_alpha\":{\"value\":0.8},\"line_color\":{\"value\":\"#8c564b\"},\"size\":{\"value\":5.477225575051661},\"x\":{\"field\":\"category\"},\"y\":{\"field\":\"imdb_rating\"}},\"id\":\"87591\",\"type\":\"Scatter\"},{\"attributes\":{\"fill_alpha\":{\"value\":0.2},\"fill_color\":{\"value\":\"#8c564b\"},\"hatch_alpha\":{\"value\":0.2},\"hatch_color\":{\"value\":\"#8c564b\"},\"line_alpha\":{\"value\":0.2},\"line_color\":{\"value\":\"#8c564b\"},\"size\":{\"value\":5.477225575051661},\"x\":{\"field\":\"category\"},\"y\":{\"field\":\"imdb_rating\"}},\"id\":\"87593\",\"type\":\"Scatter\"},{\"attributes\":{\"angle\":{\"value\":0.0},\"fill_alpha\":{\"value\":0.8},\"fill_color\":{\"value\":\"#fc4f30\"},\"hatch_alpha\":{\"value\":0.8},\"hatch_color\":{\"value\":\"#fc4f30\"},\"hatch_scale\":{\"value\":12.0},\"hatch_weight\":{\"value\":1.0},\"line_alpha\":{\"value\":0.8},\"line_cap\":{\"value\":\"butt\"},\"line_color\":{\"value\":\"#fc4f30\"},\"line_dash\":{\"value\":[]},\"line_dash_offset\":{\"value\":0},\"line_join\":{\"value\":\"bevel\"},\"line_width\":{\"value\":1},\"marker\":{\"value\":\"circle\"},\"size\":{\"value\":5.477225575051661},\"x\":{\"field\":\"category\"},\"y\":{\"field\":\"imdb_rating\"}},\"id\":\"90135\",\"type\":\"Scatter\"},{\"attributes\":{\"bottom\":{\"value\":0},\"fill_alpha\":{\"value\":1.0},\"fill_color\":{\"field\":\"category\",\"transform\":{\"id\":\"90710\"}},\"hatch_alpha\":{\"value\":1.0},\"hatch_color\":{\"field\":\"category\",\"transform\":{\"id\":\"90710\"}},\"hatch_scale\":{\"value\":12.0},\"hatch_weight\":{\"value\":1.0},\"line_alpha\":{\"value\":1.0},\"line_cap\":{\"value\":\"butt\"},\"line_color\":{\"value\":\"black\"},\"line_dash\":{\"value\":[]},\"line_dash_offset\":{\"value\":0},\"line_join\":{\"value\":\"bevel\"},\"line_width\":{\"value\":1},\"top\":{\"field\":\"imdb_rating\"},\"width\":{\"value\":0.8},\"x\":{\"field\":\"xoffsets\"}},\"id\":\"90719\",\"type\":\"VBar\"},{\"attributes\":{\"axis_label\":\"gross_total\",\"coordinates\":null,\"formatter\":{\"id\":\"86575\"},\"group\":null,\"major_label_policy\":{\"id\":\"86576\"},\"ticker\":{\"id\":\"86546\"}},\"id\":\"86545\",\"type\":\"LinearAxis\"},{\"attributes\":{},\"id\":\"87097\",\"type\":\"UnionRenderers\"},{\"attributes\":{\"coordinates\":null,\"data_source\":{\"id\":\"90827\"},\"glyph\":{\"id\":\"90830\"},\"group\":null,\"hover_glyph\":null,\"muted_glyph\":{\"id\":\"90832\"},\"nonselection_glyph\":{\"id\":\"90831\"},\"selection_glyph\":{\"id\":\"90835\"},\"view\":{\"id\":\"90834\"}},\"id\":\"90833\",\"type\":\"GlyphRenderer\"},{\"attributes\":{},\"id\":\"90840\",\"type\":\"BasicTickFormatter\"},{\"attributes\":{\"coordinates\":null,\"data_source\":{\"id\":\"87058\"},\"glyph\":{\"id\":\"87061\"},\"group\":null,\"hover_glyph\":null,\"muted_glyph\":{\"id\":\"87063\"},\"nonselection_glyph\":{\"id\":\"87062\"},\"selection_glyph\":{\"id\":\"87101\"},\"view\":{\"id\":\"87065\"}},\"id\":\"87064\",\"type\":\"GlyphRenderer\"},{\"attributes\":{\"source\":{\"id\":\"87588\"}},\"id\":\"87595\",\"type\":\"CDSView\"},{\"attributes\":{\"label\":{\"value\":\"118\"},\"renderers\":[{\"id\":\"87202\"}]},\"id\":\"87244\",\"type\":\"LegendItem\"},{\"attributes\":{\"children\":[{\"id\":\"86532\"}],\"margin\":[0,1,0,1],\"name\":\"Column70519\",\"sizing_mode\":\"stretch_width\",\"width\":500},\"id\":\"86531\",\"type\":\"Column\"},{\"attributes\":{\"fill_alpha\":{\"value\":0.8},\"fill_color\":{\"value\":\"#30a2da\"},\"hatch_alpha\":{\"value\":0.8},\"hatch_color\":{\"value\":\"#30a2da\"},\"line_alpha\":{\"value\":0.8},\"line_color\":{\"value\":\"#30a2da\"},\"size\":{\"value\":5.477225575051661},\"x\":{\"field\":\"category\"},\"y\":{\"field\":\"imdb_rating\"}},\"id\":\"87061\",\"type\":\"Scatter\"},{\"attributes\":{},\"id\":\"90838\",\"type\":\"AllLabels\"},{\"attributes\":{\"fill_alpha\":{\"value\":0.2},\"fill_color\":{\"value\":\"#30a2da\"},\"hatch_alpha\":{\"value\":0.2},\"hatch_color\":{\"value\":\"#30a2da\"},\"line_alpha\":{\"value\":0.2},\"line_color\":{\"value\":\"#30a2da\"},\"size\":{\"value\":5.477225575051661},\"x\":{\"field\":\"category\"},\"y\":{\"field\":\"imdb_rating\"}},\"id\":\"87063\",\"type\":\"Scatter\"},{\"attributes\":{\"fill_alpha\":{\"value\":0.2},\"fill_color\":{\"field\":\"category\",\"transform\":{\"id\":\"90710\"}},\"hatch_alpha\":{\"value\":0.2},\"hatch_color\":{\"field\":\"category\",\"transform\":{\"id\":\"90710\"}},\"line_alpha\":{\"value\":0.2},\"top\":{\"field\":\"imdb_rating\"},\"width\":{\"value\":0.8},\"x\":{\"field\":\"xoffsets\"}},\"id\":\"90716\",\"type\":\"VBar\"},{\"attributes\":{},\"id\":\"90674\",\"type\":\"UnionRenderers\"},{\"attributes\":{\"data\":{\"category\":[\"R\",\"PG\"],\"imdb_rating\":{\"__ndarray__\":\"AAAAAAAAHkAzMzMzMzMhQA==\",\"dtype\":\"float64\",\"order\":\"little\",\"shape\":[2]},\"movie_name\":[\"The Piano\",\"Star Wars: Episode IV - A New Hope\"],\"run_time\":[121,121]},\"selected\":{\"id\":\"87353\"},\"selection_policy\":{\"id\":\"87403\"}},\"id\":\"87352\",\"type\":\"ColumnDataSource\"},{\"attributes\":{\"fill_alpha\":{\"value\":0.8},\"fill_color\":{\"value\":\"#e5ae38\"},\"hatch_alpha\":{\"value\":0.1},\"hatch_color\":{\"value\":\"#e5ae38\"},\"line_alpha\":{\"value\":0.8},\"line_color\":{\"value\":\"#e5ae38\"},\"size\":{\"value\":5.477225575051661},\"x\":{\"field\":\"category\"},\"y\":{\"field\":\"imdb_rating\"}},\"id\":\"90140\",\"type\":\"Scatter\"},{\"attributes\":{\"label\":{\"value\":\"128\"},\"renderers\":[{\"id\":\"87594\"}]},\"id\":\"87650\",\"type\":\"LegendItem\"},{\"attributes\":{\"fill_color\":{\"field\":\"category\",\"transform\":{\"id\":\"90710\"}},\"hatch_color\":{\"field\":\"category\",\"transform\":{\"id\":\"90710\"}},\"top\":{\"field\":\"imdb_rating\"},\"width\":{\"value\":0.8},\"x\":{\"field\":\"xoffsets\"}},\"id\":\"90714\",\"type\":\"VBar\"},{\"attributes\":{\"children\":[{\"id\":\"86531\"},{\"id\":\"86594\"},{\"id\":\"90494\"}],\"margin\":[0,0,0,0],\"name\":\"Row71729\"},\"id\":\"86530\",\"type\":\"Row\"},{\"attributes\":{\"coordinates\":null,\"data_source\":{\"id\":\"90711\"},\"glyph\":{\"id\":\"90714\"},\"group\":null,\"hover_glyph\":null,\"muted_glyph\":{\"id\":\"90716\"},\"nonselection_glyph\":{\"id\":\"90715\"},\"selection_glyph\":{\"id\":\"90719\"},\"view\":{\"id\":\"90718\"}},\"id\":\"90717\",\"type\":\"GlyphRenderer\"},{\"attributes\":{\"source\":{\"id\":\"87058\"}},\"id\":\"87065\",\"type\":\"CDSView\"},{\"attributes\":{\"angle\":{\"value\":0.0},\"fill_alpha\":{\"value\":0.8},\"fill_color\":{\"value\":\"#6d904f\"},\"hatch_alpha\":{\"value\":0.8},\"hatch_color\":{\"value\":\"#6d904f\"},\"hatch_scale\":{\"value\":12.0},\"hatch_weight\":{\"value\":1.0},\"line_alpha\":{\"value\":0.8},\"line_cap\":{\"value\":\"butt\"},\"line_color\":{\"value\":\"#6d904f\"},\"line_dash\":{\"value\":[]},\"line_dash_offset\":{\"value\":0},\"line_join\":{\"value\":\"bevel\"},\"line_width\":{\"value\":1},\"marker\":{\"value\":\"circle\"},\"size\":{\"value\":5.477225575051661},\"x\":{\"field\":\"category\"},\"y\":{\"field\":\"imdb_rating\"}},\"id\":\"87245\",\"type\":\"Scatter\"},{\"attributes\":{},\"id\":\"90251\",\"type\":\"UnionRenderers\"},{\"attributes\":{},\"id\":\"90841\",\"type\":\"AllLabels\"},{\"attributes\":{\"coordinates\":null,\"data_source\":{\"id\":\"90136\"},\"glyph\":{\"id\":\"90139\"},\"group\":null,\"hover_glyph\":null,\"muted_glyph\":{\"id\":\"90141\"},\"nonselection_glyph\":{\"id\":\"90140\"},\"selection_glyph\":{\"id\":\"90255\"},\"view\":{\"id\":\"90143\"}},\"id\":\"90142\",\"type\":\"GlyphRenderer\"},{\"attributes\":{\"data\":{\"category\":[\"PG\"],\"imdb_rating\":{\"__ndarray__\":\"mpmZmZmZIEA=\",\"dtype\":\"float64\",\"order\":\"little\",\"shape\":[1]},\"movie_name\":[\"Star Wars: Episode VI - Return of the Jedi\"],\"run_time\":[131]},\"selected\":{\"id\":\"87787\"},\"selection_policy\":{\"id\":\"87851\"}},\"id\":\"87786\",\"type\":\"ColumnDataSource\"},{\"attributes\":{\"angle\":{\"value\":0.0},\"fill_alpha\":{\"value\":0.8},\"fill_color\":{\"value\":\"#8c564b\"},\"hatch_alpha\":{\"value\":0.8},\"hatch_color\":{\"value\":\"#8c564b\"},\"hatch_scale\":{\"value\":12.0},\"hatch_weight\":{\"value\":1.0},\"line_alpha\":{\"value\":0.8},\"line_cap\":{\"value\":\"butt\"},\"line_color\":{\"value\":\"#8c564b\"},\"line_dash\":{\"value\":[]},\"line_dash_offset\":{\"value\":0},\"line_join\":{\"value\":\"bevel\"},\"line_width\":{\"value\":1},\"marker\":{\"value\":\"circle\"},\"size\":{\"value\":5.477225575051661},\"x\":{\"field\":\"category\"},\"y\":{\"field\":\"imdb_rating\"}},\"id\":\"87651\",\"type\":\"Scatter\"},{\"attributes\":{\"fill_alpha\":{\"value\":0.8},\"fill_color\":{\"value\":\"#e5ae38\"},\"hatch_alpha\":{\"value\":0.8},\"hatch_color\":{\"value\":\"#e5ae38\"},\"line_alpha\":{\"value\":0.8},\"line_color\":{\"value\":\"#e5ae38\"},\"size\":{\"value\":5.477225575051661},\"x\":{\"field\":\"category\"},\"y\":{\"field\":\"imdb_rating\"}},\"id\":\"90139\",\"type\":\"Scatter\"},{\"attributes\":{\"label\":{\"value\":\"115\"},\"renderers\":[{\"id\":\"87064\"}]},\"id\":\"87100\",\"type\":\"LegendItem\"},{\"attributes\":{},\"id\":\"87293\",\"type\":\"UnionRenderers\"},{\"attributes\":{\"below\":[{\"id\":\"86545\"}],\"center\":[{\"id\":\"86548\"},{\"id\":\"86551\"}],\"height\":400,\"left\":[{\"id\":\"86549\"}],\"margin\":[5,5,5,5],\"min_border_bottom\":10,\"min_border_left\":10,\"min_border_right\":10,\"min_border_top\":10,\"renderers\":[{\"id\":\"86571\"}],\"sizing_mode\":\"fixed\",\"title\":{\"id\":\"86537\"},\"toolbar\":{\"id\":\"86558\"},\"width\":400,\"x_range\":{\"id\":\"86533\"},\"x_scale\":{\"id\":\"86541\"},\"y_range\":{\"id\":\"86534\"},\"y_scale\":{\"id\":\"86543\"}},\"id\":\"86536\",\"subtype\":\"Figure\",\"type\":\"Plot\"},{\"attributes\":{\"fill_alpha\":{\"value\":0.2},\"fill_color\":{\"value\":\"#e5ae38\"},\"hatch_alpha\":{\"value\":0.2},\"hatch_color\":{\"value\":\"#e5ae38\"},\"line_alpha\":{\"value\":0.2},\"line_color\":{\"value\":\"#e5ae38\"},\"size\":{\"value\":5.477225575051661},\"x\":{\"field\":\"category\"},\"y\":{\"field\":\"imdb_rating\"}},\"id\":\"90141\",\"type\":\"Scatter\"},{\"attributes\":{},\"id\":\"90722\",\"type\":\"AllLabels\"},{\"attributes\":{\"css_classes\":[\"slider-edit\"],\"format\":\"0.0[0000]\",\"js_property_callbacks\":{\"change:value\":[{\"id\":\"91149\"}]},\"margin\":[0,0,0,0],\"min_width\":75,\"placeholder\":\"0\",\"step\":100,\"value\":5,\"value_throttled\":0,\"width\":75},\"id\":\"86521\",\"type\":\"Spinner\"},{\"attributes\":{},\"id\":\"90724\",\"type\":\"BasicTickFormatter\"},{\"attributes\":{\"fill_alpha\":0.5,\"fill_color\":\"#E9967A\",\"hatch_color\":\"#E9967A\",\"x\":{\"field\":\"x\"},\"y\":{\"field\":\"y\"}},\"id\":\"90830\",\"type\":\"Patch\"},{\"attributes\":{\"data\":{\"category\":[\"R\",\"R\"],\"imdb_rating\":{\"__ndarray__\":\"AAAAAAAAIEAzMzMzMzMhQA==\",\"dtype\":\"float64\",\"order\":\"little\",\"shape\":[2]},\"movie_name\":[\"The King's Speech\",\"The Silence of the Lambs\"],\"run_time\":[118,118]},\"selected\":{\"id\":\"87197\"},\"selection_policy\":{\"id\":\"87241\"}},\"id\":\"87196\",\"type\":\"ColumnDataSource\"},{\"attributes\":{\"source\":{\"id\":\"90136\"}},\"id\":\"90143\",\"type\":\"CDSView\"},{\"attributes\":{\"children\":[{\"id\":\"86520\"},{\"id\":\"86521\"},{\"id\":\"86522\"},{\"id\":\"86523\"}],\"margin\":[0,0,0,0],\"name\":\"Row00872\",\"sizing_mode\":\"stretch_width\"},\"id\":\"86519\",\"type\":\"Row\"},{\"attributes\":{\"angle\":{\"value\":0.0},\"fill_alpha\":{\"value\":0.8},\"fill_color\":{\"value\":\"#30a2da\"},\"hatch_alpha\":{\"value\":0.8},\"hatch_color\":{\"value\":\"#30a2da\"},\"hatch_scale\":{\"value\":12.0},\"hatch_weight\":{\"value\":1.0},\"line_alpha\":{\"value\":0.8},\"line_cap\":{\"value\":\"butt\"},\"line_color\":{\"value\":\"#30a2da\"},\"line_dash\":{\"value\":[]},\"line_dash_offset\":{\"value\":0},\"line_join\":{\"value\":\"bevel\"},\"line_width\":{\"value\":1},\"marker\":{\"value\":\"circle\"},\"size\":{\"value\":5.477225575051661},\"x\":{\"field\":\"category\"},\"y\":{\"field\":\"imdb_rating\"}},\"id\":\"87101\",\"type\":\"Scatter\"},{\"attributes\":{\"label\":{\"value\":\"129\"},\"renderers\":[{\"id\":\"87658\"}]},\"id\":\"87716\",\"type\":\"LegendItem\"},{\"attributes\":{},\"id\":\"87247\",\"type\":\"Selection\"},{\"attributes\":{\"children\":[{\"id\":\"86595\"}],\"margin\":[0,1,0,1],\"name\":\"Column71591\",\"sizing_mode\":\"stretch_width\",\"width\":500},\"id\":\"86594\",\"type\":\"Column\"},{\"attributes\":{\"fill_alpha\":{\"value\":0.8},\"fill_color\":{\"value\":\"#8b8b8b\"},\"hatch_alpha\":{\"value\":0.1},\"hatch_color\":{\"value\":\"#8b8b8b\"},\"line_alpha\":{\"value\":0.8},\"line_color\":{\"value\":\"#8b8b8b\"},\"size\":{\"value\":5.477225575051661},\"x\":{\"field\":\"category\"},\"y\":{\"field\":\"imdb_rating\"}},\"id\":\"87250\",\"type\":\"Scatter\"},{\"attributes\":{\"label\":{\"value\":\"195\"},\"renderers\":[{\"id\":\"90142\"}]},\"id\":\"90254\",\"type\":\"LegendItem\"},{\"attributes\":{\"align\":\"end\",\"margin\":[0,2,0,2],\"name\":\"\",\"text\":\"...\"},\"id\":\"86522\",\"type\":\"Div\"},{\"attributes\":{\"data\":{\"category\":[\"PG\"],\"imdb_rating\":{\"__ndarray__\":\"mpmZmZmZIEA=\",\"dtype\":\"float64\",\"order\":\"little\",\"shape\":[1]},\"movie_name\":[\"Citizen Kane\"],\"run_time\":[119]},\"selected\":{\"id\":\"87247\"},\"selection_policy\":{\"id\":\"87293\"}},\"id\":\"87246\",\"type\":\"ColumnDataSource\"},{\"attributes\":{},\"id\":\"87787\",\"type\":\"Selection\"},{\"attributes\":{\"active\":[0,1,3],\"button_type\":\"success\",\"labels\":[\"R\",\"PG\",\"G\",\"Approved\",\"PG-13\",\"Passed\"],\"margin\":[5,10,5,10]},\"id\":\"86515\",\"type\":\"CheckboxButtonGroup\"},{\"attributes\":{\"angle\":{\"value\":0.0},\"fill_alpha\":{\"value\":0.8},\"fill_color\":{\"value\":\"#8b8b8b\"},\"hatch_alpha\":{\"value\":0.8},\"hatch_color\":{\"value\":\"#8b8b8b\"},\"hatch_scale\":{\"value\":12.0},\"hatch_weight\":{\"value\":1.0},\"line_alpha\":{\"value\":0.8},\"line_cap\":{\"value\":\"butt\"},\"line_color\":{\"value\":\"#8b8b8b\"},\"line_dash\":{\"value\":[]},\"line_dash_offset\":{\"value\":0},\"line_join\":{\"value\":\"bevel\"},\"line_width\":{\"value\":1},\"marker\":{\"value\":\"circle\"},\"size\":{\"value\":5.477225575051661},\"x\":{\"field\":\"category\"},\"y\":{\"field\":\"imdb_rating\"}},\"id\":\"87297\",\"type\":\"Scatter\"},{\"attributes\":{},\"id\":\"90725\",\"type\":\"AllLabels\"},{\"attributes\":{},\"id\":\"87653\",\"type\":\"Selection\"},{\"attributes\":{\"fill_alpha\":{\"value\":0.8},\"fill_color\":{\"value\":\"#bcbd22\"},\"hatch_alpha\":{\"value\":0.1},\"hatch_color\":{\"value\":\"#bcbd22\"},\"line_alpha\":{\"value\":0.8},\"line_color\":{\"value\":\"#bcbd22\"},\"size\":{\"value\":5.477225575051661},\"x\":{\"field\":\"category\"},\"y\":{\"field\":\"imdb_rating\"}},\"id\":\"87656\",\"type\":\"Scatter\"},{\"attributes\":{\"end\":200,\"margin\":[5,10,5,10],\"start\":45,\"step\":5,\"title\":\"duration of film(min)\",\"value\":[50,120]},\"id\":\"86517\",\"type\":\"RangeSlider\"},{\"attributes\":{\"coordinates\":null,\"data_source\":{\"id\":\"87246\"},\"glyph\":{\"id\":\"87249\"},\"group\":null,\"hover_glyph\":null,\"muted_glyph\":{\"id\":\"87251\"},\"nonselection_glyph\":{\"id\":\"87250\"},\"selection_glyph\":{\"id\":\"87297\"},\"view\":{\"id\":\"87253\"}},\"id\":\"87252\",\"type\":\"GlyphRenderer\"},{\"attributes\":{\"fill_alpha\":{\"value\":0.8},\"fill_color\":{\"value\":\"#8b8b8b\"},\"hatch_alpha\":{\"value\":0.8},\"hatch_color\":{\"value\":\"#8b8b8b\"},\"line_alpha\":{\"value\":0.8},\"line_color\":{\"value\":\"#8b8b8b\"},\"size\":{\"value\":5.477225575051661},\"x\":{\"field\":\"category\"},\"y\":{\"field\":\"imdb_rating\"}},\"id\":\"87249\",\"type\":\"Scatter\"},{\"attributes\":{\"angle\":{\"value\":0.0},\"fill_alpha\":{\"value\":0.8},\"fill_color\":{\"value\":\"#e5ae38\"},\"hatch_alpha\":{\"value\":0.8},\"hatch_color\":{\"value\":\"#e5ae38\"},\"hatch_scale\":{\"value\":12.0},\"hatch_weight\":{\"value\":1.0},\"line_alpha\":{\"value\":0.8},\"line_cap\":{\"value\":\"butt\"},\"line_color\":{\"value\":\"#e5ae38\"},\"line_dash\":{\"value\":[]},\"line_dash_offset\":{\"value\":0},\"line_join\":{\"value\":\"bevel\"},\"line_width\":{\"value\":1},\"marker\":{\"value\":\"circle\"},\"size\":{\"value\":5.477225575051661},\"x\":{\"field\":\"category\"},\"y\":{\"field\":\"imdb_rating\"}},\"id\":\"90255\",\"type\":\"Scatter\"},{\"attributes\":{\"end\":7.558792784206936e-07,\"reset_end\":7.558792784206936e-07,\"reset_start\":0.0,\"tags\":[[[\"value_density\",\"Density\",null]]]},\"id\":\"90847\",\"type\":\"Range1d\"},{\"attributes\":{\"fill_alpha\":{\"value\":0.2},\"fill_color\":{\"value\":\"#8b8b8b\"},\"hatch_alpha\":{\"value\":0.2},\"hatch_color\":{\"value\":\"#8b8b8b\"},\"line_alpha\":{\"value\":0.2},\"line_color\":{\"value\":\"#8b8b8b\"},\"size\":{\"value\":5.477225575051661},\"x\":{\"field\":\"category\"},\"y\":{\"field\":\"imdb_rating\"}},\"id\":\"87251\",\"type\":\"Scatter\"},{\"attributes\":{},\"id\":\"87713\",\"type\":\"UnionRenderers\"},{\"attributes\":{},\"id\":\"90737\",\"type\":\"UnionRenderers\"},{\"attributes\":{\"margin\":[5,10,5,10],\"options\":[\"Action\",\"Adventure\",\"Animation\",\"Biography\",\"Comedy\",\"Crime\",\"Drama\",\"Fantasy\",\"Film-Noir\",\"History\",\"Horror\",\"Music\",\"Mystery\",\"Romance\",\"Sci-Fi\",\"Thriller\",\"War\",\"Western\"],\"title\":\"Genre of film\",\"value\":\"Drama\"},\"id\":\"86516\",\"type\":\"panel.models.widgets.CustomSelect\"},{\"attributes\":{\"coordinates\":null,\"data_source\":{\"id\":\"87652\"},\"glyph\":{\"id\":\"87655\"},\"group\":null,\"hover_glyph\":null,\"muted_glyph\":{\"id\":\"87657\"},\"nonselection_glyph\":{\"id\":\"87656\"},\"selection_glyph\":{\"id\":\"87717\"},\"view\":{\"id\":\"87659\"}},\"id\":\"87658\",\"type\":\"GlyphRenderer\"},{\"attributes\":{},\"id\":\"87103\",\"type\":\"Selection\"},{\"attributes\":{},\"id\":\"87409\",\"type\":\"Selection\"},{\"attributes\":{\"fill_alpha\":{\"value\":0.8},\"fill_color\":{\"value\":\"#bcbd22\"},\"hatch_alpha\":{\"value\":0.8},\"hatch_color\":{\"value\":\"#bcbd22\"},\"line_alpha\":{\"value\":0.8},\"line_color\":{\"value\":\"#bcbd22\"},\"size\":{\"value\":5.477225575051661},\"x\":{\"field\":\"category\"},\"y\":{\"field\":\"imdb_rating\"}},\"id\":\"87655\",\"type\":\"Scatter\"},{\"attributes\":{\"children\":[{\"id\":\"90645\"},{\"id\":\"90676\"},{\"id\":\"90740\"}],\"margin\":[0,0,0,0],\"name\":\"Row72087\"},\"id\":\"90644\",\"type\":\"Row\"},{\"attributes\":{\"fill_alpha\":{\"value\":0.8},\"fill_color\":{\"value\":\"#fc4f30\"},\"hatch_alpha\":{\"value\":0.1},\"hatch_color\":{\"value\":\"#fc4f30\"},\"line_alpha\":{\"value\":0.8},\"line_color\":{\"value\":\"#fc4f30\"},\"size\":{\"value\":5.477225575051661},\"x\":{\"field\":\"category\"},\"y\":{\"field\":\"imdb_rating\"}},\"id\":\"87106\",\"type\":\"Scatter\"},{\"attributes\":{\"fill_alpha\":{\"value\":0.2},\"fill_color\":{\"value\":\"#fc4f30\"},\"hatch_alpha\":{\"value\":0.2},\"hatch_color\":{\"value\":\"#fc4f30\"},\"line_alpha\":{\"value\":0.2},\"line_color\":{\"value\":\"#fc4f30\"},\"size\":{\"value\":5.477225575051661},\"x\":{\"field\":\"category\"},\"y\":{\"field\":\"imdb_rating\"}},\"id\":\"87107\",\"type\":\"Scatter\"},{\"attributes\":{\"source\":{\"id\":\"87246\"}},\"id\":\"87253\",\"type\":\"CDSView\"},{\"attributes\":{\"fill_alpha\":{\"value\":0.2},\"fill_color\":{\"value\":\"#bcbd22\"},\"hatch_alpha\":{\"value\":0.2},\"hatch_color\":{\"value\":\"#bcbd22\"},\"line_alpha\":{\"value\":0.2},\"line_color\":{\"value\":\"#bcbd22\"},\"size\":{\"value\":5.477225575051661},\"x\":{\"field\":\"category\"},\"y\":{\"field\":\"imdb_rating\"}},\"id\":\"87657\",\"type\":\"Scatter\"},{\"attributes\":{\"args\":{\"end\":{\"id\":\"86523\"},\"slider\":{\"id\":\"86524\"},\"source\":{\"id\":\"86521\"}},\"code\":\"try { \\n        // start value always smaller than the end value\\n        if (cb_obj.value >= end.value) {\\n          cb_obj.value = end.value\\n          return\\n        }\\n        if (cb_obj.value < slider.start) {\\n          slider.start = cb_obj.value\\n        } else if (cb_obj.value > slider.end) {\\n          slider.end = cb_obj.value\\n        }\\n         } catch(err) { console.log(err) }\",\"tags\":[[2047225566376,[null,\"value\"],[null,null]]]},\"id\":\"91149\",\"type\":\"CustomJS\"},{\"attributes\":{},\"id\":\"86541\",\"type\":\"LinearScale\"},{\"attributes\":{\"data\":{\"category\":[\"R\",\"R\",\"R\"],\"imdb_rating\":{\"__ndarray__\":\"ZmZmZmZmIECamZmZmZkgQM3MzMzMzCBA\",\"dtype\":\"float64\",\"order\":\"little\",\"shape\":[3]},\"movie_name\":[\"No Country for Old Men\",\"Am\\u00e9lie\",\"American Beauty\"],\"run_time\":[122,122,122]},\"selected\":{\"id\":\"87409\"},\"selection_policy\":{\"id\":\"87461\"}},\"id\":\"87408\",\"type\":\"ColumnDataSource\"},{\"attributes\":{\"end\":2015,\"margin\":[5,10,5,10],\"min_width\":250,\"start\":1972,\"title\":\"Year release of film \",\"value\":[2000,2016],\"width\":250},\"id\":\"86514\",\"type\":\"RangeSlider\"},{\"attributes\":{\"source\":{\"id\":\"87652\"}},\"id\":\"87659\",\"type\":\"CDSView\"},{\"attributes\":{\"callback\":null,\"renderers\":[{\"id\":\"90885\"}],\"tags\":[\"hv_created\"],\"tooltips\":[[\"value\",\"@{value}\"],[\"Density\",\"@{value_density}\"]]},\"id\":\"90848\",\"type\":\"HoverTool\"},{\"attributes\":{\"axis\":{\"id\":\"86545\"},\"coordinates\":null,\"grid_line_color\":null,\"group\":null,\"ticker\":null},\"id\":\"86548\",\"type\":\"Grid\"},{\"attributes\":{\"data\":{\"x\":{\"__ndarray__\":\"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\",\"dtype\":\"float64\",\"order\":\"little\",\"shape\":[200]},\"y\":{\"__ndarray__\":\"AAAAAAAAAAAAAAAAAAAAAAAAAAAAAAAAAAAAAAAAAAAAAAAAAAAAAAAAAAAAAAAAAAAAAAAAAAAAAAAAAAAAAAAAAAAAAAAAAAAAAAAAAAAAAAAAAAAAAAAAAAAAAAAAAAAAAAAAAAAAAAAAAAAAAAAAAAAAAAAAAAAAAAAAAAAAAAAAAAAAAAAAAAAAAAAAAAAAAAAAAAAAAAAAAAAAAAAAAAAAAAAAAAAAAAAAAAAAAAAAAAAAAAAAAAAAAAAAAAAAAAAAAAAAAAAAAAAAAAAAAAAAAAAAAAAAAAAAAAAAAAAAAAAAAAAAAAAAAAAAAAAAAAAAAAAAAAAAAAAAAAAAAAAAAAAAAAAAAAAAAAAAAAAAAAAAAAAAAAAAAAAAAAAAAAAAAAAAAAAAAAAAAAAAAAAAAAAAAAAAAAAAAAAAAAAAAAAAAAAAAAAAAAAAAAAAAAAAAAAAAAAAAAAAAAAAAAAAAAAAAAAAAAAAAAAAAAAAAAAAAAAAAAAAAAAAAAAAAAAAAAAAAAAAAAAAAAAAAAAAAAAAAAAAAAAAAAAAAAAAAAAAAAAAAAAAAAAAAAAAAAAAAAAAAAAAAAAAAAAAAAAAAAAAAAAAAAAAAAAAAAAAAAAAAAAAAAAAAAAAAAAAAAAAAAAAAAAAAAAAAAAAAAAAAAAAAAAAAAAAAAAAAAAAAAAAAAAAAAAAAAAAAAAAAAAAAAAAAAAAAAAAAAAAAAAAAAAAAAAAAAAAAAAAAAAAAAAAAAAAAAAAAAAAAAAAAAAAAAAAAAAAAAAAAAAAAAAAAAAAAAAAAAAAAAAAAAAAAAAAAAAAAAAAAAAAAAAAAAAAAAAAAAAAAAAAAAAAAAAAAAAAAAAAAAAAAAAAAAAAAAAAAAAAAAAAAAAAAAAAAAAAAAAAAAAAAAAAAAAAAAAAAAAAAAAAAAAAAAAAAAAAAAAAAAAAAAAAAAAAAAAAAAAAAAAAAAAAAAAAAAAAAAAAAAAAAAAAAAAAAAAAAAAAAAAAAAAAAAAAAAAAAAAAAAAAAAAAAAAAAAAAAAAAAAAAAAAAAAAAAAAAAAC/MH90yLr2PesEVoVPOAM+DxKqqXmCDz7L3sJ9QwoZPlhU6tX6SiM+e44C0dnTLD4gcIFzA+M0PmAV0oa+Wz0+LPkdjdIERD71RnDEMn9KPsAYsrnLBlE+wxR6w0pCVT5rwMoFlc5ZPqqo5YswfV4+sOwANRKNYT7sdK0dwbljPjnMW6PqsGU++S+ed/dnZz5OjEeoQOBoPg7UThIpKGo+Wv+whjpaaz7h+rvRYJpsPleOWqi1EW4+VIoSH4rpbz6ECV5ONSNxPsfeNTTioXI+0MMKwFJ4dD7YLVXw7KZ2Pljjvd29Jnk+2b64//bpez68cmPCFN1+PpSP4H5P9IA+Brv4qLd5gj7Azhndr/KDPoM0jZIZVYU+8888PDqahj46SEzZ+b+HPgOuTHe+yYg+HaaBFbXAiT6ToiESZrOKPt6MXgWMtIs+uHFL+kPZjD4a8C2TzjaOPmBgG6sy4I8+6zgqJQ7ykD5WnEVEpSWSPmWArbPii5M+KA9R23cilT4RLMvPMOSWPi1WwsSryZg+UxwLfDbKmj5dyB3eqtycPv6D/qMn+J4+Pk67BkWKoD6ILz4jTJWhPpAE/FLsmaI+mZndNRCVoz56i0FfeoOkPgPrkx10YaU+fjLD7ZQqpj4rFeW3vNmmPoPmzNxSaac+HPAiG8zTpz5K9EF3ZBSoPt1ZLI3mJ6g+BNswF04NqD6kKkKDFcanPr2OcKoPVqc+icQIbsvCpj5/hxMPnxKmPpN0rqmSS6U+3xxbHWxypD5iR+sqF4qjPsYH4dWMk6I+uEkTRTyOoT4ybWcR13igPtpsYBuYpJ4+gmDCKGc1nD7zzFck8KeZPjsusG0yBJc+pL/KGQNWlD6h3sCL/KuRPpt+WT/pK44+DyM+w5VGiT6kYO/TuMKEPtflb9mwtIA+ctXyulhSej6CDNCYx0l0Pj0uCwn8lG4+50lbP5yGZj4v1mjx4DRgPgZ775hXxFY+QalY0Hw1Tz7aIdi+49xEPpy1i5w8MTs+TIOGWZpEMT5wo9pGiFwlPgnQOExZuhk+CGZLY0goDj6S2xW69TEBPg==\",\"dtype\":\"float64\",\"order\":\"little\",\"shape\":[200]}},\"selected\":{\"id\":\"90880\"},\"selection_policy\":{\"id\":\"90927\"}},\"id\":\"90879\",\"type\":\"ColumnDataSource\"},{\"attributes\":{\"below\":[{\"id\":\"90858\"}],\"center\":[{\"id\":\"90861\"},{\"id\":\"90865\"}],\"height\":400,\"left\":[{\"id\":\"90862\"}],\"margin\":null,\"min_border_bottom\":10,\"min_border_left\":10,\"min_border_right\":10,\"min_border_top\":10,\"renderers\":[{\"id\":\"90885\"}],\"sizing_mode\":\"fixed\",\"title\":{\"id\":\"90850\"},\"toolbar\":{\"id\":\"90872\"},\"toolbar_location\":null,\"width\":200,\"x_range\":{\"id\":\"90846\"},\"x_scale\":{\"id\":\"90854\"},\"y_range\":{\"id\":\"90847\"},\"y_scale\":{\"id\":\"90856\"}},\"id\":\"90849\",\"subtype\":\"Figure\",\"type\":\"Plot\"},{\"attributes\":{},\"id\":\"90257\",\"type\":\"Selection\"},{\"attributes\":{\"coordinates\":null,\"data_source\":{\"id\":\"87102\"},\"glyph\":{\"id\":\"87105\"},\"group\":null,\"hover_glyph\":null,\"muted_glyph\":{\"id\":\"87107\"},\"nonselection_glyph\":{\"id\":\"87106\"},\"selection_glyph\":{\"id\":\"87147\"},\"view\":{\"id\":\"87109\"}},\"id\":\"87108\",\"type\":\"GlyphRenderer\"},{\"attributes\":{\"fill_alpha\":{\"value\":0.8},\"fill_color\":{\"value\":\"#17becf\"},\"hatch_alpha\":{\"value\":0.1},\"hatch_color\":{\"value\":\"#17becf\"},\"line_alpha\":{\"value\":0.8},\"line_color\":{\"value\":\"#17becf\"},\"size\":{\"value\":5.477225575051661},\"x\":{\"field\":\"category\"},\"y\":{\"field\":\"imdb_rating\"}},\"id\":\"87302\",\"type\":\"Scatter\"},{\"attributes\":{\"fill_alpha\":{\"value\":0.8},\"fill_color\":{\"value\":\"#6d904f\"},\"hatch_alpha\":{\"value\":0.1},\"hatch_color\":{\"value\":\"#6d904f\"},\"line_alpha\":{\"value\":0.8},\"line_color\":{\"value\":\"#6d904f\"},\"size\":{\"value\":5.477225575051661},\"x\":{\"field\":\"category\"},\"y\":{\"field\":\"imdb_rating\"}},\"id\":\"90260\",\"type\":\"Scatter\"},{\"attributes\":{\"data\":{\"gross_total\":{\"__ndarray__\":\"PQrXo3A9HkAUrkfhepQmQClcj8L1SEBAPQrXo3CdQEAzMzMzMzNBQGZmZmZmxkFA7FG4HoVLRkDsUbgehYtKQPYoXI/CVUxAZmZmZmaGUUBxPQrXo6BRQFK4HoXrkVJAKVyPwvWIVkCamZmZmelcQMP1KFyPIl5Aj8L1KFw/X0Bcj8L1KIxgQJqZmZmZWWFACtejcD2qYUBSuB6F60FjQFK4HoXrWWRASOF6FK5XZUBxPQrXo4BnQGZmZmZmzmlAUrgeheslcEDhehSuR0lyQHE9CtejuHNAzczMzMxodUCamZmZmZ13QArXo3A9AnxAexSuR+G2gEDhehSuR0WNQA==\",\"dtype\":\"float64\",\"order\":\"little\",\"shape\":[32]},\"year_of_release\":[\"2002\",\"2006\",\"2002\",\"2001\",\"2004\",\"2006\",\"2003\",\"2006\",\"2013\",\"2003\",\"2005\",\"2007\",\"2003\",\"2009\",\"2009\",\"2012\",\"2006\",\"2010\",\"2008\",\"2015\",\"2012\",\"2001\",\"2014\",\"2007\",\"2013\",\"2010\",\"2001\",\"2002\",\"2003\",\"2012\",\"2008\",\"2015\"]},\"selected\":{\"id\":\"86566\"},\"selection_policy\":{\"id\":\"86591\"}},\"id\":\"86565\",\"type\":\"ColumnDataSource\"},{\"attributes\":{\"source\":{\"id\":\"87102\"}},\"id\":\"87109\",\"type\":\"CDSView\"},{\"attributes\":{},\"id\":\"86543\",\"type\":\"CategoricalScale\"},{\"attributes\":{\"fill_alpha\":{\"value\":0.8},\"fill_color\":{\"value\":\"#fc4f30\"},\"hatch_alpha\":{\"value\":0.8},\"hatch_color\":{\"value\":\"#fc4f30\"},\"line_alpha\":{\"value\":0.8},\"line_color\":{\"value\":\"#fc4f30\"},\"size\":{\"value\":5.477225575051661},\"x\":{\"field\":\"category\"},\"y\":{\"field\":\"imdb_rating\"}},\"id\":\"87105\",\"type\":\"Scatter\"},{\"attributes\":{\"fill_alpha\":{\"value\":0.2},\"fill_color\":{\"value\":\"#6d904f\"},\"hatch_alpha\":{\"value\":0.2},\"hatch_color\":{\"value\":\"#6d904f\"},\"line_alpha\":{\"value\":0.2},\"line_color\":{\"value\":\"#6d904f\"},\"size\":{\"value\":5.477225575051661},\"x\":{\"field\":\"category\"},\"y\":{\"field\":\"imdb_rating\"}},\"id\":\"90261\",\"type\":\"Scatter\"},{\"attributes\":{\"fill_alpha\":{\"value\":0.8},\"fill_color\":{\"value\":\"#6d904f\"},\"hatch_alpha\":{\"value\":0.8},\"hatch_color\":{\"value\":\"#6d904f\"},\"line_alpha\":{\"value\":0.8},\"line_color\":{\"value\":\"#6d904f\"},\"size\":{\"value\":5.477225575051661},\"x\":{\"field\":\"category\"},\"y\":{\"field\":\"imdb_rating\"}},\"id\":\"90259\",\"type\":\"Scatter\"},{\"attributes\":{\"label\":{\"value\":\"116\"},\"renderers\":[{\"id\":\"87108\"}]},\"id\":\"87146\",\"type\":\"LegendItem\"},{\"attributes\":{},\"id\":\"87299\",\"type\":\"Selection\"},{\"attributes\":{},\"id\":\"87353\",\"type\":\"Selection\"},{\"attributes\":{\"coordinates\":null,\"group\":null,\"text\":\"Year of release VS Total amount\",\"text_color\":\"black\",\"text_font_size\":\"12pt\"},\"id\":\"86537\",\"type\":\"Title\"},{\"attributes\":{\"coordinates\":null,\"data_source\":{\"id\":\"90256\"},\"glyph\":{\"id\":\"90259\"},\"group\":null,\"hover_glyph\":null,\"muted_glyph\":{\"id\":\"90261\"},\"nonselection_glyph\":{\"id\":\"90260\"},\"selection_glyph\":{\"id\":\"90377\"},\"view\":{\"id\":\"90263\"}},\"id\":\"90262\",\"type\":\"GlyphRenderer\"},{\"attributes\":{\"fill_alpha\":{\"value\":0.8},\"fill_color\":{\"value\":\"#17becf\"},\"hatch_alpha\":{\"value\":0.8},\"hatch_color\":{\"value\":\"#17becf\"},\"line_alpha\":{\"value\":0.8},\"line_color\":{\"value\":\"#17becf\"},\"size\":{\"value\":5.477225575051661},\"x\":{\"field\":\"category\"},\"y\":{\"field\":\"imdb_rating\"}},\"id\":\"87301\",\"type\":\"Scatter\"},{\"attributes\":{},\"id\":\"87143\",\"type\":\"UnionRenderers\"},{\"attributes\":{},\"id\":\"87719\",\"type\":\"Selection\"},{\"attributes\":{\"coordinates\":null,\"group\":null,\"text\":\"Variable: votes\",\"text_color\":\"black\",\"text_font_size\":\"12pt\"},\"id\":\"90850\",\"type\":\"Title\"},{\"attributes\":{},\"id\":\"89561\",\"type\":\"UnionRenderers\"},{\"attributes\":{\"source\":{\"id\":\"86752\"}},\"id\":\"86759\",\"type\":\"CDSView\"},{\"attributes\":{\"source\":{\"id\":\"87928\"}},\"id\":\"87935\",\"type\":\"CDSView\"},{\"attributes\":{\"label\":{\"value\":\"165\"},\"renderers\":[{\"id\":\"89464\"}]},\"id\":\"89564\",\"type\":\"LegendItem\"},{\"attributes\":{},\"id\":\"86773\",\"type\":\"UnionRenderers\"},{\"attributes\":{},\"id\":\"87997\",\"type\":\"UnionRenderers\"},{\"attributes\":{\"angle\":{\"value\":0.0},\"fill_alpha\":{\"value\":0.8},\"fill_color\":{\"value\":\"#bcbd22\"},\"hatch_alpha\":{\"value\":0.8},\"hatch_color\":{\"value\":\"#bcbd22\"},\"hatch_scale\":{\"value\":12.0},\"hatch_weight\":{\"value\":1.0},\"line_alpha\":{\"value\":0.8},\"line_cap\":{\"value\":\"butt\"},\"line_color\":{\"value\":\"#bcbd22\"},\"line_dash\":{\"value\":[]},\"line_dash_offset\":{\"value\":0},\"line_join\":{\"value\":\"bevel\"},\"line_width\":{\"value\":1},\"marker\":{\"value\":\"circle\"},\"size\":{\"value\":5.477225575051661},\"x\":{\"field\":\"category\"},\"y\":{\"field\":\"imdb_rating\"}},\"id\":\"89901\",\"type\":\"Scatter\"},{\"attributes\":{\"label\":{\"value\":\"102\"},\"renderers\":[{\"id\":\"86758\"}]},\"id\":\"86776\",\"type\":\"LegendItem\"},{\"attributes\":{\"label\":{\"value\":\"133\"},\"renderers\":[{\"id\":\"87934\"}]},\"id\":\"88000\",\"type\":\"LegendItem\"},{\"attributes\":{\"angle\":{\"value\":0.0},\"fill_alpha\":{\"value\":0.8},\"fill_color\":{\"value\":\"#1f77b4\"},\"hatch_alpha\":{\"value\":0.8},\"hatch_color\":{\"value\":\"#1f77b4\"},\"hatch_scale\":{\"value\":12.0},\"hatch_weight\":{\"value\":1.0},\"line_alpha\":{\"value\":0.8},\"line_cap\":{\"value\":\"butt\"},\"line_color\":{\"value\":\"#1f77b4\"},\"line_dash\":{\"value\":[]},\"line_dash_offset\":{\"value\":0},\"line_join\":{\"value\":\"bevel\"},\"line_width\":{\"value\":1},\"marker\":{\"value\":\"circle\"},\"size\":{\"value\":5.477225575051661},\"x\":{\"field\":\"category\"},\"y\":{\"field\":\"imdb_rating\"}},\"id\":\"89565\",\"type\":\"Scatter\"},{\"attributes\":{\"angle\":{\"value\":0.0},\"fill_alpha\":{\"value\":0.8},\"fill_color\":{\"value\":\"#6d904f\"},\"hatch_alpha\":{\"value\":0.8},\"hatch_color\":{\"value\":\"#6d904f\"},\"hatch_scale\":{\"value\":12.0},\"hatch_weight\":{\"value\":1.0},\"line_alpha\":{\"value\":0.8},\"line_cap\":{\"value\":\"butt\"},\"line_color\":{\"value\":\"#6d904f\"},\"line_dash\":{\"value\":[]},\"line_dash_offset\":{\"value\":0},\"line_join\":{\"value\":\"bevel\"},\"line_width\":{\"value\":1},\"marker\":{\"value\":\"circle\"},\"size\":{\"value\":5.477225575051661},\"x\":{\"field\":\"category\"},\"y\":{\"field\":\"imdb_rating\"}},\"id\":\"86777\",\"type\":\"Scatter\"},{\"attributes\":{\"angle\":{\"value\":0.0},\"fill_alpha\":{\"value\":0.8},\"fill_color\":{\"value\":\"#6d904f\"},\"hatch_alpha\":{\"value\":0.8},\"hatch_color\":{\"value\":\"#6d904f\"},\"hatch_scale\":{\"value\":12.0},\"hatch_weight\":{\"value\":1.0},\"line_alpha\":{\"value\":0.8},\"line_cap\":{\"value\":\"butt\"},\"line_color\":{\"value\":\"#6d904f\"},\"line_dash\":{\"value\":[]},\"line_dash_offset\":{\"value\":0},\"line_join\":{\"value\":\"bevel\"},\"line_width\":{\"value\":1},\"marker\":{\"value\":\"circle\"},\"size\":{\"value\":5.477225575051661},\"x\":{\"field\":\"category\"},\"y\":{\"field\":\"imdb_rating\"}},\"id\":\"88001\",\"type\":\"Scatter\"},{\"attributes\":{\"fill_alpha\":{\"value\":0.8},\"fill_color\":{\"value\":\"#e377c2\"},\"hatch_alpha\":{\"value\":0.1},\"hatch_color\":{\"value\":\"#e377c2\"},\"line_alpha\":{\"value\":0.8},\"line_color\":{\"value\":\"#e377c2\"},\"size\":{\"value\":5.477225575051661},\"x\":{\"field\":\"category\"},\"y\":{\"field\":\"imdb_rating\"}},\"id\":\"89570\",\"type\":\"Scatter\"},{\"attributes\":{\"coordinates\":null,\"data_source\":{\"id\":\"89566\"},\"glyph\":{\"id\":\"89569\"},\"group\":null,\"hover_glyph\":null,\"muted_glyph\":{\"id\":\"89571\"},\"nonselection_glyph\":{\"id\":\"89570\"},\"selection_glyph\":{\"id\":\"89675\"},\"view\":{\"id\":\"89573\"}},\"id\":\"89572\",\"type\":\"GlyphRenderer\"},{\"attributes\":{\"factors\":[\"Approved\",\"R\",\"PG\"],\"tags\":[[[\"category\",\"category\",null]]]},\"id\":\"86596\",\"type\":\"FactorRange\"},{\"attributes\":{},\"id\":\"89671\",\"type\":\"UnionRenderers\"},{\"attributes\":{\"fill_alpha\":{\"value\":0.8},\"fill_color\":{\"value\":\"#e377c2\"},\"hatch_alpha\":{\"value\":0.8},\"hatch_color\":{\"value\":\"#e377c2\"},\"line_alpha\":{\"value\":0.8},\"line_color\":{\"value\":\"#e377c2\"},\"size\":{\"value\":5.477225575051661},\"x\":{\"field\":\"category\"},\"y\":{\"field\":\"imdb_rating\"}},\"id\":\"89569\",\"type\":\"Scatter\"},{\"attributes\":{\"data\":{\"category\":[\"R\"],\"imdb_rating\":{\"__ndarray__\":\"zczMzMzMHEA=\",\"dtype\":\"float64\",\"order\":\"little\",\"shape\":[1]},\"movie_name\":[\"Avanti!\"],\"run_time\":[144]},\"selected\":{\"id\":\"88489\"},\"selection_policy\":{\"id\":\"88571\"}},\"id\":\"88488\",\"type\":\"ColumnDataSource\"},{\"attributes\":{\"fill_alpha\":{\"value\":0.2},\"fill_color\":{\"value\":\"#e377c2\"},\"hatch_alpha\":{\"value\":0.2},\"hatch_color\":{\"value\":\"#e377c2\"},\"line_alpha\":{\"value\":0.2},\"line_color\":{\"value\":\"#e377c2\"},\"size\":{\"value\":5.477225575051661},\"x\":{\"field\":\"category\"},\"y\":{\"field\":\"imdb_rating\"}},\"id\":\"89571\",\"type\":\"Scatter\"},{\"attributes\":{\"data\":{\"category\":[\"R\"],\"imdb_rating\":{\"__ndarray__\":\"zczMzMzMIEA=\",\"dtype\":\"float64\",\"order\":\"little\",\"shape\":[1]},\"movie_name\":[\"Memento\"],\"run_time\":[113]},\"selected\":{\"id\":\"86977\"},\"selection_policy\":{\"id\":\"87011\"}},\"id\":\"86976\",\"type\":\"ColumnDataSource\"},{\"attributes\":{\"angle\":{\"value\":0.0},\"fill_alpha\":{\"value\":0.8},\"fill_color\":{\"value\":\"#8b8b8b\"},\"hatch_alpha\":{\"value\":0.8},\"hatch_color\":{\"value\":\"#8b8b8b\"},\"hatch_scale\":{\"value\":12.0},\"hatch_weight\":{\"value\":1.0},\"line_alpha\":{\"value\":0.8},\"line_cap\":{\"value\":\"butt\"},\"line_color\":{\"value\":\"#8b8b8b\"},\"line_dash\":{\"value\":[]},\"line_dash_offset\":{\"value\":0},\"line_join\":{\"value\":\"bevel\"},\"line_width\":{\"value\":1},\"marker\":{\"value\":\"circle\"},\"size\":{\"value\":5.477225575051661},\"x\":{\"field\":\"category\"},\"y\":{\"field\":\"imdb_rating\"}},\"id\":\"86805\",\"type\":\"Scatter\"},{\"attributes\":{\"fill_alpha\":{\"value\":0.8},\"fill_color\":{\"value\":\"#8b8b8b\"},\"hatch_alpha\":{\"value\":0.1},\"hatch_color\":{\"value\":\"#8b8b8b\"},\"line_alpha\":{\"value\":0.8},\"line_color\":{\"value\":\"#8b8b8b\"},\"size\":{\"value\":5.477225575051661},\"x\":{\"field\":\"category\"},\"y\":{\"field\":\"imdb_rating\"}},\"id\":\"88006\",\"type\":\"Scatter\"},{\"attributes\":{\"source\":{\"id\":\"89566\"}},\"id\":\"89573\",\"type\":\"CDSView\"},{\"attributes\":{\"fill_alpha\":{\"value\":0.8},\"fill_color\":{\"value\":\"#8b8b8b\"},\"hatch_alpha\":{\"value\":0.1},\"hatch_color\":{\"value\":\"#8b8b8b\"},\"line_alpha\":{\"value\":0.8},\"line_color\":{\"value\":\"#8b8b8b\"},\"size\":{\"value\":5.477225575051661},\"x\":{\"field\":\"category\"},\"y\":{\"field\":\"imdb_rating\"}},\"id\":\"86782\",\"type\":\"Scatter\"},{\"attributes\":{\"angle\":{\"value\":0.0},\"fill_alpha\":{\"value\":0.8},\"fill_color\":{\"value\":\"#8b8b8b\"},\"hatch_alpha\":{\"value\":0.8},\"hatch_color\":{\"value\":\"#8b8b8b\"},\"hatch_scale\":{\"value\":12.0},\"hatch_weight\":{\"value\":1.0},\"line_alpha\":{\"value\":0.8},\"line_cap\":{\"value\":\"butt\"},\"line_color\":{\"value\":\"#8b8b8b\"},\"line_dash\":{\"value\":[]},\"line_dash_offset\":{\"value\":0},\"line_join\":{\"value\":\"bevel\"},\"line_width\":{\"value\":1},\"marker\":{\"value\":\"circle\"},\"size\":{\"value\":5.477225575051661},\"x\":{\"field\":\"category\"},\"y\":{\"field\":\"imdb_rating\"}},\"id\":\"88077\",\"type\":\"Scatter\"},{\"attributes\":{\"label\":{\"value\":\"169\"},\"renderers\":[{\"id\":\"89572\"}]},\"id\":\"89674\",\"type\":\"LegendItem\"},{\"attributes\":{},\"id\":\"88073\",\"type\":\"UnionRenderers\"},{\"attributes\":{\"coordinates\":null,\"data_source\":{\"id\":\"86778\"},\"glyph\":{\"id\":\"86781\"},\"group\":null,\"hover_glyph\":null,\"muted_glyph\":{\"id\":\"86783\"},\"nonselection_glyph\":{\"id\":\"86782\"},\"selection_glyph\":{\"id\":\"86805\"},\"view\":{\"id\":\"86785\"}},\"id\":\"86784\",\"type\":\"GlyphRenderer\"},{\"attributes\":{\"fill_alpha\":{\"value\":0.8},\"fill_color\":{\"value\":\"#8b8b8b\"},\"hatch_alpha\":{\"value\":0.8},\"hatch_color\":{\"value\":\"#8b8b8b\"},\"line_alpha\":{\"value\":0.8},\"line_color\":{\"value\":\"#8b8b8b\"},\"size\":{\"value\":5.477225575051661},\"x\":{\"field\":\"category\"},\"y\":{\"field\":\"imdb_rating\"}},\"id\":\"88005\",\"type\":\"Scatter\"},{\"attributes\":{\"fill_alpha\":{\"value\":0.8},\"fill_color\":{\"value\":\"#8b8b8b\"},\"hatch_alpha\":{\"value\":0.8},\"hatch_color\":{\"value\":\"#8b8b8b\"},\"line_alpha\":{\"value\":0.8},\"line_color\":{\"value\":\"#8b8b8b\"},\"size\":{\"value\":5.477225575051661},\"x\":{\"field\":\"category\"},\"y\":{\"field\":\"imdb_rating\"}},\"id\":\"86781\",\"type\":\"Scatter\"},{\"attributes\":{\"fill_alpha\":{\"value\":0.2},\"fill_color\":{\"value\":\"#8b8b8b\"},\"hatch_alpha\":{\"value\":0.2},\"hatch_color\":{\"value\":\"#8b8b8b\"},\"line_alpha\":{\"value\":0.2},\"line_color\":{\"value\":\"#8b8b8b\"},\"size\":{\"value\":5.477225575051661},\"x\":{\"field\":\"category\"},\"y\":{\"field\":\"imdb_rating\"}},\"id\":\"88007\",\"type\":\"Scatter\"},{\"attributes\":{\"fill_alpha\":{\"value\":0.2},\"fill_color\":{\"value\":\"#8b8b8b\"},\"hatch_alpha\":{\"value\":0.2},\"hatch_color\":{\"value\":\"#8b8b8b\"},\"line_alpha\":{\"value\":0.2},\"line_color\":{\"value\":\"#8b8b8b\"},\"size\":{\"value\":5.477225575051661},\"x\":{\"field\":\"category\"},\"y\":{\"field\":\"imdb_rating\"}},\"id\":\"86783\",\"type\":\"Scatter\"},{\"attributes\":{},\"id\":\"88237\",\"type\":\"Selection\"},{\"attributes\":{\"data\":{\"category\":[\"R\",\"PG\"],\"imdb_rating\":{\"__ndarray__\":\"mpmZmZmZH0AAAAAAAAAhQA==\",\"dtype\":\"float64\",\"order\":\"little\",\"shape\":[2]},\"movie_name\":[\"District 9\",\"Rear Window\"],\"run_time\":[112,112]},\"selected\":{\"id\":\"86939\"},\"selection_policy\":{\"id\":\"86971\"}},\"id\":\"86938\",\"type\":\"ColumnDataSource\"},{\"attributes\":{\"angle\":{\"value\":0.0},\"fill_alpha\":{\"value\":0.8},\"fill_color\":{\"value\":\"#e377c2\"},\"hatch_alpha\":{\"value\":0.8},\"hatch_color\":{\"value\":\"#e377c2\"},\"hatch_scale\":{\"value\":12.0},\"hatch_weight\":{\"value\":1.0},\"line_alpha\":{\"value\":0.8},\"line_cap\":{\"value\":\"butt\"},\"line_color\":{\"value\":\"#e377c2\"},\"line_dash\":{\"value\":[]},\"line_dash_offset\":{\"value\":0},\"line_join\":{\"value\":\"bevel\"},\"line_width\":{\"value\":1},\"marker\":{\"value\":\"circle\"},\"size\":{\"value\":5.477225575051661},\"x\":{\"field\":\"category\"},\"y\":{\"field\":\"imdb_rating\"}},\"id\":\"89675\",\"type\":\"Scatter\"},{\"attributes\":{\"label\":{\"value\":\"134\"},\"renderers\":[{\"id\":\"88008\"}]},\"id\":\"88076\",\"type\":\"LegendItem\"},{\"attributes\":{\"source\":{\"id\":\"86778\"}},\"id\":\"86785\",\"type\":\"CDSView\"},{\"attributes\":{\"data\":{\"category\":[\"R\"],\"imdb_rating\":{\"__ndarray__\":\"AAAAAAAAIkA=\",\"dtype\":\"float64\",\"order\":\"little\",\"shape\":[1]},\"movie_name\":[\"The Godfather: Part II\"],\"run_time\":[202]},\"selected\":{\"id\":\"90257\"},\"selection_policy\":{\"id\":\"90373\"}},\"id\":\"90256\",\"type\":\"ColumnDataSource\"},{\"attributes\":{\"angle\":{\"value\":0.0},\"fill_alpha\":{\"value\":0.8},\"fill_color\":{\"value\":\"#9467bd\"},\"hatch_alpha\":{\"value\":0.8},\"hatch_color\":{\"value\":\"#9467bd\"},\"hatch_scale\":{\"value\":12.0},\"hatch_weight\":{\"value\":1.0},\"line_alpha\":{\"value\":0.8},\"line_cap\":{\"value\":\"butt\"},\"line_color\":{\"value\":\"#9467bd\"},\"line_dash\":{\"value\":[]},\"line_dash_offset\":{\"value\":0},\"line_join\":{\"value\":\"bevel\"},\"line_width\":{\"value\":1},\"marker\":{\"value\":\"circle\"},\"size\":{\"value\":5.477225575051661},\"x\":{\"field\":\"category\"},\"y\":{\"field\":\"imdb_rating\"}},\"id\":\"86867\",\"type\":\"Scatter\"},{\"attributes\":{\"data\":{\"category\":[\"R\"],\"imdb_rating\":{\"__ndarray__\":\"AAAAAAAAIEA=\",\"dtype\":\"float64\",\"order\":\"little\",\"shape\":[1]},\"movie_name\":[\"12 Monkeys\"],\"run_time\":[129]},\"selected\":{\"id\":\"87653\"},\"selection_policy\":{\"id\":\"87713\"}},\"id\":\"87652\",\"type\":\"ColumnDataSource\"},{\"attributes\":{\"data\":{\"category\":[\"R\"],\"imdb_rating\":{\"__ndarray__\":\"ZmZmZmZmIkA=\",\"dtype\":\"float64\",\"order\":\"little\",\"shape\":[1]},\"movie_name\":[\"The Godfather\"],\"run_time\":[175]},\"selected\":{\"id\":\"89789\"},\"selection_policy\":{\"id\":\"89897\"}},\"id\":\"89788\",\"type\":\"ColumnDataSource\"},{\"attributes\":{\"data\":{\"category\":[\"R\"],\"imdb_rating\":{\"__ndarray__\":\"AAAAAAAAIkA=\",\"dtype\":\"float64\",\"order\":\"little\",\"shape\":[1]},\"movie_name\":[\"Schindler's List\"],\"run_time\":[195]},\"selected\":{\"id\":\"90137\"},\"selection_policy\":{\"id\":\"90251\"}},\"id\":\"90136\",\"type\":\"ColumnDataSource\"},{\"attributes\":{\"fill_alpha\":{\"value\":0.8},\"fill_color\":{\"value\":\"#8c564b\"},\"hatch_alpha\":{\"value\":0.1},\"hatch_color\":{\"value\":\"#8c564b\"},\"line_alpha\":{\"value\":0.8},\"line_color\":{\"value\":\"#8c564b\"},\"size\":{\"value\":5.477225575051661},\"x\":{\"field\":\"category\"},\"y\":{\"field\":\"imdb_rating\"}},\"id\":\"89680\",\"type\":\"Scatter\"},{\"attributes\":{},\"id\":\"86807\",\"type\":\"Selection\"},{\"attributes\":{},\"id\":\"88079\",\"type\":\"Selection\"},{\"attributes\":{\"fill_alpha\":{\"value\":0.8},\"fill_color\":{\"value\":\"#17becf\"},\"hatch_alpha\":{\"value\":0.1},\"hatch_color\":{\"value\":\"#17becf\"},\"line_alpha\":{\"value\":0.8},\"line_color\":{\"value\":\"#17becf\"},\"size\":{\"value\":5.477225575051661},\"x\":{\"field\":\"category\"},\"y\":{\"field\":\"imdb_rating\"}},\"id\":\"86810\",\"type\":\"Scatter\"},{\"attributes\":{\"fill_alpha\":{\"value\":0.8},\"fill_color\":{\"value\":\"#17becf\"},\"hatch_alpha\":{\"value\":0.1},\"hatch_color\":{\"value\":\"#17becf\"},\"line_alpha\":{\"value\":0.8},\"line_color\":{\"value\":\"#17becf\"},\"size\":{\"value\":5.477225575051661},\"x\":{\"field\":\"category\"},\"y\":{\"field\":\"imdb_rating\"}},\"id\":\"88082\",\"type\":\"Scatter\"},{\"attributes\":{},\"id\":\"89783\",\"type\":\"UnionRenderers\"},{\"attributes\":{\"coordinates\":null,\"data_source\":{\"id\":\"89676\"},\"glyph\":{\"id\":\"89679\"},\"group\":null,\"hover_glyph\":null,\"muted_glyph\":{\"id\":\"89681\"},\"nonselection_glyph\":{\"id\":\"89680\"},\"selection_glyph\":{\"id\":\"89787\"},\"view\":{\"id\":\"89683\"}},\"id\":\"89682\",\"type\":\"GlyphRenderer\"},{\"attributes\":{},\"id\":\"86831\",\"type\":\"UnionRenderers\"},{\"attributes\":{},\"id\":\"88151\",\"type\":\"UnionRenderers\"},{\"attributes\":{\"coordinates\":null,\"data_source\":{\"id\":\"86806\"},\"glyph\":{\"id\":\"86809\"},\"group\":null,\"hover_glyph\":null,\"muted_glyph\":{\"id\":\"86811\"},\"nonselection_glyph\":{\"id\":\"86810\"},\"selection_glyph\":{\"id\":\"86835\"},\"view\":{\"id\":\"86813\"}},\"id\":\"86812\",\"type\":\"GlyphRenderer\"},{\"attributes\":{\"coordinates\":null,\"data_source\":{\"id\":\"88078\"},\"glyph\":{\"id\":\"88081\"},\"group\":null,\"hover_glyph\":null,\"muted_glyph\":{\"id\":\"88083\"},\"nonselection_glyph\":{\"id\":\"88082\"},\"selection_glyph\":{\"id\":\"88155\"},\"view\":{\"id\":\"88085\"}},\"id\":\"88084\",\"type\":\"GlyphRenderer\"},{\"attributes\":{\"fill_alpha\":{\"value\":0.8},\"fill_color\":{\"value\":\"#8c564b\"},\"hatch_alpha\":{\"value\":0.8},\"hatch_color\":{\"value\":\"#8c564b\"},\"line_alpha\":{\"value\":0.8},\"line_color\":{\"value\":\"#8c564b\"},\"size\":{\"value\":5.477225575051661},\"x\":{\"field\":\"category\"},\"y\":{\"field\":\"imdb_rating\"}},\"id\":\"89679\",\"type\":\"Scatter\"},{\"attributes\":{\"fill_alpha\":{\"value\":0.8},\"fill_color\":{\"value\":\"#17becf\"},\"hatch_alpha\":{\"value\":0.8},\"hatch_color\":{\"value\":\"#17becf\"},\"line_alpha\":{\"value\":0.8},\"line_color\":{\"value\":\"#17becf\"},\"size\":{\"value\":5.477225575051661},\"x\":{\"field\":\"category\"},\"y\":{\"field\":\"imdb_rating\"}},\"id\":\"86809\",\"type\":\"Scatter\"},{\"attributes\":{\"fill_alpha\":{\"value\":0.8},\"fill_color\":{\"value\":\"#17becf\"},\"hatch_alpha\":{\"value\":0.8},\"hatch_color\":{\"value\":\"#17becf\"},\"line_alpha\":{\"value\":0.8},\"line_color\":{\"value\":\"#17becf\"},\"size\":{\"value\":5.477225575051661},\"x\":{\"field\":\"category\"},\"y\":{\"field\":\"imdb_rating\"}},\"id\":\"88081\",\"type\":\"Scatter\"},{\"attributes\":{\"fill_alpha\":{\"value\":0.2},\"fill_color\":{\"value\":\"#8c564b\"},\"hatch_alpha\":{\"value\":0.2},\"hatch_color\":{\"value\":\"#8c564b\"},\"line_alpha\":{\"value\":0.2},\"line_color\":{\"value\":\"#8c564b\"},\"size\":{\"value\":5.477225575051661},\"x\":{\"field\":\"category\"},\"y\":{\"field\":\"imdb_rating\"}},\"id\":\"89681\",\"type\":\"Scatter\"},{\"attributes\":{\"fill_alpha\":{\"value\":0.2},\"fill_color\":{\"value\":\"#17becf\"},\"hatch_alpha\":{\"value\":0.2},\"hatch_color\":{\"value\":\"#17becf\"},\"line_alpha\":{\"value\":0.2},\"line_color\":{\"value\":\"#17becf\"},\"size\":{\"value\":5.477225575051661},\"x\":{\"field\":\"category\"},\"y\":{\"field\":\"imdb_rating\"}},\"id\":\"86811\",\"type\":\"Scatter\"},{\"attributes\":{\"fill_alpha\":{\"value\":0.2},\"fill_color\":{\"value\":\"#17becf\"},\"hatch_alpha\":{\"value\":0.2},\"hatch_color\":{\"value\":\"#17becf\"},\"line_alpha\":{\"value\":0.2},\"line_color\":{\"value\":\"#17becf\"},\"size\":{\"value\":5.477225575051661},\"x\":{\"field\":\"category\"},\"y\":{\"field\":\"imdb_rating\"}},\"id\":\"88083\",\"type\":\"Scatter\"},{\"attributes\":{\"source\":{\"id\":\"89676\"}},\"id\":\"89683\",\"type\":\"CDSView\"},{\"attributes\":{\"source\":{\"id\":\"86806\"}},\"id\":\"86813\",\"type\":\"CDSView\"},{\"attributes\":{\"source\":{\"id\":\"88078\"}},\"id\":\"88085\",\"type\":\"CDSView\"},{\"attributes\":{\"label\":{\"value\":\"170\"},\"renderers\":[{\"id\":\"89682\"}]},\"id\":\"89786\",\"type\":\"LegendItem\"},{\"attributes\":{\"label\":{\"value\":\"108\"},\"renderers\":[{\"id\":\"86812\"}]},\"id\":\"86834\",\"type\":\"LegendItem\"},{\"attributes\":{\"label\":{\"value\":\"136\"},\"renderers\":[{\"id\":\"88084\"}]},\"id\":\"88154\",\"type\":\"LegendItem\"},{\"attributes\":{\"data\":{\"category\":[\"R\"],\"imdb_rating\":{\"__ndarray__\":\"AAAAAAAAIEA=\",\"dtype\":\"float64\",\"order\":\"little\",\"shape\":[1]},\"movie_name\":[\"Magnolia\"],\"run_time\":[188]},\"selected\":{\"id\":\"90019\"},\"selection_policy\":{\"id\":\"90131\"}},\"id\":\"90018\",\"type\":\"ColumnDataSource\"},{\"attributes\":{\"data\":{\"category\":[\"R\"],\"imdb_rating\":{\"__ndarray__\":\"ZmZmZmZmIEA=\",\"dtype\":\"float64\",\"order\":\"little\",\"shape\":[1]},\"movie_name\":[\"Kill Bill: Vol. 1\"],\"run_time\":[111]},\"selected\":{\"id\":\"86903\"},\"selection_policy\":{\"id\":\"86933\"}},\"id\":\"86902\",\"type\":\"ColumnDataSource\"},{\"attributes\":{\"data\":{\"category\":[\"R\"],\"imdb_rating\":{\"__ndarray__\":\"mpmZmZmZIUA=\",\"dtype\":\"float64\",\"order\":\"little\",\"shape\":[1]},\"movie_name\":[\"Fight Club\"],\"run_time\":[139]},\"selected\":{\"id\":\"88319\"},\"selection_policy\":{\"id\":\"88397\"}},\"id\":\"88318\",\"type\":\"ColumnDataSource\"},{\"attributes\":{\"angle\":{\"value\":0.0},\"fill_alpha\":{\"value\":0.8},\"fill_color\":{\"value\":\"#8c564b\"},\"hatch_alpha\":{\"value\":0.8},\"hatch_color\":{\"value\":\"#8c564b\"},\"hatch_scale\":{\"value\":12.0},\"hatch_weight\":{\"value\":1.0},\"line_alpha\":{\"value\":0.8},\"line_cap\":{\"value\":\"butt\"},\"line_color\":{\"value\":\"#8c564b\"},\"line_dash\":{\"value\":[]},\"line_dash_offset\":{\"value\":0},\"line_join\":{\"value\":\"bevel\"},\"line_width\":{\"value\":1},\"marker\":{\"value\":\"circle\"},\"size\":{\"value\":5.477225575051661},\"x\":{\"field\":\"category\"},\"y\":{\"field\":\"imdb_rating\"}},\"id\":\"89787\",\"type\":\"Scatter\"},{\"attributes\":{\"angle\":{\"value\":0.0},\"fill_alpha\":{\"value\":0.8},\"fill_color\":{\"value\":\"#17becf\"},\"hatch_alpha\":{\"value\":0.8},\"hatch_color\":{\"value\":\"#17becf\"},\"hatch_scale\":{\"value\":12.0},\"hatch_weight\":{\"value\":1.0},\"line_alpha\":{\"value\":0.8},\"line_cap\":{\"value\":\"butt\"},\"line_color\":{\"value\":\"#17becf\"},\"line_dash\":{\"value\":[]},\"line_dash_offset\":{\"value\":0},\"line_join\":{\"value\":\"bevel\"},\"line_width\":{\"value\":1},\"marker\":{\"value\":\"circle\"},\"size\":{\"value\":5.477225575051661},\"x\":{\"field\":\"category\"},\"y\":{\"field\":\"imdb_rating\"}},\"id\":\"86835\",\"type\":\"Scatter\"},{\"attributes\":{\"angle\":{\"value\":0.0},\"fill_alpha\":{\"value\":0.8},\"fill_color\":{\"value\":\"#17becf\"},\"hatch_alpha\":{\"value\":0.8},\"hatch_color\":{\"value\":\"#17becf\"},\"hatch_scale\":{\"value\":12.0},\"hatch_weight\":{\"value\":1.0},\"line_alpha\":{\"value\":0.8},\"line_cap\":{\"value\":\"butt\"},\"line_color\":{\"value\":\"#17becf\"},\"line_dash\":{\"value\":[]},\"line_dash_offset\":{\"value\":0},\"line_join\":{\"value\":\"bevel\"},\"line_width\":{\"value\":1},\"marker\":{\"value\":\"circle\"},\"size\":{\"value\":5.477225575051661},\"x\":{\"field\":\"category\"},\"y\":{\"field\":\"imdb_rating\"}},\"id\":\"88155\",\"type\":\"Scatter\"},{\"attributes\":{\"children\":[[{\"id\":\"90499\"},0,0],[{\"id\":\"90550\"},0,1]]},\"id\":\"90620\",\"type\":\"GridBox\"},{\"attributes\":{\"label\":{\"value\":\"175\"},\"renderers\":[{\"id\":\"89794\"}]},\"id\":\"89900\",\"type\":\"LegendItem\"},{\"attributes\":{\"angle\":{\"value\":0.0},\"fill_alpha\":{\"value\":0.8},\"fill_color\":{\"value\":\"#9467bd\"},\"hatch_alpha\":{\"value\":0.8},\"hatch_color\":{\"value\":\"#9467bd\"},\"hatch_scale\":{\"value\":12.0},\"hatch_weight\":{\"value\":1.0},\"line_alpha\":{\"value\":0.8},\"line_cap\":{\"value\":\"butt\"},\"line_color\":{\"value\":\"#9467bd\"},\"line_dash\":{\"value\":[]},\"line_dash_offset\":{\"value\":0},\"line_join\":{\"value\":\"bevel\"},\"line_width\":{\"value\":1},\"marker\":{\"value\":\"circle\"},\"size\":{\"value\":5.477225575051661},\"x\":{\"field\":\"category\"},\"y\":{\"field\":\"imdb_rating\"}},\"id\":\"88235\",\"type\":\"Scatter\"},{\"attributes\":{},\"id\":\"90019\",\"type\":\"Selection\"},{\"attributes\":{},\"id\":\"89789\",\"type\":\"Selection\"},{\"attributes\":{\"fill_alpha\":{\"value\":0.8},\"fill_color\":{\"value\":\"#bcbd22\"},\"hatch_alpha\":{\"value\":0.1},\"hatch_color\":{\"value\":\"#bcbd22\"},\"line_alpha\":{\"value\":0.8},\"line_color\":{\"value\":\"#bcbd22\"},\"size\":{\"value\":5.477225575051661},\"x\":{\"field\":\"category\"},\"y\":{\"field\":\"imdb_rating\"}},\"id\":\"89792\",\"type\":\"Scatter\"},{\"attributes\":{},\"id\":\"86837\",\"type\":\"Selection\"},{\"attributes\":{},\"id\":\"88157\",\"type\":\"Selection\"},{\"attributes\":{\"fill_alpha\":{\"value\":0.8},\"fill_color\":{\"value\":\"#9467bd\"},\"hatch_alpha\":{\"value\":0.1},\"hatch_color\":{\"value\":\"#9467bd\"},\"line_alpha\":{\"value\":0.8},\"line_color\":{\"value\":\"#9467bd\"},\"size\":{\"value\":5.477225575051661},\"x\":{\"field\":\"category\"},\"y\":{\"field\":\"imdb_rating\"}},\"id\":\"86840\",\"type\":\"Scatter\"},{\"attributes\":{\"fill_alpha\":{\"value\":0.8},\"fill_color\":{\"value\":\"#9467bd\"},\"hatch_alpha\":{\"value\":0.1},\"hatch_color\":{\"value\":\"#9467bd\"},\"line_alpha\":{\"value\":0.8},\"line_color\":{\"value\":\"#9467bd\"},\"size\":{\"value\":5.477225575051661},\"x\":{\"field\":\"category\"},\"y\":{\"field\":\"imdb_rating\"}},\"id\":\"88160\",\"type\":\"Scatter\"},{\"attributes\":{},\"id\":\"89897\",\"type\":\"UnionRenderers\"},{\"attributes\":{\"coordinates\":null,\"data_source\":{\"id\":\"89788\"},\"glyph\":{\"id\":\"89791\"},\"group\":null,\"hover_glyph\":null,\"muted_glyph\":{\"id\":\"89793\"},\"nonselection_glyph\":{\"id\":\"89792\"},\"selection_glyph\":{\"id\":\"89901\"},\"view\":{\"id\":\"89795\"}},\"id\":\"89794\",\"type\":\"GlyphRenderer\"},{\"attributes\":{},\"id\":\"86863\",\"type\":\"UnionRenderers\"},{\"attributes\":{},\"id\":\"88231\",\"type\":\"UnionRenderers\"},{\"attributes\":{\"coordinates\":null,\"data_source\":{\"id\":\"86836\"},\"glyph\":{\"id\":\"86839\"},\"group\":null,\"hover_glyph\":null,\"muted_glyph\":{\"id\":\"86841\"},\"nonselection_glyph\":{\"id\":\"86840\"},\"selection_glyph\":{\"id\":\"86867\"},\"view\":{\"id\":\"86843\"}},\"id\":\"86842\",\"type\":\"GlyphRenderer\"},{\"attributes\":{\"coordinates\":null,\"data_source\":{\"id\":\"88156\"},\"glyph\":{\"id\":\"88159\"},\"group\":null,\"hover_glyph\":null,\"muted_glyph\":{\"id\":\"88161\"},\"nonselection_glyph\":{\"id\":\"88160\"},\"selection_glyph\":{\"id\":\"88235\"},\"view\":{\"id\":\"88163\"}},\"id\":\"88162\",\"type\":\"GlyphRenderer\"},{\"attributes\":{\"fill_alpha\":{\"value\":0.8},\"fill_color\":{\"value\":\"#bcbd22\"},\"hatch_alpha\":{\"value\":0.8},\"hatch_color\":{\"value\":\"#bcbd22\"},\"line_alpha\":{\"value\":0.8},\"line_color\":{\"value\":\"#bcbd22\"},\"size\":{\"value\":5.477225575051661},\"x\":{\"field\":\"category\"},\"y\":{\"field\":\"imdb_rating\"}},\"id\":\"89791\",\"type\":\"Scatter\"},{\"attributes\":{\"fill_alpha\":{\"value\":0.8},\"fill_color\":{\"value\":\"#9467bd\"},\"hatch_alpha\":{\"value\":0.8},\"hatch_color\":{\"value\":\"#9467bd\"},\"line_alpha\":{\"value\":0.8},\"line_color\":{\"value\":\"#9467bd\"},\"size\":{\"value\":5.477225575051661},\"x\":{\"field\":\"category\"},\"y\":{\"field\":\"imdb_rating\"}},\"id\":\"86839\",\"type\":\"Scatter\"},{\"attributes\":{\"fill_alpha\":{\"value\":0.8},\"fill_color\":{\"value\":\"#9467bd\"},\"hatch_alpha\":{\"value\":0.8},\"hatch_color\":{\"value\":\"#9467bd\"},\"line_alpha\":{\"value\":0.8},\"line_color\":{\"value\":\"#9467bd\"},\"size\":{\"value\":5.477225575051661},\"x\":{\"field\":\"category\"},\"y\":{\"field\":\"imdb_rating\"}},\"id\":\"88159\",\"type\":\"Scatter\"},{\"attributes\":{\"fill_alpha\":{\"value\":0.2},\"fill_color\":{\"value\":\"#bcbd22\"},\"hatch_alpha\":{\"value\":0.2},\"hatch_color\":{\"value\":\"#bcbd22\"},\"line_alpha\":{\"value\":0.2},\"line_color\":{\"value\":\"#bcbd22\"},\"size\":{\"value\":5.477225575051661},\"x\":{\"field\":\"category\"},\"y\":{\"field\":\"imdb_rating\"}},\"id\":\"89793\",\"type\":\"Scatter\"},{\"attributes\":{\"fill_alpha\":{\"value\":0.2},\"fill_color\":{\"value\":\"#9467bd\"},\"hatch_alpha\":{\"value\":0.2},\"hatch_color\":{\"value\":\"#9467bd\"},\"line_alpha\":{\"value\":0.2},\"line_color\":{\"value\":\"#9467bd\"},\"size\":{\"value\":5.477225575051661},\"x\":{\"field\":\"category\"},\"y\":{\"field\":\"imdb_rating\"}},\"id\":\"86841\",\"type\":\"Scatter\"},{\"attributes\":{\"fill_alpha\":{\"value\":0.2},\"fill_color\":{\"value\":\"#9467bd\"},\"hatch_alpha\":{\"value\":0.2},\"hatch_color\":{\"value\":\"#9467bd\"},\"line_alpha\":{\"value\":0.2},\"line_color\":{\"value\":\"#9467bd\"},\"size\":{\"value\":5.477225575051661},\"x\":{\"field\":\"category\"},\"y\":{\"field\":\"imdb_rating\"}},\"id\":\"88161\",\"type\":\"Scatter\"},{\"attributes\":{\"source\":{\"id\":\"89788\"}},\"id\":\"89795\",\"type\":\"CDSView\"},{\"attributes\":{\"source\":{\"id\":\"86836\"}},\"id\":\"86843\",\"type\":\"CDSView\"},{\"attributes\":{\"source\":{\"id\":\"88156\"}},\"id\":\"88163\",\"type\":\"CDSView\"},{\"attributes\":{\"label\":{\"value\":\"109\"},\"renderers\":[{\"id\":\"86842\"}]},\"id\":\"86866\",\"type\":\"LegendItem\"},{\"attributes\":{\"label\":{\"value\":\"137\"},\"renderers\":[{\"id\":\"88162\"}]},\"id\":\"88234\",\"type\":\"LegendItem\"},{\"attributes\":{\"end\":3377469.937425792,\"reset_end\":3377469.937425792,\"reset_start\":-683419.9374257921,\"start\":-683419.9374257921,\"tags\":[[[\"value\",\"value\",null]]]},\"id\":\"90846\",\"type\":\"Range1d\"},{\"attributes\":{},\"id\":\"90137\",\"type\":\"Selection\"},{\"attributes\":{},\"id\":\"89903\",\"type\":\"Selection\"},{\"attributes\":{\"data\":{\"category\":[\"R\"],\"imdb_rating\":{\"__ndarray__\":\"mpmZmZmZIkA=\",\"dtype\":\"float64\",\"order\":\"little\",\"shape\":[1]},\"movie_name\":[\"The Shawshank Redemption\"],\"run_time\":[142]},\"selected\":{\"id\":\"88403\"},\"selection_policy\":{\"id\":\"88483\"}},\"id\":\"88402\",\"type\":\"ColumnDataSource\"},{\"attributes\":{},\"id\":\"86869\",\"type\":\"Selection\"},{\"attributes\":{\"style\":{\"white-space\":\"nowrap\"},\"text\":\"<span style=\\\"color:black;font-family:Arial;font-style:bold;font-weight:bold;font-size:12pt\\\">Table of Year of  release ,name, vote and rate</span>\",\"width\":450},\"id\":\"90672\",\"type\":\"Div\"},{\"attributes\":{},\"id\":\"86670\",\"type\":\"ResetTool\"},{\"attributes\":{},\"id\":\"90755\",\"type\":\"BasicTicker\"},{\"attributes\":{\"children\":[{\"id\":\"90672\"},{\"id\":\"90669\"}]},\"id\":\"90673\",\"type\":\"Column\"},{\"attributes\":{\"fill_alpha\":{\"value\":0.8},\"fill_color\":{\"value\":\"#30a2da\"},\"hatch_alpha\":{\"value\":0.1},\"hatch_color\":{\"value\":\"#30a2da\"},\"line_alpha\":{\"value\":0.8},\"line_color\":{\"value\":\"#30a2da\"},\"size\":{\"value\":5.477225575051661},\"x\":{\"field\":\"category\"},\"y\":{\"field\":\"imdb_rating\"}},\"id\":\"87722\",\"type\":\"Scatter\"},{\"attributes\":{\"end\":10,\"margin\":[5,10,5,10],\"start\":3,\"title\":\"rate of film\",\"value\":5},\"id\":\"86525\",\"type\":\"Slider\"},{\"attributes\":{\"fill_alpha\":{\"value\":0.8},\"fill_color\":{\"value\":\"#30a2da\"},\"hatch_alpha\":{\"value\":0.1},\"hatch_color\":{\"value\":\"#30a2da\"},\"line_alpha\":{\"value\":0.8},\"line_color\":{\"value\":\"#30a2da\"},\"size\":{\"value\":5.477225575051661},\"x\":{\"field\":\"category\"},\"y\":{\"field\":\"imdb_rating\"}},\"id\":\"86689\",\"type\":\"Scatter\"},{\"attributes\":{\"axis\":{\"id\":\"90754\"},\"coordinates\":null,\"grid_line_color\":null,\"group\":null,\"ticker\":null},\"id\":\"90757\",\"type\":\"Grid\"},{\"attributes\":{\"children\":[{\"id\":\"86530\"},{\"id\":\"90644\"}],\"css_classes\":[\"panel-widget-box\"],\"margin\":[5,5,5,5],\"name\":\"WidgetBox72088\"},\"id\":\"86529\",\"type\":\"Column\"},{\"attributes\":{\"source\":{\"id\":\"87298\"}},\"id\":\"87305\",\"type\":\"CDSView\"},{\"attributes\":{\"source\":{\"id\":\"87718\"}},\"id\":\"87725\",\"type\":\"CDSView\"},{\"attributes\":{\"fill_alpha\":{\"value\":0.2},\"fill_color\":{\"value\":\"#30a2da\"},\"hatch_alpha\":{\"value\":0.2},\"hatch_color\":{\"value\":\"#30a2da\"},\"line_alpha\":{\"value\":0.2},\"line_color\":{\"value\":\"#30a2da\"},\"size\":{\"value\":5.477225575051661},\"x\":{\"field\":\"category\"},\"y\":{\"field\":\"imdb_rating\"}},\"id\":\"87723\",\"type\":\"Scatter\"},{\"attributes\":{\"axis_label\":\"Density\",\"coordinates\":null,\"formatter\":{\"id\":\"90788\"},\"group\":null,\"major_label_policy\":{\"id\":\"90789\"},\"ticker\":{\"id\":\"90759\"}},\"id\":\"90758\",\"type\":\"LinearAxis\"},{\"attributes\":{\"fill_alpha\":{\"value\":0.2},\"fill_color\":{\"value\":\"#17becf\"},\"hatch_alpha\":{\"value\":0.2},\"hatch_color\":{\"value\":\"#17becf\"},\"line_alpha\":{\"value\":0.2},\"line_color\":{\"value\":\"#17becf\"},\"size\":{\"value\":5.477225575051661},\"x\":{\"field\":\"category\"},\"y\":{\"field\":\"imdb_rating\"}},\"id\":\"87303\",\"type\":\"Scatter\"},{\"attributes\":{},\"id\":\"87781\",\"type\":\"UnionRenderers\"},{\"attributes\":{\"bottom_units\":\"screen\",\"coordinates\":null,\"fill_alpha\":0.5,\"fill_color\":\"lightgrey\",\"group\":null,\"left_units\":\"screen\",\"level\":\"overlay\",\"line_alpha\":1.0,\"line_color\":\"black\",\"line_dash\":[4,4],\"line_width\":2,\"right_units\":\"screen\",\"syncable\":false,\"top_units\":\"screen\"},\"id\":\"86671\",\"type\":\"BoxAnnotation\"},{\"attributes\":{},\"id\":\"90759\",\"type\":\"BasicTicker\"},{\"attributes\":{\"coordinates\":null,\"data_source\":{\"id\":\"87298\"},\"glyph\":{\"id\":\"87301\"},\"group\":null,\"hover_glyph\":null,\"muted_glyph\":{\"id\":\"87303\"},\"nonselection_glyph\":{\"id\":\"87302\"},\"selection_glyph\":{\"id\":\"87351\"},\"view\":{\"id\":\"87305\"}},\"id\":\"87304\",\"type\":\"GlyphRenderer\"},{\"attributes\":{\"coordinates\":null,\"data_source\":{\"id\":\"87718\"},\"glyph\":{\"id\":\"87721\"},\"group\":null,\"hover_glyph\":null,\"muted_glyph\":{\"id\":\"87723\"},\"nonselection_glyph\":{\"id\":\"87722\"},\"selection_glyph\":{\"id\":\"87785\"},\"view\":{\"id\":\"87725\"}},\"id\":\"87724\",\"type\":\"GlyphRenderer\"},{\"attributes\":{\"active_drag\":{\"id\":\"86667\"},\"active_scroll\":{\"id\":\"86668\"},\"tools\":[{\"id\":\"86598\"},{\"id\":\"86666\"},{\"id\":\"86667\"},{\"id\":\"86668\"},{\"id\":\"86669\"},{\"id\":\"86670\"}]},\"id\":\"86672\",\"type\":\"Toolbar\"},{\"attributes\":{\"children\":[{\"id\":\"90681\"}],\"margin\":[0,0,0,0],\"name\":\"Row71789\"},\"id\":\"90677\",\"type\":\"Row\"},{\"attributes\":{\"label\":{\"value\":\"120\"},\"renderers\":[{\"id\":\"87304\"}]},\"id\":\"87350\",\"type\":\"LegendItem\"},{\"attributes\":{\"axis\":{\"id\":\"90758\"},\"coordinates\":null,\"dimension\":1,\"grid_line_color\":null,\"group\":null,\"ticker\":null},\"id\":\"90761\",\"type\":\"Grid\"},{\"attributes\":{},\"id\":\"87347\",\"type\":\"UnionRenderers\"},{\"attributes\":{\"label\":{\"value\":\"130\"},\"renderers\":[{\"id\":\"87724\"}]},\"id\":\"87784\",\"type\":\"LegendItem\"},{\"attributes\":{},\"id\":\"90776\",\"type\":\"Selection\"},{\"attributes\":{\"angle\":{\"value\":0.0},\"fill_alpha\":{\"value\":0.8},\"fill_color\":{\"value\":\"#17becf\"},\"hatch_alpha\":{\"value\":0.8},\"hatch_color\":{\"value\":\"#17becf\"},\"hatch_scale\":{\"value\":12.0},\"hatch_weight\":{\"value\":1.0},\"line_alpha\":{\"value\":0.8},\"line_cap\":{\"value\":\"butt\"},\"line_color\":{\"value\":\"#17becf\"},\"line_dash\":{\"value\":[]},\"line_dash_offset\":{\"value\":0},\"line_join\":{\"value\":\"bevel\"},\"line_width\":{\"value\":1},\"marker\":{\"value\":\"circle\"},\"size\":{\"value\":5.477225575051661},\"x\":{\"field\":\"category\"},\"y\":{\"field\":\"imdb_rating\"}},\"id\":\"87351\",\"type\":\"Scatter\"},{\"attributes\":{\"fill_alpha\":{\"value\":0.8},\"fill_color\":{\"value\":\"#30a2da\"},\"hatch_alpha\":{\"value\":0.8},\"hatch_color\":{\"value\":\"#30a2da\"},\"line_alpha\":{\"value\":0.8},\"line_color\":{\"value\":\"#30a2da\"},\"size\":{\"value\":5.477225575051661},\"x\":{\"field\":\"category\"},\"y\":{\"field\":\"imdb_rating\"}},\"id\":\"87721\",\"type\":\"Scatter\"},{\"attributes\":{},\"id\":\"86684\",\"type\":\"AllLabels\"},{\"attributes\":{\"fill_alpha\":0.2,\"fill_color\":\"#E9967A\",\"hatch_alpha\":0.2,\"hatch_color\":\"#E9967A\",\"line_alpha\":0.2,\"x\":{\"field\":\"x\"},\"y\":{\"field\":\"y\"}},\"id\":\"90832\",\"type\":\"Patch\"},{\"attributes\":{},\"id\":\"90762\",\"type\":\"SaveTool\"},{\"attributes\":{\"data\":{\"category\":[\"PG\",\"R\"],\"imdb_rating\":{\"__ndarray__\":\"mpmZmZmZH0AzMzMzMzMhQA==\",\"dtype\":\"float64\",\"order\":\"little\",\"shape\":[2]},\"movie_name\":[\"Life of Pi\",\"Se7en\"],\"run_time\":[127,127]},\"selected\":{\"id\":\"87527\"},\"selection_policy\":{\"id\":\"87583\"}},\"id\":\"87526\",\"type\":\"ColumnDataSource\"},{\"attributes\":{\"angle\":{\"value\":0.0},\"fill_alpha\":{\"value\":0.8},\"fill_color\":{\"value\":\"#30a2da\"},\"hatch_alpha\":{\"value\":0.8},\"hatch_color\":{\"value\":\"#30a2da\"},\"hatch_scale\":{\"value\":12.0},\"hatch_weight\":{\"value\":1.0},\"line_alpha\":{\"value\":0.8},\"line_cap\":{\"value\":\"butt\"},\"line_color\":{\"value\":\"#30a2da\"},\"line_dash\":{\"value\":[]},\"line_dash_offset\":{\"value\":0},\"line_join\":{\"value\":\"bevel\"},\"line_width\":{\"value\":1},\"marker\":{\"value\":\"circle\"},\"size\":{\"value\":5.477225575051661},\"x\":{\"field\":\"category\"},\"y\":{\"field\":\"imdb_rating\"}},\"id\":\"87785\",\"type\":\"Scatter\"},{\"attributes\":{},\"id\":\"90763\",\"type\":\"PanTool\"},{\"attributes\":{\"data\":{\"category\":[\"R\"],\"imdb_rating\":{\"__ndarray__\":\"MzMzMzMzIEA=\",\"dtype\":\"float64\",\"order\":\"little\",\"shape\":[1]},\"movie_name\":[\"12 Years a Slave\"],\"run_time\":[134]},\"selected\":{\"id\":\"88003\"},\"selection_policy\":{\"id\":\"88073\"}},\"id\":\"88002\",\"type\":\"ColumnDataSource\"},{\"attributes\":{},\"id\":\"90764\",\"type\":\"WheelZoomTool\"},{\"attributes\":{\"data\":{\"category\":[\"R\",\"R\"],\"imdb_rating\":{\"__ndarray__\":\"ZmZmZmZmIEAzMzMzMzMhQA==\",\"dtype\":\"float64\",\"order\":\"little\",\"shape\":[2]},\"movie_name\":[\"Chinatown\",\"City of God\"],\"run_time\":[130,130]},\"selected\":{\"id\":\"87719\"},\"selection_policy\":{\"id\":\"87781\"}},\"id\":\"87718\",\"type\":\"ColumnDataSource\"},{\"attributes\":{},\"id\":\"86700\",\"type\":\"UnionRenderers\"},{\"attributes\":{},\"id\":\"87589\",\"type\":\"Selection\"},{\"attributes\":{\"overlay\":{\"id\":\"90767\"}},\"id\":\"90765\",\"type\":\"BoxZoomTool\"},{\"attributes\":{\"fill_alpha\":{\"value\":0.8},\"fill_color\":{\"value\":\"#9467bd\"},\"hatch_alpha\":{\"value\":0.1},\"hatch_color\":{\"value\":\"#9467bd\"},\"line_alpha\":{\"value\":0.8},\"line_color\":{\"value\":\"#9467bd\"},\"size\":{\"value\":5.477225575051661},\"x\":{\"field\":\"category\"},\"y\":{\"field\":\"imdb_rating\"}},\"id\":\"87356\",\"type\":\"Scatter\"},{\"attributes\":{},\"id\":\"86729\",\"type\":\"Selection\"},{\"attributes\":{\"data\":{\"category\":[\"R\",\"R\"],\"imdb_rating\":{\"__ndarray__\":\"mpmZmZmZH0BmZmZmZmYgQA==\",\"dtype\":\"float64\",\"order\":\"little\",\"shape\":[2]},\"movie_name\":[\"Mystic River\",\"L.A. Confidential\"],\"run_time\":[138,138]},\"selected\":{\"id\":\"88237\"},\"selection_policy\":{\"id\":\"88313\"}},\"id\":\"88236\",\"type\":\"ColumnDataSource\"},{\"attributes\":{},\"id\":\"90766\",\"type\":\"ResetTool\"},{\"attributes\":{},\"id\":\"87403\",\"type\":\"UnionRenderers\"},{\"attributes\":{\"coordinates\":null,\"data_source\":{\"id\":\"86685\"},\"glyph\":{\"id\":\"86688\"},\"group\":null,\"hover_glyph\":null,\"muted_glyph\":{\"id\":\"86690\"},\"nonselection_glyph\":{\"id\":\"86689\"},\"selection_glyph\":{\"id\":\"86705\"},\"view\":{\"id\":\"86692\"}},\"id\":\"86691\",\"type\":\"GlyphRenderer\"},{\"attributes\":{\"coordinates\":null,\"data_source\":{\"id\":\"87352\"},\"glyph\":{\"id\":\"87355\"},\"group\":null,\"hover_glyph\":null,\"muted_glyph\":{\"id\":\"87357\"},\"nonselection_glyph\":{\"id\":\"87356\"},\"selection_glyph\":{\"id\":\"87407\"},\"view\":{\"id\":\"87359\"}},\"id\":\"87358\",\"type\":\"GlyphRenderer\"},{\"attributes\":{\"fill_alpha\":{\"value\":0.8},\"fill_color\":{\"value\":\"#fc4f30\"},\"hatch_alpha\":{\"value\":0.1},\"hatch_color\":{\"value\":\"#fc4f30\"},\"line_alpha\":{\"value\":0.8},\"line_color\":{\"value\":\"#fc4f30\"},\"size\":{\"value\":5.477225575051661},\"x\":{\"field\":\"category\"},\"y\":{\"field\":\"imdb_rating\"}},\"id\":\"87790\",\"type\":\"Scatter\"},{\"attributes\":{\"fill_alpha\":{\"value\":0.8},\"fill_color\":{\"value\":\"#9467bd\"},\"hatch_alpha\":{\"value\":0.8},\"hatch_color\":{\"value\":\"#9467bd\"},\"line_alpha\":{\"value\":0.8},\"line_color\":{\"value\":\"#9467bd\"},\"size\":{\"value\":5.477225575051661},\"x\":{\"field\":\"category\"},\"y\":{\"field\":\"imdb_rating\"}},\"id\":\"87355\",\"type\":\"Scatter\"},{\"attributes\":{\"active_drag\":{\"id\":\"90763\"},\"active_scroll\":{\"id\":\"90764\"},\"tools\":[{\"id\":\"90744\"},{\"id\":\"90762\"},{\"id\":\"90763\"},{\"id\":\"90764\"},{\"id\":\"90765\"},{\"id\":\"90766\"}]},\"id\":\"90768\",\"type\":\"Toolbar\"},{\"attributes\":{\"fill_alpha\":{\"value\":0.8},\"fill_color\":{\"value\":\"#30a2da\"},\"hatch_alpha\":{\"value\":0.8},\"hatch_color\":{\"value\":\"#30a2da\"},\"line_alpha\":{\"value\":0.8},\"line_color\":{\"value\":\"#30a2da\"},\"size\":{\"value\":5.477225575051661},\"x\":{\"field\":\"category\"},\"y\":{\"field\":\"imdb_rating\"}},\"id\":\"86688\",\"type\":\"Scatter\"},{\"attributes\":{\"fill_alpha\":{\"value\":0.2},\"fill_color\":{\"value\":\"#9467bd\"},\"hatch_alpha\":{\"value\":0.2},\"hatch_color\":{\"value\":\"#9467bd\"},\"line_alpha\":{\"value\":0.2},\"line_color\":{\"value\":\"#9467bd\"},\"size\":{\"value\":5.477225575051661},\"x\":{\"field\":\"category\"},\"y\":{\"field\":\"imdb_rating\"}},\"id\":\"87357\",\"type\":\"Scatter\"},{\"attributes\":{},\"id\":\"87851\",\"type\":\"UnionRenderers\"},{\"attributes\":{\"coordinates\":null,\"data_source\":{\"id\":\"87786\"},\"glyph\":{\"id\":\"87789\"},\"group\":null,\"hover_glyph\":null,\"muted_glyph\":{\"id\":\"87791\"},\"nonselection_glyph\":{\"id\":\"87790\"},\"selection_glyph\":{\"id\":\"87855\"},\"view\":{\"id\":\"87793\"}},\"id\":\"87792\",\"type\":\"GlyphRenderer\"},{\"attributes\":{\"bottom_units\":\"screen\",\"coordinates\":null,\"fill_alpha\":0.5,\"fill_color\":\"lightgrey\",\"group\":null,\"left_units\":\"screen\",\"level\":\"overlay\",\"line_alpha\":1.0,\"line_color\":\"black\",\"line_dash\":[4,4],\"line_width\":2,\"right_units\":\"screen\",\"syncable\":false,\"top_units\":\"screen\"},\"id\":\"90767\",\"type\":\"BoxAnnotation\"},{\"attributes\":{\"fill_alpha\":{\"value\":0.2},\"fill_color\":{\"value\":\"#30a2da\"},\"hatch_alpha\":{\"value\":0.2},\"hatch_color\":{\"value\":\"#30a2da\"},\"line_alpha\":{\"value\":0.2},\"line_color\":{\"value\":\"#30a2da\"},\"size\":{\"value\":5.477225575051661},\"x\":{\"field\":\"category\"},\"y\":{\"field\":\"imdb_rating\"}},\"id\":\"86690\",\"type\":\"Scatter\"},{\"attributes\":{\"source\":{\"id\":\"87352\"}},\"id\":\"87359\",\"type\":\"CDSView\"},{\"attributes\":{\"fill_alpha\":{\"value\":0.8},\"fill_color\":{\"value\":\"#fc4f30\"},\"hatch_alpha\":{\"value\":0.8},\"hatch_color\":{\"value\":\"#fc4f30\"},\"line_alpha\":{\"value\":0.8},\"line_color\":{\"value\":\"#fc4f30\"},\"size\":{\"value\":5.477225575051661},\"x\":{\"field\":\"category\"},\"y\":{\"field\":\"imdb_rating\"}},\"id\":\"87789\",\"type\":\"Scatter\"},{\"attributes\":{\"fill_alpha\":{\"value\":0.2},\"fill_color\":{\"value\":\"#fc4f30\"},\"hatch_alpha\":{\"value\":0.2},\"hatch_color\":{\"value\":\"#fc4f30\"},\"line_alpha\":{\"value\":0.2},\"line_color\":{\"value\":\"#fc4f30\"},\"size\":{\"value\":5.477225575051661},\"x\":{\"field\":\"category\"},\"y\":{\"field\":\"imdb_rating\"}},\"id\":\"87791\",\"type\":\"Scatter\"},{\"attributes\":{\"fill_alpha\":0.5,\"fill_color\":\"#E9967A\",\"hatch_alpha\":0.1,\"hatch_color\":\"#E9967A\",\"line_alpha\":1,\"x\":{\"field\":\"x\"},\"y\":{\"field\":\"y\"}},\"id\":\"90831\",\"type\":\"Patch\"},{\"attributes\":{\"factors\":[[\"0\",\"Approved\"],[\"0\",\"R\"],[\"0\",\"PG\"],[\"1\",\"Approved\"],[\"1\",\"R\"],[\"1\",\"PG\"]],\"tags\":[[[\"Drama\",\"Drama\",null],[\"category\",\"category\",null]]]},\"id\":\"90678\",\"type\":\"FactorRange\"},{\"attributes\":{\"source\":{\"id\":\"87786\"}},\"id\":\"87793\",\"type\":\"CDSView\"},{\"attributes\":{\"label\":{\"value\":\"121\"},\"renderers\":[{\"id\":\"87358\"}]},\"id\":\"87406\",\"type\":\"LegendItem\"},{\"attributes\":{\"source\":{\"id\":\"86685\"}},\"id\":\"86692\",\"type\":\"CDSView\"},{\"attributes\":{\"angle\":{\"value\":0.0},\"fill_alpha\":{\"value\":0.8},\"fill_color\":{\"value\":\"#9467bd\"},\"hatch_alpha\":{\"value\":0.8},\"hatch_color\":{\"value\":\"#9467bd\"},\"hatch_scale\":{\"value\":12.0},\"hatch_weight\":{\"value\":1.0},\"line_alpha\":{\"value\":0.8},\"line_cap\":{\"value\":\"butt\"},\"line_color\":{\"value\":\"#9467bd\"},\"line_dash\":{\"value\":[]},\"line_dash_offset\":{\"value\":0},\"line_join\":{\"value\":\"bevel\"},\"line_width\":{\"value\":1},\"marker\":{\"value\":\"circle\"},\"size\":{\"value\":5.477225575051661},\"x\":{\"field\":\"category\"},\"y\":{\"field\":\"imdb_rating\"}},\"id\":\"87407\",\"type\":\"Scatter\"},{\"attributes\":{\"fill_alpha\":0.5,\"fill_color\":\"#E9967A\",\"hatch_alpha\":0.1,\"hatch_color\":\"#E9967A\",\"line_alpha\":1,\"x\":{\"field\":\"x\"},\"y\":{\"field\":\"y\"}},\"id\":\"90779\",\"type\":\"Patch\"},{\"attributes\":{\"label\":{\"value\":\"131\"},\"renderers\":[{\"id\":\"87792\"}]},\"id\":\"87854\",\"type\":\"LegendItem\"},{\"attributes\":{\"factors\":[\"R\",\"PG\",\"Approved\"],\"palette\":[\"#30a2da\",\"#fc4f30\",\"#e5ae38\"]},\"id\":\"90710\",\"type\":\"CategoricalColorMapper\"},{\"attributes\":{},\"id\":\"90785\",\"type\":\"BasicTickFormatter\"},{\"attributes\":{},\"id\":\"86680\",\"type\":\"CategoricalTickFormatter\"},{\"attributes\":{\"coordinates\":null,\"data_source\":{\"id\":\"90775\"},\"glyph\":{\"id\":\"90778\"},\"group\":null,\"hover_glyph\":null,\"muted_glyph\":{\"id\":\"90780\"},\"nonselection_glyph\":{\"id\":\"90779\"},\"selection_glyph\":{\"id\":\"90783\"},\"view\":{\"id\":\"90782\"}},\"id\":\"90781\",\"type\":\"GlyphRenderer\"},{\"attributes\":{},\"id\":\"90786\",\"type\":\"AllLabels\"},{\"attributes\":{\"above\":[{\"id\":\"86703\"}],\"below\":[{\"id\":\"86659\"}],\"center\":[{\"id\":\"86661\"},{\"id\":\"86665\"}],\"height\":400,\"left\":[{\"id\":\"86662\"}],\"margin\":[5,5,5,5],\"min_border_bottom\":10,\"min_border_left\":10,\"min_border_right\":10,\"min_border_top\":10,\"renderers\":[{\"id\":\"86691\"},{\"id\":\"86712\"},{\"id\":\"86734\"},{\"id\":\"86758\"},{\"id\":\"86784\"},{\"id\":\"86812\"},{\"id\":\"86842\"},{\"id\":\"86874\"},{\"id\":\"86908\"},{\"id\":\"86944\"},{\"id\":\"86982\"},{\"id\":\"87022\"},{\"id\":\"87064\"},{\"id\":\"87108\"},{\"id\":\"87154\"},{\"id\":\"87202\"},{\"id\":\"87252\"},{\"id\":\"87304\"},{\"id\":\"87358\"},{\"id\":\"87414\"},{\"id\":\"87472\"},{\"id\":\"87532\"},{\"id\":\"87594\"},{\"id\":\"87658\"},{\"id\":\"87724\"},{\"id\":\"87792\"},{\"id\":\"87862\"},{\"id\":\"87934\"},{\"id\":\"88008\"},{\"id\":\"88084\"},{\"id\":\"88162\"},{\"id\":\"88242\"},{\"id\":\"88324\"},{\"id\":\"88408\"},{\"id\":\"88494\"},{\"id\":\"88582\"},{\"id\":\"88672\"},{\"id\":\"88764\"},{\"id\":\"88858\"},{\"id\":\"88954\"},{\"id\":\"89052\"},{\"id\":\"89152\"},{\"id\":\"89254\"},{\"id\":\"89358\"},{\"id\":\"89464\"},{\"id\":\"89572\"},{\"id\":\"89682\"},{\"id\":\"89794\"},{\"id\":\"89908\"},{\"id\":\"90024\"},{\"id\":\"90142\"},{\"id\":\"90262\"}],\"sizing_mode\":\"fixed\",\"title\":{\"id\":\"86651\"},\"toolbar\":{\"id\":\"86672\"},\"width\":500,\"x_range\":{\"id\":\"86596\"},\"x_scale\":{\"id\":\"86655\"},\"y_range\":{\"id\":\"86597\"},\"y_scale\":{\"id\":\"86657\"}},\"id\":\"86650\",\"subtype\":\"Figure\",\"type\":\"Plot\"},{\"attributes\":{\"click_policy\":\"mute\",\"coordinates\":null,\"group\":null,\"items\":[{\"id\":\"86704\"},{\"id\":\"86726\"},{\"id\":\"86750\"},{\"id\":\"86776\"},{\"id\":\"86804\"},{\"id\":\"86834\"},{\"id\":\"86866\"},{\"id\":\"86900\"},{\"id\":\"86936\"},{\"id\":\"86974\"},{\"id\":\"87014\"},{\"id\":\"87056\"},{\"id\":\"87100\"},{\"id\":\"87146\"},{\"id\":\"87194\"},{\"id\":\"87244\"},{\"id\":\"87296\"},{\"id\":\"87350\"},{\"id\":\"87406\"},{\"id\":\"87464\"},{\"id\":\"87524\"},{\"id\":\"87586\"},{\"id\":\"87650\"},{\"id\":\"87716\"},{\"id\":\"87784\"},{\"id\":\"87854\"},{\"id\":\"87926\"},{\"id\":\"88000\"},{\"id\":\"88076\"},{\"id\":\"88154\"},{\"id\":\"88234\"},{\"id\":\"88316\"},{\"id\":\"88400\"},{\"id\":\"88486\"},{\"id\":\"88574\"},{\"id\":\"88664\"},{\"id\":\"88756\"},{\"id\":\"88850\"},{\"id\":\"88946\"},{\"id\":\"89044\"},{\"id\":\"89144\"},{\"id\":\"89246\"},{\"id\":\"89350\"},{\"id\":\"89456\"},{\"id\":\"89564\"},{\"id\":\"89674\"},{\"id\":\"89786\"},{\"id\":\"89900\"},{\"id\":\"90016\"},{\"id\":\"90134\"},{\"id\":\"90254\"},{\"id\":\"90376\"}],\"location\":[0,0],\"orientation\":\"horizontal\",\"title\":\"run_time\"},\"id\":\"86703\",\"type\":\"Legend\"},{\"attributes\":{\"angle\":{\"value\":0.0},\"fill_alpha\":{\"value\":0.8},\"fill_color\":{\"value\":\"#fc4f30\"},\"hatch_alpha\":{\"value\":0.8},\"hatch_color\":{\"value\":\"#fc4f30\"},\"hatch_scale\":{\"value\":12.0},\"hatch_weight\":{\"value\":1.0},\"line_alpha\":{\"value\":0.8},\"line_cap\":{\"value\":\"butt\"},\"line_color\":{\"value\":\"#fc4f30\"},\"line_dash\":{\"value\":[]},\"line_dash_offset\":{\"value\":0},\"line_join\":{\"value\":\"bevel\"},\"line_width\":{\"value\":1},\"marker\":{\"value\":\"circle\"},\"size\":{\"value\":5.477225575051661},\"x\":{\"field\":\"category\"},\"y\":{\"field\":\"imdb_rating\"}},\"id\":\"87855\",\"type\":\"Scatter\"},{\"attributes\":{\"fill_alpha\":0.2,\"fill_color\":\"#E9967A\",\"hatch_alpha\":0.2,\"hatch_color\":\"#E9967A\",\"line_alpha\":0.2,\"x\":{\"field\":\"x\"},\"y\":{\"field\":\"y\"}},\"id\":\"90780\",\"type\":\"Patch\"},{\"attributes\":{\"end\":936.66,\"format\":\"0.0[0000]\",\"margin\":[0,0,5,0],\"show_value\":false,\"start\":0.02,\"step\":100,\"value\":[5,500]},\"id\":\"86524\",\"type\":\"RangeSlider\"},{\"attributes\":{\"fill_alpha\":{\"value\":0.8},\"fill_color\":{\"value\":\"#d62728\"},\"hatch_alpha\":{\"value\":0.1},\"hatch_color\":{\"value\":\"#d62728\"},\"line_alpha\":{\"value\":0.8},\"line_color\":{\"value\":\"#d62728\"},\"size\":{\"value\":5.477225575051661},\"x\":{\"field\":\"category\"},\"y\":{\"field\":\"imdb_rating\"}},\"id\":\"87412\",\"type\":\"Scatter\"},{\"attributes\":{\"source\":{\"id\":\"88002\"}},\"id\":\"88009\",\"type\":\"CDSView\"},{\"attributes\":{},\"id\":\"86683\",\"type\":\"BasicTickFormatter\"},{\"attributes\":{\"label\":{\"value\":\"93\"},\"renderers\":[{\"id\":\"86691\"}]},\"id\":\"86704\",\"type\":\"LegendItem\"},{\"attributes\":{},\"id\":\"90854\",\"type\":\"LinearScale\"},{\"attributes\":{\"source\":{\"id\":\"90775\"}},\"id\":\"90782\",\"type\":\"CDSView\"},{\"attributes\":{},\"id\":\"86655\",\"type\":\"CategoricalScale\"},{\"attributes\":{},\"id\":\"86550\",\"type\":\"CategoricalTicker\"},{\"attributes\":{},\"id\":\"87461\",\"type\":\"UnionRenderers\"},{\"attributes\":{\"coordinates\":null,\"data_source\":{\"id\":\"87408\"},\"glyph\":{\"id\":\"87411\"},\"group\":null,\"hover_glyph\":null,\"muted_glyph\":{\"id\":\"87413\"},\"nonselection_glyph\":{\"id\":\"87412\"},\"selection_glyph\":{\"id\":\"87465\"},\"view\":{\"id\":\"87415\"}},\"id\":\"87414\",\"type\":\"GlyphRenderer\"},{\"attributes\":{\"fill_alpha\":{\"value\":0.8},\"fill_color\":{\"value\":\"#e5ae38\"},\"hatch_alpha\":{\"value\":0.1},\"hatch_color\":{\"value\":\"#e5ae38\"},\"line_alpha\":{\"value\":0.8},\"line_color\":{\"value\":\"#e5ae38\"},\"size\":{\"value\":5.477225575051661},\"x\":{\"field\":\"category\"},\"y\":{\"field\":\"imdb_rating\"}},\"id\":\"87860\",\"type\":\"Scatter\"},{\"attributes\":{\"fill_alpha\":0.5,\"fill_color\":\"#E9967A\",\"hatch_color\":\"#E9967A\",\"x\":{\"field\":\"x\"},\"y\":{\"field\":\"y\"}},\"id\":\"90778\",\"type\":\"Patch\"},{\"attributes\":{\"fill_alpha\":0.5,\"fill_color\":\"#E9967A\",\"hatch_color\":\"#E9967A\",\"x\":{\"field\":\"x\"},\"y\":{\"field\":\"y\"}},\"id\":\"90783\",\"type\":\"Patch\"},{\"attributes\":{\"coordinates\":null,\"group\":null,\"text\":\"Category VS Rating By Duration\",\"text_color\":\"black\",\"text_font_size\":\"12pt\"},\"id\":\"86651\",\"type\":\"Title\"},{\"attributes\":{\"fill_alpha\":{\"value\":0.8},\"fill_color\":{\"value\":\"#d62728\"},\"hatch_alpha\":{\"value\":0.8},\"hatch_color\":{\"value\":\"#d62728\"},\"line_alpha\":{\"value\":0.8},\"line_color\":{\"value\":\"#d62728\"},\"size\":{\"value\":5.477225575051661},\"x\":{\"field\":\"category\"},\"y\":{\"field\":\"imdb_rating\"}},\"id\":\"87411\",\"type\":\"Scatter\"},{\"attributes\":{\"callback\":null,\"renderers\":[{\"id\":\"90717\"}],\"tags\":[\"hv_created\"],\"tooltips\":[[\"Drama\",\"@{Drama}\"],[\"category\",\"@{category}\"],[\"imdb_rating\",\"@{imdb_rating}\"],[\"movie_name\",\"@{movie_name}\"]]},\"id\":\"90680\",\"type\":\"HoverTool\"},{\"attributes\":{\"fill_alpha\":{\"value\":0.2},\"fill_color\":{\"value\":\"#d62728\"},\"hatch_alpha\":{\"value\":0.2},\"hatch_color\":{\"value\":\"#d62728\"},\"line_alpha\":{\"value\":0.2},\"line_color\":{\"value\":\"#d62728\"},\"size\":{\"value\":5.477225575051661},\"x\":{\"field\":\"category\"},\"y\":{\"field\":\"imdb_rating\"}},\"id\":\"87413\",\"type\":\"Scatter\"},{\"attributes\":{},\"id\":\"87923\",\"type\":\"UnionRenderers\"},{\"attributes\":{\"below\":[{\"id\":\"90690\"}],\"center\":[{\"id\":\"90692\"},{\"id\":\"90696\"}],\"height\":400,\"left\":[{\"id\":\"90693\"}],\"margin\":[5,5,5,5],\"min_border_bottom\":10,\"min_border_left\":10,\"min_border_right\":10,\"min_border_top\":10,\"renderers\":[{\"id\":\"90717\"}],\"sizing_mode\":\"fixed\",\"title\":{\"id\":\"90682\"},\"toolbar\":{\"id\":\"90703\"},\"width\":500,\"x_range\":{\"id\":\"90678\"},\"x_scale\":{\"id\":\"90686\"},\"y_range\":{\"id\":\"86597\"},\"y_scale\":{\"id\":\"90688\"}},\"id\":\"90681\",\"subtype\":\"Figure\",\"type\":\"Plot\"},{\"attributes\":{},\"id\":\"86657\",\"type\":\"LinearScale\"},{\"attributes\":{\"coordinates\":null,\"data_source\":{\"id\":\"87856\"},\"glyph\":{\"id\":\"87859\"},\"group\":null,\"hover_glyph\":null,\"muted_glyph\":{\"id\":\"87861\"},\"nonselection_glyph\":{\"id\":\"87860\"},\"selection_glyph\":{\"id\":\"87927\"},\"view\":{\"id\":\"87863\"}},\"id\":\"87862\",\"type\":\"GlyphRenderer\"},{\"attributes\":{\"source\":{\"id\":\"87408\"}},\"id\":\"87415\",\"type\":\"CDSView\"},{\"attributes\":{\"fill_alpha\":{\"value\":0.8},\"fill_color\":{\"value\":\"#e5ae38\"},\"hatch_alpha\":{\"value\":0.8},\"hatch_color\":{\"value\":\"#e5ae38\"},\"line_alpha\":{\"value\":0.8},\"line_color\":{\"value\":\"#e5ae38\"},\"size\":{\"value\":5.477225575051661},\"x\":{\"field\":\"category\"},\"y\":{\"field\":\"imdb_rating\"}},\"id\":\"87859\",\"type\":\"Scatter\"},{\"attributes\":{},\"id\":\"90788\",\"type\":\"BasicTickFormatter\"},{\"attributes\":{\"axis_label\":\"category\",\"coordinates\":null,\"formatter\":{\"id\":\"86680\"},\"group\":null,\"major_label_policy\":{\"id\":\"86681\"},\"ticker\":{\"id\":\"86660\"}},\"id\":\"86659\",\"type\":\"CategoricalAxis\"},{\"attributes\":{\"fill_alpha\":{\"value\":0.2},\"fill_color\":{\"value\":\"#e5ae38\"},\"hatch_alpha\":{\"value\":0.2},\"hatch_color\":{\"value\":\"#e5ae38\"},\"line_alpha\":{\"value\":0.2},\"line_color\":{\"value\":\"#e5ae38\"},\"size\":{\"value\":5.477225575051661},\"x\":{\"field\":\"category\"},\"y\":{\"field\":\"imdb_rating\"}},\"id\":\"87861\",\"type\":\"Scatter\"},{\"attributes\":{\"data\":{\"category\":[\"R\",\"R\"],\"imdb_rating\":{\"__ndarray__\":\"mpmZmZmZH0BmZmZmZmYgQA==\",\"dtype\":\"float64\",\"order\":\"little\",\"shape\":[2]},\"movie_name\":[\"Children of Men\",\"The Thing\"],\"run_time\":[109,109]},\"selected\":{\"id\":\"86837\"},\"selection_policy\":{\"id\":\"86863\"}},\"id\":\"86836\",\"type\":\"ColumnDataSource\"},{\"attributes\":{},\"id\":\"90686\",\"type\":\"CategoricalScale\"},{\"attributes\":{\"data\":{\"category\":[\"R\",\"R\",\"PG\"],\"imdb_rating\":{\"__ndarray__\":\"zczMzMzMHkCamZmZmZkgQAAAAAAAACFA\",\"dtype\":\"float64\",\"order\":\"little\",\"shape\":[3]},\"movie_name\":[\"Lost in Translation\",\"Requiem for a Dream\",\"Casablanca\"],\"run_time\":[102,102,102]},\"selected\":{\"id\":\"86753\"},\"selection_policy\":{\"id\":\"86773\"}},\"id\":\"86752\",\"type\":\"ColumnDataSource\"},{\"attributes\":{\"source\":{\"id\":\"87856\"}},\"id\":\"87863\",\"type\":\"CDSView\"},{\"attributes\":{\"axis\":{\"id\":\"86549\"},\"coordinates\":null,\"dimension\":1,\"grid_line_color\":null,\"group\":null,\"ticker\":null},\"id\":\"86551\",\"type\":\"Grid\"},{\"attributes\":{\"label\":{\"value\":\"122\"},\"renderers\":[{\"id\":\"87414\"}]},\"id\":\"87464\",\"type\":\"LegendItem\"},{\"attributes\":{},\"id\":\"86660\",\"type\":\"CategoricalTicker\"},{\"attributes\":{\"axis\":{\"id\":\"86659\"},\"coordinates\":null,\"grid_line_color\":null,\"group\":null,\"ticker\":null},\"id\":\"86661\",\"type\":\"Grid\"},{\"attributes\":{\"coordinates\":null,\"group\":null,\"text\":\"gender VS category VS rating\",\"text_color\":\"black\",\"text_font_size\":\"12pt\"},\"id\":\"90682\",\"type\":\"Title\"},{\"attributes\":{\"angle\":{\"value\":0.0},\"fill_alpha\":{\"value\":0.8},\"fill_color\":{\"value\":\"#30a2da\"},\"hatch_alpha\":{\"value\":0.8},\"hatch_color\":{\"value\":\"#30a2da\"},\"hatch_scale\":{\"value\":12.0},\"hatch_weight\":{\"value\":1.0},\"line_alpha\":{\"value\":0.8},\"line_cap\":{\"value\":\"butt\"},\"line_color\":{\"value\":\"#30a2da\"},\"line_dash\":{\"value\":[]},\"line_dash_offset\":{\"value\":0},\"line_join\":{\"value\":\"bevel\"},\"line_width\":{\"value\":1},\"marker\":{\"value\":\"circle\"},\"size\":{\"value\":5.477225575051661},\"x\":{\"field\":\"category\"},\"y\":{\"field\":\"imdb_rating\"}},\"id\":\"86705\",\"type\":\"Scatter\"},{\"attributes\":{\"data\":{\"category\":[\"PG\"],\"imdb_rating\":{\"__ndarray__\":\"mpmZmZmZIEA=\",\"dtype\":\"float64\",\"order\":\"little\",\"shape\":[1]},\"movie_name\":[\"Vertigo\"],\"run_time\":[128]},\"selected\":{\"id\":\"87589\"},\"selection_policy\":{\"id\":\"87647\"}},\"id\":\"87588\",\"type\":\"ColumnDataSource\"},{\"attributes\":{\"label\":{\"value\":\"132\"},\"renderers\":[{\"id\":\"87862\"}]},\"id\":\"87926\",\"type\":\"LegendItem\"},{\"attributes\":{},\"id\":\"90789\",\"type\":\"AllLabels\"},{\"attributes\":{\"margin\":[200,200,200,200],\"name\":\"Spacer70396\"},\"id\":\"86527\",\"type\":\"Spacer\"},{\"attributes\":{\"axis_label\":\"imdb_rating\",\"coordinates\":null,\"formatter\":{\"id\":\"86683\"},\"group\":null,\"major_label_policy\":{\"id\":\"86684\"},\"ticker\":{\"id\":\"86663\"}},\"id\":\"86662\",\"type\":\"LinearAxis\"},{\"attributes\":{},\"id\":\"90688\",\"type\":\"LinearScale\"},{\"attributes\":{\"angle\":{\"value\":0.0},\"fill_alpha\":{\"value\":0.8},\"fill_color\":{\"value\":\"#d62728\"},\"hatch_alpha\":{\"value\":0.8},\"hatch_color\":{\"value\":\"#d62728\"},\"hatch_scale\":{\"value\":12.0},\"hatch_weight\":{\"value\":1.0},\"line_alpha\":{\"value\":0.8},\"line_cap\":{\"value\":\"butt\"},\"line_color\":{\"value\":\"#d62728\"},\"line_dash\":{\"value\":[]},\"line_dash_offset\":{\"value\":0},\"line_join\":{\"value\":\"bevel\"},\"line_width\":{\"value\":1},\"marker\":{\"value\":\"circle\"},\"size\":{\"value\":5.477225575051661},\"x\":{\"field\":\"category\"},\"y\":{\"field\":\"imdb_rating\"}},\"id\":\"87465\",\"type\":\"Scatter\"},{\"attributes\":{\"axis_label\":\"Drama, category\",\"coordinates\":null,\"formatter\":{\"id\":\"90721\"},\"group\":null,\"major_label_policy\":{\"id\":\"90722\"},\"ticker\":{\"id\":\"90691\"}},\"id\":\"90690\",\"type\":\"CategoricalAxis\"},{\"attributes\":{\"data\":{\"category\":[\"Approved\",\"R\"],\"imdb_rating\":{\"__ndarray__\":\"mpmZmZmZIEBmZmZmZmYhQA==\",\"dtype\":\"float64\",\"order\":\"little\",\"shape\":[2]},\"movie_name\":[\"North by Northwest\",\"The Matrix\"],\"run_time\":[136,136]},\"selected\":{\"id\":\"88079\"},\"selection_policy\":{\"id\":\"88151\"}},\"id\":\"88078\",\"type\":\"ColumnDataSource\"},{\"attributes\":{},\"id\":\"86663\",\"type\":\"BasicTicker\"},{\"attributes\":{\"angle\":{\"value\":0.0},\"fill_alpha\":{\"value\":0.8},\"fill_color\":{\"value\":\"#e5ae38\"},\"hatch_alpha\":{\"value\":0.8},\"hatch_color\":{\"value\":\"#e5ae38\"},\"hatch_scale\":{\"value\":12.0},\"hatch_weight\":{\"value\":1.0},\"line_alpha\":{\"value\":0.8},\"line_cap\":{\"value\":\"butt\"},\"line_color\":{\"value\":\"#e5ae38\"},\"line_dash\":{\"value\":[]},\"line_dash_offset\":{\"value\":0},\"line_join\":{\"value\":\"bevel\"},\"line_width\":{\"value\":1},\"marker\":{\"value\":\"circle\"},\"size\":{\"value\":5.477225575051661},\"x\":{\"field\":\"category\"},\"y\":{\"field\":\"imdb_rating\"}},\"id\":\"87927\",\"type\":\"Scatter\"},{\"attributes\":{},\"id\":\"86686\",\"type\":\"Selection\"},{\"attributes\":{\"axis\":{\"id\":\"86662\"},\"coordinates\":null,\"dimension\":1,\"grid_line_color\":null,\"group\":null,\"ticker\":null},\"id\":\"86665\",\"type\":\"Grid\"},{\"attributes\":{},\"id\":\"90691\",\"type\":\"CategoricalTicker\"},{\"attributes\":{},\"id\":\"87527\",\"type\":\"Selection\"},{\"attributes\":{\"axis_label\":\"year_of_release\",\"coordinates\":null,\"formatter\":{\"id\":\"86578\"},\"group\":null,\"major_label_policy\":{\"id\":\"86579\"},\"ticker\":{\"id\":\"86550\"}},\"id\":\"86549\",\"type\":\"CategoricalAxis\"},{\"attributes\":{\"fill_alpha\":{\"value\":0.8},\"fill_color\":{\"value\":\"#1f77b4\"},\"hatch_alpha\":{\"value\":0.8},\"hatch_color\":{\"value\":\"#1f77b4\"},\"line_alpha\":{\"value\":0.8},\"line_color\":{\"value\":\"#1f77b4\"},\"size\":{\"value\":5.477225575051661},\"x\":{\"field\":\"category\"},\"y\":{\"field\":\"imdb_rating\"}},\"id\":\"87469\",\"type\":\"Scatter\"},{\"attributes\":{},\"id\":\"86707\",\"type\":\"Selection\"},{\"attributes\":{\"end\":0.016089208814191742,\"reset_end\":0.016089208814191742,\"reset_start\":0.0,\"tags\":[[[\"value_density\",\"Density\",null]]]},\"id\":\"90795\",\"type\":\"Range1d\"},{\"attributes\":{\"axis\":{\"id\":\"90690\"},\"coordinates\":null,\"grid_line_color\":null,\"group\":null,\"ticker\":null},\"id\":\"90692\",\"type\":\"Grid\"},{\"attributes\":{\"coordinates\":null,\"data_source\":{\"id\":\"88002\"},\"glyph\":{\"id\":\"88005\"},\"group\":null,\"hover_glyph\":null,\"muted_glyph\":{\"id\":\"88007\"},\"nonselection_glyph\":{\"id\":\"88006\"},\"selection_glyph\":{\"id\":\"88077\"},\"view\":{\"id\":\"88009\"}},\"id\":\"88008\",\"type\":\"GlyphRenderer\"},{\"attributes\":{\"end\":271.24232512173717,\"reset_end\":271.24232512173717,\"reset_start\":53.75767487826281,\"start\":53.75767487826281,\"tags\":[[[\"value\",\"value\",null]]]},\"id\":\"90794\",\"type\":\"Range1d\"},{\"attributes\":{\"axis_label\":\"imdb_rating\",\"coordinates\":null,\"formatter\":{\"id\":\"90724\"},\"group\":null,\"major_label_policy\":{\"id\":\"90725\"},\"ticker\":{\"id\":\"90694\"}},\"id\":\"90693\",\"type\":\"LinearAxis\"},{\"attributes\":{\"data\":{\"category\":[\"R\"],\"imdb_rating\":{\"__ndarray__\":\"AAAAAAAAIUA=\",\"dtype\":\"float64\",\"order\":\"little\",\"shape\":[1]},\"movie_name\":[\"The Usual Suspects\"],\"run_time\":[106]},\"selected\":{\"id\":\"86779\"},\"selection_policy\":{\"id\":\"86801\"}},\"id\":\"86778\",\"type\":\"ColumnDataSource\"},{\"attributes\":{},\"id\":\"86681\",\"type\":\"AllLabels\"},{\"attributes\":{\"fill_alpha\":{\"value\":0.8},\"fill_color\":{\"value\":\"#1f77b4\"},\"hatch_alpha\":{\"value\":0.1},\"hatch_color\":{\"value\":\"#1f77b4\"},\"line_alpha\":{\"value\":0.8},\"line_color\":{\"value\":\"#1f77b4\"},\"size\":{\"value\":5.477225575051661},\"x\":{\"field\":\"category\"},\"y\":{\"field\":\"imdb_rating\"}},\"id\":\"87470\",\"type\":\"Scatter\"},{\"attributes\":{},\"id\":\"87467\",\"type\":\"Selection\"},{\"attributes\":{},\"id\":\"86666\",\"type\":\"SaveTool\"},{\"attributes\":{},\"id\":\"90694\",\"type\":\"BasicTicker\"},{\"attributes\":{},\"id\":\"88003\",\"type\":\"Selection\"},{\"attributes\":{\"fill_alpha\":{\"value\":0.2},\"fill_color\":{\"value\":\"#1f77b4\"},\"hatch_alpha\":{\"value\":0.2},\"hatch_color\":{\"value\":\"#1f77b4\"},\"line_alpha\":{\"value\":0.2},\"line_color\":{\"value\":\"#1f77b4\"},\"size\":{\"value\":5.477225575051661},\"x\":{\"field\":\"category\"},\"y\":{\"field\":\"imdb_rating\"}},\"id\":\"87471\",\"type\":\"Scatter\"},{\"attributes\":{},\"id\":\"87929\",\"type\":\"Selection\"},{\"attributes\":{\"callback\":null,\"renderers\":[{\"id\":\"90833\"}],\"tags\":[\"hv_created\"],\"tooltips\":[[\"value\",\"@{value}\"],[\"Density\",\"@{value_density}\"]]},\"id\":\"90796\",\"type\":\"HoverTool\"},{\"attributes\":{\"axis\":{\"id\":\"90693\"},\"coordinates\":null,\"dimension\":1,\"grid_line_color\":null,\"group\":null,\"ticker\":null},\"id\":\"90696\",\"type\":\"Grid\"},{\"attributes\":{\"fill_alpha\":{\"value\":0.8},\"fill_color\":{\"value\":\"#6d904f\"},\"hatch_alpha\":{\"value\":0.1},\"hatch_color\":{\"value\":\"#6d904f\"},\"line_alpha\":{\"value\":0.8},\"line_color\":{\"value\":\"#6d904f\"},\"size\":{\"value\":5.477225575051661},\"x\":{\"field\":\"category\"},\"y\":{\"field\":\"imdb_rating\"}},\"id\":\"87932\",\"type\":\"Scatter\"},{\"attributes\":{},\"id\":\"86667\",\"type\":\"PanTool\"},{\"attributes\":{\"end\":2683302,\"margin\":[5,10,5,10],\"start\":10748,\"step\":100,\"title\":\"votes for film\",\"value\":[10000,200000]},\"id\":\"86526\",\"type\":\"RangeSlider\"},{\"attributes\":{\"below\":[{\"id\":\"90806\"}],\"center\":[{\"id\":\"90809\"},{\"id\":\"90813\"}],\"height\":400,\"left\":[{\"id\":\"90810\"}],\"margin\":null,\"min_border_bottom\":10,\"min_border_left\":10,\"min_border_right\":10,\"min_border_top\":10,\"renderers\":[{\"id\":\"90833\"}],\"sizing_mode\":\"fixed\",\"title\":{\"id\":\"90798\"},\"toolbar\":{\"id\":\"90820\"},\"toolbar_location\":null,\"width\":200,\"x_range\":{\"id\":\"90794\"},\"x_scale\":{\"id\":\"90802\"},\"y_range\":{\"id\":\"90795\"},\"y_scale\":{\"id\":\"90804\"}},\"id\":\"90797\",\"subtype\":\"Figure\",\"type\":\"Plot\"},{\"attributes\":{\"data\":{\"x\":{\"__ndarray__\":\"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\",\"dtype\":\"float64\",\"order\":\"little\",\"shape\":[200]},\"y\":{\"__ndarray__\":\"AAAAAAAAAAAAAAAAAAAAAAAAAAAAAAAAAAAAAAAAAAAAAAAAAAAAAAAAAAAAAAAAAAAAAAAAAAAAAAAAAAAAAAAAAAAAAAAAAAAAAAAAAAAAAAAAAAAAAAAAAAAAAAAAAAAAAAAAAAAAAAAAAAAAAAAAAAAAAAAAAAAAAAAAAAAAAAAAAAAAAAAAAAAAAAAAAAAAAAAAAAAAAAAAAAAAAAAAAAAAAAAAAAAAAAAAAAAAAAAAAAAAAAAAAAAAAAAAAAAAAAAAAAAAAAAAAAAAAAAAAAAAAAAAAAAAAAAAAAAAAAAAAAAAAAAAAAAAAAAAAAAAAAAAAAAAAAAAAAAAAAAAAAAAAAAAAAAAAAAAAAAAAAAAAAAAAAAAAAAAAAAAAAAAAAAAAAAAAAAAAAAAAAAAAAAAAAAAAAAAAAAAAAAAAAAAAAAAAAAAAAAAAAAAAAAAAAAAAAAAAAAAAAAAAAAAAAAAAAAAAAAAAAAAAAAAAAAAAAAAAAAAAAAAAAAAAAAAAAAAAAAAAAAAAAAAAAAAAAAAAAAAAAAAAAAAAAAAAAAAAAAAAAAAAAAAAAAAAAAAAAAAAAAAAAAAAAAAAAAAAAAAAAAAAAAAAAAAAAAAAAAAAAAAAAAAAAAAAAAAAAAAAAAAAAAAAAAAAAAAAAAAAAAAAAAAAAAAAAAAAAAAAAAAAAAAAAAAAAAAAAAAAAAAAAAAAAAAAAAAAAAAAAAAAAAAAAAAAAAAAAAAAAAAAAAAAAAAAAAAAAAAAAAAAAAAAAAAAAAAAAAAAAAAAAAAAAAAAAAAAAAAAAAAAAAAAAAAAAAAAAAAAAAAAAAAAAAAAAAAAAAAAAAAAAAAAAAAAAAAAAAAAAAAAAAAAAAAAAAAAAAAAAAAAAAAAAAAAAAAAAAAAAAAAAAAAAAAAAAAAAAAAAAAAAAAAAAAAAAAAAAAAAAAAAAAAAAAAAAAAAAAAAAAAAAAAAAAAAAAAAAAAAAAAAAAAAAAAAAAAAAAAAAAAAAAAAAAAAAAAAAAAAAAAAAAAAAAAAAAAAAAAAAAAAAAAAAAAAAAAAAAAABuFDyq5vHQPvKi/tTgHd4+DNSJy2y76T4nzb43dSP1PtWSyvMWsgA/SgAu2FZbCT8Qu3TZcYMSPxwPu70J/hk/cdhOpReLIT9IrJmtBcUmPw3MAqN7aiw/tz5rQd8MMT8vQrh1la0zP/t51trm2DU/npXIs1FYNz9De7SMNAg4PxX0b9Wo4Dc/NAjX+1f6Nj9xJbtwQY41P4wAof6Q8DM/c81YPKCHMj9RuW7lvsAxPz8UyJBWBDI/brJFmaKqMz/OBt0S2/E2P7g/MjWe9js/wbPSjs9XQT//Qkjr9XZFP9dIwOWGMUo/nrT3JMNWTz+HGFbJqVpSPz01bV64ElU/efmpegLJVz/9Q114IX9aP3iDJlXWQl0/9jO7anMVYD9BSrtBqqhhP0lFZNAhZmM/zABFWrZTZT8t/AHB+W9nPw3jDlX4sWk/qWjMBgMLbD+8VFA3IWpuP2Ou7m0uYHA/pqIDHXOCcT+PSGmQDpxyP683CeRssnM/4rvWS97PdD8bko3DXAJ2P5HWyw2zWXc/YROhZVzleD/16tQNcrJ6P6u1ZtDoyXw/bRTfrEUvfz8Y5SlN7O+APy+IoxI/aYI/A1SxXfP7gz+MocCNs52FP2KEHM8qQoc/lxzsqvTbiD+Li7vct12KP4vbLMRCu4s/QmVD/HHqjD/hc5aPrOONP9BEpqjZoY4/OeFGQNwhjz9U7cGVy2GPP5LWYi45YI8/CvRTy9Ebjz99B8AZhZOOP6BQS9orx40/gjUDAXK4jD8QE9pirWuLP3nit4RM6Ik/vIk/z6k4iD84CJCYQGmGP11Qjy5xh4Q/0mPK2h+ggj/qZYnfgL6AP59QIYCj1n0/DZS7fj1Zej8vOYUHGwx3P0Yrua8L83M/IawyPf4PcT/KAZD93chsPxcNwEyf5Gc/OKHVXX94Yz+D2LdtjBRfP5UnRfdHPVg/5ZGT6cZuUj8XKViQKEhLP74+uCEwnUM/JnCw53hbOz/MNXJgpHsyPwaHtGkCKyg/5seepleNHj96Y4AHtKcSP+1Fll8a/gU/xqxk0dkD+T79jrfKTHDrPg==\",\"dtype\":\"float64\",\"order\":\"little\",\"shape\":[200]}},\"selected\":{\"id\":\"90828\"},\"selection_policy\":{\"id\":\"90916\"}},\"id\":\"90827\",\"type\":\"ColumnDataSource\"},{\"attributes\":{\"coordinates\":null,\"data_source\":{\"id\":\"87466\"},\"glyph\":{\"id\":\"87469\"},\"group\":null,\"hover_glyph\":null,\"muted_glyph\":{\"id\":\"87471\"},\"nonselection_glyph\":{\"id\":\"87470\"},\"selection_glyph\":{\"id\":\"87525\"},\"view\":{\"id\":\"87473\"}},\"id\":\"87472\",\"type\":\"GlyphRenderer\"},{\"attributes\":{\"fill_alpha\":{\"value\":0.8},\"fill_color\":{\"value\":\"#fc4f30\"},\"hatch_alpha\":{\"value\":0.8},\"hatch_color\":{\"value\":\"#fc4f30\"},\"line_alpha\":{\"value\":0.8},\"line_color\":{\"value\":\"#fc4f30\"},\"size\":{\"value\":5.477225575051661},\"x\":{\"field\":\"category\"},\"y\":{\"field\":\"imdb_rating\"}},\"id\":\"86709\",\"type\":\"Scatter\"},{\"attributes\":{\"fill_alpha\":{\"value\":0.2},\"fill_color\":{\"value\":\"#6d904f\"},\"hatch_alpha\":{\"value\":0.2},\"hatch_color\":{\"value\":\"#6d904f\"},\"line_alpha\":{\"value\":0.2},\"line_color\":{\"value\":\"#6d904f\"},\"size\":{\"value\":5.477225575051661},\"x\":{\"field\":\"category\"},\"y\":{\"field\":\"imdb_rating\"}},\"id\":\"87933\",\"type\":\"Scatter\"},{\"attributes\":{\"source\":{\"id\":\"87466\"}},\"id\":\"87473\",\"type\":\"CDSView\"},{\"attributes\":{\"fill_alpha\":{\"value\":0.8},\"fill_color\":{\"value\":\"#6d904f\"},\"hatch_alpha\":{\"value\":0.8},\"hatch_color\":{\"value\":\"#6d904f\"},\"line_alpha\":{\"value\":0.8},\"line_color\":{\"value\":\"#6d904f\"},\"size\":{\"value\":5.477225575051661},\"x\":{\"field\":\"category\"},\"y\":{\"field\":\"imdb_rating\"}},\"id\":\"87931\",\"type\":\"Scatter\"},{\"attributes\":{},\"id\":\"86668\",\"type\":\"WheelZoomTool\"},{\"attributes\":{\"coordinates\":null,\"data_source\":{\"id\":\"87928\"},\"glyph\":{\"id\":\"87931\"},\"group\":null,\"hover_glyph\":null,\"muted_glyph\":{\"id\":\"87933\"},\"nonselection_glyph\":{\"id\":\"87932\"},\"selection_glyph\":{\"id\":\"88001\"},\"view\":{\"id\":\"87935\"}},\"id\":\"87934\",\"type\":\"GlyphRenderer\"},{\"attributes\":{\"overlay\":{\"id\":\"86671\"}},\"id\":\"86669\",\"type\":\"BoxZoomTool\"},{\"attributes\":{},\"id\":\"90802\",\"type\":\"LinearScale\"},{\"attributes\":{\"data\":{\"category\":[\"R\",\"PG\"],\"imdb_rating\":{\"__ndarray__\":\"mpmZmZmZIEAAAAAAAAAhQA==\",\"dtype\":\"float64\",\"order\":\"little\",\"shape\":[2]},\"movie_name\":[\"Full Metal Jacket\",\"Back to the Future\"],\"run_time\":[116,116]},\"selected\":{\"id\":\"87103\"},\"selection_policy\":{\"id\":\"87143\"}},\"id\":\"87102\",\"type\":\"ColumnDataSource\"},{\"attributes\":{\"fill_alpha\":{\"value\":0.8},\"fill_color\":{\"value\":\"#e377c2\"},\"hatch_alpha\":{\"value\":0.1},\"hatch_color\":{\"value\":\"#e377c2\"},\"line_alpha\":{\"value\":0.8},\"line_color\":{\"value\":\"#e377c2\"},\"size\":{\"value\":5.477225575051661},\"x\":{\"field\":\"category\"},\"y\":{\"field\":\"imdb_rating\"}},\"id\":\"86942\",\"type\":\"Scatter\"},{\"attributes\":{\"fill_alpha\":{\"value\":0.8},\"fill_color\":{\"value\":\"#d62728\"},\"hatch_alpha\":{\"value\":0.1},\"hatch_color\":{\"value\":\"#d62728\"},\"line_alpha\":{\"value\":0.8},\"line_color\":{\"value\":\"#d62728\"},\"size\":{\"value\":5.477225575051661},\"x\":{\"field\":\"category\"},\"y\":{\"field\":\"imdb_rating\"}},\"id\":\"86872\",\"type\":\"Scatter\"},{\"attributes\":{},\"id\":\"86897\",\"type\":\"UnionRenderers\"},{\"attributes\":{\"coordinates\":null,\"data_source\":{\"id\":\"86868\"},\"glyph\":{\"id\":\"86871\"},\"group\":null,\"hover_glyph\":null,\"muted_glyph\":{\"id\":\"86873\"},\"nonselection_glyph\":{\"id\":\"86872\"},\"selection_glyph\":{\"id\":\"86901\"},\"view\":{\"id\":\"86875\"}},\"id\":\"86874\",\"type\":\"GlyphRenderer\"},{\"attributes\":{\"fill_alpha\":{\"value\":0.8},\"fill_color\":{\"value\":\"#d62728\"},\"hatch_alpha\":{\"value\":0.8},\"hatch_color\":{\"value\":\"#d62728\"},\"line_alpha\":{\"value\":0.8},\"line_color\":{\"value\":\"#d62728\"},\"size\":{\"value\":5.477225575051661},\"x\":{\"field\":\"category\"},\"y\":{\"field\":\"imdb_rating\"}},\"id\":\"86871\",\"type\":\"Scatter\"},{\"attributes\":{\"fill_alpha\":{\"value\":0.2},\"fill_color\":{\"value\":\"#d62728\"},\"hatch_alpha\":{\"value\":0.2},\"hatch_color\":{\"value\":\"#d62728\"},\"line_alpha\":{\"value\":0.2},\"line_color\":{\"value\":\"#d62728\"},\"size\":{\"value\":5.477225575051661},\"x\":{\"field\":\"category\"},\"y\":{\"field\":\"imdb_rating\"}},\"id\":\"86873\",\"type\":\"Scatter\"},{\"attributes\":{\"source\":{\"id\":\"86868\"}},\"id\":\"86875\",\"type\":\"CDSView\"},{\"attributes\":{\"label\":{\"value\":\"110\"},\"renderers\":[{\"id\":\"86874\"}]},\"id\":\"86900\",\"type\":\"LegendItem\"},{\"attributes\":{\"angle\":{\"value\":0.0},\"fill_alpha\":{\"value\":0.8},\"fill_color\":{\"value\":\"#d62728\"},\"hatch_alpha\":{\"value\":0.8},\"hatch_color\":{\"value\":\"#d62728\"},\"hatch_scale\":{\"value\":12.0},\"hatch_weight\":{\"value\":1.0},\"line_alpha\":{\"value\":0.8},\"line_cap\":{\"value\":\"butt\"},\"line_color\":{\"value\":\"#d62728\"},\"line_dash\":{\"value\":[]},\"line_dash_offset\":{\"value\":0},\"line_join\":{\"value\":\"bevel\"},\"line_width\":{\"value\":1},\"marker\":{\"value\":\"circle\"},\"size\":{\"value\":5.477225575051661},\"x\":{\"field\":\"category\"},\"y\":{\"field\":\"imdb_rating\"}},\"id\":\"86901\",\"type\":\"Scatter\"},{\"attributes\":{},\"id\":\"87059\",\"type\":\"Selection\"},{\"attributes\":{\"data\":{\"category\":[\"R\",\"R\"],\"imdb_rating\":{\"__ndarray__\":\"MzMzMzMzIEAAAAAAAAAhQA==\",\"dtype\":\"float64\",\"order\":\"little\",\"shape\":[2]},\"movie_name\":[\"Blade Runner\",\"Alien\"],\"run_time\":[117,117]},\"selected\":{\"id\":\"87149\"},\"selection_policy\":{\"id\":\"87191\"}},\"id\":\"87148\",\"type\":\"ColumnDataSource\"},{\"attributes\":{},\"id\":\"86903\",\"type\":\"Selection\"},{\"attributes\":{\"fill_alpha\":{\"value\":0.8},\"fill_color\":{\"value\":\"#1f77b4\"},\"hatch_alpha\":{\"value\":0.1},\"hatch_color\":{\"value\":\"#1f77b4\"},\"line_alpha\":{\"value\":0.8},\"line_color\":{\"value\":\"#1f77b4\"},\"size\":{\"value\":5.477225575051661},\"x\":{\"field\":\"category\"},\"y\":{\"field\":\"imdb_rating\"}},\"id\":\"86906\",\"type\":\"Scatter\"},{\"attributes\":{},\"id\":\"86933\",\"type\":\"UnionRenderers\"},{\"attributes\":{\"coordinates\":null,\"data_source\":{\"id\":\"86902\"},\"glyph\":{\"id\":\"86905\"},\"group\":null,\"hover_glyph\":null,\"muted_glyph\":{\"id\":\"86907\"},\"nonselection_glyph\":{\"id\":\"86906\"},\"selection_glyph\":{\"id\":\"86937\"},\"view\":{\"id\":\"86909\"}},\"id\":\"86908\",\"type\":\"GlyphRenderer\"},{\"attributes\":{\"fill_alpha\":{\"value\":0.8},\"fill_color\":{\"value\":\"#1f77b4\"},\"hatch_alpha\":{\"value\":0.8},\"hatch_color\":{\"value\":\"#1f77b4\"},\"line_alpha\":{\"value\":0.8},\"line_color\":{\"value\":\"#1f77b4\"},\"size\":{\"value\":5.477225575051661},\"x\":{\"field\":\"category\"},\"y\":{\"field\":\"imdb_rating\"}},\"id\":\"86905\",\"type\":\"Scatter\"},{\"attributes\":{\"fill_alpha\":{\"value\":0.2},\"fill_color\":{\"value\":\"#1f77b4\"},\"hatch_alpha\":{\"value\":0.2},\"hatch_color\":{\"value\":\"#1f77b4\"},\"line_alpha\":{\"value\":0.2},\"line_color\":{\"value\":\"#1f77b4\"},\"size\":{\"value\":5.477225575051661},\"x\":{\"field\":\"category\"},\"y\":{\"field\":\"imdb_rating\"}},\"id\":\"86907\",\"type\":\"Scatter\"},{\"attributes\":{\"source\":{\"id\":\"86902\"}},\"id\":\"86909\",\"type\":\"CDSView\"},{\"attributes\":{\"label\":{\"value\":\"111\"},\"renderers\":[{\"id\":\"86908\"}]},\"id\":\"86936\",\"type\":\"LegendItem\"},{\"attributes\":{\"data\":{\"category\":[\"R\"],\"imdb_rating\":{\"__ndarray__\":\"ZmZmZmZmIEA=\",\"dtype\":\"float64\",\"order\":\"little\",\"shape\":[1]},\"movie_name\":[\"Taxi Driver\"],\"run_time\":[114]},\"selected\":{\"id\":\"87017\"},\"selection_policy\":{\"id\":\"87053\"}},\"id\":\"87016\",\"type\":\"ColumnDataSource\"},{\"attributes\":{\"angle\":{\"value\":0.0},\"fill_alpha\":{\"value\":0.8},\"fill_color\":{\"value\":\"#1f77b4\"},\"hatch_alpha\":{\"value\":0.8},\"hatch_color\":{\"value\":\"#1f77b4\"},\"hatch_scale\":{\"value\":12.0},\"hatch_weight\":{\"value\":1.0},\"line_alpha\":{\"value\":0.8},\"line_cap\":{\"value\":\"butt\"},\"line_color\":{\"value\":\"#1f77b4\"},\"line_dash\":{\"value\":[]},\"line_dash_offset\":{\"value\":0},\"line_join\":{\"value\":\"bevel\"},\"line_width\":{\"value\":1},\"marker\":{\"value\":\"circle\"},\"size\":{\"value\":5.477225575051661},\"x\":{\"field\":\"category\"},\"y\":{\"field\":\"imdb_rating\"}},\"id\":\"86937\",\"type\":\"Scatter\"},{\"attributes\":{\"coordinates\":null,\"data_source\":{\"id\":\"86938\"},\"glyph\":{\"id\":\"86941\"},\"group\":null,\"hover_glyph\":null,\"muted_glyph\":{\"id\":\"86943\"},\"nonselection_glyph\":{\"id\":\"86942\"},\"selection_glyph\":{\"id\":\"86975\"},\"view\":{\"id\":\"86945\"}},\"id\":\"86944\",\"type\":\"GlyphRenderer\"},{\"attributes\":{},\"id\":\"86971\",\"type\":\"UnionRenderers\"},{\"attributes\":{},\"id\":\"86939\",\"type\":\"Selection\"},{\"attributes\":{\"fill_alpha\":{\"value\":0.8},\"fill_color\":{\"value\":\"#e377c2\"},\"hatch_alpha\":{\"value\":0.8},\"hatch_color\":{\"value\":\"#e377c2\"},\"line_alpha\":{\"value\":0.8},\"line_color\":{\"value\":\"#e377c2\"},\"size\":{\"value\":5.477225575051661},\"x\":{\"field\":\"category\"},\"y\":{\"field\":\"imdb_rating\"}},\"id\":\"86941\",\"type\":\"Scatter\"},{\"attributes\":{\"fill_alpha\":{\"value\":0.2},\"fill_color\":{\"value\":\"#e377c2\"},\"hatch_alpha\":{\"value\":0.2},\"hatch_color\":{\"value\":\"#e377c2\"},\"line_alpha\":{\"value\":0.2},\"line_color\":{\"value\":\"#e377c2\"},\"size\":{\"value\":5.477225575051661},\"x\":{\"field\":\"category\"},\"y\":{\"field\":\"imdb_rating\"}},\"id\":\"86943\",\"type\":\"Scatter\"},{\"attributes\":{\"source\":{\"id\":\"86938\"}},\"id\":\"86945\",\"type\":\"CDSView\"},{\"attributes\":{\"label\":{\"value\":\"112\"},\"renderers\":[{\"id\":\"86944\"}]},\"id\":\"86974\",\"type\":\"LegendItem\"},{\"attributes\":{\"data\":{\"category\":[\"PG\"],\"imdb_rating\":{\"__ndarray__\":\"zczMzMzMIEA=\",\"dtype\":\"float64\",\"order\":\"little\",\"shape\":[1]},\"movie_name\":[\"Indiana Jones and the Raiders of the Lost Ark\"],\"run_time\":[115]},\"selected\":{\"id\":\"87059\"},\"selection_policy\":{\"id\":\"87097\"}},\"id\":\"87058\",\"type\":\"ColumnDataSource\"},{\"attributes\":{\"angle\":{\"value\":0.0},\"fill_alpha\":{\"value\":0.8},\"fill_color\":{\"value\":\"#e377c2\"},\"hatch_alpha\":{\"value\":0.8},\"hatch_color\":{\"value\":\"#e377c2\"},\"hatch_scale\":{\"value\":12.0},\"hatch_weight\":{\"value\":1.0},\"line_alpha\":{\"value\":0.8},\"line_cap\":{\"value\":\"butt\"},\"line_color\":{\"value\":\"#e377c2\"},\"line_dash\":{\"value\":[]},\"line_dash_offset\":{\"value\":0},\"line_join\":{\"value\":\"bevel\"},\"line_width\":{\"value\":1},\"marker\":{\"value\":\"circle\"},\"size\":{\"value\":5.477225575051661},\"x\":{\"field\":\"category\"},\"y\":{\"field\":\"imdb_rating\"}},\"id\":\"86975\",\"type\":\"Scatter\"},{\"attributes\":{\"label\":{\"value\":\"114\"},\"renderers\":[{\"id\":\"87022\"}]},\"id\":\"87056\",\"type\":\"LegendItem\"},{\"attributes\":{\"fill_alpha\":{\"value\":0.8},\"fill_color\":{\"value\":\"#8c564b\"},\"hatch_alpha\":{\"value\":0.1},\"hatch_color\":{\"value\":\"#8c564b\"},\"line_alpha\":{\"value\":0.8},\"line_color\":{\"value\":\"#8c564b\"},\"size\":{\"value\":5.477225575051661},\"x\":{\"field\":\"category\"},\"y\":{\"field\":\"imdb_rating\"}},\"id\":\"86980\",\"type\":\"Scatter\"},{\"attributes\":{},\"id\":\"87017\",\"type\":\"Selection\"},{\"attributes\":{},\"id\":\"86977\",\"type\":\"Selection\"},{\"attributes\":{\"fill_alpha\":{\"value\":0.8},\"fill_color\":{\"value\":\"#8c564b\"},\"hatch_alpha\":{\"value\":0.8},\"hatch_color\":{\"value\":\"#8c564b\"},\"line_alpha\":{\"value\":0.8},\"line_color\":{\"value\":\"#8c564b\"},\"size\":{\"value\":5.477225575051661},\"x\":{\"field\":\"category\"},\"y\":{\"field\":\"imdb_rating\"}},\"id\":\"86979\",\"type\":\"Scatter\"},{\"attributes\":{\"end\":9.0375,\"reset_end\":9.0375,\"reset_start\":8.4625,\"start\":8.4625,\"tags\":[[[\"value\",\"value\",null]]]},\"id\":\"90548\",\"type\":\"Range1d\"},{\"attributes\":{\"source\":{\"id\":\"86565\"}},\"id\":\"86572\",\"type\":\"CDSView\"},{\"attributes\":{\"angle\":{\"value\":0.0},\"fill_alpha\":{\"value\":0.8},\"fill_color\":{\"value\":\"#fc4f30\"},\"hatch_alpha\":{\"value\":0.8},\"hatch_color\":{\"value\":\"#fc4f30\"},\"hatch_scale\":{\"value\":12.0},\"hatch_weight\":{\"value\":1.0},\"line_alpha\":{\"value\":0.8},\"line_cap\":{\"value\":\"butt\"},\"line_color\":{\"value\":\"#fc4f30\"},\"line_dash\":{\"value\":[]},\"line_dash_offset\":{\"value\":0},\"line_join\":{\"value\":\"bevel\"},\"line_width\":{\"value\":1},\"marker\":{\"value\":\"circle\"},\"size\":{\"value\":5.477225575051661},\"x\":{\"field\":\"category\"},\"y\":{\"field\":\"imdb_rating\"}},\"id\":\"88851\",\"type\":\"Scatter\"},{\"attributes\":{\"end\":1029.57,\"reset_end\":1029.57,\"reset_start\":0.0,\"tags\":[[[\"gross_total\",\"gross_total\",null]]]},\"id\":\"86533\",\"type\":\"Range1d\"},{\"attributes\":{\"callback\":null,\"renderers\":[{\"id\":\"90585\"}],\"tags\":[\"hv_created\"],\"tooltips\":[[\"movie_name\",\"@{movie_name}\"],[\"value\",\"@{value}\"]]},\"id\":\"90549\",\"type\":\"HoverTool\"},{\"attributes\":{\"data\":{\"category\":[\"R\"],\"imdb_rating\":{\"__ndarray__\":\"zczMzMzMIEA=\",\"dtype\":\"float64\",\"order\":\"little\",\"shape\":[1]},\"movie_name\":[\"Django Unchained\"],\"run_time\":[165]},\"selected\":{\"id\":\"89459\"},\"selection_policy\":{\"id\":\"89561\"}},\"id\":\"89458\",\"type\":\"ColumnDataSource\"},{\"attributes\":{\"data\":{\"movie_name\":[\"12 Angry Men\",\"The Silence of the Lambs\",\"Life Is Beautiful\",\"L\\u00e9on: The Professional\",\"The Usual Suspects\",\"Casablanca\",\"Modern Times\",\"Back to the Future\",\"City Lights\",\"Rear Window\"],\"value\":{\"__ndarray__\":\"AAAAAAAAIkAzMzMzMzMhQDMzMzMzMyFAAAAAAAAAIUAAAAAAAAAhQAAAAAAAACFAAAAAAAAAIUAAAAAAAAAhQAAAAAAAACFAAAAAAAAAIUA=\",\"dtype\":\"float64\",\"order\":\"little\",\"shape\":[10]}},\"selected\":{\"id\":\"90580\"},\"selection_policy\":{\"id\":\"90616\"}},\"id\":\"90579\",\"type\":\"ColumnDataSource\"},{\"attributes\":{},\"id\":\"86579\",\"type\":\"AllLabels\"},{\"attributes\":{\"fill_alpha\":{\"value\":0.8},\"fill_color\":{\"value\":\"#e5ae38\"},\"hatch_alpha\":{\"value\":0.1},\"hatch_color\":{\"value\":\"#e5ae38\"},\"line_alpha\":{\"value\":0.8},\"line_color\":{\"value\":\"#e5ae38\"},\"size\":{\"value\":5.477225575051661},\"x\":{\"field\":\"category\"},\"y\":{\"field\":\"imdb_rating\"}},\"id\":\"88856\",\"type\":\"Scatter\"},{\"attributes\":{\"below\":[{\"id\":\"90559\"}],\"center\":[{\"id\":\"90561\"},{\"id\":\"90565\"}],\"height\":400,\"left\":[{\"id\":\"90562\"}],\"margin\":null,\"min_border_bottom\":10,\"min_border_left\":10,\"min_border_right\":10,\"min_border_top\":10,\"renderers\":[{\"id\":\"90585\"}],\"sizing_mode\":\"fixed\",\"title\":{\"id\":\"90551\"},\"toolbar\":{\"id\":\"90572\"},\"toolbar_location\":null,\"width\":300,\"x_range\":{\"id\":\"90547\"},\"x_scale\":{\"id\":\"90555\"},\"y_range\":{\"id\":\"90548\"},\"y_scale\":{\"id\":\"90557\"}},\"id\":\"90550\",\"subtype\":\"Figure\",\"type\":\"Plot\"},{\"attributes\":{},\"id\":\"88943\",\"type\":\"UnionRenderers\"},{\"attributes\":{},\"id\":\"90590\",\"type\":\"AllLabels\"},{\"attributes\":{\"coordinates\":null,\"data_source\":{\"id\":\"88852\"},\"glyph\":{\"id\":\"88855\"},\"group\":null,\"hover_glyph\":null,\"muted_glyph\":{\"id\":\"88857\"},\"nonselection_glyph\":{\"id\":\"88856\"},\"selection_glyph\":{\"id\":\"88947\"},\"view\":{\"id\":\"88859\"}},\"id\":\"88858\",\"type\":\"GlyphRenderer\"},{\"attributes\":{},\"id\":\"86578\",\"type\":\"CategoricalTickFormatter\"},{\"attributes\":{},\"id\":\"90555\",\"type\":\"CategoricalScale\"},{\"attributes\":{\"factors\":[\"2002\",\"2006\",\"2001\",\"2004\",\"2003\",\"2013\",\"2005\",\"2007\",\"2009\",\"2012\",\"2010\",\"2008\",\"2015\",\"2014\"],\"tags\":[[[\"year_of_release\",\"year_of_release\",null]]]},\"id\":\"86534\",\"type\":\"FactorRange\"},{\"attributes\":{\"fill_alpha\":{\"value\":0.8},\"fill_color\":{\"value\":\"#e5ae38\"},\"hatch_alpha\":{\"value\":0.8},\"hatch_color\":{\"value\":\"#e5ae38\"},\"line_alpha\":{\"value\":0.8},\"line_color\":{\"value\":\"#e5ae38\"},\"size\":{\"value\":5.477225575051661},\"x\":{\"field\":\"category\"},\"y\":{\"field\":\"imdb_rating\"}},\"id\":\"88855\",\"type\":\"Scatter\"},{\"attributes\":{\"fill_alpha\":{\"value\":0.2},\"fill_color\":{\"value\":\"#e5ae38\"},\"hatch_alpha\":{\"value\":0.2},\"hatch_color\":{\"value\":\"#e5ae38\"},\"line_alpha\":{\"value\":0.2},\"line_color\":{\"value\":\"#e5ae38\"},\"size\":{\"value\":5.477225575051661},\"x\":{\"field\":\"category\"},\"y\":{\"field\":\"imdb_rating\"}},\"id\":\"88857\",\"type\":\"Scatter\"},{\"attributes\":{\"coordinates\":null,\"group\":null,\"text\":\"Variable: imdb_rating\",\"text_color\":\"black\",\"text_font_size\":\"12pt\"},\"id\":\"90551\",\"type\":\"Title\"},{\"attributes\":{\"children\":[{\"id\":\"90495\"}],\"margin\":[0,1,0,1],\"name\":\"Column71728\",\"sizing_mode\":\"stretch_width\",\"width\":500},\"id\":\"90494\",\"type\":\"Column\"},{\"attributes\":{\"fill_alpha\":{\"value\":0.1},\"fill_color\":{\"value\":\"#EE799F\"},\"hatch_alpha\":{\"value\":0.1},\"hatch_color\":{\"value\":\"#EE799F\"},\"height\":{\"value\":0.8},\"line_alpha\":{\"value\":0.1},\"right\":{\"field\":\"gross_total\"},\"y\":{\"field\":\"year_of_release\"}},\"id\":\"86569\",\"type\":\"HBar\"},{\"attributes\":{\"source\":{\"id\":\"88852\"}},\"id\":\"88859\",\"type\":\"CDSView\"},{\"attributes\":{},\"id\":\"90557\",\"type\":\"LinearScale\"},{\"attributes\":{},\"id\":\"86591\",\"type\":\"UnionRenderers\"},{\"attributes\":{\"axis_label\":\"movie_name\",\"coordinates\":null,\"formatter\":{\"id\":\"90589\"},\"group\":null,\"major_label_orientation\":0.5235987755982988,\"major_label_policy\":{\"id\":\"90590\"},\"ticker\":{\"id\":\"90560\"}},\"id\":\"90559\",\"type\":\"CategoricalAxis\"},{\"attributes\":{\"label\":{\"value\":\"150\"},\"renderers\":[{\"id\":\"88858\"}]},\"id\":\"88946\",\"type\":\"LegendItem\"},{\"attributes\":{\"overlay\":{\"id\":\"86557\"}},\"id\":\"86555\",\"type\":\"BoxZoomTool\"},{\"attributes\":{},\"id\":\"90560\",\"type\":\"CategoricalTicker\"},{\"attributes\":{\"fill_alpha\":{\"value\":1.0},\"fill_color\":{\"value\":\"#EE799F\"},\"hatch_alpha\":{\"value\":1.0},\"hatch_color\":{\"value\":\"#EE799F\"},\"hatch_scale\":{\"value\":12.0},\"hatch_weight\":{\"value\":1.0},\"height\":{\"value\":0.8},\"left\":{\"value\":0},\"line_alpha\":{\"value\":1.0},\"line_cap\":{\"value\":\"butt\"},\"line_color\":{\"value\":\"black\"},\"line_dash\":{\"value\":[]},\"line_dash_offset\":{\"value\":0},\"line_join\":{\"value\":\"bevel\"},\"line_width\":{\"value\":1},\"right\":{\"field\":\"gross_total\"},\"y\":{\"field\":\"year_of_release\"}},\"id\":\"86573\",\"type\":\"HBar\"},{\"attributes\":{\"axis\":{\"id\":\"90559\"},\"coordinates\":null,\"grid_line_color\":null,\"group\":null,\"ticker\":null},\"id\":\"90561\",\"type\":\"Grid\"},{\"attributes\":{\"angle\":{\"value\":0.0},\"fill_alpha\":{\"value\":0.8},\"fill_color\":{\"value\":\"#e5ae38\"},\"hatch_alpha\":{\"value\":0.8},\"hatch_color\":{\"value\":\"#e5ae38\"},\"hatch_scale\":{\"value\":12.0},\"hatch_weight\":{\"value\":1.0},\"line_alpha\":{\"value\":0.8},\"line_cap\":{\"value\":\"butt\"},\"line_color\":{\"value\":\"#e5ae38\"},\"line_dash\":{\"value\":[]},\"line_dash_offset\":{\"value\":0},\"line_join\":{\"value\":\"bevel\"},\"line_width\":{\"value\":1},\"marker\":{\"value\":\"circle\"},\"size\":{\"value\":5.477225575051661},\"x\":{\"field\":\"category\"},\"y\":{\"field\":\"imdb_rating\"}},\"id\":\"88947\",\"type\":\"Scatter\"},{\"attributes\":{\"axis_label\":\"\",\"coordinates\":null,\"formatter\":{\"id\":\"90592\"},\"group\":null,\"major_label_policy\":{\"id\":\"90593\"},\"ticker\":{\"id\":\"90563\"}},\"id\":\"90562\",\"type\":\"LinearAxis\"},{\"attributes\":{\"css_classes\":[\"markdown\"],\"margin\":[5,5,5,5],\"name\":\"Markdown70405\",\"text\":\"&lt;p&gt;IMDb Top 100 is the list of highest rated movies of all time. \\n The list ranges of films is between  1972 to 2015. \\n There are 100 Rows and 20 Columns in the Dataset.&lt;/p&gt;\"},\"id\":\"86528\",\"type\":\"panel.models.markup.HTML\"},{\"attributes\":{\"label\":{\"value\":\"153\"},\"renderers\":[{\"id\":\"89052\"}]},\"id\":\"89144\",\"type\":\"LegendItem\"},{\"attributes\":{},\"id\":\"90563\",\"type\":\"BasicTicker\"},{\"attributes\":{\"axis\":{\"id\":\"90562\"},\"coordinates\":null,\"dimension\":1,\"grid_line_color\":null,\"group\":null,\"ticker\":null},\"id\":\"90565\",\"type\":\"Grid\"},{\"attributes\":{\"css_classes\":[\"markdown\"],\"margin\":[5,5,5,5],\"name\":\"Markdown70399\",\"text\":\"&lt;h3&gt;This dashboard aims to analyse the data and to see it in differents ways&lt;/h3&gt;\"},\"id\":\"86510\",\"type\":\"panel.models.markup.HTML\"},{\"attributes\":{\"coordinates\":null,\"data_source\":{\"id\":\"86565\"},\"glyph\":{\"id\":\"86568\"},\"group\":null,\"hover_glyph\":null,\"muted_glyph\":{\"id\":\"86570\"},\"nonselection_glyph\":{\"id\":\"86569\"},\"selection_glyph\":{\"id\":\"86573\"},\"view\":{\"id\":\"86572\"}},\"id\":\"86571\",\"type\":\"GlyphRenderer\"},{\"attributes\":{},\"id\":\"88949\",\"type\":\"Selection\"},{\"attributes\":{},\"id\":\"86552\",\"type\":\"SaveTool\"},{\"attributes\":{\"fill_alpha\":{\"value\":0.8},\"fill_color\":{\"value\":\"#6d904f\"},\"hatch_alpha\":{\"value\":0.1},\"hatch_color\":{\"value\":\"#6d904f\"},\"line_alpha\":{\"value\":0.8},\"line_color\":{\"value\":\"#6d904f\"},\"size\":{\"value\":5.477225575051661},\"x\":{\"field\":\"category\"},\"y\":{\"field\":\"imdb_rating\"}},\"id\":\"88952\",\"type\":\"Scatter\"},{\"attributes\":{\"axis_label\":\"value\",\"coordinates\":null,\"formatter\":{\"id\":\"90785\"},\"group\":null,\"major_label_orientation\":0.3490658503988659,\"major_label_policy\":{\"id\":\"90786\"},\"ticker\":{\"id\":\"90755\"}},\"id\":\"90754\",\"type\":\"LinearAxis\"},{\"attributes\":{\"toolbars\":[{\"id\":\"90521\"},{\"id\":\"90572\"}],\"tools\":[{\"id\":\"90498\"},{\"id\":\"90515\"},{\"id\":\"90516\"},{\"id\":\"90517\"},{\"id\":\"90518\"},{\"id\":\"90519\"},{\"id\":\"90549\"},{\"id\":\"90566\"},{\"id\":\"90567\"},{\"id\":\"90568\"},{\"id\":\"90569\"},{\"id\":\"90570\"}]},\"id\":\"90621\",\"type\":\"ProxyToolbar\"},{\"attributes\":{},\"id\":\"90580\",\"type\":\"Selection\"},{\"attributes\":{\"active_drag\":{\"id\":\"86553\"},\"active_scroll\":{\"id\":\"86554\"},\"tools\":[{\"id\":\"86535\"},{\"id\":\"86552\"},{\"id\":\"86553\"},{\"id\":\"86554\"},{\"id\":\"86555\"},{\"id\":\"86556\"}]},\"id\":\"86558\",\"type\":\"Toolbar\"},{\"attributes\":{},\"id\":\"89041\",\"type\":\"UnionRenderers\"},{\"attributes\":{},\"id\":\"90566\",\"type\":\"SaveTool\"},{\"attributes\":{\"coordinates\":null,\"data_source\":{\"id\":\"88948\"},\"glyph\":{\"id\":\"88951\"},\"group\":null,\"hover_glyph\":null,\"muted_glyph\":{\"id\":\"88953\"},\"nonselection_glyph\":{\"id\":\"88952\"},\"selection_glyph\":{\"id\":\"89045\"},\"view\":{\"id\":\"88955\"}},\"id\":\"88954\",\"type\":\"GlyphRenderer\"},{\"attributes\":{\"fill_alpha\":{\"value\":0.8},\"fill_color\":{\"value\":\"#6d904f\"},\"hatch_alpha\":{\"value\":0.8},\"hatch_color\":{\"value\":\"#6d904f\"},\"line_alpha\":{\"value\":0.8},\"line_color\":{\"value\":\"#6d904f\"},\"size\":{\"value\":5.477225575051661},\"x\":{\"field\":\"category\"},\"y\":{\"field\":\"imdb_rating\"}},\"id\":\"88951\",\"type\":\"Scatter\"},{\"attributes\":{},\"id\":\"90567\",\"type\":\"PanTool\"},{\"attributes\":{},\"id\":\"86553\",\"type\":\"PanTool\"},{\"attributes\":{\"fill_alpha\":{\"value\":0.2},\"fill_color\":{\"value\":\"#6d904f\"},\"hatch_alpha\":{\"value\":0.2},\"hatch_color\":{\"value\":\"#6d904f\"},\"line_alpha\":{\"value\":0.2},\"line_color\":{\"value\":\"#6d904f\"},\"size\":{\"value\":5.477225575051661},\"x\":{\"field\":\"category\"},\"y\":{\"field\":\"imdb_rating\"}},\"id\":\"88953\",\"type\":\"Scatter\"},{\"attributes\":{},\"id\":\"90568\",\"type\":\"WheelZoomTool\"},{\"attributes\":{\"source\":{\"id\":\"88948\"}},\"id\":\"88955\",\"type\":\"CDSView\"},{\"attributes\":{\"overlay\":{\"id\":\"90571\"}},\"id\":\"90569\",\"type\":\"BoxZoomTool\"},{\"attributes\":{},\"id\":\"90616\",\"type\":\"UnionRenderers\"},{\"attributes\":{\"fill_alpha\":{\"value\":0.2},\"fill_color\":{\"value\":\"#EE799F\"},\"hatch_alpha\":{\"value\":0.2},\"hatch_color\":{\"value\":\"#EE799F\"},\"height\":{\"value\":0.8},\"line_alpha\":{\"value\":0.2},\"right\":{\"field\":\"gross_total\"},\"y\":{\"field\":\"year_of_release\"}},\"id\":\"86570\",\"type\":\"HBar\"},{\"attributes\":{},\"id\":\"86556\",\"type\":\"ResetTool\"},{\"attributes\":{},\"id\":\"86554\",\"type\":\"WheelZoomTool\"},{\"attributes\":{\"label\":{\"value\":\"151\"},\"renderers\":[{\"id\":\"88954\"}]},\"id\":\"89044\",\"type\":\"LegendItem\"},{\"attributes\":{},\"id\":\"90570\",\"type\":\"ResetTool\"},{\"attributes\":{\"bottom_units\":\"screen\",\"coordinates\":null,\"fill_alpha\":0.5,\"fill_color\":\"lightgrey\",\"group\":null,\"left_units\":\"screen\",\"level\":\"overlay\",\"line_alpha\":1.0,\"line_color\":\"black\",\"line_dash\":[4,4],\"line_width\":2,\"right_units\":\"screen\",\"syncable\":false,\"top_units\":\"screen\"},\"id\":\"86557\",\"type\":\"BoxAnnotation\"},{\"attributes\":{\"data\":{\"category\":[\"R\"],\"imdb_rating\":{\"__ndarray__\":\"MzMzMzMzH0A=\",\"dtype\":\"float64\",\"order\":\"little\",\"shape\":[1]},\"movie_name\":[\"The Insider\"],\"run_time\":[157]},\"selected\":{\"id\":\"89249\"},\"selection_policy\":{\"id\":\"89347\"}},\"id\":\"89248\",\"type\":\"ColumnDataSource\"},{\"attributes\":{\"active_drag\":{\"id\":\"90567\"},\"active_scroll\":{\"id\":\"90568\"},\"tools\":[{\"id\":\"90549\"},{\"id\":\"90566\"},{\"id\":\"90567\"},{\"id\":\"90568\"},{\"id\":\"90569\"},{\"id\":\"90570\"}]},\"id\":\"90572\",\"type\":\"Toolbar\"},{\"attributes\":{\"angle\":{\"value\":0.0},\"fill_alpha\":{\"value\":0.8},\"fill_color\":{\"value\":\"#6d904f\"},\"hatch_alpha\":{\"value\":0.8},\"hatch_color\":{\"value\":\"#6d904f\"},\"hatch_scale\":{\"value\":12.0},\"hatch_weight\":{\"value\":1.0},\"line_alpha\":{\"value\":0.8},\"line_cap\":{\"value\":\"butt\"},\"line_color\":{\"value\":\"#6d904f\"},\"line_dash\":{\"value\":[]},\"line_dash_offset\":{\"value\":0},\"line_join\":{\"value\":\"bevel\"},\"line_width\":{\"value\":1},\"marker\":{\"value\":\"circle\"},\"size\":{\"value\":5.477225575051661},\"x\":{\"field\":\"category\"},\"y\":{\"field\":\"imdb_rating\"}},\"id\":\"89045\",\"type\":\"Scatter\"},{\"attributes\":{\"css_classes\":[\"markdown\"],\"margin\":[5,5,5,5],\"name\":\"Markdown70403\",\"text\":\"&lt;h2&gt;Settings&lt;/h2&gt;\"},\"id\":\"86513\",\"type\":\"panel.models.markup.HTML\"},{\"attributes\":{\"bottom_units\":\"screen\",\"coordinates\":null,\"fill_alpha\":0.5,\"fill_color\":\"lightgrey\",\"group\":null,\"left_units\":\"screen\",\"level\":\"overlay\",\"line_alpha\":1.0,\"line_color\":\"black\",\"line_dash\":[4,4],\"line_width\":2,\"right_units\":\"screen\",\"syncable\":false,\"top_units\":\"screen\"},\"id\":\"90571\",\"type\":\"BoxAnnotation\"},{\"attributes\":{},\"id\":\"89141\",\"type\":\"UnionRenderers\"},{\"attributes\":{},\"id\":\"86566\",\"type\":\"Selection\"},{\"attributes\":{\"line_color\":\"#009ACD\",\"line_width\":2,\"x\":{\"field\":\"movie_name\"},\"y\":{\"field\":\"value\"}},\"id\":\"90582\",\"type\":\"Line\"},{\"attributes\":{\"line_alpha\":0.1,\"line_color\":\"#009ACD\",\"line_width\":2,\"x\":{\"field\":\"movie_name\"},\"y\":{\"field\":\"value\"}},\"id\":\"90583\",\"type\":\"Line\"},{\"attributes\":{},\"id\":\"86576\",\"type\":\"AllLabels\"},{\"attributes\":{},\"id\":\"89047\",\"type\":\"Selection\"},{\"attributes\":{\"line_alpha\":0.2,\"line_color\":\"#009ACD\",\"line_width\":2,\"x\":{\"field\":\"movie_name\"},\"y\":{\"field\":\"value\"}},\"id\":\"90584\",\"type\":\"Line\"},{\"attributes\":{\"fill_alpha\":{\"value\":0.8},\"fill_color\":{\"value\":\"#8b8b8b\"},\"hatch_alpha\":{\"value\":0.1},\"hatch_color\":{\"value\":\"#8b8b8b\"},\"line_alpha\":{\"value\":0.8},\"line_color\":{\"value\":\"#8b8b8b\"},\"size\":{\"value\":5.477225575051661},\"x\":{\"field\":\"category\"},\"y\":{\"field\":\"imdb_rating\"}},\"id\":\"89050\",\"type\":\"Scatter\"},{\"attributes\":{\"children\":[{\"id\":\"86650\"}],\"margin\":[0,0,0,0],\"name\":\"Row70524\"},\"id\":\"86595\",\"type\":\"Row\"},{\"attributes\":{\"angle\":{\"value\":0.0},\"fill_alpha\":{\"value\":0.8},\"fill_color\":{\"value\":\"#8b8b8b\"},\"hatch_alpha\":{\"value\":0.8},\"hatch_color\":{\"value\":\"#8b8b8b\"},\"hatch_scale\":{\"value\":12.0},\"hatch_weight\":{\"value\":1.0},\"line_alpha\":{\"value\":0.8},\"line_cap\":{\"value\":\"butt\"},\"line_color\":{\"value\":\"#8b8b8b\"},\"line_dash\":{\"value\":[]},\"line_dash_offset\":{\"value\":0},\"line_join\":{\"value\":\"bevel\"},\"line_width\":{\"value\":1},\"marker\":{\"value\":\"circle\"},\"size\":{\"value\":5.477225575051661},\"x\":{\"field\":\"category\"},\"y\":{\"field\":\"imdb_rating\"}},\"id\":\"89145\",\"type\":\"Scatter\"},{\"attributes\":{\"coordinates\":null,\"data_source\":{\"id\":\"90579\"},\"glyph\":{\"id\":\"90582\"},\"group\":null,\"hover_glyph\":null,\"muted_glyph\":{\"id\":\"90584\"},\"nonselection_glyph\":{\"id\":\"90583\"},\"selection_glyph\":{\"id\":\"90587\"},\"view\":{\"id\":\"90586\"}},\"id\":\"90585\",\"type\":\"GlyphRenderer\"},{\"attributes\":{\"css_classes\":[\"markdown\"],\"margin\":[5,5,5,5],\"name\":\"Markdown70401\",\"text\":\"&lt;p&gt;IMDb Top 100 is the list of highest rated movies of all time. \\n The list ranges of films is between  1972 to 2015. \\n There are 100 Rows and 20 Columns in the Dataset.&lt;/p&gt;\"},\"id\":\"86512\",\"type\":\"panel.models.markup.HTML\"},{\"attributes\":{\"coordinates\":null,\"data_source\":{\"id\":\"89046\"},\"glyph\":{\"id\":\"89049\"},\"group\":null,\"hover_glyph\":null,\"muted_glyph\":{\"id\":\"89051\"},\"nonselection_glyph\":{\"id\":\"89050\"},\"selection_glyph\":{\"id\":\"89145\"},\"view\":{\"id\":\"89053\"}},\"id\":\"89052\",\"type\":\"GlyphRenderer\"},{\"attributes\":{\"fill_alpha\":{\"value\":0.8},\"fill_color\":{\"value\":\"#8b8b8b\"},\"hatch_alpha\":{\"value\":0.8},\"hatch_color\":{\"value\":\"#8b8b8b\"},\"line_alpha\":{\"value\":0.8},\"line_color\":{\"value\":\"#8b8b8b\"},\"size\":{\"value\":5.477225575051661},\"x\":{\"field\":\"category\"},\"y\":{\"field\":\"imdb_rating\"}},\"id\":\"89049\",\"type\":\"Scatter\"},{\"attributes\":{\"source\":{\"id\":\"90579\"}},\"id\":\"90586\",\"type\":\"CDSView\"},{\"attributes\":{\"fill_alpha\":{\"value\":0.2},\"fill_color\":{\"value\":\"#8b8b8b\"},\"hatch_alpha\":{\"value\":0.2},\"hatch_color\":{\"value\":\"#8b8b8b\"},\"line_alpha\":{\"value\":0.2},\"line_color\":{\"value\":\"#8b8b8b\"},\"size\":{\"value\":5.477225575051661},\"x\":{\"field\":\"category\"},\"y\":{\"field\":\"imdb_rating\"}},\"id\":\"89051\",\"type\":\"Scatter\"},{\"attributes\":{},\"id\":\"89353\",\"type\":\"Selection\"},{\"attributes\":{\"source\":{\"id\":\"89046\"}},\"id\":\"89053\",\"type\":\"CDSView\"},{\"attributes\":{\"line_color\":\"#009ACD\",\"line_width\":2,\"x\":{\"field\":\"movie_name\"},\"y\":{\"field\":\"value\"}},\"id\":\"90587\",\"type\":\"Line\"},{\"attributes\":{\"data\":{\"category\":[\"PG\"],\"imdb_rating\":{\"__ndarray__\":\"ZmZmZmZmIEA=\",\"dtype\":\"float64\",\"order\":\"little\",\"shape\":[1]},\"movie_name\":[\"The Bridge on the River Kwai\"],\"run_time\":[161]},\"selected\":{\"id\":\"89353\"},\"selection_policy\":{\"id\":\"89453\"}},\"id\":\"89352\",\"type\":\"ColumnDataSource\"},{\"attributes\":{},\"id\":\"90592\",\"type\":\"BasicTickFormatter\"},{\"attributes\":{},\"id\":\"90593\",\"type\":\"AllLabels\"},{\"attributes\":{\"fill_alpha\":{\"value\":0.8},\"fill_color\":{\"value\":\"#17becf\"},\"hatch_alpha\":{\"value\":0.1},\"hatch_color\":{\"value\":\"#17becf\"},\"line_alpha\":{\"value\":0.8},\"line_color\":{\"value\":\"#17becf\"},\"size\":{\"value\":5.477225575051661},\"x\":{\"field\":\"category\"},\"y\":{\"field\":\"imdb_rating\"}},\"id\":\"89150\",\"type\":\"Scatter\"},{\"attributes\":{},\"id\":\"90605\",\"type\":\"UnionRenderers\"},{\"attributes\":{\"height\":200,\"margin\":[5,5,5,5],\"name\":\"JPG70394\",\"sizing_mode\":\"fixed\",\"text\":\"&lt;img src=&quot;data:image/jpg;base64,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&quot; width=&quot;300px&quot; height=&quot;200px&quot; alt=&quot;&quot;&gt;&lt;/img&gt;\",\"width\":300},\"id\":\"86511\",\"type\":\"panel.models.markup.HTML\"},{\"attributes\":{},\"id\":\"89249\",\"type\":\"Selection\"},{\"attributes\":{\"toolbar\":{\"id\":\"90621\"},\"toolbar_location\":\"above\"},\"id\":\"90622\",\"type\":\"ToolbarBox\"},{\"attributes\":{},\"id\":\"89147\",\"type\":\"Selection\"},{\"attributes\":{},\"id\":\"86575\",\"type\":\"BasicTickFormatter\"},{\"attributes\":{\"fill_alpha\":{\"value\":0.8},\"fill_color\":{\"value\":\"#17becf\"},\"hatch_alpha\":{\"value\":0.8},\"hatch_color\":{\"value\":\"#17becf\"},\"line_alpha\":{\"value\":0.8},\"line_color\":{\"value\":\"#17becf\"},\"size\":{\"value\":5.477225575051661},\"x\":{\"field\":\"category\"},\"y\":{\"field\":\"imdb_rating\"}},\"id\":\"89149\",\"type\":\"Scatter\"},{\"attributes\":{\"children\":[{\"id\":\"90622\"},{\"id\":\"90620\"}]},\"id\":\"90623\",\"type\":\"Column\"},{\"attributes\":{\"fill_alpha\":{\"value\":0.2},\"fill_color\":{\"value\":\"#8c564b\"},\"hatch_alpha\":{\"value\":0.2},\"hatch_color\":{\"value\":\"#8c564b\"},\"line_alpha\":{\"value\":0.2},\"line_color\":{\"value\":\"#8c564b\"},\"size\":{\"value\":5.477225575051661},\"x\":{\"field\":\"category\"},\"y\":{\"field\":\"imdb_rating\"}},\"id\":\"88493\",\"type\":\"Scatter\"},{\"attributes\":{\"source\":{\"id\":\"90256\"}},\"id\":\"90263\",\"type\":\"CDSView\"},{\"attributes\":{\"coordinates\":null,\"data_source\":{\"id\":\"88488\"},\"glyph\":{\"id\":\"88491\"},\"group\":null,\"hover_glyph\":null,\"muted_glyph\":{\"id\":\"88493\"},\"nonselection_glyph\":{\"id\":\"88492\"},\"selection_glyph\":{\"id\":\"88575\"},\"view\":{\"id\":\"88495\"}},\"id\":\"88494\",\"type\":\"GlyphRenderer\"},{\"attributes\":{\"fill_alpha\":{\"value\":0.8},\"fill_color\":{\"value\":\"#e377c2\"},\"hatch_alpha\":{\"value\":0.1},\"hatch_color\":{\"value\":\"#e377c2\"},\"line_alpha\":{\"value\":0.8},\"line_color\":{\"value\":\"#e377c2\"},\"size\":{\"value\":5.477225575051661},\"x\":{\"field\":\"category\"},\"y\":{\"field\":\"imdb_rating\"}},\"id\":\"88406\",\"type\":\"Scatter\"},{\"attributes\":{},\"id\":\"90373\",\"type\":\"UnionRenderers\"},{\"attributes\":{\"source\":{\"id\":\"88488\"}},\"id\":\"88495\",\"type\":\"CDSView\"},{\"attributes\":{\"data\":{\"category\":[\"R\"],\"imdb_rating\":{\"__ndarray__\":\"AAAAAAAAIUA=\",\"dtype\":\"float64\",\"order\":\"little\",\"shape\":[1]},\"movie_name\":[\"Apocalypse Now\"],\"run_time\":[147]},\"selected\":{\"id\":\"88759\"},\"selection_policy\":{\"id\":\"88847\"}},\"id\":\"88758\",\"type\":\"ColumnDataSource\"},{\"attributes\":{\"children\":[{\"id\":\"90646\"}],\"margin\":[0,0,0,0],\"name\":\"Column71784\",\"sizing_mode\":\"stretch_width\",\"width\":500},\"id\":\"90645\",\"type\":\"Column\"},{\"attributes\":{\"fill_alpha\":{\"value\":0.8},\"fill_color\":{\"value\":\"#d62728\"},\"hatch_alpha\":{\"value\":0.1},\"hatch_color\":{\"value\":\"#d62728\"},\"line_alpha\":{\"value\":0.8},\"line_color\":{\"value\":\"#d62728\"},\"size\":{\"value\":5.477225575051661},\"x\":{\"field\":\"category\"},\"y\":{\"field\":\"imdb_rating\"}},\"id\":\"88240\",\"type\":\"Scatter\"},{\"attributes\":{\"label\":{\"value\":\"202\"},\"renderers\":[{\"id\":\"90262\"}]},\"id\":\"90376\",\"type\":\"LegendItem\"},{\"attributes\":{},\"id\":\"88571\",\"type\":\"UnionRenderers\"},{\"attributes\":{\"client_comm_id\":\"8c69b184352d4f758a5d66d46bce95b3\",\"comm_id\":\"ffb30760da6a4fb8b42513b894efbbe0\",\"plot_id\":\"86507\"},\"id\":\"91519\",\"type\":\"panel.models.comm_manager.CommManager\"},{\"attributes\":{\"children\":[{\"id\":\"90673\"}],\"margin\":[0,0,0,0],\"name\":\"Row71734\"},\"id\":\"90646\",\"type\":\"Row\"},{\"attributes\":{},\"id\":\"88313\",\"type\":\"UnionRenderers\"},{\"attributes\":{\"coordinates\":null,\"data_source\":{\"id\":\"88236\"},\"glyph\":{\"id\":\"88239\"},\"group\":null,\"hover_glyph\":null,\"muted_glyph\":{\"id\":\"88241\"},\"nonselection_glyph\":{\"id\":\"88240\"},\"selection_glyph\":{\"id\":\"88317\"},\"view\":{\"id\":\"88243\"}},\"id\":\"88242\",\"type\":\"GlyphRenderer\"},{\"attributes\":{\"label\":{\"value\":\"144\"},\"renderers\":[{\"id\":\"88494\"}]},\"id\":\"88574\",\"type\":\"LegendItem\"},{\"attributes\":{\"fill_alpha\":{\"value\":0.8},\"fill_color\":{\"value\":\"#d62728\"},\"hatch_alpha\":{\"value\":0.8},\"hatch_color\":{\"value\":\"#d62728\"},\"line_alpha\":{\"value\":0.8},\"line_color\":{\"value\":\"#d62728\"},\"size\":{\"value\":5.477225575051661},\"x\":{\"field\":\"category\"},\"y\":{\"field\":\"imdb_rating\"}},\"id\":\"88239\",\"type\":\"Scatter\"},{\"attributes\":{\"angle\":{\"value\":0.0},\"fill_alpha\":{\"value\":0.8},\"fill_color\":{\"value\":\"#6d904f\"},\"hatch_alpha\":{\"value\":0.8},\"hatch_color\":{\"value\":\"#6d904f\"},\"hatch_scale\":{\"value\":12.0},\"hatch_weight\":{\"value\":1.0},\"line_alpha\":{\"value\":0.8},\"line_cap\":{\"value\":\"butt\"},\"line_color\":{\"value\":\"#6d904f\"},\"line_dash\":{\"value\":[]},\"line_dash_offset\":{\"value\":0},\"line_join\":{\"value\":\"bevel\"},\"line_width\":{\"value\":1},\"marker\":{\"value\":\"circle\"},\"size\":{\"value\":5.477225575051661},\"x\":{\"field\":\"category\"},\"y\":{\"field\":\"imdb_rating\"}},\"id\":\"90377\",\"type\":\"Scatter\"},{\"attributes\":{},\"id\":\"90916\",\"type\":\"UnionRenderers\"},{\"attributes\":{\"fill_alpha\":{\"value\":0.2},\"fill_color\":{\"value\":\"#d62728\"},\"hatch_alpha\":{\"value\":0.2},\"hatch_color\":{\"value\":\"#d62728\"},\"line_alpha\":{\"value\":0.2},\"line_color\":{\"value\":\"#d62728\"},\"size\":{\"value\":5.477225575051661},\"x\":{\"field\":\"category\"},\"y\":{\"field\":\"imdb_rating\"}},\"id\":\"88241\",\"type\":\"Scatter\"},{\"attributes\":{\"source\":{\"id\":\"88236\"}},\"id\":\"88243\",\"type\":\"CDSView\"},{\"attributes\":{\"angle\":{\"value\":0.0},\"fill_alpha\":{\"value\":0.8},\"fill_color\":{\"value\":\"#8c564b\"},\"hatch_alpha\":{\"value\":0.8},\"hatch_color\":{\"value\":\"#8c564b\"},\"hatch_scale\":{\"value\":12.0},\"hatch_weight\":{\"value\":1.0},\"line_alpha\":{\"value\":0.8},\"line_cap\":{\"value\":\"butt\"},\"line_color\":{\"value\":\"#8c564b\"},\"line_dash\":{\"value\":[]},\"line_dash_offset\":{\"value\":0},\"line_join\":{\"value\":\"bevel\"},\"line_width\":{\"value\":1},\"marker\":{\"value\":\"circle\"},\"size\":{\"value\":5.477225575051661},\"x\":{\"field\":\"category\"},\"y\":{\"field\":\"imdb_rating\"}},\"id\":\"88575\",\"type\":\"Scatter\"},{\"attributes\":{\"label\":{\"value\":\"138\"},\"renderers\":[{\"id\":\"88242\"}]},\"id\":\"88316\",\"type\":\"LegendItem\"},{\"attributes\":{\"angle\":{\"value\":0.0},\"fill_alpha\":{\"value\":0.8},\"fill_color\":{\"value\":\"#bcbd22\"},\"hatch_alpha\":{\"value\":0.8},\"hatch_color\":{\"value\":\"#bcbd22\"},\"hatch_scale\":{\"value\":12.0},\"hatch_weight\":{\"value\":1.0},\"line_alpha\":{\"value\":0.8},\"line_cap\":{\"value\":\"butt\"},\"line_color\":{\"value\":\"#bcbd22\"},\"line_dash\":{\"value\":[]},\"line_dash_offset\":{\"value\":0},\"line_join\":{\"value\":\"bevel\"},\"line_width\":{\"value\":1},\"marker\":{\"value\":\"circle\"},\"size\":{\"value\":5.477225575051661},\"x\":{\"field\":\"category\"},\"y\":{\"field\":\"imdb_rating\"}},\"id\":\"88665\",\"type\":\"Scatter\"},{\"attributes\":{\"angle\":{\"value\":0.0},\"fill_alpha\":{\"value\":0.8},\"fill_color\":{\"value\":\"#d62728\"},\"hatch_alpha\":{\"value\":0.8},\"hatch_color\":{\"value\":\"#d62728\"},\"hatch_scale\":{\"value\":12.0},\"hatch_weight\":{\"value\":1.0},\"line_alpha\":{\"value\":0.8},\"line_cap\":{\"value\":\"butt\"},\"line_color\":{\"value\":\"#d62728\"},\"line_dash\":{\"value\":[]},\"line_dash_offset\":{\"value\":0},\"line_join\":{\"value\":\"bevel\"},\"line_width\":{\"value\":1},\"marker\":{\"value\":\"circle\"},\"size\":{\"value\":5.477225575051661},\"x\":{\"field\":\"category\"},\"y\":{\"field\":\"imdb_rating\"}},\"id\":\"88317\",\"type\":\"Scatter\"},{\"attributes\":{\"data\":{\"category\":[\"R\"],\"imdb_rating\":{\"__ndarray__\":\"zczMzMzMIUA=\",\"dtype\":\"float64\",\"order\":\"little\",\"shape\":[1]},\"movie_name\":[\"Pulp Fiction\"],\"run_time\":[154]},\"selected\":{\"id\":\"89147\"},\"selection_policy\":{\"id\":\"89243\"}},\"id\":\"89146\",\"type\":\"ColumnDataSource\"},{\"attributes\":{\"fill_alpha\":{\"value\":0.8},\"fill_color\":{\"value\":\"#bcbd22\"},\"hatch_alpha\":{\"value\":0.1},\"hatch_color\":{\"value\":\"#bcbd22\"},\"line_alpha\":{\"value\":0.8},\"line_color\":{\"value\":\"#bcbd22\"},\"size\":{\"value\":5.477225575051661},\"x\":{\"field\":\"category\"},\"y\":{\"field\":\"imdb_rating\"}},\"id\":\"88580\",\"type\":\"Scatter\"},{\"attributes\":{\"data\":{\"imdb_rating\":{\"__ndarray__\":\"zczMzMzMIEDNzMzMzMweQJqZmZmZmR9AmpmZmZmZH0CamZmZmZkfQDMzMzMzMx9AAAAAAAAAIECamZmZmZkfQDMzMzMzMyBAMzMzMzMzIEAzMzMzMzMhQJqZmZmZmSBAAAAAAAAAIUAAAAAAAAAgQDMzMzMzMx9AZmZmZmZmIEBmZmZmZmYgQDMzMzMzMyBAmpmZmZmZIEBmZmZmZmYgQGZmZmZmZiBAAAAAAAAAIUAAAAAAAAAhQJqZmZmZmSBAzczMzMzMIECamZmZmZkhQM3MzMzMzCBAMzMzMzMzIUAAAAAAAAAiQJqZmZmZmSFAmpmZmZmZIUAAAAAAAAAiQA==\",\"dtype\":\"float64\",\"order\":\"little\",\"shape\":[32]},\"movie_name\":[\"The Lives of Others\",\"Lost in Translation\",\"Mystic River\",\"Children of Men\",\"Life of Pi\",\"The Hobbit: The Desolation of Smaug\",\"The King's Speech\",\"District 9\",\"12 Years a Slave\",\"Ratatouille\",\"City of God\",\"Am\\u00e9lie\",\"The Pianist\",\"Slumdog Millionaire\",\"Star Wars: Episode VII - The Force Awakens\",\"A Beautiful Mind\",\"No Country for Old Men\",\"Mad Max: Fury Road\",\"Eternal Sunshine of the Spotless Mind\",\"Kill Bill: Vol. 1\",\"V for Vendetta\",\"The Departed\",\"The Prestige\",\"Inglourious Basterds\",\"Django Unchained\",\"The Lord of the Rings: The Two Towers\",\"The Dark Knight Rises\",\"Interstellar\",\"The Lord of the Rings: The Return of the King\",\"The Lord of the Rings: The Fellowship of the Ring\",\"Inception\",\"The Dark Knight\"],\"votes\":[391480,458613,459918,503642,634357,667864,683379,685403,703824,741322,758914,759411,834842,848344,933771,935549,977336,1006158,1011004,1119120,1125038,1328252,1336235,1453288,1557890,1669715,1708002,1835790,1849082,1878557,2356293,2656768],\"year_of_release\":[2006,2003,2003,2006,2012,2013,2010,2009,2013,2007,2002,2001,2002,2008,2015,2001,2007,2015,2004,2003,2005,2006,2006,2009,2012,2002,2012,2014,2003,2001,2010,2008]},\"selected\":{\"id\":\"90648\"},\"selection_policy\":{\"id\":\"90674\"}},\"id\":\"90647\",\"type\":\"ColumnDataSource\"},{\"attributes\":{},\"id\":\"88661\",\"type\":\"UnionRenderers\"},{\"attributes\":{\"coordinates\":null,\"data_source\":{\"id\":\"88576\"},\"glyph\":{\"id\":\"88579\"},\"group\":null,\"hover_glyph\":null,\"muted_glyph\":{\"id\":\"88581\"},\"nonselection_glyph\":{\"id\":\"88580\"},\"selection_glyph\":{\"id\":\"88665\"},\"view\":{\"id\":\"88583\"}},\"id\":\"88582\",\"type\":\"GlyphRenderer\"},{\"attributes\":{\"fill_alpha\":{\"value\":0.8},\"fill_color\":{\"value\":\"#bcbd22\"},\"hatch_alpha\":{\"value\":0.8},\"hatch_color\":{\"value\":\"#bcbd22\"},\"line_alpha\":{\"value\":0.8},\"line_color\":{\"value\":\"#bcbd22\"},\"size\":{\"value\":5.477225575051661},\"x\":{\"field\":\"category\"},\"y\":{\"field\":\"imdb_rating\"}},\"id\":\"88579\",\"type\":\"Scatter\"},{\"attributes\":{\"fill_alpha\":{\"value\":0.2},\"fill_color\":{\"value\":\"#bcbd22\"},\"hatch_alpha\":{\"value\":0.2},\"hatch_color\":{\"value\":\"#bcbd22\"},\"line_alpha\":{\"value\":0.2},\"line_color\":{\"value\":\"#bcbd22\"},\"size\":{\"value\":5.477225575051661},\"x\":{\"field\":\"category\"},\"y\":{\"field\":\"imdb_rating\"}},\"id\":\"88581\",\"type\":\"Scatter\"},{\"attributes\":{\"data\":{\"category\":[\"R\"],\"imdb_rating\":{\"__ndarray__\":\"AAAAAAAAIUA=\",\"dtype\":\"float64\",\"order\":\"little\",\"shape\":[1]},\"movie_name\":[\"The Pianist\"],\"run_time\":[150]},\"selected\":{\"id\":\"88853\"},\"selection_policy\":{\"id\":\"88943\"}},\"id\":\"88852\",\"type\":\"ColumnDataSource\"},{\"attributes\":{},\"id\":\"88319\",\"type\":\"Selection\"},{\"attributes\":{},\"id\":\"88853\",\"type\":\"Selection\"},{\"attributes\":{\"fill_alpha\":{\"value\":0.8},\"fill_color\":{\"value\":\"#1f77b4\"},\"hatch_alpha\":{\"value\":0.1},\"hatch_color\":{\"value\":\"#1f77b4\"},\"line_alpha\":{\"value\":0.8},\"line_color\":{\"value\":\"#1f77b4\"},\"size\":{\"value\":5.477225575051661},\"x\":{\"field\":\"category\"},\"y\":{\"field\":\"imdb_rating\"}},\"id\":\"88322\",\"type\":\"Scatter\"},{\"attributes\":{\"source\":{\"id\":\"88576\"}},\"id\":\"88583\",\"type\":\"CDSView\"},{\"attributes\":{},\"id\":\"88397\",\"type\":\"UnionRenderers\"},{\"attributes\":{\"coordinates\":null,\"data_source\":{\"id\":\"88318\"},\"glyph\":{\"id\":\"88321\"},\"group\":null,\"hover_glyph\":null,\"muted_glyph\":{\"id\":\"88323\"},\"nonselection_glyph\":{\"id\":\"88322\"},\"selection_glyph\":{\"id\":\"88401\"},\"view\":{\"id\":\"88325\"}},\"id\":\"88324\",\"type\":\"GlyphRenderer\"},{\"attributes\":{\"fill_alpha\":{\"value\":0.8},\"fill_color\":{\"value\":\"#1f77b4\"},\"hatch_alpha\":{\"value\":0.8},\"hatch_color\":{\"value\":\"#1f77b4\"},\"line_alpha\":{\"value\":0.8},\"line_color\":{\"value\":\"#1f77b4\"},\"size\":{\"value\":5.477225575051661},\"x\":{\"field\":\"category\"},\"y\":{\"field\":\"imdb_rating\"}},\"id\":\"88321\",\"type\":\"Scatter\"},{\"attributes\":{\"fill_alpha\":{\"value\":0.2},\"fill_color\":{\"value\":\"#1f77b4\"},\"hatch_alpha\":{\"value\":0.2},\"hatch_color\":{\"value\":\"#1f77b4\"},\"line_alpha\":{\"value\":0.2},\"line_color\":{\"value\":\"#1f77b4\"},\"size\":{\"value\":5.477225575051661},\"x\":{\"field\":\"category\"},\"y\":{\"field\":\"imdb_rating\"}},\"id\":\"88323\",\"type\":\"Scatter\"},{\"attributes\":{\"align\":\"center\",\"children\":[{\"id\":\"86509\"},{\"id\":\"86510\"},{\"id\":\"86511\"},{\"id\":\"86512\"},{\"id\":\"86513\"},{\"id\":\"86514\"},{\"id\":\"86515\"},{\"id\":\"86516\"},{\"id\":\"86517\"},{\"id\":\"86518\"},{\"id\":\"86525\"},{\"id\":\"86526\"},{\"id\":\"86527\"},{\"id\":\"86528\"}],\"css_classes\":[\"panel-widget-box\"],\"height\":1000,\"margin\":[5,5,5,5],\"name\":\"WidgetBox70407\",\"sizing_mode\":\"fixed\",\"width\":300},\"id\":\"86508\",\"type\":\"Column\"},{\"attributes\":{\"source\":{\"id\":\"88318\"}},\"id\":\"88325\",\"type\":\"CDSView\"},{\"attributes\":{\"fill_alpha\":{\"value\":0.8},\"fill_color\":{\"value\":\"#30a2da\"},\"hatch_alpha\":{\"value\":0.1},\"hatch_color\":{\"value\":\"#30a2da\"},\"line_alpha\":{\"value\":0.8},\"line_color\":{\"value\":\"#30a2da\"},\"size\":{\"value\":5.477225575051661},\"x\":{\"field\":\"category\"},\"y\":{\"field\":\"imdb_rating\"}},\"id\":\"88670\",\"type\":\"Scatter\"},{\"attributes\":{\"label\":{\"value\":\"139\"},\"renderers\":[{\"id\":\"88324\"}]},\"id\":\"88400\",\"type\":\"LegendItem\"},{\"attributes\":{},\"id\":\"88753\",\"type\":\"UnionRenderers\"},{\"attributes\":{},\"id\":\"90648\",\"type\":\"Selection\"},{\"attributes\":{\"coordinates\":null,\"data_source\":{\"id\":\"88666\"},\"glyph\":{\"id\":\"88669\"},\"group\":null,\"hover_glyph\":null,\"muted_glyph\":{\"id\":\"88671\"},\"nonselection_glyph\":{\"id\":\"88670\"},\"selection_glyph\":{\"id\":\"88757\"},\"view\":{\"id\":\"88673\"}},\"id\":\"88672\",\"type\":\"GlyphRenderer\"},{\"attributes\":{\"columns\":[{\"id\":\"90651\"},{\"id\":\"90656\"},{\"id\":\"90661\"},{\"id\":\"90666\"}],\"reorderable\":false,\"source\":{\"id\":\"90647\"},\"view\":{\"id\":\"90671\"},\"width\":500},\"id\":\"90669\",\"type\":\"DataTable\"},{\"attributes\":{\"data\":{\"category\":[\"R\"],\"imdb_rating\":{\"__ndarray__\":\"ZmZmZmZmIUA=\",\"dtype\":\"float64\",\"order\":\"little\",\"shape\":[1]},\"movie_name\":[\"Goodfellas\"],\"run_time\":[145]},\"selected\":{\"id\":\"88577\"},\"selection_policy\":{\"id\":\"88661\"}},\"id\":\"88576\",\"type\":\"ColumnDataSource\"},{\"attributes\":{\"angle\":{\"value\":0.0},\"fill_alpha\":{\"value\":0.8},\"fill_color\":{\"value\":\"#1f77b4\"},\"hatch_alpha\":{\"value\":0.8},\"hatch_color\":{\"value\":\"#1f77b4\"},\"hatch_scale\":{\"value\":12.0},\"hatch_weight\":{\"value\":1.0},\"line_alpha\":{\"value\":0.8},\"line_cap\":{\"value\":\"butt\"},\"line_color\":{\"value\":\"#1f77b4\"},\"line_dash\":{\"value\":[]},\"line_dash_offset\":{\"value\":0},\"line_join\":{\"value\":\"bevel\"},\"line_width\":{\"value\":1},\"marker\":{\"value\":\"circle\"},\"size\":{\"value\":5.477225575051661},\"x\":{\"field\":\"category\"},\"y\":{\"field\":\"imdb_rating\"}},\"id\":\"88401\",\"type\":\"Scatter\"},{\"attributes\":{\"fill_alpha\":{\"value\":0.8},\"fill_color\":{\"value\":\"#30a2da\"},\"hatch_alpha\":{\"value\":0.8},\"hatch_color\":{\"value\":\"#30a2da\"},\"line_alpha\":{\"value\":0.8},\"line_color\":{\"value\":\"#30a2da\"},\"size\":{\"value\":5.477225575051661},\"x\":{\"field\":\"category\"},\"y\":{\"field\":\"imdb_rating\"}},\"id\":\"88669\",\"type\":\"Scatter\"},{\"attributes\":{},\"id\":\"90649\",\"type\":\"NumberFormatter\"},{\"attributes\":{\"fill_alpha\":{\"value\":0.2},\"fill_color\":{\"value\":\"#30a2da\"},\"hatch_alpha\":{\"value\":0.2},\"hatch_color\":{\"value\":\"#30a2da\"},\"line_alpha\":{\"value\":0.2},\"line_color\":{\"value\":\"#30a2da\"},\"size\":{\"value\":5.477225575051661},\"x\":{\"field\":\"category\"},\"y\":{\"field\":\"imdb_rating\"}},\"id\":\"88671\",\"type\":\"Scatter\"},{\"attributes\":{},\"id\":\"90650\",\"type\":\"IntEditor\"},{\"attributes\":{\"source\":{\"id\":\"88666\"}},\"id\":\"88673\",\"type\":\"CDSView\"},{\"attributes\":{},\"id\":\"88667\",\"type\":\"Selection\"},{\"attributes\":{\"coordinates\":null,\"data_source\":{\"id\":\"88402\"},\"glyph\":{\"id\":\"88405\"},\"group\":null,\"hover_glyph\":null,\"muted_glyph\":{\"id\":\"88407\"},\"nonselection_glyph\":{\"id\":\"88406\"},\"selection_glyph\":{\"id\":\"88487\"},\"view\":{\"id\":\"88409\"}},\"id\":\"88408\",\"type\":\"GlyphRenderer\"},{\"attributes\":{\"editor\":{\"id\":\"90650\"},\"field\":\"year_of_release\",\"formatter\":{\"id\":\"90649\"},\"title\":\"year_of_release\"},\"id\":\"90651\",\"type\":\"TableColumn\"},{\"attributes\":{\"label\":{\"value\":\"146\"},\"renderers\":[{\"id\":\"88672\"}]},\"id\":\"88756\",\"type\":\"LegendItem\"},{\"attributes\":{},\"id\":\"88483\",\"type\":\"UnionRenderers\"},{\"attributes\":{},\"id\":\"90654\",\"type\":\"NumberFormatter\"},{\"attributes\":{},\"id\":\"88403\",\"type\":\"Selection\"},{\"attributes\":{},\"id\":\"90655\",\"type\":\"IntEditor\"},{\"attributes\":{\"fill_alpha\":{\"value\":0.8},\"fill_color\":{\"value\":\"#e377c2\"},\"hatch_alpha\":{\"value\":0.8},\"hatch_color\":{\"value\":\"#e377c2\"},\"line_alpha\":{\"value\":0.8},\"line_color\":{\"value\":\"#e377c2\"},\"size\":{\"value\":5.477225575051661},\"x\":{\"field\":\"category\"},\"y\":{\"field\":\"imdb_rating\"}},\"id\":\"88405\",\"type\":\"Scatter\"},{\"attributes\":{\"data\":{\"category\":[\"R\"],\"imdb_rating\":{\"__ndarray__\":\"AAAAAAAAIUA=\",\"dtype\":\"float64\",\"order\":\"little\",\"shape\":[1]},\"movie_name\":[\"The Departed\"],\"run_time\":[151]},\"selected\":{\"id\":\"88949\"},\"selection_policy\":{\"id\":\"89041\"}},\"id\":\"88948\",\"type\":\"ColumnDataSource\"},{\"attributes\":{\"fill_alpha\":{\"value\":0.2},\"fill_color\":{\"value\":\"#e377c2\"},\"hatch_alpha\":{\"value\":0.2},\"hatch_color\":{\"value\":\"#e377c2\"},\"line_alpha\":{\"value\":0.2},\"line_color\":{\"value\":\"#e377c2\"},\"size\":{\"value\":5.477225575051661},\"x\":{\"field\":\"category\"},\"y\":{\"field\":\"imdb_rating\"}},\"id\":\"88407\",\"type\":\"Scatter\"},{\"attributes\":{\"angle\":{\"value\":0.0},\"fill_alpha\":{\"value\":0.8},\"fill_color\":{\"value\":\"#30a2da\"},\"hatch_alpha\":{\"value\":0.8},\"hatch_color\":{\"value\":\"#30a2da\"},\"hatch_scale\":{\"value\":12.0},\"hatch_weight\":{\"value\":1.0},\"line_alpha\":{\"value\":0.8},\"line_cap\":{\"value\":\"butt\"},\"line_color\":{\"value\":\"#30a2da\"},\"line_dash\":{\"value\":[]},\"line_dash_offset\":{\"value\":0},\"line_join\":{\"value\":\"bevel\"},\"line_width\":{\"value\":1},\"marker\":{\"value\":\"circle\"},\"size\":{\"value\":5.477225575051661},\"x\":{\"field\":\"category\"},\"y\":{\"field\":\"imdb_rating\"}},\"id\":\"88757\",\"type\":\"Scatter\"},{\"attributes\":{\"editor\":{\"id\":\"90655\"},\"field\":\"votes\",\"formatter\":{\"id\":\"90654\"},\"title\":\"votes\"},\"id\":\"90656\",\"type\":\"TableColumn\"},{\"attributes\":{\"source\":{\"id\":\"88402\"}},\"id\":\"88409\",\"type\":\"CDSView\"},{\"attributes\":{\"format\":\"0,0.0[00000]\"},\"id\":\"90659\",\"type\":\"NumberFormatter\"},{\"attributes\":{\"data\":{\"category\":[\"R\"],\"imdb_rating\":{\"__ndarray__\":\"mpmZmZmZIEA=\",\"dtype\":\"float64\",\"order\":\"little\",\"shape\":[1]},\"movie_name\":[\"Inglourious Basterds\"],\"run_time\":[153]},\"selected\":{\"id\":\"89047\"},\"selection_policy\":{\"id\":\"89141\"}},\"id\":\"89046\",\"type\":\"ColumnDataSource\"},{\"attributes\":{},\"id\":\"90660\",\"type\":\"NumberEditor\"},{\"attributes\":{\"label\":{\"value\":\"142\"},\"renderers\":[{\"id\":\"88408\"}]},\"id\":\"88486\",\"type\":\"LegendItem\"},{\"attributes\":{\"editor\":{\"id\":\"90660\"},\"field\":\"imdb_rating\",\"formatter\":{\"id\":\"90659\"},\"title\":\"imdb_rating\"},\"id\":\"90661\",\"type\":\"TableColumn\"},{\"attributes\":{\"children\":[{\"id\":\"86508\"},{\"id\":\"86529\"}],\"margin\":[0,0,0,0],\"name\":\"Row72089\",\"sizing_mode\":\"stretch_width\"},\"id\":\"86507\",\"type\":\"Row\"},{\"attributes\":{\"data\":{\"category\":[\"R\"],\"imdb_rating\":{\"__ndarray__\":\"zczMzMzMIEA=\",\"dtype\":\"float64\",\"order\":\"little\",\"shape\":[1]},\"movie_name\":[\"The Shining\"],\"run_time\":[146]},\"selected\":{\"id\":\"88667\"},\"selection_policy\":{\"id\":\"88753\"}},\"id\":\"88666\",\"type\":\"ColumnDataSource\"},{\"attributes\":{},\"id\":\"88759\",\"type\":\"Selection\"},{\"attributes\":{},\"id\":\"90664\",\"type\":\"StringFormatter\"},{\"attributes\":{\"angle\":{\"value\":0.0},\"fill_alpha\":{\"value\":0.8},\"fill_color\":{\"value\":\"#e377c2\"},\"hatch_alpha\":{\"value\":0.8},\"hatch_color\":{\"value\":\"#e377c2\"},\"hatch_scale\":{\"value\":12.0},\"hatch_weight\":{\"value\":1.0},\"line_alpha\":{\"value\":0.8},\"line_cap\":{\"value\":\"butt\"},\"line_color\":{\"value\":\"#e377c2\"},\"line_dash\":{\"value\":[]},\"line_dash_offset\":{\"value\":0},\"line_join\":{\"value\":\"bevel\"},\"line_width\":{\"value\":1},\"marker\":{\"value\":\"circle\"},\"size\":{\"value\":5.477225575051661},\"x\":{\"field\":\"category\"},\"y\":{\"field\":\"imdb_rating\"}},\"id\":\"88487\",\"type\":\"Scatter\"},{\"attributes\":{\"fill_alpha\":{\"value\":0.8},\"fill_color\":{\"value\":\"#fc4f30\"},\"hatch_alpha\":{\"value\":0.1},\"hatch_color\":{\"value\":\"#fc4f30\"},\"line_alpha\":{\"value\":0.8},\"line_color\":{\"value\":\"#fc4f30\"},\"size\":{\"value\":5.477225575051661},\"x\":{\"field\":\"category\"},\"y\":{\"field\":\"imdb_rating\"}},\"id\":\"88762\",\"type\":\"Scatter\"},{\"attributes\":{\"fill_alpha\":{\"value\":0.2},\"fill_color\":{\"value\":\"#fc4f30\"},\"hatch_alpha\":{\"value\":0.2},\"hatch_color\":{\"value\":\"#fc4f30\"},\"line_alpha\":{\"value\":0.2},\"line_color\":{\"value\":\"#fc4f30\"},\"size\":{\"value\":5.477225575051661},\"x\":{\"field\":\"category\"},\"y\":{\"field\":\"imdb_rating\"}},\"id\":\"88763\",\"type\":\"Scatter\"},{\"attributes\":{},\"id\":\"90665\",\"type\":\"StringEditor\"},{\"attributes\":{\"fill_color\":{\"value\":\"#EE799F\"},\"hatch_color\":{\"value\":\"#EE799F\"},\"height\":{\"value\":0.8},\"right\":{\"field\":\"gross_total\"},\"y\":{\"field\":\"year_of_release\"}},\"id\":\"86568\",\"type\":\"HBar\"},{\"attributes\":{\"editor\":{\"id\":\"90665\"},\"field\":\"movie_name\",\"formatter\":{\"id\":\"90664\"},\"title\":\"movie_name\"},\"id\":\"90666\",\"type\":\"TableColumn\"},{\"attributes\":{\"label\":{\"value\":\"145\"},\"renderers\":[{\"id\":\"88582\"}]},\"id\":\"88664\",\"type\":\"LegendItem\"},{\"attributes\":{\"fill_alpha\":{\"value\":0.8},\"fill_color\":{\"value\":\"#8c564b\"},\"hatch_alpha\":{\"value\":0.1},\"hatch_color\":{\"value\":\"#8c564b\"},\"line_alpha\":{\"value\":0.8},\"line_color\":{\"value\":\"#8c564b\"},\"size\":{\"value\":5.477225575051661},\"x\":{\"field\":\"category\"},\"y\":{\"field\":\"imdb_rating\"}},\"id\":\"88492\",\"type\":\"Scatter\"},{\"attributes\":{\"coordinates\":null,\"data_source\":{\"id\":\"88758\"},\"glyph\":{\"id\":\"88761\"},\"group\":null,\"hover_glyph\":null,\"muted_glyph\":{\"id\":\"88763\"},\"nonselection_glyph\":{\"id\":\"88762\"},\"selection_glyph\":{\"id\":\"88851\"},\"view\":{\"id\":\"88765\"}},\"id\":\"88764\",\"type\":\"GlyphRenderer\"},{\"attributes\":{\"source\":{\"id\":\"90647\"}},\"id\":\"90671\",\"type\":\"CDSView\"},{\"attributes\":{\"end\":120.325,\"reset_end\":120.325,\"reset_start\":84.675,\"start\":84.675,\"tags\":[[[\"value\",\"value\",null]]]},\"id\":\"90497\",\"type\":\"Range1d\"},{\"attributes\":{\"children\":[{\"id\":\"90677\"}],\"margin\":[0,1,0,1],\"name\":\"Column71901\",\"sizing_mode\":\"stretch_width\",\"width\":500},\"id\":\"90676\",\"type\":\"Column\"},{\"attributes\":{\"source\":{\"id\":\"88758\"}},\"id\":\"88765\",\"type\":\"CDSView\"},{\"attributes\":{},\"id\":\"88577\",\"type\":\"Selection\"},{\"attributes\":{\"factors\":[\"12 Angry Men\",\"The Silence of the Lambs\",\"Life Is Beautiful\",\"L\\u00e9on: The Professional\",\"The Usual Suspects\",\"Casablanca\",\"Modern Times\",\"Back to the Future\",\"City Lights\",\"Rear Window\"],\"tags\":[[[\"movie_name\",\"movie_name\",null]]]},\"id\":\"90496\",\"type\":\"FactorRange\"},{\"attributes\":{\"fill_alpha\":{\"value\":0.8},\"fill_color\":{\"value\":\"#fc4f30\"},\"hatch_alpha\":{\"value\":0.8},\"hatch_color\":{\"value\":\"#fc4f30\"},\"line_alpha\":{\"value\":0.8},\"line_color\":{\"value\":\"#fc4f30\"},\"size\":{\"value\":5.477225575051661},\"x\":{\"field\":\"category\"},\"y\":{\"field\":\"imdb_rating\"}},\"id\":\"88761\",\"type\":\"Scatter\"},{\"attributes\":{},\"id\":\"88489\",\"type\":\"Selection\"},{\"attributes\":{\"fill_alpha\":{\"value\":0.8},\"fill_color\":{\"value\":\"#8c564b\"},\"hatch_alpha\":{\"value\":0.8},\"hatch_color\":{\"value\":\"#8c564b\"},\"line_alpha\":{\"value\":0.8},\"line_color\":{\"value\":\"#8c564b\"},\"size\":{\"value\":5.477225575051661},\"x\":{\"field\":\"category\"},\"y\":{\"field\":\"imdb_rating\"}},\"id\":\"88491\",\"type\":\"Scatter\"},{\"attributes\":{\"label\":{\"value\":\"147\"},\"renderers\":[{\"id\":\"88764\"}]},\"id\":\"88850\",\"type\":\"LegendItem\"},{\"attributes\":{},\"id\":\"88847\",\"type\":\"UnionRenderers\"},{\"attributes\":{\"callback\":null,\"renderers\":[{\"id\":\"90534\"}],\"tags\":[\"hv_created\"],\"tooltips\":[[\"movie_name\",\"@{movie_name}\"],[\"value\",\"@{value}\"],[\"imdb_rating\",\"@{imdb_rating}\"]]},\"id\":\"90498\",\"type\":\"HoverTool\"},{\"attributes\":{\"children\":[[{\"id\":\"90745\"},0,0],[{\"id\":\"90797\"},0,1],[{\"id\":\"90849\"},0,2]]},\"id\":\"90931\",\"type\":\"GridBox\"},{\"attributes\":{},\"id\":\"90856\",\"type\":\"LinearScale\"},{\"attributes\":{\"data\":{\"imdb_rating\":{\"__ndarray__\":\"AAAAAAAAIkAzMzMzMzMhQDMzMzMzMyFAAAAAAAAAIUAAAAAAAAAhQAAAAAAAACFAAAAAAAAAIUAAAAAAAAAhQAAAAAAAACFAAAAAAAAAIUA=\",\"dtype\":\"float64\",\"order\":\"little\",\"shape\":[10]},\"movie_name\":[\"12 Angry Men\",\"The Silence of the Lambs\",\"Life Is Beautiful\",\"L\\u00e9on: The Professional\",\"The Usual Suspects\",\"Casablanca\",\"Modern Times\",\"Back to the Future\",\"City Lights\",\"Rear Window\"],\"value\":[96,118,116,110,106,102,87,116,87,112]},\"selected\":{\"id\":\"90529\"},\"selection_policy\":{\"id\":\"90605\"}},\"id\":\"90528\",\"type\":\"ColumnDataSource\"},{\"attributes\":{\"below\":[{\"id\":\"90508\"}],\"center\":[{\"id\":\"90510\"},{\"id\":\"90514\"}],\"height\":400,\"left\":[{\"id\":\"90511\"}],\"margin\":null,\"min_border_bottom\":10,\"min_border_left\":10,\"min_border_right\":10,\"min_border_top\":10,\"renderers\":[{\"id\":\"90534\"}],\"sizing_mode\":\"fixed\",\"title\":{\"id\":\"90500\"},\"toolbar\":{\"id\":\"90521\"},\"toolbar_location\":null,\"width\":300,\"x_range\":{\"id\":\"90496\"},\"x_scale\":{\"id\":\"90504\"},\"y_range\":{\"id\":\"90497\"},\"y_scale\":{\"id\":\"90506\"}},\"id\":\"90499\",\"subtype\":\"Figure\",\"type\":\"Plot\"},{\"attributes\":{\"axis_label\":\"value\",\"coordinates\":null,\"formatter\":{\"id\":\"90889\"},\"group\":null,\"major_label_orientation\":0.3490658503988659,\"major_label_policy\":{\"id\":\"90890\"},\"ticker\":{\"id\":\"90859\"}},\"id\":\"90858\",\"type\":\"LinearAxis\"},{\"attributes\":{\"source\":{\"id\":\"89146\"}},\"id\":\"89153\",\"type\":\"CDSView\"},{\"attributes\":{},\"id\":\"90538\",\"type\":\"CategoricalTickFormatter\"},{\"attributes\":{},\"id\":\"90504\",\"type\":\"CategoricalScale\"},{\"attributes\":{},\"id\":\"90859\",\"type\":\"BasicTicker\"},{\"attributes\":{\"fill_alpha\":{\"value\":0.2},\"fill_color\":{\"value\":\"#17becf\"},\"hatch_alpha\":{\"value\":0.2},\"hatch_color\":{\"value\":\"#17becf\"},\"line_alpha\":{\"value\":0.2},\"line_color\":{\"value\":\"#17becf\"},\"size\":{\"value\":5.477225575051661},\"x\":{\"field\":\"category\"},\"y\":{\"field\":\"imdb_rating\"}},\"id\":\"89151\",\"type\":\"Scatter\"},{\"attributes\":{\"coordinates\":null,\"group\":null,\"text\":\"Variable: run_time\",\"text_color\":\"black\",\"text_font_size\":\"12pt\"},\"id\":\"90500\",\"type\":\"Title\"},{\"attributes\":{\"axis\":{\"id\":\"90858\"},\"coordinates\":null,\"grid_line_color\":null,\"group\":null,\"ticker\":null},\"id\":\"90861\",\"type\":\"Grid\"},{\"attributes\":{\"coordinates\":null,\"data_source\":{\"id\":\"89146\"},\"glyph\":{\"id\":\"89149\"},\"group\":null,\"hover_glyph\":null,\"muted_glyph\":{\"id\":\"89151\"},\"nonselection_glyph\":{\"id\":\"89150\"},\"selection_glyph\":{\"id\":\"89247\"},\"view\":{\"id\":\"89153\"}},\"id\":\"89152\",\"type\":\"GlyphRenderer\"},{\"attributes\":{\"label\":{\"value\":\"154\"},\"renderers\":[{\"id\":\"89152\"}]},\"id\":\"89246\",\"type\":\"LegendItem\"},{\"attributes\":{},\"id\":\"90506\",\"type\":\"LinearScale\"},{\"attributes\":{\"axis_label\":\"Density\",\"coordinates\":null,\"formatter\":{\"id\":\"90892\"},\"group\":null,\"major_label_policy\":{\"id\":\"90893\"},\"ticker\":{\"id\":\"90863\"}},\"id\":\"90862\",\"type\":\"LinearAxis\"},{\"attributes\":{},\"id\":\"89243\",\"type\":\"UnionRenderers\"},{\"attributes\":{\"axis_label\":\"movie_name\",\"coordinates\":null,\"formatter\":{\"id\":\"90538\"},\"group\":null,\"major_label_orientation\":0.5235987755982988,\"major_label_policy\":{\"id\":\"90539\"},\"ticker\":{\"id\":\"90509\"}},\"id\":\"90508\",\"type\":\"CategoricalAxis\"},{\"attributes\":{},\"id\":\"90863\",\"type\":\"BasicTicker\"},{\"attributes\":{\"angle\":{\"value\":0.0},\"fill_alpha\":{\"value\":0.8},\"fill_color\":{\"value\":\"#17becf\"},\"hatch_alpha\":{\"value\":0.8},\"hatch_color\":{\"value\":\"#17becf\"},\"hatch_scale\":{\"value\":12.0},\"hatch_weight\":{\"value\":1.0},\"line_alpha\":{\"value\":0.8},\"line_cap\":{\"value\":\"butt\"},\"line_color\":{\"value\":\"#17becf\"},\"line_dash\":{\"value\":[]},\"line_dash_offset\":{\"value\":0},\"line_join\":{\"value\":\"bevel\"},\"line_width\":{\"value\":1},\"marker\":{\"value\":\"circle\"},\"size\":{\"value\":5.477225575051661},\"x\":{\"field\":\"category\"},\"y\":{\"field\":\"imdb_rating\"}},\"id\":\"89247\",\"type\":\"Scatter\"},{\"attributes\":{\"axis\":{\"id\":\"90862\"},\"coordinates\":null,\"dimension\":1,\"grid_line_color\":null,\"group\":null,\"ticker\":null},\"id\":\"90865\",\"type\":\"Grid\"},{\"attributes\":{},\"id\":\"90509\",\"type\":\"CategoricalTicker\"},{\"attributes\":{\"axis\":{\"id\":\"90508\"},\"coordinates\":null,\"grid_line_color\":null,\"group\":null,\"ticker\":null},\"id\":\"90510\",\"type\":\"Grid\"},{\"attributes\":{\"data\":{\"category\":[\"R\"],\"imdb_rating\":{\"__ndarray__\":\"MzMzMzMzIUA=\",\"dtype\":\"float64\",\"order\":\"little\",\"shape\":[1]},\"movie_name\":[\"Saving Private Ryan\"],\"run_time\":[169]},\"selected\":{\"id\":\"89567\"},\"selection_policy\":{\"id\":\"89671\"}},\"id\":\"89566\",\"type\":\"ColumnDataSource\"},{\"attributes\":{},\"id\":\"90880\",\"type\":\"Selection\"},{\"attributes\":{\"axis_label\":\"\",\"coordinates\":null,\"formatter\":{\"id\":\"90541\"},\"group\":null,\"major_label_policy\":{\"id\":\"90542\"},\"ticker\":{\"id\":\"90512\"}},\"id\":\"90511\",\"type\":\"LinearAxis\"},{\"attributes\":{},\"id\":\"90866\",\"type\":\"SaveTool\"},{\"attributes\":{},\"id\":\"90512\",\"type\":\"BasicTicker\"},{\"attributes\":{\"data\":{\"category\":[\"R\",\"Approved\"],\"imdb_rating\":{\"__ndarray__\":\"zczMzMzMIECamZmZmZkhQA==\",\"dtype\":\"float64\",\"order\":\"little\",\"shape\":[2]},\"movie_name\":[\"Braveheart\",\"The Good, the Bad and the Ugly\"],\"run_time\":[178,178]},\"selected\":{\"id\":\"89903\"},\"selection_policy\":{\"id\":\"90013\"}},\"id\":\"89902\",\"type\":\"ColumnDataSource\"},{\"attributes\":{},\"id\":\"89677\",\"type\":\"Selection\"},{\"attributes\":{\"axis\":{\"id\":\"90511\"},\"coordinates\":null,\"dimension\":1,\"grid_line_color\":null,\"group\":null,\"ticker\":null},\"id\":\"90514\",\"type\":\"Grid\"},{\"attributes\":{},\"id\":\"90867\",\"type\":\"PanTool\"},{\"attributes\":{\"fill_alpha\":{\"value\":0.8},\"fill_color\":{\"value\":\"#9467bd\"},\"hatch_alpha\":{\"value\":0.1},\"hatch_color\":{\"value\":\"#9467bd\"},\"line_alpha\":{\"value\":0.8},\"line_color\":{\"value\":\"#9467bd\"},\"size\":{\"value\":5.477225575051661},\"x\":{\"field\":\"category\"},\"y\":{\"field\":\"imdb_rating\"}},\"id\":\"89252\",\"type\":\"Scatter\"},{\"attributes\":{},\"id\":\"90868\",\"type\":\"WheelZoomTool\"},{\"attributes\":{},\"id\":\"89347\",\"type\":\"UnionRenderers\"},{\"attributes\":{},\"id\":\"90529\",\"type\":\"Selection\"},{\"attributes\":{\"coordinates\":null,\"data_source\":{\"id\":\"89248\"},\"glyph\":{\"id\":\"89251\"},\"group\":null,\"hover_glyph\":null,\"muted_glyph\":{\"id\":\"89253\"},\"nonselection_glyph\":{\"id\":\"89252\"},\"selection_glyph\":{\"id\":\"89351\"},\"view\":{\"id\":\"89255\"}},\"id\":\"89254\",\"type\":\"GlyphRenderer\"},{\"attributes\":{\"overlay\":{\"id\":\"90871\"}},\"id\":\"90869\",\"type\":\"BoxZoomTool\"},{\"attributes\":{\"fill_alpha\":{\"value\":0.8},\"fill_color\":{\"value\":\"#9467bd\"},\"hatch_alpha\":{\"value\":0.8},\"hatch_color\":{\"value\":\"#9467bd\"},\"line_alpha\":{\"value\":0.8},\"line_color\":{\"value\":\"#9467bd\"},\"size\":{\"value\":5.477225575051661},\"x\":{\"field\":\"category\"},\"y\":{\"field\":\"imdb_rating\"}},\"id\":\"89251\",\"type\":\"Scatter\"},{\"attributes\":{\"fill_alpha\":{\"value\":0.2},\"fill_color\":{\"value\":\"#9467bd\"},\"hatch_alpha\":{\"value\":0.2},\"hatch_color\":{\"value\":\"#9467bd\"},\"line_alpha\":{\"value\":0.2},\"line_color\":{\"value\":\"#9467bd\"},\"size\":{\"value\":5.477225575051661},\"x\":{\"field\":\"category\"},\"y\":{\"field\":\"imdb_rating\"}},\"id\":\"89253\",\"type\":\"Scatter\"},{\"attributes\":{},\"id\":\"90515\",\"type\":\"SaveTool\"},{\"attributes\":{},\"id\":\"90870\",\"type\":\"ResetTool\"},{\"attributes\":{\"source\":{\"id\":\"89248\"}},\"id\":\"89255\",\"type\":\"CDSView\"},{\"attributes\":{},\"id\":\"90516\",\"type\":\"PanTool\"},{\"attributes\":{},\"id\":\"90927\",\"type\":\"UnionRenderers\"},{\"attributes\":{\"active_drag\":{\"id\":\"90867\"},\"active_scroll\":{\"id\":\"90868\"},\"tools\":[{\"id\":\"90848\"},{\"id\":\"90866\"},{\"id\":\"90867\"},{\"id\":\"90868\"},{\"id\":\"90869\"},{\"id\":\"90870\"}]},\"id\":\"90872\",\"type\":\"Toolbar\"},{\"attributes\":{},\"id\":\"90517\",\"type\":\"WheelZoomTool\"},{\"attributes\":{\"label\":{\"value\":\"157\"},\"renderers\":[{\"id\":\"89254\"}]},\"id\":\"89350\",\"type\":\"LegendItem\"},{\"attributes\":{\"bottom_units\":\"screen\",\"coordinates\":null,\"fill_alpha\":0.5,\"fill_color\":\"lightgrey\",\"group\":null,\"left_units\":\"screen\",\"level\":\"overlay\",\"line_alpha\":1.0,\"line_color\":\"black\",\"line_dash\":[4,4],\"line_width\":2,\"right_units\":\"screen\",\"syncable\":false,\"top_units\":\"screen\"},\"id\":\"90871\",\"type\":\"BoxAnnotation\"},{\"attributes\":{\"overlay\":{\"id\":\"90520\"}},\"id\":\"90518\",\"type\":\"BoxZoomTool\"},{\"attributes\":{\"angle\":{\"value\":0.0},\"fill_alpha\":{\"value\":0.8},\"fill_color\":{\"value\":\"#9467bd\"},\"hatch_alpha\":{\"value\":0.8},\"hatch_color\":{\"value\":\"#9467bd\"},\"hatch_scale\":{\"value\":12.0},\"hatch_weight\":{\"value\":1.0},\"line_alpha\":{\"value\":0.8},\"line_cap\":{\"value\":\"butt\"},\"line_color\":{\"value\":\"#9467bd\"},\"line_dash\":{\"value\":[]},\"line_dash_offset\":{\"value\":0},\"line_join\":{\"value\":\"bevel\"},\"line_width\":{\"value\":1},\"marker\":{\"value\":\"circle\"},\"size\":{\"value\":5.477225575051661},\"x\":{\"field\":\"category\"},\"y\":{\"field\":\"imdb_rating\"}},\"id\":\"89351\",\"type\":\"Scatter\"},{\"attributes\":{},\"id\":\"90519\",\"type\":\"ResetTool\"},{\"attributes\":{},\"id\":\"90905\",\"type\":\"UnionRenderers\"},{\"attributes\":{\"active_drag\":{\"id\":\"90516\"},\"active_scroll\":{\"id\":\"90517\"},\"tools\":[{\"id\":\"90498\"},{\"id\":\"90515\"},{\"id\":\"90516\"},{\"id\":\"90517\"},{\"id\":\"90518\"},{\"id\":\"90519\"}]},\"id\":\"90521\",\"type\":\"Toolbar\"},{\"attributes\":{\"fill_alpha\":0.5,\"fill_color\":\"#E9967A\",\"hatch_alpha\":0.1,\"hatch_color\":\"#E9967A\",\"line_alpha\":1,\"x\":{\"field\":\"x\"},\"y\":{\"field\":\"y\"}},\"id\":\"90883\",\"type\":\"Patch\"},{\"attributes\":{\"bottom_units\":\"screen\",\"coordinates\":null,\"fill_alpha\":0.5,\"fill_color\":\"lightgrey\",\"group\":null,\"left_units\":\"screen\",\"level\":\"overlay\",\"line_alpha\":1.0,\"line_color\":\"black\",\"line_dash\":[4,4],\"line_width\":2,\"right_units\":\"screen\",\"syncable\":false,\"top_units\":\"screen\"},\"id\":\"90520\",\"type\":\"BoxAnnotation\"},{\"attributes\":{},\"id\":\"90889\",\"type\":\"BasicTickFormatter\"},{\"attributes\":{\"fill_alpha\":{\"value\":0.8},\"fill_color\":{\"value\":\"#d62728\"},\"hatch_alpha\":{\"value\":0.1},\"hatch_color\":{\"value\":\"#d62728\"},\"line_alpha\":{\"value\":0.8},\"line_color\":{\"value\":\"#d62728\"},\"size\":{\"value\":5.477225575051661},\"x\":{\"field\":\"category\"},\"y\":{\"field\":\"imdb_rating\"}},\"id\":\"89356\",\"type\":\"Scatter\"},{\"attributes\":{\"coordinates\":null,\"data_source\":{\"id\":\"90879\"},\"glyph\":{\"id\":\"90882\"},\"group\":null,\"hover_glyph\":null,\"muted_glyph\":{\"id\":\"90884\"},\"nonselection_glyph\":{\"id\":\"90883\"},\"selection_glyph\":{\"id\":\"90887\"},\"view\":{\"id\":\"90886\"}},\"id\":\"90885\",\"type\":\"GlyphRenderer\"},{\"attributes\":{},\"id\":\"90589\",\"type\":\"CategoricalTickFormatter\"},{\"attributes\":{},\"id\":\"90890\",\"type\":\"AllLabels\"},{\"attributes\":{},\"id\":\"89453\",\"type\":\"UnionRenderers\"},{\"attributes\":{\"fill_alpha\":0.2,\"fill_color\":\"#E9967A\",\"hatch_alpha\":0.2,\"hatch_color\":\"#E9967A\",\"line_alpha\":0.2,\"x\":{\"field\":\"x\"},\"y\":{\"field\":\"y\"}},\"id\":\"90884\",\"type\":\"Patch\"},{\"attributes\":{\"coordinates\":null,\"data_source\":{\"id\":\"89352\"},\"glyph\":{\"id\":\"89355\"},\"group\":null,\"hover_glyph\":null,\"muted_glyph\":{\"id\":\"89357\"},\"nonselection_glyph\":{\"id\":\"89356\"},\"selection_glyph\":{\"id\":\"89457\"},\"view\":{\"id\":\"89359\"}},\"id\":\"89358\",\"type\":\"GlyphRenderer\"},{\"attributes\":{\"fill_alpha\":{\"value\":0.8},\"fill_color\":{\"value\":\"#d62728\"},\"hatch_alpha\":{\"value\":0.8},\"hatch_color\":{\"value\":\"#d62728\"},\"line_alpha\":{\"value\":0.8},\"line_color\":{\"value\":\"#d62728\"},\"size\":{\"value\":5.477225575051661},\"x\":{\"field\":\"category\"},\"y\":{\"field\":\"imdb_rating\"}},\"id\":\"89355\",\"type\":\"Scatter\"},{\"attributes\":{\"line_color\":\"#009ACD\",\"line_width\":2,\"x\":{\"field\":\"movie_name\"},\"y\":{\"field\":\"value\"}},\"id\":\"90531\",\"type\":\"Line\"},{\"attributes\":{\"source\":{\"id\":\"90879\"}},\"id\":\"90886\",\"type\":\"CDSView\"},{\"attributes\":{\"fill_alpha\":{\"value\":0.2},\"fill_color\":{\"value\":\"#d62728\"},\"hatch_alpha\":{\"value\":0.2},\"hatch_color\":{\"value\":\"#d62728\"},\"line_alpha\":{\"value\":0.2},\"line_color\":{\"value\":\"#d62728\"},\"size\":{\"value\":5.477225575051661},\"x\":{\"field\":\"category\"},\"y\":{\"field\":\"imdb_rating\"}},\"id\":\"89357\",\"type\":\"Scatter\"},{\"attributes\":{\"line_alpha\":0.1,\"line_color\":\"#009ACD\",\"line_width\":2,\"x\":{\"field\":\"movie_name\"},\"y\":{\"field\":\"value\"}},\"id\":\"90532\",\"type\":\"Line\"},{\"attributes\":{\"fill_alpha\":0.5,\"fill_color\":\"#E9967A\",\"hatch_color\":\"#E9967A\",\"x\":{\"field\":\"x\"},\"y\":{\"field\":\"y\"}},\"id\":\"90882\",\"type\":\"Patch\"},{\"attributes\":{\"line_alpha\":0.2,\"line_color\":\"#009ACD\",\"line_width\":2,\"x\":{\"field\":\"movie_name\"},\"y\":{\"field\":\"value\"}},\"id\":\"90533\",\"type\":\"Line\"},{\"attributes\":{\"source\":{\"id\":\"89352\"}},\"id\":\"89359\",\"type\":\"CDSView\"},{\"attributes\":{\"fill_alpha\":0.5,\"fill_color\":\"#E9967A\",\"hatch_color\":\"#E9967A\",\"x\":{\"field\":\"x\"},\"y\":{\"field\":\"y\"}},\"id\":\"90887\",\"type\":\"Patch\"},{\"attributes\":{\"coordinates\":null,\"data_source\":{\"id\":\"90528\"},\"glyph\":{\"id\":\"90531\"},\"group\":null,\"hover_glyph\":null,\"muted_glyph\":{\"id\":\"90533\"},\"nonselection_glyph\":{\"id\":\"90532\"},\"selection_glyph\":{\"id\":\"90536\"},\"view\":{\"id\":\"90535\"}},\"id\":\"90534\",\"type\":\"GlyphRenderer\"},{\"attributes\":{\"label\":{\"value\":\"161\"},\"renderers\":[{\"id\":\"89358\"}]},\"id\":\"89456\",\"type\":\"LegendItem\"},{\"attributes\":{},\"id\":\"90892\",\"type\":\"BasicTickFormatter\"},{\"attributes\":{\"source\":{\"id\":\"90528\"}},\"id\":\"90535\",\"type\":\"CDSView\"},{\"attributes\":{\"data\":{\"category\":[\"R\"],\"imdb_rating\":{\"__ndarray__\":\"mpmZmZmZIEA=\",\"dtype\":\"float64\",\"order\":\"little\",\"shape\":[1]},\"movie_name\":[\"Heat\"],\"run_time\":[170]},\"selected\":{\"id\":\"89677\"},\"selection_policy\":{\"id\":\"89783\"}},\"id\":\"89676\",\"type\":\"ColumnDataSource\"},{\"attributes\":{\"toolbars\":[{\"id\":\"90768\"},{\"id\":\"90820\"},{\"id\":\"90872\"}],\"tools\":[{\"id\":\"90744\"},{\"id\":\"90762\"},{\"id\":\"90763\"},{\"id\":\"90764\"},{\"id\":\"90765\"},{\"id\":\"90766\"},{\"id\":\"90796\"},{\"id\":\"90814\"},{\"id\":\"90815\"},{\"id\":\"90816\"},{\"id\":\"90817\"},{\"id\":\"90818\"},{\"id\":\"90848\"},{\"id\":\"90866\"},{\"id\":\"90867\"},{\"id\":\"90868\"},{\"id\":\"90869\"},{\"id\":\"90870\"}]},\"id\":\"90932\",\"type\":\"ProxyToolbar\"},{\"attributes\":{\"angle\":{\"value\":0.0},\"fill_alpha\":{\"value\":0.8},\"fill_color\":{\"value\":\"#d62728\"},\"hatch_alpha\":{\"value\":0.8},\"hatch_color\":{\"value\":\"#d62728\"},\"hatch_scale\":{\"value\":12.0},\"hatch_weight\":{\"value\":1.0},\"line_alpha\":{\"value\":0.8},\"line_cap\":{\"value\":\"butt\"},\"line_color\":{\"value\":\"#d62728\"},\"line_dash\":{\"value\":[]},\"line_dash_offset\":{\"value\":0},\"line_join\":{\"value\":\"bevel\"},\"line_width\":{\"value\":1},\"marker\":{\"value\":\"circle\"},\"size\":{\"value\":5.477225575051661},\"x\":{\"field\":\"category\"},\"y\":{\"field\":\"imdb_rating\"}},\"id\":\"89457\",\"type\":\"Scatter\"},{\"attributes\":{\"line_color\":\"#009ACD\",\"line_width\":2,\"x\":{\"field\":\"movie_name\"},\"y\":{\"field\":\"value\"}},\"id\":\"90536\",\"type\":\"Line\"},{\"attributes\":{},\"id\":\"90893\",\"type\":\"AllLabels\"},{\"attributes\":{},\"id\":\"90539\",\"type\":\"AllLabels\"},{\"attributes\":{\"toolbar\":{\"id\":\"90932\"},\"toolbar_location\":\"above\"},\"id\":\"90933\",\"type\":\"ToolbarBox\"},{\"attributes\":{},\"id\":\"89567\",\"type\":\"Selection\"},{\"attributes\":{},\"id\":\"90541\",\"type\":\"BasicTickFormatter\"},{\"attributes\":{\"fill_alpha\":{\"value\":0.8},\"fill_color\":{\"value\":\"#1f77b4\"},\"hatch_alpha\":{\"value\":0.8},\"hatch_color\":{\"value\":\"#1f77b4\"},\"line_alpha\":{\"value\":0.8},\"line_color\":{\"value\":\"#1f77b4\"},\"size\":{\"value\":5.477225575051661},\"x\":{\"field\":\"category\"},\"y\":{\"field\":\"imdb_rating\"}},\"id\":\"89461\",\"type\":\"Scatter\"},{\"attributes\":{\"children\":[{\"id\":\"90933\"},{\"id\":\"90931\"}]},\"id\":\"90934\",\"type\":\"Column\"},{\"attributes\":{},\"id\":\"89459\",\"type\":\"Selection\"},{\"attributes\":{\"fill_alpha\":{\"value\":0.8},\"fill_color\":{\"value\":\"#1f77b4\"},\"hatch_alpha\":{\"value\":0.1},\"hatch_color\":{\"value\":\"#1f77b4\"},\"line_alpha\":{\"value\":0.8},\"line_color\":{\"value\":\"#1f77b4\"},\"size\":{\"value\":5.477225575051661},\"x\":{\"field\":\"category\"},\"y\":{\"field\":\"imdb_rating\"}},\"id\":\"89462\",\"type\":\"Scatter\"},{\"attributes\":{\"args\":{\"slider\":{\"id\":\"86524\"},\"source\":{\"id\":\"86523\"},\"start\":{\"id\":\"86521\"}},\"code\":\"try { \\n        // end value always larger than the start value\\n        if (cb_obj.value <= start.value) {\\n          cb_obj.value = start.value\\n          return\\n        }\\n        if (cb_obj.value < slider.start) {\\n          slider.start = cb_obj.value\\n        } else if (cb_obj.value > slider.end) {\\n          slider.end = cb_obj.value\\n        }\\n         } catch(err) { console.log(err) }\",\"tags\":[[2047225787280,[null,\"value\"],[null,null]]]},\"id\":\"91150\",\"type\":\"CustomJS\"},{\"attributes\":{},\"id\":\"90542\",\"type\":\"AllLabels\"},{\"attributes\":{\"fill_alpha\":{\"value\":0.2},\"fill_color\":{\"value\":\"#1f77b4\"},\"hatch_alpha\":{\"value\":0.2},\"hatch_color\":{\"value\":\"#1f77b4\"},\"line_alpha\":{\"value\":0.2},\"line_color\":{\"value\":\"#1f77b4\"},\"size\":{\"value\":5.477225575051661},\"x\":{\"field\":\"category\"},\"y\":{\"field\":\"imdb_rating\"}},\"id\":\"89463\",\"type\":\"Scatter\"},{\"attributes\":{\"factors\":[\"12 Angry Men\",\"The Silence of the Lambs\",\"Life Is Beautiful\",\"L\\u00e9on: The Professional\",\"The Usual Suspects\",\"Casablanca\",\"Modern Times\",\"Back to the Future\",\"City Lights\",\"Rear Window\"],\"tags\":[[[\"movie_name\",\"movie_name\",null]]]},\"id\":\"90547\",\"type\":\"FactorRange\"},{\"attributes\":{\"coordinates\":null,\"data_source\":{\"id\":\"89458\"},\"glyph\":{\"id\":\"89461\"},\"group\":null,\"hover_glyph\":null,\"muted_glyph\":{\"id\":\"89463\"},\"nonselection_glyph\":{\"id\":\"89462\"},\"selection_glyph\":{\"id\":\"89565\"},\"view\":{\"id\":\"89465\"}},\"id\":\"89464\",\"type\":\"GlyphRenderer\"},{\"attributes\":{\"source\":{\"id\":\"89458\"}},\"id\":\"89465\",\"type\":\"CDSView\"},{\"attributes\":{\"fill_alpha\":{\"value\":0.2},\"fill_color\":{\"value\":\"#fc4f30\"},\"hatch_alpha\":{\"value\":0.2},\"hatch_color\":{\"value\":\"#fc4f30\"},\"line_alpha\":{\"value\":0.2},\"line_color\":{\"value\":\"#fc4f30\"},\"size\":{\"value\":5.477225575051661},\"x\":{\"field\":\"category\"},\"y\":{\"field\":\"imdb_rating\"}},\"id\":\"86711\",\"type\":\"Scatter\"},{\"attributes\":{\"coordinates\":null,\"data_source\":{\"id\":\"86706\"},\"glyph\":{\"id\":\"86709\"},\"group\":null,\"hover_glyph\":null,\"muted_glyph\":{\"id\":\"86711\"},\"nonselection_glyph\":{\"id\":\"86710\"},\"selection_glyph\":{\"id\":\"86727\"},\"view\":{\"id\":\"86713\"}},\"id\":\"86712\",\"type\":\"GlyphRenderer\"},{\"attributes\":{\"label\":{\"value\":\"96\"},\"renderers\":[{\"id\":\"86712\"}]},\"id\":\"86726\",\"type\":\"LegendItem\"},{\"attributes\":{},\"id\":\"86723\",\"type\":\"UnionRenderers\"},{\"attributes\":{\"angle\":{\"value\":0.0},\"fill_alpha\":{\"value\":0.8},\"fill_color\":{\"value\":\"#fc4f30\"},\"hatch_alpha\":{\"value\":0.8},\"hatch_color\":{\"value\":\"#fc4f30\"},\"hatch_scale\":{\"value\":12.0},\"hatch_weight\":{\"value\":1.0},\"line_alpha\":{\"value\":0.8},\"line_cap\":{\"value\":\"butt\"},\"line_color\":{\"value\":\"#fc4f30\"},\"line_dash\":{\"value\":[]},\"line_dash_offset\":{\"value\":0},\"line_join\":{\"value\":\"bevel\"},\"line_width\":{\"value\":1},\"marker\":{\"value\":\"circle\"},\"size\":{\"value\":5.477225575051661},\"x\":{\"field\":\"category\"},\"y\":{\"field\":\"imdb_rating\"}},\"id\":\"86727\",\"type\":\"Scatter\"},{\"attributes\":{\"data\":{\"category\":[\"Approved\"],\"imdb_rating\":{\"__ndarray__\":\"AAAAAAAAIkA=\",\"dtype\":\"float64\",\"order\":\"little\",\"shape\":[1]},\"movie_name\":[\"12 Angry Men\"],\"run_time\":[96]},\"selected\":{\"id\":\"86707\"},\"selection_policy\":{\"id\":\"86723\"}},\"id\":\"86706\",\"type\":\"ColumnDataSource\"},{\"attributes\":{\"fill_alpha\":{\"value\":0.8},\"fill_color\":{\"value\":\"#fc4f30\"},\"hatch_alpha\":{\"value\":0.1},\"hatch_color\":{\"value\":\"#fc4f30\"},\"line_alpha\":{\"value\":0.8},\"line_color\":{\"value\":\"#fc4f30\"},\"size\":{\"value\":5.477225575051661},\"x\":{\"field\":\"category\"},\"y\":{\"field\":\"imdb_rating\"}},\"id\":\"86710\",\"type\":\"Scatter\"},{\"attributes\":{\"data\":{\"category\":[\"R\"],\"imdb_rating\":{\"__ndarray__\":\"AAAAAAAAIUA=\",\"dtype\":\"float64\",\"order\":\"little\",\"shape\":[1]},\"movie_name\":[\"L\\u00e9on: The Professional\"],\"run_time\":[110]},\"selected\":{\"id\":\"86869\"},\"selection_policy\":{\"id\":\"86897\"}},\"id\":\"86868\",\"type\":\"ColumnDataSource\"},{\"attributes\":{\"data\":{\"category\":[\"Approved\",\"R\"],\"imdb_rating\":{\"__ndarray__\":\"MzMzMzMzIEAzMzMzMzMgQA==\",\"dtype\":\"float64\",\"order\":\"little\",\"shape\":[2]},\"movie_name\":[\"The Third Man\",\"Trainspotting\"],\"run_time\":[93,93]},\"selected\":{\"id\":\"86686\"},\"selection_policy\":{\"id\":\"86700\"}},\"id\":\"86685\",\"type\":\"ColumnDataSource\"},{\"attributes\":{\"data\":{\"category\":[\"R\"],\"imdb_rating\":{\"__ndarray__\":\"MzMzMzMzIEA=\",\"dtype\":\"float64\",\"order\":\"little\",\"shape\":[1]},\"movie_name\":[\"Fargo\"],\"run_time\":[98]},\"selected\":{\"id\":\"86729\"},\"selection_policy\":{\"id\":\"86747\"}},\"id\":\"86728\",\"type\":\"ColumnDataSource\"},{\"attributes\":{},\"id\":\"87857\",\"type\":\"Selection\"},{\"attributes\":{\"end\":9.510000000000002,\"reset_end\":9.510000000000002,\"reset_start\":6.99,\"start\":0.0,\"tags\":[[[\"imdb_rating\",\"imdb_rating\",null]]]},\"id\":\"86597\",\"type\":\"Range1d\"},{\"attributes\":{\"label\":{\"value\":\"106\"},\"renderers\":[{\"id\":\"86784\"}]},\"id\":\"86804\",\"type\":\"LegendItem\"},{\"attributes\":{\"callback\":null,\"renderers\":[{\"id\":\"86691\"},{\"id\":\"86712\"},{\"id\":\"86734\"},{\"id\":\"86758\"},{\"id\":\"86784\"},{\"id\":\"86812\"},{\"id\":\"86842\"},{\"id\":\"86874\"},{\"id\":\"86908\"},{\"id\":\"86944\"},{\"id\":\"86982\"},{\"id\":\"87022\"},{\"id\":\"87064\"},{\"id\":\"87108\"},{\"id\":\"87154\"},{\"id\":\"87202\"},{\"id\":\"87252\"},{\"id\":\"87304\"},{\"id\":\"87358\"},{\"id\":\"87414\"},{\"id\":\"87472\"},{\"id\":\"87532\"},{\"id\":\"87594\"},{\"id\":\"87658\"},{\"id\":\"87724\"},{\"id\":\"87792\"},{\"id\":\"87862\"},{\"id\":\"87934\"},{\"id\":\"88008\"},{\"id\":\"88084\"},{\"id\":\"88162\"},{\"id\":\"88242\"},{\"id\":\"88324\"},{\"id\":\"88408\"},{\"id\":\"88494\"},{\"id\":\"88582\"},{\"id\":\"88672\"},{\"id\":\"88764\"},{\"id\":\"88858\"},{\"id\":\"88954\"},{\"id\":\"89052\"},{\"id\":\"89152\"},{\"id\":\"89254\"},{\"id\":\"89358\"},{\"id\":\"89464\"},{\"id\":\"89572\"},{\"id\":\"89682\"},{\"id\":\"89794\"},{\"id\":\"89908\"},{\"id\":\"90024\"},{\"id\":\"90142\"},{\"id\":\"90262\"}],\"tags\":[\"hv_created\"],\"tooltips\":[[\"run_time\",\"@{run_time}\"],[\"category\",\"@{category}\"],[\"imdb_rating\",\"@{imdb_rating}\"],[\"movie_name\",\"@{movie_name}\"]]},\"id\":\"86598\",\"type\":\"HoverTool\"},{\"attributes\":{\"fill_alpha\":{\"value\":0.8},\"fill_color\":{\"value\":\"#e5ae38\"},\"hatch_alpha\":{\"value\":0.1},\"hatch_color\":{\"value\":\"#e5ae38\"},\"line_alpha\":{\"value\":0.8},\"line_color\":{\"value\":\"#e5ae38\"},\"size\":{\"value\":5.477225575051661},\"x\":{\"field\":\"category\"},\"y\":{\"field\":\"imdb_rating\"}},\"id\":\"86732\",\"type\":\"Scatter\"},{\"attributes\":{},\"id\":\"86747\",\"type\":\"UnionRenderers\"},{\"attributes\":{\"coordinates\":null,\"data_source\":{\"id\":\"86728\"},\"glyph\":{\"id\":\"86731\"},\"group\":null,\"hover_glyph\":null,\"muted_glyph\":{\"id\":\"86733\"},\"nonselection_glyph\":{\"id\":\"86732\"},\"selection_glyph\":{\"id\":\"86751\"},\"view\":{\"id\":\"86735\"}},\"id\":\"86734\",\"type\":\"GlyphRenderer\"},{\"attributes\":{\"fill_alpha\":{\"value\":0.8},\"fill_color\":{\"value\":\"#e5ae38\"},\"hatch_alpha\":{\"value\":0.8},\"hatch_color\":{\"value\":\"#e5ae38\"},\"line_alpha\":{\"value\":0.8},\"line_color\":{\"value\":\"#e5ae38\"},\"size\":{\"value\":5.477225575051661},\"x\":{\"field\":\"category\"},\"y\":{\"field\":\"imdb_rating\"}},\"id\":\"86731\",\"type\":\"Scatter\"},{\"attributes\":{\"fill_alpha\":{\"value\":0.2},\"fill_color\":{\"value\":\"#e5ae38\"},\"hatch_alpha\":{\"value\":0.2},\"hatch_color\":{\"value\":\"#e5ae38\"},\"line_alpha\":{\"value\":0.2},\"line_color\":{\"value\":\"#e5ae38\"},\"size\":{\"value\":5.477225575051661},\"x\":{\"field\":\"category\"},\"y\":{\"field\":\"imdb_rating\"}},\"id\":\"86733\",\"type\":\"Scatter\"},{\"attributes\":{\"source\":{\"id\":\"86706\"}},\"id\":\"86713\",\"type\":\"CDSView\"},{\"attributes\":{\"source\":{\"id\":\"86728\"}},\"id\":\"86735\",\"type\":\"CDSView\"},{\"attributes\":{\"label\":{\"value\":\"98\"},\"renderers\":[{\"id\":\"86734\"}]},\"id\":\"86750\",\"type\":\"LegendItem\"},{\"attributes\":{\"end\":0.004394578283544849,\"reset_end\":0.004394578283544849,\"reset_start\":0.0,\"tags\":[[[\"value_density\",\"Density\",null]]]},\"id\":\"90743\",\"type\":\"Range1d\"},{\"attributes\":{\"end\":1104.202779734397,\"reset_end\":1104.202779734397,\"reset_start\":-167.5227797343969,\"start\":-167.5227797343969,\"tags\":[[[\"value\",\"value\",null]]]},\"id\":\"90742\",\"type\":\"Range1d\"},{\"attributes\":{\"data\":{\"category\":[\"R\"],\"imdb_rating\":{\"__ndarray__\":\"mpmZmZmZIEA=\",\"dtype\":\"float64\",\"order\":\"little\",\"shape\":[1]},\"movie_name\":[\"Eternal Sunshine of the Spotless Mind\"],\"run_time\":[108]},\"selected\":{\"id\":\"86807\"},\"selection_policy\":{\"id\":\"86831\"}},\"id\":\"86806\",\"type\":\"ColumnDataSource\"},{\"attributes\":{\"angle\":{\"value\":0.0},\"fill_alpha\":{\"value\":0.8},\"fill_color\":{\"value\":\"#e5ae38\"},\"hatch_alpha\":{\"value\":0.8},\"hatch_color\":{\"value\":\"#e5ae38\"},\"hatch_scale\":{\"value\":12.0},\"hatch_weight\":{\"value\":1.0},\"line_alpha\":{\"value\":0.8},\"line_cap\":{\"value\":\"butt\"},\"line_color\":{\"value\":\"#e5ae38\"},\"line_dash\":{\"value\":[]},\"line_dash_offset\":{\"value\":0},\"line_join\":{\"value\":\"bevel\"},\"line_width\":{\"value\":1},\"marker\":{\"value\":\"circle\"},\"size\":{\"value\":5.477225575051661},\"x\":{\"field\":\"category\"},\"y\":{\"field\":\"imdb_rating\"}},\"id\":\"86751\",\"type\":\"Scatter\"},{\"attributes\":{\"callback\":null,\"renderers\":[{\"id\":\"90781\"}],\"tags\":[\"hv_created\"],\"tooltips\":[[\"value\",\"@{value}\"],[\"Density\",\"@{value_density}\"]]},\"id\":\"90744\",\"type\":\"HoverTool\"},{\"attributes\":{\"data\":{\"x\":{\"__ndarray__\":\"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\",\"dtype\":\"float64\",\"order\":\"little\",\"shape\":[200]},\"y\":{\"__ndarray__\":\"AAAAAAAAAAAAAAAAAAAAAAAAAAAAAAAAAAAAAAAAAAAAAAAAAAAAAAAAAAAAAAAAAAAAAAAAAAAAAAAAAAAAAAAAAAAAAAAAAAAAAAAAAAAAAAAAAAAAAAAAAAAAAAAAAAAAAAAAAAAAAAAAAAAAAAAAAAAAAAAAAAAAAAAAAAAAAAAAAAAAAAAAAAAAAAAAAAAAAAAAAAAAAAAAAAAAAAAAAAAAAAAAAAAAAAAAAAAAAAAAAAAAAAAAAAAAAAAAAAAAAAAAAAAAAAAAAAAAAAAAAAAAAAAAAAAAAAAAAAAAAAAAAAAAAAAAAAAAAAAAAAAAAAAAAAAAAAAAAAAAAAAAAAAAAAAAAAAAAAAAAAAAAAAAAAAAAAAAAAAAAAAAAAAAAAAAAAAAAAAAAAAAAAAAAAAAAAAAAAAAAAAAAAAAAAAAAAAAAAAAAAAAAAAAAAAAAAAAAAAAAAAAAAAAAAAAAAAAAAAAAAAAAAAAAAAAAAAAAAAAAAAAAAAAAAAAAAAAAAAAAAAAAAAAAAAAAAAAAAAAAAAAAAAAAAAAAAAAAAAAAAAAAAAAAAAAAAAAAAAAAAAAAAAAAAAAAAAAAAAAAAAAAAAAAAAAAAAAAAAAAAAAAAAAAAAAAAAAAAAAAAAAAAAAAAAAAAAAAAAAAAAAAAAAAAAAAAAAAAAAAAAAAAAAAAAAAAAAAAAAAAAAAAAAAAAAAAAAAAAAAAAAAAAAAAAAAAAAAAAAAAAAAAAAAAAAAAAAAAAAAAAAAAAAAAAAAAAAAAAAAAAAAAAAAAAAAAAAAAAAAAAAAAAAAAAAAAAAAAAAAAAAAAAAAAAAAAAAAAAAAAAAAAAAAAAAAAAAAAAAAAAAAAAAAAAAAAAAAAAAAAAAAAAAAAAAAAAAAAAAAAAAAAAAAAAAAAAAAAAAAAAAAAAAAAAAAAAAAAAAAAAAAAAAAAAAAAAAAAAAAAAAAAAAAAAAAAAAAAAAAAAAAAAAAAAAAAAAAAAAAAAAAAAAAAAAAAAAAAAAAAAAAAAAAAAAAAAAAAAAAAAAAAAAAAAAAAAAAAAAAAAAAACLxwFwfuWqPvJddGvxHLo+nXp608gLyD6InIlUaADVPq7LvUe7ZeE+KVirg5BW6z736pxyZF/0Ph5BwleOzPw+LIFnIXNOAz8v2Re8NI0IPwXg9k7inA0/i97rVz3wED9v8NVlAGESPwapJgcN6hI/aaAa0U52Ej97R8LymRcRP9vHBQJXBA4/iZX8l9T/CD8IC9w9YL8DP63ejdEnl/0+GuBXTvsG9T5kQDCkLljsPkVJqc2kHuI+PLo1V1z51T4Mtw58QEjJPgqw+OBVobs+jY6rF1bcrD7v6S27CLmdPmCdOJBsPpE+aewjz6z8jj7Fzlf/fsOXPkauk1TkrqY+aviJqCn/tT4sLItUvIbEPsFiSrElO9I+f9wUi9LE3j7TlvvJEKzoPihblHToz/I+40MeiW9P+z7tkt7cEucCP1Y+YFhCAgk/rc+VaLa5Dz9ZDhHQ42ATPxeYcY737BY/8oZbm85xGj+br0fAqfcdP68jBQF1ziA/YPa3RpPGIj+mWfJLhfokPyMDv7aZfCc/aQqdYWxaKj9sOstrSKAtP2SWEQIMrzA/ZtsntefUMj+V9Ykp8E01P66LOj6OIjg/8epdf6lQOz9GR7vofcY+P87qUN4sMUE/pfimbpv8Qj/rlQSFvLFEP6oEj9cgRkY/Gf63PgW/Rz+e/bsUwDNJPzsxAr4Ay0o/OdUWCG2zTD8T2iQN5xlPP0Y+QB9XEFE/2YacWh7tUj/O4okuriRVP7m00J4Gs1c/RUgVppiSWj8jGUoOB8BdP21s+cQrnmA/0ziokTaGYj8y6WH7mJpkP8bktUxK2mY/bROFVTo8aT/MkiHW26prPxoTPCBYAW4/OE8h2A0GcD/rhAcq8sZwP6OG2EKhJHE/yevaOHIGcT/hLIMWzl9wP7j5rAaPaG4/qezWzb0waz8jeSS7+VxnPyhSZM2zQWM/HbcswfJnXj9psy6vRvdWP2zALj8OlFA/LgMHRPjaRj+2jSU74hA+P1e65laq2zI/4N1zttuLJj9Sm27Aua0ZP24iZS812Qs/G/izz2a//D7INvKW4jzsPg==\",\"dtype\":\"float64\",\"order\":\"little\",\"shape\":[200]}},\"selected\":{\"id\":\"90776\"},\"selection_policy\":{\"id\":\"90905\"}},\"id\":\"90775\",\"type\":\"ColumnDataSource\"},{\"attributes\":{\"below\":[{\"id\":\"90754\"}],\"center\":[{\"id\":\"90757\"},{\"id\":\"90761\"}],\"height\":400,\"left\":[{\"id\":\"90758\"}],\"margin\":null,\"min_border_bottom\":10,\"min_border_left\":10,\"min_border_right\":10,\"min_border_top\":10,\"renderers\":[{\"id\":\"90781\"}],\"sizing_mode\":\"fixed\",\"title\":{\"id\":\"90746\"},\"toolbar\":{\"id\":\"90768\"},\"toolbar_location\":null,\"width\":200,\"x_range\":{\"id\":\"90742\"},\"x_scale\":{\"id\":\"90750\"},\"y_range\":{\"id\":\"90743\"},\"y_scale\":{\"id\":\"90752\"}},\"id\":\"90745\",\"subtype\":\"Figure\",\"type\":\"Plot\"},{\"attributes\":{},\"id\":\"86801\",\"type\":\"UnionRenderers\"},{\"attributes\":{},\"id\":\"86779\",\"type\":\"Selection\"},{\"attributes\":{},\"id\":\"90750\",\"type\":\"LinearScale\"},{\"attributes\":{},\"id\":\"86753\",\"type\":\"Selection\"},{\"attributes\":{\"fill_alpha\":{\"value\":0.8},\"fill_color\":{\"value\":\"#6d904f\"},\"hatch_alpha\":{\"value\":0.1},\"hatch_color\":{\"value\":\"#6d904f\"},\"line_alpha\":{\"value\":0.8},\"line_color\":{\"value\":\"#6d904f\"},\"size\":{\"value\":5.477225575051661},\"x\":{\"field\":\"category\"},\"y\":{\"field\":\"imdb_rating\"}},\"id\":\"86756\",\"type\":\"Scatter\"},{\"attributes\":{\"coordinates\":null,\"group\":null,\"text\":\"Variable: gross_total\",\"text_color\":\"black\",\"text_font_size\":\"12pt\"},\"id\":\"90746\",\"type\":\"Title\"},{\"attributes\":{\"fill_alpha\":{\"value\":0.2},\"fill_color\":{\"value\":\"#6d904f\"},\"hatch_alpha\":{\"value\":0.2},\"hatch_color\":{\"value\":\"#6d904f\"},\"line_alpha\":{\"value\":0.2},\"line_color\":{\"value\":\"#6d904f\"},\"size\":{\"value\":5.477225575051661},\"x\":{\"field\":\"category\"},\"y\":{\"field\":\"imdb_rating\"}},\"id\":\"86757\",\"type\":\"Scatter\"},{\"attributes\":{},\"id\":\"90752\",\"type\":\"LinearScale\"},{\"attributes\":{\"fill_alpha\":{\"value\":0.8},\"fill_color\":{\"value\":\"#6d904f\"},\"hatch_alpha\":{\"value\":0.8},\"hatch_color\":{\"value\":\"#6d904f\"},\"line_alpha\":{\"value\":0.8},\"line_color\":{\"value\":\"#6d904f\"},\"size\":{\"value\":5.477225575051661},\"x\":{\"field\":\"category\"},\"y\":{\"field\":\"imdb_rating\"}},\"id\":\"86755\",\"type\":\"Scatter\"},{\"attributes\":{\"coordinates\":null,\"data_source\":{\"id\":\"86752\"},\"glyph\":{\"id\":\"86755\"},\"group\":null,\"hover_glyph\":null,\"muted_glyph\":{\"id\":\"86757\"},\"nonselection_glyph\":{\"id\":\"86756\"},\"selection_glyph\":{\"id\":\"86777\"},\"view\":{\"id\":\"86759\"}},\"id\":\"86758\",\"type\":\"GlyphRenderer\"}],\"root_ids\":[\"86507\",\"91519\"]},\"title\":\"Bokeh Application\",\"version\":\"2.4.3\"}};\n",
       "    var render_items = [{\"docid\":\"807e18fe-ed79-4101-90c4-8bc7c2f3db6e\",\"root_ids\":[\"86507\"],\"roots\":{\"86507\":\"1e0ba851-b385-422c-8372-671482960703\"}}];\n",
       "    root.Bokeh.embed.embed_items_notebook(docs_json, render_items);\n",
       "    for (const render_item of render_items) {\n",
       "      for (const root_id of render_item.root_ids) {\n",
       "\tconst id_el = document.getElementById(root_id)\n",
       "\tif (id_el.children.length && (id_el.children[0].className === 'bk-root')) {\n",
       "\t  const root_el = id_el.children[0]\n",
       "\t  root_el.id = root_el.id + '-rendered'\n",
       "\t}\n",
       "      }\n",
       "    }\n",
       "  }\n",
       "  if (root.Bokeh !== undefined && root.Bokeh.Panel !== undefined && ( root['Tabulator'] !== undefined)) {\n",
       "    embed_document(root);\n",
       "  } else {\n",
       "    var attempts = 0;\n",
       "    var timer = setInterval(function(root) {\n",
       "      if (root.Bokeh !== undefined && root.Bokeh.Panel !== undefined && (root['Tabulator'] !== undefined)) {\n",
       "        clearInterval(timer);\n",
       "        embed_document(root);\n",
       "      } else if (document.readyState == \"complete\") {\n",
       "        attempts++;\n",
       "        if (attempts > 200) {\n",
       "          clearInterval(timer);\n",
       "          console.log(\"Bokeh: ERROR: Unable to run BokehJS code because BokehJS library is missing\");\n",
       "        }\n",
       "      }\n",
       "    }, 25, root)\n",
       "  }\n",
       "})(window);</script>"
      ],
      "text/plain": [
       "Row(sizing_mode='stretch_width')\n",
       "    [0] WidgetBox(align='center', height=1000, sizing_mode='fixed', width=300)\n",
       "        [0] Markdown(str)\n",
       "        [1] Markdown(str)\n",
       "        [2] JPG(str, height=200, sizing_mode='fixed', width=300)\n",
       "        [3] Markdown(str)\n",
       "        [4] Markdown(str)\n",
       "        [5] IntRangeSlider(end=2015, name='Year release of film ', start=1972, value=(2000, 2016), value_end=2016, value_start=2000, width=250)\n",
       "        [6] CheckButtonGroup(button_type='success', name='category of film', options=['R', 'PG', 'G', ...], value=['R', 'PG', 'Approved'])\n",
       "        [7] Select(name='Genre of film', options=['Action', 'Adventure', ...], value='Drama')\n",
       "        [8] IntRangeSlider(end=200, name='duration of film(min)', start=45, step=5, value=(50, 120), value_end=120, value_start=50)\n",
       "        [9] EditableRangeSlider(end=936.66, name='total amount of film', start=0.02, step=100, value=(5, 500), width=300)\n",
       "        [10] IntSlider(end=10, name='rate of film', start=3, value=5)\n",
       "        [11] IntRangeSlider(end=2683302, name='votes for film', start=10748, step=100, value=(10000, 200000), value_end=200000, value_start=10000)\n",
       "        [12] Spacer(margin=200)\n",
       "        [13] Markdown(str)\n",
       "    [1] WidgetBox\n",
       "        [0] Row\n",
       "            [0] Column(margin=(0, 1), sizing_mode='stretch_width', width=500)\n",
       "                [0] ParamFunction(function)\n",
       "            [1] Column(margin=(0, 1), sizing_mode='stretch_width', width=500)\n",
       "                [0] ParamFunction(function)\n",
       "            [2] Column(margin=(0, 1), sizing_mode='stretch_width', width=500)\n",
       "                [0] ParamFunction(function)\n",
       "        [1] Row\n",
       "            [0] Column(sizing_mode='stretch_width', width=500)\n",
       "                [0] ParamFunction(function)\n",
       "            [1] Column(margin=(0, 1), sizing_mode='stretch_width', width=500)\n",
       "                [0] ParamFunction(function)\n",
       "            [2] Column(margin=(0, 1), sizing_mode='stretch_width', width=500)\n",
       "                [0] ParamFunction(function)"
      ]
     },
     "execution_count": 124,
     "metadata": {
      "application/vnd.holoviews_exec.v0+json": {
       "id": "86507"
      }
     },
     "output_type": "execute_result"
    }
   ],
   "source": [
    "title = \"# IMDb Top 100 Movies dashboard\"\n",
    "sous_titre = '### This dashboard aims to analyse the data and to see it in differents ways '\n",
    "logo = pn.panel(\"imdb.jpg\", width=300,height=200 ,align=\"start\")\n",
    "text = \"IMDb Top 100 is the list of highest rated movies of all time. \\n The list ranges of films is between  1972 to 2015. \\n There are 100 Rows and 20 Columns in the Dataset.\"\n",
    "setting=\" ## Settings\"\n",
    "# Header box\n",
    "header_box = pn.WidgetBox(title, sous_titre,logo,text, setting,year_slider,  category_of_film , gendre_film,run_time_slider,gros_total_slider,rating_slider,vote_slider,pn.layout.Spacer(margin=200), text, width=300, height=1000, align=\"center\")\n",
    "# Plot Box\n",
    "plots_box = pn.WidgetBox(pn.Row (pn.Column(plot_bar,align=\"start\",  width=500 ,margin=(0,1) ,sizing_mode=\"stretch_width\"),\n",
    "                                pn.Column(plot_bar_1,align=\"start\",  width=500,  margin=(0,1) ,sizing_mode=\"stretch_width\"),\n",
    "                                pn.Column(plot_bar_4,align=\"start\",  width=500,  margin=(0,1) ,sizing_mode=\"stretch_width\")\n",
    "                                 ),\n",
    "                                \n",
    "                         pn.Row(pn.Column(plot_bar_2,align=\"start\",  width=500 ,sizing_mode=\"stretch_width\"),\n",
    "                                pn.Column(plot_bar_3,align=\"start\",  width=500,  margin=(0,1) ,sizing_mode=\"stretch_width\"),\n",
    "                                pn.Column(plot_bar_5,align=\"start\",  width=500,  margin=(0,1) ,sizing_mode=\"stretch_width\")))\n",
    "# Dashboard\n",
    "dashboard = pn.Row(header_box, plots_box, sizing_mode=\"stretch_width\")\n",
    "dashboard.servable()"
   ]
  },
  {
   "cell_type": "code",
   "execution_count": null,
   "metadata": {},
   "outputs": [],
   "source": [
    "df.info()"
   ]
  },
  {
   "cell_type": "code",
   "execution_count": null,
   "metadata": {},
   "outputs": [],
   "source": []
  },
  {
   "cell_type": "code",
   "execution_count": null,
   "metadata": {},
   "outputs": [],
   "source": []
  }
 ],
 "metadata": {
  "colab": {
   "provenance": []
  },
  "kernelspec": {
   "display_name": "Python 3 (ipykernel)",
   "language": "python",
   "name": "python3"
  },
  "language_info": {
   "codemirror_mode": {
    "name": "ipython",
    "version": 3
   },
   "file_extension": ".py",
   "mimetype": "text/x-python",
   "name": "python",
   "nbconvert_exporter": "python",
   "pygments_lexer": "ipython3",
   "version": "3.7.0"
  }
 },
 "nbformat": 4,
 "nbformat_minor": 1
}
